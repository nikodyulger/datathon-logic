{
 "cells": [
  {
   "cell_type": "markdown",
   "metadata": {},
   "source": [
    "# Análisis exploratorio \n",
    "\n",
    "En ese cuaderno de realizará el análisis exploratorio relativo a `products_categories.csv`"
   ]
  },
  {
   "cell_type": "markdown",
   "metadata": {},
   "source": [
    "# Índice \n",
    "\n",
    "1. **Importación de paquetes**\n",
    "2. **Lectura de datos**\n",
    "3. **Análisis**\n",
    "4. **Conclusiones**"
   ]
  },
  {
   "cell_type": "markdown",
   "metadata": {},
   "source": [
    "## Importación de paquete\n",
    "\n",
    "Importamos los módulos de los que se hará uso."
   ]
  },
  {
   "cell_type": "code",
   "execution_count": 2,
   "metadata": {},
   "outputs": [],
   "source": [
    "import pandas as pd\n",
    "import plotly.express as px\n",
    "\n",
    "import warnings\n",
    "warnings.simplefilter(action='ignore', category=FutureWarning)\n",
    "\n",
    "# Semilla para realizar experimentos reproducibles\n",
    "seed = 134"
   ]
  },
  {
   "cell_type": "markdown",
   "metadata": {},
   "source": [
    "## Lectura de los datos"
   ]
  },
  {
   "cell_type": "markdown",
   "metadata": {},
   "source": [
    "Cargamos en memoria el conjunto de datos para comenzar a inspecccionarlo"
   ]
  },
  {
   "cell_type": "code",
   "execution_count": 3,
   "metadata": {},
   "outputs": [
    {
     "data": {
      "text/html": [
       "<div>\n",
       "<style scoped>\n",
       "    .dataframe tbody tr th:only-of-type {\n",
       "        vertical-align: middle;\n",
       "    }\n",
       "\n",
       "    .dataframe tbody tr th {\n",
       "        vertical-align: top;\n",
       "    }\n",
       "\n",
       "    .dataframe thead th {\n",
       "        text-align: right;\n",
       "    }\n",
       "</style>\n",
       "<table border=\"1\" class=\"dataframe\">\n",
       "  <thead>\n",
       "    <tr style=\"text-align: right;\">\n",
       "      <th></th>\n",
       "      <th>sku</th>\n",
       "      <th>cat1</th>\n",
       "      <th>cat2</th>\n",
       "      <th>cat3</th>\n",
       "    </tr>\n",
       "  </thead>\n",
       "  <tbody>\n",
       "    <tr>\n",
       "      <th>10261</th>\n",
       "      <td>PR11310</td>\n",
       "      <td>Salud</td>\n",
       "      <td>Botiquín</td>\n",
       "      <td>Quemaduras y cicatrices</td>\n",
       "    </tr>\n",
       "    <tr>\n",
       "      <th>6818</th>\n",
       "      <td>308192</td>\n",
       "      <td>Higiene y cuidado personal</td>\n",
       "      <td>Corporal</td>\n",
       "      <td>Geles</td>\n",
       "    </tr>\n",
       "    <tr>\n",
       "      <th>6798</th>\n",
       "      <td>305722</td>\n",
       "      <td>Infantil</td>\n",
       "      <td>Higiene infantil</td>\n",
       "      <td>Pieles Atópicas</td>\n",
       "    </tr>\n",
       "    <tr>\n",
       "      <th>9012</th>\n",
       "      <td>BHC020-02</td>\n",
       "      <td>Cosmética y Belleza</td>\n",
       "      <td>Facial</td>\n",
       "      <td>Maquillajes</td>\n",
       "    </tr>\n",
       "    <tr>\n",
       "      <th>9238</th>\n",
       "      <td>CAU210+CAU209+CAU211</td>\n",
       "      <td>Cosmética y Belleza</td>\n",
       "      <td>Facial</td>\n",
       "      <td>Hidratantes</td>\n",
       "    </tr>\n",
       "  </tbody>\n",
       "</table>\n",
       "</div>"
      ],
      "text/plain": [
       "                        sku                        cat1              cat2  \\\n",
       "10261               PR11310                       Salud          Botiquín   \n",
       "6818                 308192  Higiene y cuidado personal          Corporal   \n",
       "6798                 305722                    Infantil  Higiene infantil   \n",
       "9012              BHC020-02         Cosmética y Belleza            Facial   \n",
       "9238   CAU210+CAU209+CAU211         Cosmética y Belleza            Facial   \n",
       "\n",
       "                          cat3  \n",
       "10261  Quemaduras y cicatrices  \n",
       "6818                     Geles  \n",
       "6798           Pieles Atópicas  \n",
       "9012               Maquillajes  \n",
       "9238               Hidratantes  "
      ]
     },
     "execution_count": 3,
     "metadata": {},
     "output_type": "execute_result"
    }
   ],
   "source": [
    "categories = pd.read_csv(\"../Data/products_categories.csv\")\n",
    "categories.sample(5,random_state=seed)"
   ]
  },
  {
   "cell_type": "markdown",
   "metadata": {},
   "source": [
    "## Análisis\n",
    "\n",
    "Veamos las características generales del dataset"
   ]
  },
  {
   "cell_type": "code",
   "execution_count": 4,
   "metadata": {},
   "outputs": [
    {
     "name": "stdout",
     "output_type": "stream",
     "text": [
      "<class 'pandas.core.frame.DataFrame'>\n",
      "RangeIndex: 11159 entries, 0 to 11158\n",
      "Data columns (total 4 columns):\n",
      " #   Column  Non-Null Count  Dtype \n",
      "---  ------  --------------  ----- \n",
      " 0   sku     11159 non-null  object\n",
      " 1   cat1    11159 non-null  object\n",
      " 2   cat2    11139 non-null  object\n",
      " 3   cat3    10859 non-null  object\n",
      "dtypes: object(4)\n",
      "memory usage: 348.8+ KB\n"
     ]
    }
   ],
   "source": [
    "categories.info()"
   ]
  },
  {
   "cell_type": "code",
   "execution_count": 5,
   "metadata": {},
   "outputs": [
    {
     "data": {
      "text/html": [
       "<div>\n",
       "<style scoped>\n",
       "    .dataframe tbody tr th:only-of-type {\n",
       "        vertical-align: middle;\n",
       "    }\n",
       "\n",
       "    .dataframe tbody tr th {\n",
       "        vertical-align: top;\n",
       "    }\n",
       "\n",
       "    .dataframe thead th {\n",
       "        text-align: right;\n",
       "    }\n",
       "</style>\n",
       "<table border=\"1\" class=\"dataframe\">\n",
       "  <thead>\n",
       "    <tr style=\"text-align: right;\">\n",
       "      <th></th>\n",
       "      <th>sku</th>\n",
       "      <th>cat1</th>\n",
       "      <th>cat2</th>\n",
       "      <th>cat3</th>\n",
       "    </tr>\n",
       "  </thead>\n",
       "  <tbody>\n",
       "    <tr>\n",
       "      <th>count</th>\n",
       "      <td>11159</td>\n",
       "      <td>11159</td>\n",
       "      <td>11139</td>\n",
       "      <td>10859</td>\n",
       "    </tr>\n",
       "    <tr>\n",
       "      <th>unique</th>\n",
       "      <td>11159</td>\n",
       "      <td>8</td>\n",
       "      <td>53</td>\n",
       "      <td>271</td>\n",
       "    </tr>\n",
       "    <tr>\n",
       "      <th>top</th>\n",
       "      <td>00.01.10.014</td>\n",
       "      <td>Cosmética y Belleza</td>\n",
       "      <td>Facial</td>\n",
       "      <td>Antiarrugas</td>\n",
       "    </tr>\n",
       "    <tr>\n",
       "      <th>freq</th>\n",
       "      <td>1</td>\n",
       "      <td>3367</td>\n",
       "      <td>1789</td>\n",
       "      <td>391</td>\n",
       "    </tr>\n",
       "  </tbody>\n",
       "</table>\n",
       "</div>"
      ],
      "text/plain": [
       "                 sku                 cat1    cat2         cat3\n",
       "count          11159                11159   11139        10859\n",
       "unique         11159                    8      53          271\n",
       "top     00.01.10.014  Cosmética y Belleza  Facial  Antiarrugas\n",
       "freq               1                 3367    1789          391"
      ]
     },
     "execution_count": 5,
     "metadata": {},
     "output_type": "execute_result"
    }
   ],
   "source": [
    "categories.describe()"
   ]
  },
  {
   "cell_type": "markdown",
   "metadata": {},
   "source": [
    "Tenemos 4 campos:\n",
    "- sku: identificador del producto.\n",
    "- cat1: categoría principal.\n",
    "- cat2: categoría secundaria.\n",
    "- cat3: categoría terciaria.\n",
    "  \n",
    "Todos los SKU son únicos, y a primera vista existen **8** valores para **cat1**, **53** para **cat2** y **271** para **cat3**."
   ]
  },
  {
   "cell_type": "code",
   "execution_count": 6,
   "metadata": {},
   "outputs": [
    {
     "data": {
      "text/plain": [
       "sku       0\n",
       "cat1      0\n",
       "cat2     20\n",
       "cat3    300\n",
       "dtype: int64"
      ]
     },
     "execution_count": 6,
     "metadata": {},
     "output_type": "execute_result"
    }
   ],
   "source": [
    "categories.isna().sum()"
   ]
  },
  {
   "cell_type": "markdown",
   "metadata": {},
   "source": [
    "Hay valores nulos dentro de las subcategorías. El número incrementa conforme se baja de nivel"
   ]
  },
  {
   "cell_type": "code",
   "execution_count": 7,
   "metadata": {},
   "outputs": [
    {
     "data": {
      "text/plain": [
       "Cosmética y Belleza           3367\n",
       "Higiene y cuidado personal    2994\n",
       "Salud                         2852\n",
       "Infantil                      1304\n",
       "Nutrición                      618\n",
       "Veterinaria                     20\n",
       "salud                            3\n",
       "nutrición                        1\n",
       "Name: cat1, dtype: int64"
      ]
     },
     "execution_count": 7,
     "metadata": {},
     "output_type": "execute_result"
    }
   ],
   "source": [
    "categories[\"cat1\"].value_counts()"
   ]
  },
  {
   "cell_type": "markdown",
   "metadata": {},
   "source": [
    "La categoría predominante es *Cosmética y Belleza*, mientras que otras categorías carecen de un gran número de instancias. Algo de lo que nos percatamos es que los nombres no están estandarizados y de ahí que *Salud* y *Nutrición* las contabiliza de forma diferentes."
   ]
  },
  {
   "cell_type": "code",
   "execution_count": 8,
   "metadata": {},
   "outputs": [
    {
     "data": {
      "text/plain": [
       "Facial                                      1789\n",
       "Corporal                                     905\n",
       "Cabello                                      855\n",
       "Dental                                       738\n",
       "Vitaminas y Minerales                        644\n",
       "Botiquín                                     474\n",
       "Sol                                          422\n",
       "Íntima                                       298\n",
       "Higiene infantil                             286\n",
       "Ojos                                         274\n",
       "Pérdida de peso                              265\n",
       "Huesos, articulaciones y músculos            246\n",
       "Labial                                       223\n",
       "Biberones                                    206\n",
       "Trastornos digestivos                        196\n",
       "Uñas                                         194\n",
       "Accesorios de alimentación                   187\n",
       "Alimentos                                    182\n",
       "Aromaterapia                                 181\n",
       "Perfumería                                   166\n",
       "Problemas cardiovasculares y circulación     166\n",
       "Chupetes                                     161\n",
       "Aparato Respiratorio                         154\n",
       "Alimentación infantil                        140\n",
       "Ortopedia                                    133\n",
       "Óptica                                       132\n",
       "Nariz y oído                                 132\n",
       "Salud Sexual                                 125\n",
       "Descanso y relajación                        112\n",
       "Belleza                                      109\n",
       "Accesorios de Belleza                        106\n",
       "Manos                                        105\n",
       "Nutrición Deportiva                          103\n",
       "Mujer                                         96\n",
       "Juguetes                                      96\n",
       "Pies                                          83\n",
       "Lactancia                                     81\n",
       "Aparato Urinario                              68\n",
       "Nutrición específica                          65\n",
       "Hombres                                       58\n",
       "Mobiliario y descanso del bebé                51\n",
       "Cambio de pañal                               45\n",
       "Seguridad infantil                            23\n",
       "Preparación al parto y maternidad             19\n",
       "Fertilidad                                    17\n",
       "Limpieza Hogar                                12\n",
       "Guardería                                      6\n",
       "alimentos                                      3\n",
       "Paseo y primeros pasos                         3\n",
       "pérdida de peso                                1\n",
       "mujer                                          1\n",
       "Mascarillas                                    1\n",
       "Aparato respiratorio                           1\n",
       "Name: cat2, dtype: int64"
      ]
     },
     "execution_count": 8,
     "metadata": {},
     "output_type": "execute_result"
    }
   ],
   "source": [
    "categories[\"cat2\"].value_counts()"
   ]
  },
  {
   "cell_type": "code",
   "execution_count": 9,
   "metadata": {},
   "outputs": [
    {
     "data": {
      "text/plain": [
       "Antiarrugas                      391\n",
       "Hidratantes                      345\n",
       "Desmaquillantes y limpiadores    313\n",
       "Hidratación                      288\n",
       "Protectores solares              283\n",
       "                                ... \n",
       " Vitaminas                         1\n",
       "nerviosismo y estrés               1\n",
       "Pieles atópicas                    1\n",
       "Sujetadores Lactancia              1\n",
       "Gel desinfectante                  1\n",
       "Name: cat3, Length: 271, dtype: int64"
      ]
     },
     "execution_count": 9,
     "metadata": {},
     "output_type": "execute_result"
    }
   ],
   "source": [
    "categories[\"cat3\"].value_counts()"
   ]
  },
  {
   "cell_type": "markdown",
   "metadata": {},
   "source": [
    "Las subcategorías dos y tres parece ser que tienen más opciones entre las que elegir, algo que tiene sentido, ya que están a un nivel jerárquico inferior. Mientras que al respecto las minúsculas y mayúsculas ocurre algo parecido que antes, así que arreglaremos estas erratas normalizando los nombres de las categorías."
   ]
  },
  {
   "cell_type": "code",
   "execution_count": 10,
   "metadata": {},
   "outputs": [
    {
     "data": {
      "text/html": [
       "<div>\n",
       "<style scoped>\n",
       "    .dataframe tbody tr th:only-of-type {\n",
       "        vertical-align: middle;\n",
       "    }\n",
       "\n",
       "    .dataframe tbody tr th {\n",
       "        vertical-align: top;\n",
       "    }\n",
       "\n",
       "    .dataframe thead th {\n",
       "        text-align: right;\n",
       "    }\n",
       "</style>\n",
       "<table border=\"1\" class=\"dataframe\">\n",
       "  <thead>\n",
       "    <tr style=\"text-align: right;\">\n",
       "      <th></th>\n",
       "      <th>sku</th>\n",
       "      <th>cat1</th>\n",
       "      <th>cat2</th>\n",
       "      <th>cat3</th>\n",
       "    </tr>\n",
       "  </thead>\n",
       "  <tbody>\n",
       "    <tr>\n",
       "      <th>count</th>\n",
       "      <td>11159</td>\n",
       "      <td>11159</td>\n",
       "      <td>11159</td>\n",
       "      <td>11159</td>\n",
       "    </tr>\n",
       "    <tr>\n",
       "      <th>unique</th>\n",
       "      <td>11159</td>\n",
       "      <td>6</td>\n",
       "      <td>50</td>\n",
       "      <td>250</td>\n",
       "    </tr>\n",
       "    <tr>\n",
       "      <th>top</th>\n",
       "      <td>00.01.10.014</td>\n",
       "      <td>Cosmética y belleza</td>\n",
       "      <td>Facial</td>\n",
       "      <td>Antiarrugas</td>\n",
       "    </tr>\n",
       "    <tr>\n",
       "      <th>freq</th>\n",
       "      <td>1</td>\n",
       "      <td>3367</td>\n",
       "      <td>1789</td>\n",
       "      <td>391</td>\n",
       "    </tr>\n",
       "  </tbody>\n",
       "</table>\n",
       "</div>"
      ],
      "text/plain": [
       "                 sku                 cat1    cat2         cat3\n",
       "count          11159                11159   11159        11159\n",
       "unique         11159                    6      50          250\n",
       "top     00.01.10.014  Cosmética y belleza  Facial  Antiarrugas\n",
       "freq               1                 3367    1789          391"
      ]
     },
     "execution_count": 10,
     "metadata": {},
     "output_type": "execute_result"
    }
   ],
   "source": [
    "categories.loc[:, [\"cat1\", \"cat2\", \"cat3\"]] = categories[[\"cat1\", \"cat2\", \"cat3\"]].apply(lambda r: [str(n).strip().capitalize() for n in r], axis=1, result_type=\"broadcast\")\n",
    "categories.describe()"
   ]
  },
  {
   "cell_type": "markdown",
   "metadata": {},
   "source": [
    "Ahora solo tenemos **6** valores para **cat1**, **50** para **cat2** y **250** para **cat3**.\n",
    "\n",
    "Observemos la relación jerárquica entre las categorías"
   ]
  },
  {
   "cell_type": "code",
   "execution_count": 11,
   "metadata": {},
   "outputs": [
    {
     "data": {
      "text/html": [
       "<div>\n",
       "<style scoped>\n",
       "    .dataframe tbody tr th:only-of-type {\n",
       "        vertical-align: middle;\n",
       "    }\n",
       "\n",
       "    .dataframe tbody tr th {\n",
       "        vertical-align: top;\n",
       "    }\n",
       "\n",
       "    .dataframe thead th {\n",
       "        text-align: right;\n",
       "    }\n",
       "</style>\n",
       "<table border=\"1\" class=\"dataframe\">\n",
       "  <thead>\n",
       "    <tr style=\"text-align: right;\">\n",
       "      <th></th>\n",
       "      <th>cat1</th>\n",
       "      <th>cat2</th>\n",
       "      <th>cat3</th>\n",
       "      <th>count</th>\n",
       "    </tr>\n",
       "  </thead>\n",
       "  <tbody>\n",
       "    <tr>\n",
       "      <th>159</th>\n",
       "      <td>Higiene y cuidado personal</td>\n",
       "      <td>Cabello</td>\n",
       "      <td>Antigrasa</td>\n",
       "      <td>15</td>\n",
       "    </tr>\n",
       "    <tr>\n",
       "      <th>39</th>\n",
       "      <td>Salud</td>\n",
       "      <td>Problemas cardiovasculares y circulación</td>\n",
       "      <td>Colesterol</td>\n",
       "      <td>85</td>\n",
       "    </tr>\n",
       "    <tr>\n",
       "      <th>224</th>\n",
       "      <td>Infantil</td>\n",
       "      <td>Lactancia</td>\n",
       "      <td>Cojin de lactancia</td>\n",
       "      <td>5</td>\n",
       "    </tr>\n",
       "    <tr>\n",
       "      <th>219</th>\n",
       "      <td>Higiene y cuidado personal</td>\n",
       "      <td>Dental</td>\n",
       "      <td>Irrigadores bucales</td>\n",
       "      <td>5</td>\n",
       "    </tr>\n",
       "    <tr>\n",
       "      <th>2</th>\n",
       "      <td>Cosmética y belleza</td>\n",
       "      <td>Corporal</td>\n",
       "      <td>Hidratación</td>\n",
       "      <td>288</td>\n",
       "    </tr>\n",
       "  </tbody>\n",
       "</table>\n",
       "</div>"
      ],
      "text/plain": [
       "                           cat1                                      cat2  \\\n",
       "159  Higiene y cuidado personal                                   Cabello   \n",
       "39                        Salud  Problemas cardiovasculares y circulación   \n",
       "224                    Infantil                                 Lactancia   \n",
       "219  Higiene y cuidado personal                                    Dental   \n",
       "2           Cosmética y belleza                                  Corporal   \n",
       "\n",
       "                    cat3  count  \n",
       "159            Antigrasa     15  \n",
       "39            Colesterol     85  \n",
       "224   Cojin de lactancia      5  \n",
       "219  Irrigadores bucales      5  \n",
       "2            Hidratación    288  "
      ]
     },
     "execution_count": 11,
     "metadata": {},
     "output_type": "execute_result"
    }
   ],
   "source": [
    "counts = categories.value_counts(subset=[\"cat1\", \"cat2\", \"cat3\"]).reset_index(name=\"count\")\n",
    "counts.sample(5,random_state=seed)"
   ]
  },
  {
   "cell_type": "code",
   "execution_count": 12,
   "metadata": {},
   "outputs": [
    {
     "data": {
      "application/vnd.plotly.v1+json": {
       "config": {
        "plotlyServerURL": "https://plot.ly"
       },
       "data": [
        {
         "branchvalues": "total",
         "domain": {
          "x": [
           0,
           1
          ],
          "y": [
           0,
           1
          ]
         },
         "hovertemplate": "labels=%{label}<br>count=%{value}<br>parent=%{parent}<br>id=%{id}<extra></extra>",
         "ids": [
          "Salud/Salud sexual/Accesorios",
          "Infantil/Lactancia/Accesorios de extracción",
          "Higiene y cuidado personal/Facial/Accesorios de limpieza",
          "Infantil/Paseo y primeros pasos/Accesorios de paseo",
          "Infantil/Seguridad infantil/Accesorios de seguridad",
          "Cosmética y belleza/Sol/Aceite solar",
          "Nutrición/Alimentos/Aceite y vinagre",
          "Salud/Aromaterapia/Aceites esenciales",
          "Cosmética y belleza/Facial/Acné",
          "Nutrición/Pérdida de peso/Activadores",
          "Nutrición/Nutrición específica/Adultos",
          "Cosmética y belleza/Hombres/Afeitado masculino",
          "Cosmética y belleza/Sol/After-sun",
          "Higiene y cuidado personal/Limpieza hogar/Ambientadores y velas",
          "Cosmética y belleza/Facial/Ampollas",
          "Cosmética y belleza/Facial/Antiarrugas",
          "Cosmética y belleza/Labial/Antiarrugas",
          "Cosmética y belleza/Hombres/Antiarrugas hombre",
          "Higiene y cuidado personal/Cabello/Anticaspa",
          "Higiene y cuidado personal/Cabello/Anticaída",
          "Salud/Belleza/Antienvejecimiento",
          "Higiene y cuidado personal/Cabello/Antigrasa",
          "Cosmética y belleza/Facial/Antimanchas",
          "Salud/Botiquín/Antimareo",
          "Salud/Botiquín/Antimosquitos",
          "Salud/Botiquín/Apósitos, tiritas y gasas",
          "Salud/Trastornos digestivos/Ardor y reflujo",
          "Cosmética y belleza/Sol/Auto bronceadores",
          "Infantil/Accesorios de alimentación/Baberos y otros",
          "Infantil/Mobiliario y descanso del bebé/Bañeras de bebé",
          "Nutrición/Alimentos/Bebidas y zumos",
          "Infantil/Biberones/Biberones",
          "Salud/Mujer/Bienestar de la mujer",
          "Higiene y cuidado personal/Dental/Blanqueamiento dental",
          "Nutrición/Pérdida de peso/Bloqueadores de hidratos",
          "Salud/Ortopedia/Bolsas de frío y calor",
          "Cosmética y belleza/Ojos/Bolsas en ojos",
          "Salud/Botiquín/Botiquines y kits",
          "Infantil/Preparación al parto y maternidad/Bragas y compresas postparto",
          "Cosmética y belleza/Accesorios de belleza/Brochas y pinceles",
          "Salud/Ortopedia/Básculas",
          "Salud/Belleza/Cabello | uñas",
          "Infantil/Chupetes/Cadenitas chupetes",
          "Infantil/Biberones/Calienta biberones",
          "Higiene y cuidado personal/Pies/Callos",
          "Salud/Ortopedia/Camaras de inhalación",
          "Infantil/Higiene infantil/Canastillas y kits bebé",
          "Cosmética y belleza/Ojos/Cejas",
          "Salud/Belleza/Celulitis",
          "Cosmética y belleza/Corporal/Celulitis",
          "Higiene y cuidado personal/Dental/Cepillos",
          "Higiene y cuidado personal/Dental/Cepillos eléctricos",
          "Higiene y cuidado personal/Dental/Cepillos interdentales",
          "Nutrición/Alimentos/Cereales y harinas",
          "Higiene y cuidado personal/Cabello/Champu",
          "Higiene y cuidado personal/Cabello/Champús especiales",
          "Infantil/Chupetes/Chupetes de latex o caucho",
          "Infantil/Chupetes/Chupetes de silicona",
          "Infantil/Chupetes/Chupetes personalizados",
          "Salud/Aparato urinario/Cistitis",
          "Infantil/Lactancia/Cojin de lactancia",
          "Infantil/Mobiliario y descanso del bebé/Colchones",
          "Salud/Problemas cardiovasculares y circulación/Colesterol",
          "Salud/Óptica/Colirios",
          "Salud/Trastornos digestivos/Colon irritable",
          "Infantil/Higiene infantil/Colonias",
          "Higiene y cuidado personal/Dental/Colutorios",
          "Salud/Huesos, articulaciones y músculos/Colágeno",
          "Nutrición/Nutrición deportiva/Complementos",
          "Higiene y cuidado personal/Íntima/Compresas",
          "Cosmética y belleza/Labial/Con protección solar",
          "Infantil/Cambio de pañal/Contenedor y recambios pañal",
          "Cosmética y belleza/Ojos/Contorno de ojos",
          "Salud/Botiquín/Control de glucosa",
          "Higiene y cuidado personal/Íntima/Copas menstruales",
          "Cosmética y belleza/Uñas/Cortauñas y tijeras",
          "Infantil/Higiene infantil/Costra láctea",
          "Cosmética y belleza/Manos/Crema de manos",
          "Infantil/Higiene infantil/Crema pañal",
          "Nutrición/Alimentos/Cremas, salsas y siropes",
          "Infantil/Accesorios de alimentación/Cubiertos",
          "Cosmética y belleza/Corporal/Cuello, escote y pecho",
          "Infantil/Lactancia/Cuidado del pezón",
          "Infantil/Preparación al parto y maternidad/Cuidado perineal",
          "Higiene y cuidado personal/Dental/Cuidados especiales",
          "Infantil/Mobiliario y descanso del bebé/Cunas portatiles",
          "Higiene y cuidado personal/Corporal/Decolorante del vello",
          "Higiene y cuidado personal/Dental/Dentífricos",
          "Higiene y cuidado personal/Corporal/Depilatorios",
          "Cosmética y belleza/Facial/Dermatitis y eczemas",
          "Salud/Botiquín/Desinfectantes",
          "Higiene y cuidado personal/Facial/Desmaquillantes y limpiadores",
          "Higiene y cuidado personal/Pies/Desodorante de pies",
          "Higiene y cuidado personal/Corporal/Desodorantes",
          "Salud/Aromaterapia/Difusores",
          "Infantil/Lactancia/Discos de lactancia",
          "Salud/Botiquín/Dolor de cabeza",
          "Salud/Mujer/Dolor menstrual",
          "Salud/Huesos, articulaciones y músculos/Dolores articulares",
          "Nutrición/Pérdida de peso/Drenajes",
          "Infantil/Juguetes/Educativos e interactivos",
          "Nutrición/Alimentos/Edulcorantes",
          "Salud/Mujer/Embarazo y lactancia",
          "Nutrición/Nutrición deportiva/Energéticos",
          "Cosmética y belleza/Accesorios de belleza/Espejos",
          "Infantil/Higiene infantil/Esponjas",
          "Higiene y cuidado personal/Corporal/Esponjas y toallitas corporales",
          "Infantil/Accesorios de alimentación/Esterilización y limpieza",
          "Salud/Trastornos digestivos/Estreñimiento",
          "Cosmética y belleza/Corporal/Estrias",
          "Infantil/Guardería/Etiquetas infantiles",
          "Higiene y cuidado personal/Corporal/Exfoliantes",
          "Higiene y cuidado personal/Facial/Exfoliantes",
          "Infantil/Preparación al parto y maternidad/Fajas postparto",
          "Salud/Salud sexual/Falta de deseo",
          "Salud/Fertilidad/Fertilidad y concepción",
          "Salud/Trastornos digestivos/Flora intestinal y digestión",
          "Salud/Trastornos digestivos/Función hepática",
          "Infantil/Alimentación infantil/Galletitas",
          "Salud/Aparato respiratorio/Garganta y tos",
          "Salud/Trastornos digestivos/Gases",
          "Cosmética y belleza/Manos/Gel desinfectante",
          "Infantil/Higiene infantil/Gel-champú",
          "Higiene y cuidado personal/Corporal/Geles",
          "Salud/Botiquín/Golpes y hematomas",
          "Salud/Botiquín/Guantes",
          "Infantil/Mobiliario y descanso del bebé/Hamacas bebe",
          "Salud/Problemas cardiovasculares y circulación/Hemorroides",
          "Salud/Botiquín/Heridas",
          "Cosmética y belleza/Labial/Herpes labial",
          "Cosmética y belleza/Corporal/Hidratación",
          "Cosmética y belleza/Facial/Hidratantes",
          "Infantil/Higiene infantil/Hidratantes",
          "Cosmética y belleza/Hombres/Hidratantes",
          "Higiene y cuidado personal/Íntima/Hidratantes",
          "Cosmética y belleza/Labial/Hidratantes labiales",
          "Higiene y cuidado personal/Pies/Hidratantes pies",
          "Higiene y cuidado personal/Mascarillas/Higiénicas - quirúrgicas",
          "Higiene y cuidado personal/Dental/Hilo dental",
          "Cosmética y belleza/Perfumería/Hombre",
          "Cosmética y belleza/Uñas/Hongos",
          "Salud/Ortopedia/Humidificadores",
          "Salud/Aparato urinario/Incontinencia",
          "Higiene y cuidado personal/Íntima/Incontinencia",
          "Cosmética y belleza/Perfumería/Infantil",
          "Salud/Mujer/Infecciones íntimas",
          "Infantil/Alimentación infantil/Infusiones",
          "Salud/Descanso y relajación/Insomnio",
          "Higiene y cuidado personal/Dental/Irrigadores bucales",
          "Nutrición/Nutrición deportiva/Isotónicos y recuperadores",
          "Cosmética y belleza/Manos/Jabón de manos",
          "Salud/Vitaminas y minerales/Jalea real",
          "Higiene y cuidado personal/Dental/Kit dental",
          "Cosmética y belleza/Ojos/Lapiz y sombra de ojos",
          "Nutrición/Alimentos/Leche y bebidas vegetales",
          "Infantil/Alimentación infantil/Leches infantiles",
          "Nutrición/Alimentos/Legumbres, pastas y arroces",
          "Salud/Ortopedia/Lesiones",
          "Higiene y cuidado personal/Pies/Limas y durezas",
          "Cosmética y belleza/Uñas/Limas y tratamiento uñas",
          "Higiene y cuidado personal/Nariz y oído/Limpieza",
          "Higiene y cuidado personal/Íntima/Limpieza",
          "Salud/Salud sexual/Lubricantes",
          "Cosmética y belleza/Facial/Luminosidad",
          "Salud/Óptica/Líquido lentillas",
          "Cosmética y belleza/Facial/Maquillajes",
          "Higiene y cuidado personal/Cabello/Mascarillas",
          "Higiene y cuidado personal/Facial/Mascarillas",
          "Salud/Mujer/Menopausia",
          "Salud/Vitaminas y minerales/Minerales",
          "Infantil/Guardería/Mochilas infantiles",
          "Infantil/Juguetes/Mordedores",
          "Salud/Ortopedia/Movilidad y descanso",
          "Cosmética y belleza/Perfumería/Mujer",
          "Salud/Vitaminas y minerales/Multivitamínicos",
          "Salud/Botiquín/Nan",
          "Salud/Descanso y relajación/Nan",
          "Veterinaria/Nan/Nan",
          "Salud/Problemas cardiovasculares y circulación/Nan",
          "Salud/Trastornos digestivos/Nan",
          "Salud/Vitaminas y minerales/Nan",
          "Salud/Aparato respiratorio/Nariz",
          "Salud/Ortopedia/Nebulizador",
          "Cosmética y belleza/Accesorios de belleza/Neceseres y otros",
          "Salud/Descanso y relajación/Nerviosismo y estrés",
          "Nutrición/Nutrición específica/Niños",
          "Infantil/Mobiliario y descanso del bebé/Orinales",
          "Higiene y cuidado personal/Dental/Ortodoncia",
          "Infantil/Mobiliario y descanso del bebé/Otros descanso del bebé",
          "Nutrición/Alimentos/Pan y tortitas",
          "Infantil/Alimentación infantil/Papillas",
          "Infantil/Juguetes/Para el baño",
          "Infantil/Juguetes/Para la cuna",
          "Higiene y cuidado personal/Corporal/Pastilla de jabón",
          "Infantil/Cambio de pañal/Pañales",
          "Higiene y cuidado personal/Nariz y oído/Pañuelos",
          "Salud/Aparato respiratorio/Pecho",
          "Higiene y cuidado personal/Cabello/Peinado y tratamiento",
          "Cosmética y belleza/Accesorios de belleza/Peines o cepillos",
          "Infantil/Juguetes/Peluches",
          "Cosmética y belleza/Ojos/Pestañas",
          "Infantil/Lactancia/Pezoneras",
          "Salud/Belleza/Piel",
          "Cosmética y belleza/Facial/Piel atópica",
          "Cosmética y belleza/Facial/Piel seca",
          "Cosmética y belleza/Corporal/Piel seca y atópica",
          "Infantil/Higiene infantil/Pieles atópicas",
          "Salud/Problemas cardiovasculares y circulación/Piernas cansadas y varices",
          "Cosmética y belleza/Labial/Pintalabios",
          "Cosmética y belleza/Uñas/Pintauñas",
          "Cosmética y belleza/Accesorios de belleza/Pinzas de depilar",
          "Higiene y cuidado personal/Cabello/Piojos",
          "Salud/Ortopedia/Plantillas",
          "Infantil/Paseo y primeros pasos/Portabebés",
          "Infantil/Chupetes/Portachupetes",
          "Nutrición/Alimentos/Postres y dulces",
          "Infantil/Alimentación infantil/Potitos",
          "Salud/Salud sexual/Preservativos",
          "Infantil/Higiene infantil/Primeros dientes",
          "Nutrición/Pérdida de peso/Productos sustitutivos y entrehoras",
          "Cosmética y belleza/Sol/Protección nieve",
          "Cosmética y belleza/Sol/Protectores solares",
          "Higiene y cuidado personal/Íntima/Protegeslip",
          "Nutrición/Nutrición deportiva/Proteínas",
          "Salud/Aparato urinario/Próstata",
          "Higiene y cuidado personal/Dental/Prótesis dentales",
          "Salud/Ortopedia/Pulsioximetro",
          "Salud/Botiquín/Quemaduras y cicatrices",
          "Nutrición/Pérdida de peso/Quemagrasas",
          "Cosmética y belleza/Uñas/Quitaesmalte",
          "Infantil/Accesorios de alimentación/Recipientes de conservación",
          "Salud/Huesos, articulaciones y músculos/Recuperación muscular",
          "Cosmética y belleza/Hombres/Reductores - abdominales",
          "Cosmética y belleza/Corporal/Reductores y reafirmantes",
          "Cosmética y belleza/Facial/Rojeces",
          "Infantil/Lactancia/Sacaleches",
          "Nutrición/Pérdida de peso/Saciantes",
          "Nutrición/Alimentos/Sal y especias",
          "Salud/Óptica/Salud ocular",
          "Nutrición/Alimentos/Semillas y superalimentos",
          "Cosmética y belleza/Facial/Serum",
          "Infantil/Alimentación infantil/Snacks",
          "Cosmética y belleza/Sol/Solar pelo",
          "Infantil/Juguetes/Sonajeros",
          "Salud/Botiquín/Suero fisiológico",
          "Infantil/Lactancia/Sujetadores lactancia",
          "Cosmética y belleza/Sol/Suplementos",
          "Salud/Vitaminas y minerales/Suplementos",
          "Higiene y cuidado personal/Íntima/Tampones",
          "Higiene y cuidado personal/Nariz y oído/Tapones y protección",
          "Salud/Ortopedia/Tensiómetros",
          "Salud/Problemas cardiovasculares y circulación/Tensión",
          "Infantil/Accesorios de alimentación/Termo",
          "Salud/Botiquín/Termómetros",
          "Infantil/Biberones/Tetinas",
          "Higiene y cuidado personal/Cabello/Tintes de pelo",
          "Infantil/Higiene infantil/Toallitas bebé",
          "Salud/Óptica/Toallitas oculares",
          "Nutrición/Alimentos/Tés e infusiones",
          "Cosmética y belleza/Corporal/Urticaria y psoriasis",
          "Infantil/Accesorios de alimentación/Vajillas infantiles",
          "Salud/Botiquín/Verrugas",
          "Salud/Vitaminas y minerales/Vitaminas",
          "Salud/Ortopedia/Zapatos y zuecos",
          "Infantil/Accesorios de alimentación/Útiles de aprendizaje",
          "Infantil/Accesorios de alimentación",
          "Cosmética y belleza/Accesorios de belleza",
          "Infantil/Alimentación infantil",
          "Nutrición/Alimentos",
          "Salud/Aparato respiratorio",
          "Salud/Aparato urinario",
          "Salud/Aromaterapia",
          "Salud/Belleza",
          "Infantil/Biberones",
          "Salud/Botiquín",
          "Higiene y cuidado personal/Cabello",
          "Infantil/Cambio de pañal",
          "Infantil/Chupetes",
          "Cosmética y belleza/Corporal",
          "Higiene y cuidado personal/Corporal",
          "Higiene y cuidado personal/Dental",
          "Salud/Descanso y relajación",
          "Cosmética y belleza/Facial",
          "Higiene y cuidado personal/Facial",
          "Salud/Fertilidad",
          "Infantil/Guardería",
          "Infantil/Higiene infantil",
          "Cosmética y belleza/Hombres",
          "Salud/Huesos, articulaciones y músculos",
          "Infantil/Juguetes",
          "Cosmética y belleza/Labial",
          "Infantil/Lactancia",
          "Higiene y cuidado personal/Limpieza hogar",
          "Cosmética y belleza/Manos",
          "Higiene y cuidado personal/Mascarillas",
          "Infantil/Mobiliario y descanso del bebé",
          "Salud/Mujer",
          "Veterinaria/Nan",
          "Higiene y cuidado personal/Nariz y oído",
          "Nutrición/Nutrición deportiva",
          "Nutrición/Nutrición específica",
          "Cosmética y belleza/Ojos",
          "Salud/Ortopedia",
          "Infantil/Paseo y primeros pasos",
          "Cosmética y belleza/Perfumería",
          "Higiene y cuidado personal/Pies",
          "Infantil/Preparación al parto y maternidad",
          "Salud/Problemas cardiovasculares y circulación",
          "Nutrición/Pérdida de peso",
          "Salud/Salud sexual",
          "Infantil/Seguridad infantil",
          "Cosmética y belleza/Sol",
          "Salud/Trastornos digestivos",
          "Cosmética y belleza/Uñas",
          "Salud/Vitaminas y minerales",
          "Higiene y cuidado personal/Íntima",
          "Salud/Óptica",
          "Cosmética y belleza",
          "Higiene y cuidado personal",
          "Infantil",
          "Nutrición",
          "Salud",
          "Veterinaria"
         ],
         "labels": [
          "Accesorios",
          "Accesorios de extracción",
          "Accesorios de limpieza",
          "Accesorios de paseo",
          "Accesorios de seguridad",
          "Aceite solar",
          "Aceite y vinagre",
          "Aceites esenciales",
          "Acné",
          "Activadores",
          "Adultos",
          "Afeitado masculino",
          "After-sun",
          "Ambientadores y velas",
          "Ampollas",
          "Antiarrugas",
          "Antiarrugas",
          "Antiarrugas hombre",
          "Anticaspa",
          "Anticaída",
          "Antienvejecimiento",
          "Antigrasa",
          "Antimanchas",
          "Antimareo",
          "Antimosquitos",
          "Apósitos, tiritas y gasas",
          "Ardor y reflujo",
          "Auto bronceadores",
          "Baberos y otros",
          "Bañeras de bebé",
          "Bebidas y zumos",
          "Biberones",
          "Bienestar de la mujer",
          "Blanqueamiento dental",
          "Bloqueadores de hidratos",
          "Bolsas de frío y calor",
          "Bolsas en ojos",
          "Botiquines y kits",
          "Bragas y compresas postparto",
          "Brochas y pinceles",
          "Básculas",
          "Cabello | uñas",
          "Cadenitas chupetes",
          "Calienta biberones",
          "Callos",
          "Camaras de inhalación",
          "Canastillas y kits bebé",
          "Cejas",
          "Celulitis",
          "Celulitis",
          "Cepillos",
          "Cepillos eléctricos",
          "Cepillos interdentales",
          "Cereales y harinas",
          "Champu",
          "Champús especiales",
          "Chupetes de latex o caucho",
          "Chupetes de silicona",
          "Chupetes personalizados",
          "Cistitis",
          "Cojin de lactancia",
          "Colchones",
          "Colesterol",
          "Colirios",
          "Colon irritable",
          "Colonias",
          "Colutorios",
          "Colágeno",
          "Complementos",
          "Compresas",
          "Con protección solar",
          "Contenedor y recambios pañal",
          "Contorno de ojos",
          "Control de glucosa",
          "Copas menstruales",
          "Cortauñas y tijeras",
          "Costra láctea",
          "Crema de manos",
          "Crema pañal",
          "Cremas, salsas y siropes",
          "Cubiertos",
          "Cuello, escote y pecho",
          "Cuidado del pezón",
          "Cuidado perineal",
          "Cuidados especiales",
          "Cunas portatiles",
          "Decolorante del vello",
          "Dentífricos",
          "Depilatorios",
          "Dermatitis y eczemas",
          "Desinfectantes",
          "Desmaquillantes y limpiadores",
          "Desodorante de pies",
          "Desodorantes",
          "Difusores",
          "Discos de lactancia",
          "Dolor de cabeza",
          "Dolor menstrual",
          "Dolores articulares",
          "Drenajes",
          "Educativos e interactivos",
          "Edulcorantes",
          "Embarazo y lactancia",
          "Energéticos",
          "Espejos",
          "Esponjas",
          "Esponjas y toallitas corporales",
          "Esterilización y limpieza",
          "Estreñimiento",
          "Estrias",
          "Etiquetas infantiles",
          "Exfoliantes",
          "Exfoliantes",
          "Fajas postparto",
          "Falta de deseo",
          "Fertilidad y concepción",
          "Flora intestinal y digestión",
          "Función hepática",
          "Galletitas",
          "Garganta y tos",
          "Gases",
          "Gel desinfectante",
          "Gel-champú",
          "Geles",
          "Golpes y hematomas",
          "Guantes",
          "Hamacas bebe",
          "Hemorroides",
          "Heridas",
          "Herpes labial",
          "Hidratación",
          "Hidratantes",
          "Hidratantes",
          "Hidratantes",
          "Hidratantes",
          "Hidratantes labiales",
          "Hidratantes pies",
          "Higiénicas - quirúrgicas",
          "Hilo dental",
          "Hombre",
          "Hongos",
          "Humidificadores",
          "Incontinencia",
          "Incontinencia",
          "Infantil",
          "Infecciones íntimas",
          "Infusiones",
          "Insomnio",
          "Irrigadores bucales",
          "Isotónicos y recuperadores",
          "Jabón de manos",
          "Jalea real",
          "Kit dental",
          "Lapiz y sombra de ojos",
          "Leche y bebidas vegetales",
          "Leches infantiles",
          "Legumbres, pastas y arroces",
          "Lesiones",
          "Limas y durezas",
          "Limas y tratamiento uñas",
          "Limpieza",
          "Limpieza",
          "Lubricantes",
          "Luminosidad",
          "Líquido lentillas",
          "Maquillajes",
          "Mascarillas",
          "Mascarillas",
          "Menopausia",
          "Minerales",
          "Mochilas infantiles",
          "Mordedores",
          "Movilidad y descanso",
          "Mujer",
          "Multivitamínicos",
          "Nan",
          "Nan",
          "Nan",
          "Nan",
          "Nan",
          "Nan",
          "Nariz",
          "Nebulizador",
          "Neceseres y otros",
          "Nerviosismo y estrés",
          "Niños",
          "Orinales",
          "Ortodoncia",
          "Otros descanso del bebé",
          "Pan y tortitas",
          "Papillas",
          "Para el baño",
          "Para la cuna",
          "Pastilla de jabón",
          "Pañales",
          "Pañuelos",
          "Pecho",
          "Peinado y tratamiento",
          "Peines o cepillos",
          "Peluches",
          "Pestañas",
          "Pezoneras",
          "Piel",
          "Piel atópica",
          "Piel seca",
          "Piel seca y atópica",
          "Pieles atópicas",
          "Piernas cansadas y varices",
          "Pintalabios",
          "Pintauñas",
          "Pinzas de depilar",
          "Piojos",
          "Plantillas",
          "Portabebés",
          "Portachupetes",
          "Postres y dulces",
          "Potitos",
          "Preservativos",
          "Primeros dientes",
          "Productos sustitutivos y entrehoras",
          "Protección nieve",
          "Protectores solares",
          "Protegeslip",
          "Proteínas",
          "Próstata",
          "Prótesis dentales",
          "Pulsioximetro",
          "Quemaduras y cicatrices",
          "Quemagrasas",
          "Quitaesmalte",
          "Recipientes de conservación",
          "Recuperación muscular",
          "Reductores - abdominales",
          "Reductores y reafirmantes",
          "Rojeces",
          "Sacaleches",
          "Saciantes",
          "Sal y especias",
          "Salud ocular",
          "Semillas y superalimentos",
          "Serum",
          "Snacks",
          "Solar pelo",
          "Sonajeros",
          "Suero fisiológico",
          "Sujetadores lactancia",
          "Suplementos",
          "Suplementos",
          "Tampones",
          "Tapones y protección",
          "Tensiómetros",
          "Tensión",
          "Termo",
          "Termómetros",
          "Tetinas",
          "Tintes de pelo",
          "Toallitas bebé",
          "Toallitas oculares",
          "Tés e infusiones",
          "Urticaria y psoriasis",
          "Vajillas infantiles",
          "Verrugas",
          "Vitaminas",
          "Zapatos y zuecos",
          "Útiles de aprendizaje",
          "Accesorios de alimentación",
          "Accesorios de belleza",
          "Alimentación infantil",
          "Alimentos",
          "Aparato respiratorio",
          "Aparato urinario",
          "Aromaterapia",
          "Belleza",
          "Biberones",
          "Botiquín",
          "Cabello",
          "Cambio de pañal",
          "Chupetes",
          "Corporal",
          "Corporal",
          "Dental",
          "Descanso y relajación",
          "Facial",
          "Facial",
          "Fertilidad",
          "Guardería",
          "Higiene infantil",
          "Hombres",
          "Huesos, articulaciones y músculos",
          "Juguetes",
          "Labial",
          "Lactancia",
          "Limpieza hogar",
          "Manos",
          "Mascarillas",
          "Mobiliario y descanso del bebé",
          "Mujer",
          "Nan",
          "Nariz y oído",
          "Nutrición deportiva",
          "Nutrición específica",
          "Ojos",
          "Ortopedia",
          "Paseo y primeros pasos",
          "Perfumería",
          "Pies",
          "Preparación al parto y maternidad",
          "Problemas cardiovasculares y circulación",
          "Pérdida de peso",
          "Salud sexual",
          "Seguridad infantil",
          "Sol",
          "Trastornos digestivos",
          "Uñas",
          "Vitaminas y minerales",
          "Íntima",
          "Óptica",
          "Cosmética y belleza",
          "Higiene y cuidado personal",
          "Infantil",
          "Nutrición",
          "Salud",
          "Veterinaria"
         ],
         "name": "",
         "parents": [
          "Salud/Salud sexual",
          "Infantil/Lactancia",
          "Higiene y cuidado personal/Facial",
          "Infantil/Paseo y primeros pasos",
          "Infantil/Seguridad infantil",
          "Cosmética y belleza/Sol",
          "Nutrición/Alimentos",
          "Salud/Aromaterapia",
          "Cosmética y belleza/Facial",
          "Nutrición/Pérdida de peso",
          "Nutrición/Nutrición específica",
          "Cosmética y belleza/Hombres",
          "Cosmética y belleza/Sol",
          "Higiene y cuidado personal/Limpieza hogar",
          "Cosmética y belleza/Facial",
          "Cosmética y belleza/Facial",
          "Cosmética y belleza/Labial",
          "Cosmética y belleza/Hombres",
          "Higiene y cuidado personal/Cabello",
          "Higiene y cuidado personal/Cabello",
          "Salud/Belleza",
          "Higiene y cuidado personal/Cabello",
          "Cosmética y belleza/Facial",
          "Salud/Botiquín",
          "Salud/Botiquín",
          "Salud/Botiquín",
          "Salud/Trastornos digestivos",
          "Cosmética y belleza/Sol",
          "Infantil/Accesorios de alimentación",
          "Infantil/Mobiliario y descanso del bebé",
          "Nutrición/Alimentos",
          "Infantil/Biberones",
          "Salud/Mujer",
          "Higiene y cuidado personal/Dental",
          "Nutrición/Pérdida de peso",
          "Salud/Ortopedia",
          "Cosmética y belleza/Ojos",
          "Salud/Botiquín",
          "Infantil/Preparación al parto y maternidad",
          "Cosmética y belleza/Accesorios de belleza",
          "Salud/Ortopedia",
          "Salud/Belleza",
          "Infantil/Chupetes",
          "Infantil/Biberones",
          "Higiene y cuidado personal/Pies",
          "Salud/Ortopedia",
          "Infantil/Higiene infantil",
          "Cosmética y belleza/Ojos",
          "Salud/Belleza",
          "Cosmética y belleza/Corporal",
          "Higiene y cuidado personal/Dental",
          "Higiene y cuidado personal/Dental",
          "Higiene y cuidado personal/Dental",
          "Nutrición/Alimentos",
          "Higiene y cuidado personal/Cabello",
          "Higiene y cuidado personal/Cabello",
          "Infantil/Chupetes",
          "Infantil/Chupetes",
          "Infantil/Chupetes",
          "Salud/Aparato urinario",
          "Infantil/Lactancia",
          "Infantil/Mobiliario y descanso del bebé",
          "Salud/Problemas cardiovasculares y circulación",
          "Salud/Óptica",
          "Salud/Trastornos digestivos",
          "Infantil/Higiene infantil",
          "Higiene y cuidado personal/Dental",
          "Salud/Huesos, articulaciones y músculos",
          "Nutrición/Nutrición deportiva",
          "Higiene y cuidado personal/Íntima",
          "Cosmética y belleza/Labial",
          "Infantil/Cambio de pañal",
          "Cosmética y belleza/Ojos",
          "Salud/Botiquín",
          "Higiene y cuidado personal/Íntima",
          "Cosmética y belleza/Uñas",
          "Infantil/Higiene infantil",
          "Cosmética y belleza/Manos",
          "Infantil/Higiene infantil",
          "Nutrición/Alimentos",
          "Infantil/Accesorios de alimentación",
          "Cosmética y belleza/Corporal",
          "Infantil/Lactancia",
          "Infantil/Preparación al parto y maternidad",
          "Higiene y cuidado personal/Dental",
          "Infantil/Mobiliario y descanso del bebé",
          "Higiene y cuidado personal/Corporal",
          "Higiene y cuidado personal/Dental",
          "Higiene y cuidado personal/Corporal",
          "Cosmética y belleza/Facial",
          "Salud/Botiquín",
          "Higiene y cuidado personal/Facial",
          "Higiene y cuidado personal/Pies",
          "Higiene y cuidado personal/Corporal",
          "Salud/Aromaterapia",
          "Infantil/Lactancia",
          "Salud/Botiquín",
          "Salud/Mujer",
          "Salud/Huesos, articulaciones y músculos",
          "Nutrición/Pérdida de peso",
          "Infantil/Juguetes",
          "Nutrición/Alimentos",
          "Salud/Mujer",
          "Nutrición/Nutrición deportiva",
          "Cosmética y belleza/Accesorios de belleza",
          "Infantil/Higiene infantil",
          "Higiene y cuidado personal/Corporal",
          "Infantil/Accesorios de alimentación",
          "Salud/Trastornos digestivos",
          "Cosmética y belleza/Corporal",
          "Infantil/Guardería",
          "Higiene y cuidado personal/Corporal",
          "Higiene y cuidado personal/Facial",
          "Infantil/Preparación al parto y maternidad",
          "Salud/Salud sexual",
          "Salud/Fertilidad",
          "Salud/Trastornos digestivos",
          "Salud/Trastornos digestivos",
          "Infantil/Alimentación infantil",
          "Salud/Aparato respiratorio",
          "Salud/Trastornos digestivos",
          "Cosmética y belleza/Manos",
          "Infantil/Higiene infantil",
          "Higiene y cuidado personal/Corporal",
          "Salud/Botiquín",
          "Salud/Botiquín",
          "Infantil/Mobiliario y descanso del bebé",
          "Salud/Problemas cardiovasculares y circulación",
          "Salud/Botiquín",
          "Cosmética y belleza/Labial",
          "Cosmética y belleza/Corporal",
          "Cosmética y belleza/Facial",
          "Infantil/Higiene infantil",
          "Cosmética y belleza/Hombres",
          "Higiene y cuidado personal/Íntima",
          "Cosmética y belleza/Labial",
          "Higiene y cuidado personal/Pies",
          "Higiene y cuidado personal/Mascarillas",
          "Higiene y cuidado personal/Dental",
          "Cosmética y belleza/Perfumería",
          "Cosmética y belleza/Uñas",
          "Salud/Ortopedia",
          "Salud/Aparato urinario",
          "Higiene y cuidado personal/Íntima",
          "Cosmética y belleza/Perfumería",
          "Salud/Mujer",
          "Infantil/Alimentación infantil",
          "Salud/Descanso y relajación",
          "Higiene y cuidado personal/Dental",
          "Nutrición/Nutrición deportiva",
          "Cosmética y belleza/Manos",
          "Salud/Vitaminas y minerales",
          "Higiene y cuidado personal/Dental",
          "Cosmética y belleza/Ojos",
          "Nutrición/Alimentos",
          "Infantil/Alimentación infantil",
          "Nutrición/Alimentos",
          "Salud/Ortopedia",
          "Higiene y cuidado personal/Pies",
          "Cosmética y belleza/Uñas",
          "Higiene y cuidado personal/Nariz y oído",
          "Higiene y cuidado personal/Íntima",
          "Salud/Salud sexual",
          "Cosmética y belleza/Facial",
          "Salud/Óptica",
          "Cosmética y belleza/Facial",
          "Higiene y cuidado personal/Cabello",
          "Higiene y cuidado personal/Facial",
          "Salud/Mujer",
          "Salud/Vitaminas y minerales",
          "Infantil/Guardería",
          "Infantil/Juguetes",
          "Salud/Ortopedia",
          "Cosmética y belleza/Perfumería",
          "Salud/Vitaminas y minerales",
          "Salud/Botiquín",
          "Salud/Descanso y relajación",
          "Veterinaria/Nan",
          "Salud/Problemas cardiovasculares y circulación",
          "Salud/Trastornos digestivos",
          "Salud/Vitaminas y minerales",
          "Salud/Aparato respiratorio",
          "Salud/Ortopedia",
          "Cosmética y belleza/Accesorios de belleza",
          "Salud/Descanso y relajación",
          "Nutrición/Nutrición específica",
          "Infantil/Mobiliario y descanso del bebé",
          "Higiene y cuidado personal/Dental",
          "Infantil/Mobiliario y descanso del bebé",
          "Nutrición/Alimentos",
          "Infantil/Alimentación infantil",
          "Infantil/Juguetes",
          "Infantil/Juguetes",
          "Higiene y cuidado personal/Corporal",
          "Infantil/Cambio de pañal",
          "Higiene y cuidado personal/Nariz y oído",
          "Salud/Aparato respiratorio",
          "Higiene y cuidado personal/Cabello",
          "Cosmética y belleza/Accesorios de belleza",
          "Infantil/Juguetes",
          "Cosmética y belleza/Ojos",
          "Infantil/Lactancia",
          "Salud/Belleza",
          "Cosmética y belleza/Facial",
          "Cosmética y belleza/Facial",
          "Cosmética y belleza/Corporal",
          "Infantil/Higiene infantil",
          "Salud/Problemas cardiovasculares y circulación",
          "Cosmética y belleza/Labial",
          "Cosmética y belleza/Uñas",
          "Cosmética y belleza/Accesorios de belleza",
          "Higiene y cuidado personal/Cabello",
          "Salud/Ortopedia",
          "Infantil/Paseo y primeros pasos",
          "Infantil/Chupetes",
          "Nutrición/Alimentos",
          "Infantil/Alimentación infantil",
          "Salud/Salud sexual",
          "Infantil/Higiene infantil",
          "Nutrición/Pérdida de peso",
          "Cosmética y belleza/Sol",
          "Cosmética y belleza/Sol",
          "Higiene y cuidado personal/Íntima",
          "Nutrición/Nutrición deportiva",
          "Salud/Aparato urinario",
          "Higiene y cuidado personal/Dental",
          "Salud/Ortopedia",
          "Salud/Botiquín",
          "Nutrición/Pérdida de peso",
          "Cosmética y belleza/Uñas",
          "Infantil/Accesorios de alimentación",
          "Salud/Huesos, articulaciones y músculos",
          "Cosmética y belleza/Hombres",
          "Cosmética y belleza/Corporal",
          "Cosmética y belleza/Facial",
          "Infantil/Lactancia",
          "Nutrición/Pérdida de peso",
          "Nutrición/Alimentos",
          "Salud/Óptica",
          "Nutrición/Alimentos",
          "Cosmética y belleza/Facial",
          "Infantil/Alimentación infantil",
          "Cosmética y belleza/Sol",
          "Infantil/Juguetes",
          "Salud/Botiquín",
          "Infantil/Lactancia",
          "Cosmética y belleza/Sol",
          "Salud/Vitaminas y minerales",
          "Higiene y cuidado personal/Íntima",
          "Higiene y cuidado personal/Nariz y oído",
          "Salud/Ortopedia",
          "Salud/Problemas cardiovasculares y circulación",
          "Infantil/Accesorios de alimentación",
          "Salud/Botiquín",
          "Infantil/Biberones",
          "Higiene y cuidado personal/Cabello",
          "Infantil/Higiene infantil",
          "Salud/Óptica",
          "Nutrición/Alimentos",
          "Cosmética y belleza/Corporal",
          "Infantil/Accesorios de alimentación",
          "Salud/Botiquín",
          "Salud/Vitaminas y minerales",
          "Salud/Ortopedia",
          "Infantil/Accesorios de alimentación",
          "Infantil",
          "Cosmética y belleza",
          "Infantil",
          "Nutrición",
          "Salud",
          "Salud",
          "Salud",
          "Salud",
          "Infantil",
          "Salud",
          "Higiene y cuidado personal",
          "Infantil",
          "Infantil",
          "Cosmética y belleza",
          "Higiene y cuidado personal",
          "Higiene y cuidado personal",
          "Salud",
          "Cosmética y belleza",
          "Higiene y cuidado personal",
          "Salud",
          "Infantil",
          "Infantil",
          "Cosmética y belleza",
          "Salud",
          "Infantil",
          "Cosmética y belleza",
          "Infantil",
          "Higiene y cuidado personal",
          "Cosmética y belleza",
          "Higiene y cuidado personal",
          "Infantil",
          "Salud",
          "Veterinaria",
          "Higiene y cuidado personal",
          "Nutrición",
          "Nutrición",
          "Cosmética y belleza",
          "Salud",
          "Infantil",
          "Cosmética y belleza",
          "Higiene y cuidado personal",
          "Infantil",
          "Salud",
          "Nutrición",
          "Salud",
          "Infantil",
          "Cosmética y belleza",
          "Salud",
          "Cosmética y belleza",
          "Salud",
          "Higiene y cuidado personal",
          "Salud",
          "",
          "",
          "",
          "",
          "",
          ""
         ],
         "type": "sunburst",
         "values": [
          30,
          16,
          4,
          2,
          23,
          18,
          9,
          176,
          190,
          7,
          27,
          42,
          39,
          12,
          55,
          379,
          12,
          9,
          47,
          159,
          16,
          15,
          104,
          2,
          86,
          145,
          9,
          15,
          16,
          9,
          8,
          138,
          10,
          37,
          4,
          12,
          21,
          1,
          10,
          40,
          3,
          39,
          19,
          4,
          13,
          1,
          19,
          19,
          4,
          28,
          153,
          38,
          48,
          23,
          224,
          64,
          34,
          90,
          14,
          49,
          5,
          18,
          85,
          76,
          8,
          19,
          126,
          181,
          16,
          62,
          26,
          2,
          123,
          5,
          16,
          22,
          7,
          86,
          49,
          7,
          30,
          14,
          9,
          1,
          92,
          5,
          3,
          164,
          22,
          11,
          27,
          313,
          16,
          119,
          5,
          22,
          3,
          5,
          8,
          68,
          28,
          27,
          25,
          25,
          8,
          22,
          11,
          34,
          41,
          32,
          3,
          28,
          43,
          8,
          20,
          17,
          73,
          15,
          5,
          127,
          16,
          1,
          72,
          196,
          23,
          9,
          4,
          2,
          3,
          2,
          288,
          259,
          59,
          5,
          22,
          117,
          37,
          1,
          30,
          43,
          3,
          9,
          8,
          42,
          6,
          21,
          4,
          7,
          5,
          10,
          18,
          52,
          1,
          61,
          9,
          46,
          6,
          54,
          17,
          60,
          85,
          124,
          33,
          9,
          22,
          185,
          96,
          91,
          36,
          42,
          3,
          42,
          10,
          117,
          215,
          2,
          100,
          20,
          39,
          34,
          105,
          22,
          7,
          1,
          5,
          38,
          5,
          5,
          10,
          1,
          39,
          9,
          1,
          45,
          43,
          9,
          6,
          104,
          44,
          2,
          50,
          13,
          50,
          21,
          21,
          70,
          11,
          39,
          66,
          98,
          13,
          37,
          22,
          1,
          4,
          6,
          33,
          42,
          7,
          107,
          35,
          283,
          13,
          52,
          11,
          39,
          2,
          117,
          60,
          11,
          16,
          57,
          2,
          25,
          40,
          15,
          20,
          13,
          19,
          15,
          64,
          13,
          8,
          14,
          10,
          1,
          24,
          223,
          19,
          38,
          5,
          1,
          11,
          34,
          64,
          109,
          21,
          15,
          61,
          24,
          32,
          7,
          7,
          8,
          48,
          187,
          106,
          140,
          185,
          155,
          68,
          181,
          109,
          206,
          474,
          855,
          45,
          161,
          481,
          424,
          738,
          112,
          1338,
          451,
          17,
          6,
          286,
          58,
          246,
          96,
          223,
          81,
          12,
          105,
          1,
          51,
          97,
          20,
          132,
          103,
          65,
          274,
          133,
          3,
          166,
          83,
          19,
          166,
          266,
          125,
          23,
          422,
          196,
          194,
          644,
          298,
          132,
          3367,
          2994,
          1304,
          619,
          2855,
          20
         ]
        }
       ],
       "layout": {
        "height": 1300,
        "legend": {
         "tracegroupgap": 0
        },
        "margin": {
         "t": 60
        },
        "template": {
         "data": {
          "bar": [
           {
            "error_x": {
             "color": "#2a3f5f"
            },
            "error_y": {
             "color": "#2a3f5f"
            },
            "marker": {
             "line": {
              "color": "#E5ECF6",
              "width": 0.5
             },
             "pattern": {
              "fillmode": "overlay",
              "size": 10,
              "solidity": 0.2
             }
            },
            "type": "bar"
           }
          ],
          "barpolar": [
           {
            "marker": {
             "line": {
              "color": "#E5ECF6",
              "width": 0.5
             },
             "pattern": {
              "fillmode": "overlay",
              "size": 10,
              "solidity": 0.2
             }
            },
            "type": "barpolar"
           }
          ],
          "carpet": [
           {
            "aaxis": {
             "endlinecolor": "#2a3f5f",
             "gridcolor": "white",
             "linecolor": "white",
             "minorgridcolor": "white",
             "startlinecolor": "#2a3f5f"
            },
            "baxis": {
             "endlinecolor": "#2a3f5f",
             "gridcolor": "white",
             "linecolor": "white",
             "minorgridcolor": "white",
             "startlinecolor": "#2a3f5f"
            },
            "type": "carpet"
           }
          ],
          "choropleth": [
           {
            "colorbar": {
             "outlinewidth": 0,
             "ticks": ""
            },
            "type": "choropleth"
           }
          ],
          "contour": [
           {
            "colorbar": {
             "outlinewidth": 0,
             "ticks": ""
            },
            "colorscale": [
             [
              0,
              "#0d0887"
             ],
             [
              0.1111111111111111,
              "#46039f"
             ],
             [
              0.2222222222222222,
              "#7201a8"
             ],
             [
              0.3333333333333333,
              "#9c179e"
             ],
             [
              0.4444444444444444,
              "#bd3786"
             ],
             [
              0.5555555555555556,
              "#d8576b"
             ],
             [
              0.6666666666666666,
              "#ed7953"
             ],
             [
              0.7777777777777778,
              "#fb9f3a"
             ],
             [
              0.8888888888888888,
              "#fdca26"
             ],
             [
              1,
              "#f0f921"
             ]
            ],
            "type": "contour"
           }
          ],
          "contourcarpet": [
           {
            "colorbar": {
             "outlinewidth": 0,
             "ticks": ""
            },
            "type": "contourcarpet"
           }
          ],
          "heatmap": [
           {
            "colorbar": {
             "outlinewidth": 0,
             "ticks": ""
            },
            "colorscale": [
             [
              0,
              "#0d0887"
             ],
             [
              0.1111111111111111,
              "#46039f"
             ],
             [
              0.2222222222222222,
              "#7201a8"
             ],
             [
              0.3333333333333333,
              "#9c179e"
             ],
             [
              0.4444444444444444,
              "#bd3786"
             ],
             [
              0.5555555555555556,
              "#d8576b"
             ],
             [
              0.6666666666666666,
              "#ed7953"
             ],
             [
              0.7777777777777778,
              "#fb9f3a"
             ],
             [
              0.8888888888888888,
              "#fdca26"
             ],
             [
              1,
              "#f0f921"
             ]
            ],
            "type": "heatmap"
           }
          ],
          "heatmapgl": [
           {
            "colorbar": {
             "outlinewidth": 0,
             "ticks": ""
            },
            "colorscale": [
             [
              0,
              "#0d0887"
             ],
             [
              0.1111111111111111,
              "#46039f"
             ],
             [
              0.2222222222222222,
              "#7201a8"
             ],
             [
              0.3333333333333333,
              "#9c179e"
             ],
             [
              0.4444444444444444,
              "#bd3786"
             ],
             [
              0.5555555555555556,
              "#d8576b"
             ],
             [
              0.6666666666666666,
              "#ed7953"
             ],
             [
              0.7777777777777778,
              "#fb9f3a"
             ],
             [
              0.8888888888888888,
              "#fdca26"
             ],
             [
              1,
              "#f0f921"
             ]
            ],
            "type": "heatmapgl"
           }
          ],
          "histogram": [
           {
            "marker": {
             "pattern": {
              "fillmode": "overlay",
              "size": 10,
              "solidity": 0.2
             }
            },
            "type": "histogram"
           }
          ],
          "histogram2d": [
           {
            "colorbar": {
             "outlinewidth": 0,
             "ticks": ""
            },
            "colorscale": [
             [
              0,
              "#0d0887"
             ],
             [
              0.1111111111111111,
              "#46039f"
             ],
             [
              0.2222222222222222,
              "#7201a8"
             ],
             [
              0.3333333333333333,
              "#9c179e"
             ],
             [
              0.4444444444444444,
              "#bd3786"
             ],
             [
              0.5555555555555556,
              "#d8576b"
             ],
             [
              0.6666666666666666,
              "#ed7953"
             ],
             [
              0.7777777777777778,
              "#fb9f3a"
             ],
             [
              0.8888888888888888,
              "#fdca26"
             ],
             [
              1,
              "#f0f921"
             ]
            ],
            "type": "histogram2d"
           }
          ],
          "histogram2dcontour": [
           {
            "colorbar": {
             "outlinewidth": 0,
             "ticks": ""
            },
            "colorscale": [
             [
              0,
              "#0d0887"
             ],
             [
              0.1111111111111111,
              "#46039f"
             ],
             [
              0.2222222222222222,
              "#7201a8"
             ],
             [
              0.3333333333333333,
              "#9c179e"
             ],
             [
              0.4444444444444444,
              "#bd3786"
             ],
             [
              0.5555555555555556,
              "#d8576b"
             ],
             [
              0.6666666666666666,
              "#ed7953"
             ],
             [
              0.7777777777777778,
              "#fb9f3a"
             ],
             [
              0.8888888888888888,
              "#fdca26"
             ],
             [
              1,
              "#f0f921"
             ]
            ],
            "type": "histogram2dcontour"
           }
          ],
          "mesh3d": [
           {
            "colorbar": {
             "outlinewidth": 0,
             "ticks": ""
            },
            "type": "mesh3d"
           }
          ],
          "parcoords": [
           {
            "line": {
             "colorbar": {
              "outlinewidth": 0,
              "ticks": ""
             }
            },
            "type": "parcoords"
           }
          ],
          "pie": [
           {
            "automargin": true,
            "type": "pie"
           }
          ],
          "scatter": [
           {
            "marker": {
             "colorbar": {
              "outlinewidth": 0,
              "ticks": ""
             }
            },
            "type": "scatter"
           }
          ],
          "scatter3d": [
           {
            "line": {
             "colorbar": {
              "outlinewidth": 0,
              "ticks": ""
             }
            },
            "marker": {
             "colorbar": {
              "outlinewidth": 0,
              "ticks": ""
             }
            },
            "type": "scatter3d"
           }
          ],
          "scattercarpet": [
           {
            "marker": {
             "colorbar": {
              "outlinewidth": 0,
              "ticks": ""
             }
            },
            "type": "scattercarpet"
           }
          ],
          "scattergeo": [
           {
            "marker": {
             "colorbar": {
              "outlinewidth": 0,
              "ticks": ""
             }
            },
            "type": "scattergeo"
           }
          ],
          "scattergl": [
           {
            "marker": {
             "colorbar": {
              "outlinewidth": 0,
              "ticks": ""
             }
            },
            "type": "scattergl"
           }
          ],
          "scattermapbox": [
           {
            "marker": {
             "colorbar": {
              "outlinewidth": 0,
              "ticks": ""
             }
            },
            "type": "scattermapbox"
           }
          ],
          "scatterpolar": [
           {
            "marker": {
             "colorbar": {
              "outlinewidth": 0,
              "ticks": ""
             }
            },
            "type": "scatterpolar"
           }
          ],
          "scatterpolargl": [
           {
            "marker": {
             "colorbar": {
              "outlinewidth": 0,
              "ticks": ""
             }
            },
            "type": "scatterpolargl"
           }
          ],
          "scatterternary": [
           {
            "marker": {
             "colorbar": {
              "outlinewidth": 0,
              "ticks": ""
             }
            },
            "type": "scatterternary"
           }
          ],
          "surface": [
           {
            "colorbar": {
             "outlinewidth": 0,
             "ticks": ""
            },
            "colorscale": [
             [
              0,
              "#0d0887"
             ],
             [
              0.1111111111111111,
              "#46039f"
             ],
             [
              0.2222222222222222,
              "#7201a8"
             ],
             [
              0.3333333333333333,
              "#9c179e"
             ],
             [
              0.4444444444444444,
              "#bd3786"
             ],
             [
              0.5555555555555556,
              "#d8576b"
             ],
             [
              0.6666666666666666,
              "#ed7953"
             ],
             [
              0.7777777777777778,
              "#fb9f3a"
             ],
             [
              0.8888888888888888,
              "#fdca26"
             ],
             [
              1,
              "#f0f921"
             ]
            ],
            "type": "surface"
           }
          ],
          "table": [
           {
            "cells": {
             "fill": {
              "color": "#EBF0F8"
             },
             "line": {
              "color": "white"
             }
            },
            "header": {
             "fill": {
              "color": "#C8D4E3"
             },
             "line": {
              "color": "white"
             }
            },
            "type": "table"
           }
          ]
         },
         "layout": {
          "annotationdefaults": {
           "arrowcolor": "#2a3f5f",
           "arrowhead": 0,
           "arrowwidth": 1
          },
          "autotypenumbers": "strict",
          "coloraxis": {
           "colorbar": {
            "outlinewidth": 0,
            "ticks": ""
           }
          },
          "colorscale": {
           "diverging": [
            [
             0,
             "#8e0152"
            ],
            [
             0.1,
             "#c51b7d"
            ],
            [
             0.2,
             "#de77ae"
            ],
            [
             0.3,
             "#f1b6da"
            ],
            [
             0.4,
             "#fde0ef"
            ],
            [
             0.5,
             "#f7f7f7"
            ],
            [
             0.6,
             "#e6f5d0"
            ],
            [
             0.7,
             "#b8e186"
            ],
            [
             0.8,
             "#7fbc41"
            ],
            [
             0.9,
             "#4d9221"
            ],
            [
             1,
             "#276419"
            ]
           ],
           "sequential": [
            [
             0,
             "#0d0887"
            ],
            [
             0.1111111111111111,
             "#46039f"
            ],
            [
             0.2222222222222222,
             "#7201a8"
            ],
            [
             0.3333333333333333,
             "#9c179e"
            ],
            [
             0.4444444444444444,
             "#bd3786"
            ],
            [
             0.5555555555555556,
             "#d8576b"
            ],
            [
             0.6666666666666666,
             "#ed7953"
            ],
            [
             0.7777777777777778,
             "#fb9f3a"
            ],
            [
             0.8888888888888888,
             "#fdca26"
            ],
            [
             1,
             "#f0f921"
            ]
           ],
           "sequentialminus": [
            [
             0,
             "#0d0887"
            ],
            [
             0.1111111111111111,
             "#46039f"
            ],
            [
             0.2222222222222222,
             "#7201a8"
            ],
            [
             0.3333333333333333,
             "#9c179e"
            ],
            [
             0.4444444444444444,
             "#bd3786"
            ],
            [
             0.5555555555555556,
             "#d8576b"
            ],
            [
             0.6666666666666666,
             "#ed7953"
            ],
            [
             0.7777777777777778,
             "#fb9f3a"
            ],
            [
             0.8888888888888888,
             "#fdca26"
            ],
            [
             1,
             "#f0f921"
            ]
           ]
          },
          "colorway": [
           "#636efa",
           "#EF553B",
           "#00cc96",
           "#ab63fa",
           "#FFA15A",
           "#19d3f3",
           "#FF6692",
           "#B6E880",
           "#FF97FF",
           "#FECB52"
          ],
          "font": {
           "color": "#2a3f5f"
          },
          "geo": {
           "bgcolor": "white",
           "lakecolor": "white",
           "landcolor": "#E5ECF6",
           "showlakes": true,
           "showland": true,
           "subunitcolor": "white"
          },
          "hoverlabel": {
           "align": "left"
          },
          "hovermode": "closest",
          "mapbox": {
           "style": "light"
          },
          "paper_bgcolor": "white",
          "plot_bgcolor": "#E5ECF6",
          "polar": {
           "angularaxis": {
            "gridcolor": "white",
            "linecolor": "white",
            "ticks": ""
           },
           "bgcolor": "#E5ECF6",
           "radialaxis": {
            "gridcolor": "white",
            "linecolor": "white",
            "ticks": ""
           }
          },
          "scene": {
           "xaxis": {
            "backgroundcolor": "#E5ECF6",
            "gridcolor": "white",
            "gridwidth": 2,
            "linecolor": "white",
            "showbackground": true,
            "ticks": "",
            "zerolinecolor": "white"
           },
           "yaxis": {
            "backgroundcolor": "#E5ECF6",
            "gridcolor": "white",
            "gridwidth": 2,
            "linecolor": "white",
            "showbackground": true,
            "ticks": "",
            "zerolinecolor": "white"
           },
           "zaxis": {
            "backgroundcolor": "#E5ECF6",
            "gridcolor": "white",
            "gridwidth": 2,
            "linecolor": "white",
            "showbackground": true,
            "ticks": "",
            "zerolinecolor": "white"
           }
          },
          "shapedefaults": {
           "line": {
            "color": "#2a3f5f"
           }
          },
          "ternary": {
           "aaxis": {
            "gridcolor": "white",
            "linecolor": "white",
            "ticks": ""
           },
           "baxis": {
            "gridcolor": "white",
            "linecolor": "white",
            "ticks": ""
           },
           "bgcolor": "#E5ECF6",
           "caxis": {
            "gridcolor": "white",
            "linecolor": "white",
            "ticks": ""
           }
          },
          "title": {
           "x": 0.05
          },
          "xaxis": {
           "automargin": true,
           "gridcolor": "white",
           "linecolor": "white",
           "ticks": "",
           "title": {
            "standoff": 15
           },
           "zerolinecolor": "white",
           "zerolinewidth": 2
          },
          "yaxis": {
           "automargin": true,
           "gridcolor": "white",
           "linecolor": "white",
           "ticks": "",
           "title": {
            "standoff": 15
           },
           "zerolinecolor": "white",
           "zerolinewidth": 2
          }
         }
        }
       }
      }
     },
     "metadata": {},
     "output_type": "display_data"
    }
   ],
   "source": [
    "fig = px.sunburst(counts, path=[\"cat1\", \"cat2\", \"cat3\"], values=\"count\", height=1300)\n",
    "fig.show()"
   ]
  },
  {
   "cell_type": "markdown",
   "metadata": {},
   "source": [
    "Notamos que algunas productos de ciertas categorías primarias y secundarias admiten no tener categoría terciaria, como es el caso de **Vitaminas y minerales**, o **Descanso y relajación** en **Salud**. También hay una categoría primaria (**Veterinaria**) que a parte de no tener apenas productos, tampoco tiene categorías secundarias asociadas.\n",
    "\n",
    "Por otro lado, se ve como algunas de las categorías principales están más *\"seccionadas\"* que otras y lo mismo ocurre con las categorías secundarias. Seccionar más una categoría puede implicar una mejor clasificación, pero puede suponer que haya menos productos que cumplan toda una taxonomía tan estricta y deban ser dejados de lado o crear otra categoría específica para ellos. Esto puede suponer crear categorías *\"vacías\"*"
   ]
  },
  {
   "cell_type": "markdown",
   "metadata": {},
   "source": [
    "Observemos ahora las categorías individualmente:"
   ]
  },
  {
   "cell_type": "code",
   "execution_count": 13,
   "metadata": {},
   "outputs": [
    {
     "data": {
      "application/vnd.plotly.v1+json": {
       "config": {
        "plotlyServerURL": "https://plot.ly"
       },
       "data": [
        {
         "domain": {
          "x": [
           0,
           1
          ],
          "y": [
           0,
           1
          ]
         },
         "hovertemplate": "cat1=%{label}<br>count=%{value}<extra></extra>",
         "labels": [
          "Cosmética y belleza",
          "Higiene y cuidado personal",
          "Infantil",
          "Nutrición",
          "Salud",
          "Veterinaria"
         ],
         "legendgroup": "",
         "name": "",
         "showlegend": true,
         "type": "pie",
         "values": [
          3367,
          2994,
          1304,
          619,
          2855,
          20
         ]
        }
       ],
       "layout": {
        "legend": {
         "tracegroupgap": 0
        },
        "margin": {
         "t": 60
        },
        "template": {
         "data": {
          "bar": [
           {
            "error_x": {
             "color": "#2a3f5f"
            },
            "error_y": {
             "color": "#2a3f5f"
            },
            "marker": {
             "line": {
              "color": "#E5ECF6",
              "width": 0.5
             },
             "pattern": {
              "fillmode": "overlay",
              "size": 10,
              "solidity": 0.2
             }
            },
            "type": "bar"
           }
          ],
          "barpolar": [
           {
            "marker": {
             "line": {
              "color": "#E5ECF6",
              "width": 0.5
             },
             "pattern": {
              "fillmode": "overlay",
              "size": 10,
              "solidity": 0.2
             }
            },
            "type": "barpolar"
           }
          ],
          "carpet": [
           {
            "aaxis": {
             "endlinecolor": "#2a3f5f",
             "gridcolor": "white",
             "linecolor": "white",
             "minorgridcolor": "white",
             "startlinecolor": "#2a3f5f"
            },
            "baxis": {
             "endlinecolor": "#2a3f5f",
             "gridcolor": "white",
             "linecolor": "white",
             "minorgridcolor": "white",
             "startlinecolor": "#2a3f5f"
            },
            "type": "carpet"
           }
          ],
          "choropleth": [
           {
            "colorbar": {
             "outlinewidth": 0,
             "ticks": ""
            },
            "type": "choropleth"
           }
          ],
          "contour": [
           {
            "colorbar": {
             "outlinewidth": 0,
             "ticks": ""
            },
            "colorscale": [
             [
              0,
              "#0d0887"
             ],
             [
              0.1111111111111111,
              "#46039f"
             ],
             [
              0.2222222222222222,
              "#7201a8"
             ],
             [
              0.3333333333333333,
              "#9c179e"
             ],
             [
              0.4444444444444444,
              "#bd3786"
             ],
             [
              0.5555555555555556,
              "#d8576b"
             ],
             [
              0.6666666666666666,
              "#ed7953"
             ],
             [
              0.7777777777777778,
              "#fb9f3a"
             ],
             [
              0.8888888888888888,
              "#fdca26"
             ],
             [
              1,
              "#f0f921"
             ]
            ],
            "type": "contour"
           }
          ],
          "contourcarpet": [
           {
            "colorbar": {
             "outlinewidth": 0,
             "ticks": ""
            },
            "type": "contourcarpet"
           }
          ],
          "heatmap": [
           {
            "colorbar": {
             "outlinewidth": 0,
             "ticks": ""
            },
            "colorscale": [
             [
              0,
              "#0d0887"
             ],
             [
              0.1111111111111111,
              "#46039f"
             ],
             [
              0.2222222222222222,
              "#7201a8"
             ],
             [
              0.3333333333333333,
              "#9c179e"
             ],
             [
              0.4444444444444444,
              "#bd3786"
             ],
             [
              0.5555555555555556,
              "#d8576b"
             ],
             [
              0.6666666666666666,
              "#ed7953"
             ],
             [
              0.7777777777777778,
              "#fb9f3a"
             ],
             [
              0.8888888888888888,
              "#fdca26"
             ],
             [
              1,
              "#f0f921"
             ]
            ],
            "type": "heatmap"
           }
          ],
          "heatmapgl": [
           {
            "colorbar": {
             "outlinewidth": 0,
             "ticks": ""
            },
            "colorscale": [
             [
              0,
              "#0d0887"
             ],
             [
              0.1111111111111111,
              "#46039f"
             ],
             [
              0.2222222222222222,
              "#7201a8"
             ],
             [
              0.3333333333333333,
              "#9c179e"
             ],
             [
              0.4444444444444444,
              "#bd3786"
             ],
             [
              0.5555555555555556,
              "#d8576b"
             ],
             [
              0.6666666666666666,
              "#ed7953"
             ],
             [
              0.7777777777777778,
              "#fb9f3a"
             ],
             [
              0.8888888888888888,
              "#fdca26"
             ],
             [
              1,
              "#f0f921"
             ]
            ],
            "type": "heatmapgl"
           }
          ],
          "histogram": [
           {
            "marker": {
             "pattern": {
              "fillmode": "overlay",
              "size": 10,
              "solidity": 0.2
             }
            },
            "type": "histogram"
           }
          ],
          "histogram2d": [
           {
            "colorbar": {
             "outlinewidth": 0,
             "ticks": ""
            },
            "colorscale": [
             [
              0,
              "#0d0887"
             ],
             [
              0.1111111111111111,
              "#46039f"
             ],
             [
              0.2222222222222222,
              "#7201a8"
             ],
             [
              0.3333333333333333,
              "#9c179e"
             ],
             [
              0.4444444444444444,
              "#bd3786"
             ],
             [
              0.5555555555555556,
              "#d8576b"
             ],
             [
              0.6666666666666666,
              "#ed7953"
             ],
             [
              0.7777777777777778,
              "#fb9f3a"
             ],
             [
              0.8888888888888888,
              "#fdca26"
             ],
             [
              1,
              "#f0f921"
             ]
            ],
            "type": "histogram2d"
           }
          ],
          "histogram2dcontour": [
           {
            "colorbar": {
             "outlinewidth": 0,
             "ticks": ""
            },
            "colorscale": [
             [
              0,
              "#0d0887"
             ],
             [
              0.1111111111111111,
              "#46039f"
             ],
             [
              0.2222222222222222,
              "#7201a8"
             ],
             [
              0.3333333333333333,
              "#9c179e"
             ],
             [
              0.4444444444444444,
              "#bd3786"
             ],
             [
              0.5555555555555556,
              "#d8576b"
             ],
             [
              0.6666666666666666,
              "#ed7953"
             ],
             [
              0.7777777777777778,
              "#fb9f3a"
             ],
             [
              0.8888888888888888,
              "#fdca26"
             ],
             [
              1,
              "#f0f921"
             ]
            ],
            "type": "histogram2dcontour"
           }
          ],
          "mesh3d": [
           {
            "colorbar": {
             "outlinewidth": 0,
             "ticks": ""
            },
            "type": "mesh3d"
           }
          ],
          "parcoords": [
           {
            "line": {
             "colorbar": {
              "outlinewidth": 0,
              "ticks": ""
             }
            },
            "type": "parcoords"
           }
          ],
          "pie": [
           {
            "automargin": true,
            "type": "pie"
           }
          ],
          "scatter": [
           {
            "marker": {
             "colorbar": {
              "outlinewidth": 0,
              "ticks": ""
             }
            },
            "type": "scatter"
           }
          ],
          "scatter3d": [
           {
            "line": {
             "colorbar": {
              "outlinewidth": 0,
              "ticks": ""
             }
            },
            "marker": {
             "colorbar": {
              "outlinewidth": 0,
              "ticks": ""
             }
            },
            "type": "scatter3d"
           }
          ],
          "scattercarpet": [
           {
            "marker": {
             "colorbar": {
              "outlinewidth": 0,
              "ticks": ""
             }
            },
            "type": "scattercarpet"
           }
          ],
          "scattergeo": [
           {
            "marker": {
             "colorbar": {
              "outlinewidth": 0,
              "ticks": ""
             }
            },
            "type": "scattergeo"
           }
          ],
          "scattergl": [
           {
            "marker": {
             "colorbar": {
              "outlinewidth": 0,
              "ticks": ""
             }
            },
            "type": "scattergl"
           }
          ],
          "scattermapbox": [
           {
            "marker": {
             "colorbar": {
              "outlinewidth": 0,
              "ticks": ""
             }
            },
            "type": "scattermapbox"
           }
          ],
          "scatterpolar": [
           {
            "marker": {
             "colorbar": {
              "outlinewidth": 0,
              "ticks": ""
             }
            },
            "type": "scatterpolar"
           }
          ],
          "scatterpolargl": [
           {
            "marker": {
             "colorbar": {
              "outlinewidth": 0,
              "ticks": ""
             }
            },
            "type": "scatterpolargl"
           }
          ],
          "scatterternary": [
           {
            "marker": {
             "colorbar": {
              "outlinewidth": 0,
              "ticks": ""
             }
            },
            "type": "scatterternary"
           }
          ],
          "surface": [
           {
            "colorbar": {
             "outlinewidth": 0,
             "ticks": ""
            },
            "colorscale": [
             [
              0,
              "#0d0887"
             ],
             [
              0.1111111111111111,
              "#46039f"
             ],
             [
              0.2222222222222222,
              "#7201a8"
             ],
             [
              0.3333333333333333,
              "#9c179e"
             ],
             [
              0.4444444444444444,
              "#bd3786"
             ],
             [
              0.5555555555555556,
              "#d8576b"
             ],
             [
              0.6666666666666666,
              "#ed7953"
             ],
             [
              0.7777777777777778,
              "#fb9f3a"
             ],
             [
              0.8888888888888888,
              "#fdca26"
             ],
             [
              1,
              "#f0f921"
             ]
            ],
            "type": "surface"
           }
          ],
          "table": [
           {
            "cells": {
             "fill": {
              "color": "#EBF0F8"
             },
             "line": {
              "color": "white"
             }
            },
            "header": {
             "fill": {
              "color": "#C8D4E3"
             },
             "line": {
              "color": "white"
             }
            },
            "type": "table"
           }
          ]
         },
         "layout": {
          "annotationdefaults": {
           "arrowcolor": "#2a3f5f",
           "arrowhead": 0,
           "arrowwidth": 1
          },
          "autotypenumbers": "strict",
          "coloraxis": {
           "colorbar": {
            "outlinewidth": 0,
            "ticks": ""
           }
          },
          "colorscale": {
           "diverging": [
            [
             0,
             "#8e0152"
            ],
            [
             0.1,
             "#c51b7d"
            ],
            [
             0.2,
             "#de77ae"
            ],
            [
             0.3,
             "#f1b6da"
            ],
            [
             0.4,
             "#fde0ef"
            ],
            [
             0.5,
             "#f7f7f7"
            ],
            [
             0.6,
             "#e6f5d0"
            ],
            [
             0.7,
             "#b8e186"
            ],
            [
             0.8,
             "#7fbc41"
            ],
            [
             0.9,
             "#4d9221"
            ],
            [
             1,
             "#276419"
            ]
           ],
           "sequential": [
            [
             0,
             "#0d0887"
            ],
            [
             0.1111111111111111,
             "#46039f"
            ],
            [
             0.2222222222222222,
             "#7201a8"
            ],
            [
             0.3333333333333333,
             "#9c179e"
            ],
            [
             0.4444444444444444,
             "#bd3786"
            ],
            [
             0.5555555555555556,
             "#d8576b"
            ],
            [
             0.6666666666666666,
             "#ed7953"
            ],
            [
             0.7777777777777778,
             "#fb9f3a"
            ],
            [
             0.8888888888888888,
             "#fdca26"
            ],
            [
             1,
             "#f0f921"
            ]
           ],
           "sequentialminus": [
            [
             0,
             "#0d0887"
            ],
            [
             0.1111111111111111,
             "#46039f"
            ],
            [
             0.2222222222222222,
             "#7201a8"
            ],
            [
             0.3333333333333333,
             "#9c179e"
            ],
            [
             0.4444444444444444,
             "#bd3786"
            ],
            [
             0.5555555555555556,
             "#d8576b"
            ],
            [
             0.6666666666666666,
             "#ed7953"
            ],
            [
             0.7777777777777778,
             "#fb9f3a"
            ],
            [
             0.8888888888888888,
             "#fdca26"
            ],
            [
             1,
             "#f0f921"
            ]
           ]
          },
          "colorway": [
           "#636efa",
           "#EF553B",
           "#00cc96",
           "#ab63fa",
           "#FFA15A",
           "#19d3f3",
           "#FF6692",
           "#B6E880",
           "#FF97FF",
           "#FECB52"
          ],
          "font": {
           "color": "#2a3f5f"
          },
          "geo": {
           "bgcolor": "white",
           "lakecolor": "white",
           "landcolor": "#E5ECF6",
           "showlakes": true,
           "showland": true,
           "subunitcolor": "white"
          },
          "hoverlabel": {
           "align": "left"
          },
          "hovermode": "closest",
          "mapbox": {
           "style": "light"
          },
          "paper_bgcolor": "white",
          "plot_bgcolor": "#E5ECF6",
          "polar": {
           "angularaxis": {
            "gridcolor": "white",
            "linecolor": "white",
            "ticks": ""
           },
           "bgcolor": "#E5ECF6",
           "radialaxis": {
            "gridcolor": "white",
            "linecolor": "white",
            "ticks": ""
           }
          },
          "scene": {
           "xaxis": {
            "backgroundcolor": "#E5ECF6",
            "gridcolor": "white",
            "gridwidth": 2,
            "linecolor": "white",
            "showbackground": true,
            "ticks": "",
            "zerolinecolor": "white"
           },
           "yaxis": {
            "backgroundcolor": "#E5ECF6",
            "gridcolor": "white",
            "gridwidth": 2,
            "linecolor": "white",
            "showbackground": true,
            "ticks": "",
            "zerolinecolor": "white"
           },
           "zaxis": {
            "backgroundcolor": "#E5ECF6",
            "gridcolor": "white",
            "gridwidth": 2,
            "linecolor": "white",
            "showbackground": true,
            "ticks": "",
            "zerolinecolor": "white"
           }
          },
          "shapedefaults": {
           "line": {
            "color": "#2a3f5f"
           }
          },
          "ternary": {
           "aaxis": {
            "gridcolor": "white",
            "linecolor": "white",
            "ticks": ""
           },
           "baxis": {
            "gridcolor": "white",
            "linecolor": "white",
            "ticks": ""
           },
           "bgcolor": "#E5ECF6",
           "caxis": {
            "gridcolor": "white",
            "linecolor": "white",
            "ticks": ""
           }
          },
          "title": {
           "x": 0.05
          },
          "xaxis": {
           "automargin": true,
           "gridcolor": "white",
           "linecolor": "white",
           "ticks": "",
           "title": {
            "standoff": 15
           },
           "zerolinecolor": "white",
           "zerolinewidth": 2
          },
          "yaxis": {
           "automargin": true,
           "gridcolor": "white",
           "linecolor": "white",
           "ticks": "",
           "title": {
            "standoff": 15
           },
           "zerolinecolor": "white",
           "zerolinewidth": 2
          }
         }
        }
       }
      }
     },
     "metadata": {},
     "output_type": "display_data"
    }
   ],
   "source": [
    "counts_1 = counts.groupby(\"cat1\", as_index=False).agg({\"count\":\"sum\"})\n",
    "fig = px.pie(counts_1, values=\"count\", names=\"cat1\")\n",
    "fig.show()"
   ]
  },
  {
   "cell_type": "markdown",
   "metadata": {},
   "source": [
    "Vemos que el *\"pastel\"* se lo reparten tres categorías principales, tal y como veníamos viendo de antes."
   ]
  },
  {
   "cell_type": "code",
   "execution_count": 14,
   "metadata": {},
   "outputs": [
    {
     "data": {
      "application/vnd.plotly.v1+json": {
       "config": {
        "plotlyServerURL": "https://plot.ly"
       },
       "data": [
        {
         "alignmentgroup": "True",
         "hovertemplate": "variable=cat2<br>index=%{x}<br>value=%{y}<extra></extra>",
         "legendgroup": "cat2",
         "marker": {
          "color": "#636efa",
          "pattern": {
           "shape": ""
          }
         },
         "name": "cat2",
         "offsetgroup": "cat2",
         "orientation": "v",
         "showlegend": true,
         "textposition": "auto",
         "type": "bar",
         "x": [
          "Facial",
          "Corporal",
          "Cabello",
          "Dental",
          "Vitaminas y minerales",
          "Botiquín",
          "Sol",
          "Íntima",
          "Higiene infantil",
          "Ojos",
          "Pérdida de peso",
          "Huesos, articulaciones y músculos",
          "Labial",
          "Biberones",
          "Trastornos digestivos",
          "Uñas",
          "Accesorios de alimentación",
          "Alimentos",
          "Aromaterapia",
          "Perfumería",
          "Problemas cardiovasculares y circulación",
          "Chupetes",
          "Aparato respiratorio",
          "Alimentación infantil",
          "Ortopedia",
          "Nariz y oído",
          "Óptica",
          "Salud sexual",
          "Descanso y relajación",
          "Belleza",
          "Accesorios de belleza",
          "Manos",
          "Nutrición deportiva",
          "Mujer",
          "Juguetes",
          "Pies",
          "Lactancia",
          "Aparato urinario",
          "Nutrición específica",
          "Hombres",
          "Mobiliario y descanso del bebé",
          "Cambio de pañal",
          "Seguridad infantil",
          "Nan",
          "Preparación al parto y maternidad",
          "Fertilidad",
          "Limpieza hogar",
          "Guardería",
          "Paseo y primeros pasos",
          "Mascarillas"
         ],
         "xaxis": "x",
         "y": [
          1789,
          905,
          855,
          738,
          644,
          474,
          422,
          298,
          286,
          274,
          266,
          246,
          223,
          206,
          196,
          194,
          187,
          185,
          181,
          166,
          166,
          161,
          155,
          140,
          133,
          132,
          132,
          125,
          112,
          109,
          106,
          105,
          103,
          97,
          96,
          83,
          81,
          68,
          65,
          58,
          51,
          45,
          23,
          20,
          19,
          17,
          12,
          6,
          3,
          1
         ],
         "yaxis": "y"
        }
       ],
       "layout": {
        "barmode": "relative",
        "legend": {
         "title": {
          "text": "variable"
         },
         "tracegroupgap": 0
        },
        "margin": {
         "t": 60
        },
        "template": {
         "data": {
          "bar": [
           {
            "error_x": {
             "color": "#2a3f5f"
            },
            "error_y": {
             "color": "#2a3f5f"
            },
            "marker": {
             "line": {
              "color": "#E5ECF6",
              "width": 0.5
             },
             "pattern": {
              "fillmode": "overlay",
              "size": 10,
              "solidity": 0.2
             }
            },
            "type": "bar"
           }
          ],
          "barpolar": [
           {
            "marker": {
             "line": {
              "color": "#E5ECF6",
              "width": 0.5
             },
             "pattern": {
              "fillmode": "overlay",
              "size": 10,
              "solidity": 0.2
             }
            },
            "type": "barpolar"
           }
          ],
          "carpet": [
           {
            "aaxis": {
             "endlinecolor": "#2a3f5f",
             "gridcolor": "white",
             "linecolor": "white",
             "minorgridcolor": "white",
             "startlinecolor": "#2a3f5f"
            },
            "baxis": {
             "endlinecolor": "#2a3f5f",
             "gridcolor": "white",
             "linecolor": "white",
             "minorgridcolor": "white",
             "startlinecolor": "#2a3f5f"
            },
            "type": "carpet"
           }
          ],
          "choropleth": [
           {
            "colorbar": {
             "outlinewidth": 0,
             "ticks": ""
            },
            "type": "choropleth"
           }
          ],
          "contour": [
           {
            "colorbar": {
             "outlinewidth": 0,
             "ticks": ""
            },
            "colorscale": [
             [
              0,
              "#0d0887"
             ],
             [
              0.1111111111111111,
              "#46039f"
             ],
             [
              0.2222222222222222,
              "#7201a8"
             ],
             [
              0.3333333333333333,
              "#9c179e"
             ],
             [
              0.4444444444444444,
              "#bd3786"
             ],
             [
              0.5555555555555556,
              "#d8576b"
             ],
             [
              0.6666666666666666,
              "#ed7953"
             ],
             [
              0.7777777777777778,
              "#fb9f3a"
             ],
             [
              0.8888888888888888,
              "#fdca26"
             ],
             [
              1,
              "#f0f921"
             ]
            ],
            "type": "contour"
           }
          ],
          "contourcarpet": [
           {
            "colorbar": {
             "outlinewidth": 0,
             "ticks": ""
            },
            "type": "contourcarpet"
           }
          ],
          "heatmap": [
           {
            "colorbar": {
             "outlinewidth": 0,
             "ticks": ""
            },
            "colorscale": [
             [
              0,
              "#0d0887"
             ],
             [
              0.1111111111111111,
              "#46039f"
             ],
             [
              0.2222222222222222,
              "#7201a8"
             ],
             [
              0.3333333333333333,
              "#9c179e"
             ],
             [
              0.4444444444444444,
              "#bd3786"
             ],
             [
              0.5555555555555556,
              "#d8576b"
             ],
             [
              0.6666666666666666,
              "#ed7953"
             ],
             [
              0.7777777777777778,
              "#fb9f3a"
             ],
             [
              0.8888888888888888,
              "#fdca26"
             ],
             [
              1,
              "#f0f921"
             ]
            ],
            "type": "heatmap"
           }
          ],
          "heatmapgl": [
           {
            "colorbar": {
             "outlinewidth": 0,
             "ticks": ""
            },
            "colorscale": [
             [
              0,
              "#0d0887"
             ],
             [
              0.1111111111111111,
              "#46039f"
             ],
             [
              0.2222222222222222,
              "#7201a8"
             ],
             [
              0.3333333333333333,
              "#9c179e"
             ],
             [
              0.4444444444444444,
              "#bd3786"
             ],
             [
              0.5555555555555556,
              "#d8576b"
             ],
             [
              0.6666666666666666,
              "#ed7953"
             ],
             [
              0.7777777777777778,
              "#fb9f3a"
             ],
             [
              0.8888888888888888,
              "#fdca26"
             ],
             [
              1,
              "#f0f921"
             ]
            ],
            "type": "heatmapgl"
           }
          ],
          "histogram": [
           {
            "marker": {
             "pattern": {
              "fillmode": "overlay",
              "size": 10,
              "solidity": 0.2
             }
            },
            "type": "histogram"
           }
          ],
          "histogram2d": [
           {
            "colorbar": {
             "outlinewidth": 0,
             "ticks": ""
            },
            "colorscale": [
             [
              0,
              "#0d0887"
             ],
             [
              0.1111111111111111,
              "#46039f"
             ],
             [
              0.2222222222222222,
              "#7201a8"
             ],
             [
              0.3333333333333333,
              "#9c179e"
             ],
             [
              0.4444444444444444,
              "#bd3786"
             ],
             [
              0.5555555555555556,
              "#d8576b"
             ],
             [
              0.6666666666666666,
              "#ed7953"
             ],
             [
              0.7777777777777778,
              "#fb9f3a"
             ],
             [
              0.8888888888888888,
              "#fdca26"
             ],
             [
              1,
              "#f0f921"
             ]
            ],
            "type": "histogram2d"
           }
          ],
          "histogram2dcontour": [
           {
            "colorbar": {
             "outlinewidth": 0,
             "ticks": ""
            },
            "colorscale": [
             [
              0,
              "#0d0887"
             ],
             [
              0.1111111111111111,
              "#46039f"
             ],
             [
              0.2222222222222222,
              "#7201a8"
             ],
             [
              0.3333333333333333,
              "#9c179e"
             ],
             [
              0.4444444444444444,
              "#bd3786"
             ],
             [
              0.5555555555555556,
              "#d8576b"
             ],
             [
              0.6666666666666666,
              "#ed7953"
             ],
             [
              0.7777777777777778,
              "#fb9f3a"
             ],
             [
              0.8888888888888888,
              "#fdca26"
             ],
             [
              1,
              "#f0f921"
             ]
            ],
            "type": "histogram2dcontour"
           }
          ],
          "mesh3d": [
           {
            "colorbar": {
             "outlinewidth": 0,
             "ticks": ""
            },
            "type": "mesh3d"
           }
          ],
          "parcoords": [
           {
            "line": {
             "colorbar": {
              "outlinewidth": 0,
              "ticks": ""
             }
            },
            "type": "parcoords"
           }
          ],
          "pie": [
           {
            "automargin": true,
            "type": "pie"
           }
          ],
          "scatter": [
           {
            "marker": {
             "colorbar": {
              "outlinewidth": 0,
              "ticks": ""
             }
            },
            "type": "scatter"
           }
          ],
          "scatter3d": [
           {
            "line": {
             "colorbar": {
              "outlinewidth": 0,
              "ticks": ""
             }
            },
            "marker": {
             "colorbar": {
              "outlinewidth": 0,
              "ticks": ""
             }
            },
            "type": "scatter3d"
           }
          ],
          "scattercarpet": [
           {
            "marker": {
             "colorbar": {
              "outlinewidth": 0,
              "ticks": ""
             }
            },
            "type": "scattercarpet"
           }
          ],
          "scattergeo": [
           {
            "marker": {
             "colorbar": {
              "outlinewidth": 0,
              "ticks": ""
             }
            },
            "type": "scattergeo"
           }
          ],
          "scattergl": [
           {
            "marker": {
             "colorbar": {
              "outlinewidth": 0,
              "ticks": ""
             }
            },
            "type": "scattergl"
           }
          ],
          "scattermapbox": [
           {
            "marker": {
             "colorbar": {
              "outlinewidth": 0,
              "ticks": ""
             }
            },
            "type": "scattermapbox"
           }
          ],
          "scatterpolar": [
           {
            "marker": {
             "colorbar": {
              "outlinewidth": 0,
              "ticks": ""
             }
            },
            "type": "scatterpolar"
           }
          ],
          "scatterpolargl": [
           {
            "marker": {
             "colorbar": {
              "outlinewidth": 0,
              "ticks": ""
             }
            },
            "type": "scatterpolargl"
           }
          ],
          "scatterternary": [
           {
            "marker": {
             "colorbar": {
              "outlinewidth": 0,
              "ticks": ""
             }
            },
            "type": "scatterternary"
           }
          ],
          "surface": [
           {
            "colorbar": {
             "outlinewidth": 0,
             "ticks": ""
            },
            "colorscale": [
             [
              0,
              "#0d0887"
             ],
             [
              0.1111111111111111,
              "#46039f"
             ],
             [
              0.2222222222222222,
              "#7201a8"
             ],
             [
              0.3333333333333333,
              "#9c179e"
             ],
             [
              0.4444444444444444,
              "#bd3786"
             ],
             [
              0.5555555555555556,
              "#d8576b"
             ],
             [
              0.6666666666666666,
              "#ed7953"
             ],
             [
              0.7777777777777778,
              "#fb9f3a"
             ],
             [
              0.8888888888888888,
              "#fdca26"
             ],
             [
              1,
              "#f0f921"
             ]
            ],
            "type": "surface"
           }
          ],
          "table": [
           {
            "cells": {
             "fill": {
              "color": "#EBF0F8"
             },
             "line": {
              "color": "white"
             }
            },
            "header": {
             "fill": {
              "color": "#C8D4E3"
             },
             "line": {
              "color": "white"
             }
            },
            "type": "table"
           }
          ]
         },
         "layout": {
          "annotationdefaults": {
           "arrowcolor": "#2a3f5f",
           "arrowhead": 0,
           "arrowwidth": 1
          },
          "autotypenumbers": "strict",
          "coloraxis": {
           "colorbar": {
            "outlinewidth": 0,
            "ticks": ""
           }
          },
          "colorscale": {
           "diverging": [
            [
             0,
             "#8e0152"
            ],
            [
             0.1,
             "#c51b7d"
            ],
            [
             0.2,
             "#de77ae"
            ],
            [
             0.3,
             "#f1b6da"
            ],
            [
             0.4,
             "#fde0ef"
            ],
            [
             0.5,
             "#f7f7f7"
            ],
            [
             0.6,
             "#e6f5d0"
            ],
            [
             0.7,
             "#b8e186"
            ],
            [
             0.8,
             "#7fbc41"
            ],
            [
             0.9,
             "#4d9221"
            ],
            [
             1,
             "#276419"
            ]
           ],
           "sequential": [
            [
             0,
             "#0d0887"
            ],
            [
             0.1111111111111111,
             "#46039f"
            ],
            [
             0.2222222222222222,
             "#7201a8"
            ],
            [
             0.3333333333333333,
             "#9c179e"
            ],
            [
             0.4444444444444444,
             "#bd3786"
            ],
            [
             0.5555555555555556,
             "#d8576b"
            ],
            [
             0.6666666666666666,
             "#ed7953"
            ],
            [
             0.7777777777777778,
             "#fb9f3a"
            ],
            [
             0.8888888888888888,
             "#fdca26"
            ],
            [
             1,
             "#f0f921"
            ]
           ],
           "sequentialminus": [
            [
             0,
             "#0d0887"
            ],
            [
             0.1111111111111111,
             "#46039f"
            ],
            [
             0.2222222222222222,
             "#7201a8"
            ],
            [
             0.3333333333333333,
             "#9c179e"
            ],
            [
             0.4444444444444444,
             "#bd3786"
            ],
            [
             0.5555555555555556,
             "#d8576b"
            ],
            [
             0.6666666666666666,
             "#ed7953"
            ],
            [
             0.7777777777777778,
             "#fb9f3a"
            ],
            [
             0.8888888888888888,
             "#fdca26"
            ],
            [
             1,
             "#f0f921"
            ]
           ]
          },
          "colorway": [
           "#636efa",
           "#EF553B",
           "#00cc96",
           "#ab63fa",
           "#FFA15A",
           "#19d3f3",
           "#FF6692",
           "#B6E880",
           "#FF97FF",
           "#FECB52"
          ],
          "font": {
           "color": "#2a3f5f"
          },
          "geo": {
           "bgcolor": "white",
           "lakecolor": "white",
           "landcolor": "#E5ECF6",
           "showlakes": true,
           "showland": true,
           "subunitcolor": "white"
          },
          "hoverlabel": {
           "align": "left"
          },
          "hovermode": "closest",
          "mapbox": {
           "style": "light"
          },
          "paper_bgcolor": "white",
          "plot_bgcolor": "#E5ECF6",
          "polar": {
           "angularaxis": {
            "gridcolor": "white",
            "linecolor": "white",
            "ticks": ""
           },
           "bgcolor": "#E5ECF6",
           "radialaxis": {
            "gridcolor": "white",
            "linecolor": "white",
            "ticks": ""
           }
          },
          "scene": {
           "xaxis": {
            "backgroundcolor": "#E5ECF6",
            "gridcolor": "white",
            "gridwidth": 2,
            "linecolor": "white",
            "showbackground": true,
            "ticks": "",
            "zerolinecolor": "white"
           },
           "yaxis": {
            "backgroundcolor": "#E5ECF6",
            "gridcolor": "white",
            "gridwidth": 2,
            "linecolor": "white",
            "showbackground": true,
            "ticks": "",
            "zerolinecolor": "white"
           },
           "zaxis": {
            "backgroundcolor": "#E5ECF6",
            "gridcolor": "white",
            "gridwidth": 2,
            "linecolor": "white",
            "showbackground": true,
            "ticks": "",
            "zerolinecolor": "white"
           }
          },
          "shapedefaults": {
           "line": {
            "color": "#2a3f5f"
           }
          },
          "ternary": {
           "aaxis": {
            "gridcolor": "white",
            "linecolor": "white",
            "ticks": ""
           },
           "baxis": {
            "gridcolor": "white",
            "linecolor": "white",
            "ticks": ""
           },
           "bgcolor": "#E5ECF6",
           "caxis": {
            "gridcolor": "white",
            "linecolor": "white",
            "ticks": ""
           }
          },
          "title": {
           "x": 0.05
          },
          "xaxis": {
           "automargin": true,
           "gridcolor": "white",
           "linecolor": "white",
           "ticks": "",
           "title": {
            "standoff": 15
           },
           "zerolinecolor": "white",
           "zerolinewidth": 2
          },
          "yaxis": {
           "automargin": true,
           "gridcolor": "white",
           "linecolor": "white",
           "ticks": "",
           "title": {
            "standoff": 15
           },
           "zerolinecolor": "white",
           "zerolinewidth": 2
          }
         }
        },
        "xaxis": {
         "anchor": "y",
         "domain": [
          0,
          1
         ],
         "title": {
          "text": "index"
         }
        },
        "yaxis": {
         "anchor": "x",
         "domain": [
          0,
          1
         ],
         "title": {
          "text": "value"
         }
        }
       }
      }
     },
     "metadata": {},
     "output_type": "display_data"
    }
   ],
   "source": [
    "fig = px.bar(categories[\"cat2\"].value_counts())\n",
    "fig.show()"
   ]
  },
  {
   "cell_type": "markdown",
   "metadata": {},
   "source": [
    "En esta subcategoría observamos que *Facial* sobresale a primera vista, mientras que otras no son tan comunes. Existe una gran descompensación entre *\"clases\"*"
   ]
  },
  {
   "cell_type": "code",
   "execution_count": 15,
   "metadata": {},
   "outputs": [
    {
     "data": {
      "application/vnd.plotly.v1+json": {
       "config": {
        "plotlyServerURL": "https://plot.ly"
       },
       "data": [
        {
         "alignmentgroup": "True",
         "hovertemplate": "variable=cat3<br>value=%{x}<br>index=%{y}<extra></extra>",
         "legendgroup": "cat3",
         "marker": {
          "color": "#636efa",
          "pattern": {
           "shape": ""
          }
         },
         "name": "cat3",
         "offsetgroup": "cat3",
         "orientation": "h",
         "showlegend": true,
         "textposition": "auto",
         "type": "bar",
         "x": [
          391,
          345,
          313,
          300,
          288,
          283,
          247,
          224,
          215,
          209,
          196,
          190,
          187,
          185,
          181,
          176,
          164,
          159,
          153,
          145,
          138,
          127,
          126,
          123,
          119,
          117,
          117,
          117,
          109,
          107,
          104,
          104,
          98,
          92,
          90,
          86,
          86,
          85,
          76,
          73,
          72,
          71,
          70,
          68,
          66,
          64,
          64,
          64,
          62,
          61,
          61,
          60,
          60,
          57,
          55,
          54,
          52,
          52,
          50,
          50,
          50,
          49,
          49,
          48,
          48,
          47,
          46,
          45,
          44,
          43,
          43,
          42,
          42,
          42,
          42,
          41,
          40,
          40,
          39,
          39,
          39,
          39,
          39,
          38,
          38,
          38,
          37,
          37,
          37,
          36,
          35,
          34,
          34,
          34,
          33,
          33,
          32,
          32,
          32,
          30,
          30,
          30,
          28,
          27,
          27,
          27,
          26,
          25,
          25,
          25,
          24,
          23,
          23,
          23,
          22,
          22,
          22,
          22,
          22,
          22,
          22,
          21,
          21,
          21,
          21,
          21,
          20,
          20,
          19,
          19,
          19,
          19,
          19,
          19,
          18,
          18,
          18,
          17,
          17,
          16,
          16,
          16,
          16,
          16,
          16,
          16,
          16,
          15,
          15,
          15,
          15,
          15,
          15,
          14,
          14,
          14,
          13,
          13,
          13,
          13,
          13,
          13,
          12,
          12,
          11,
          11,
          11,
          11,
          11,
          11,
          10,
          10,
          10,
          10,
          10,
          10,
          9,
          9,
          9,
          9,
          9,
          9,
          9,
          9,
          9,
          9,
          9,
          8,
          8,
          8,
          8,
          8,
          8,
          8,
          7,
          7,
          7,
          7,
          7,
          7,
          7,
          7,
          6,
          6,
          6,
          6,
          5,
          5,
          5,
          5,
          5,
          5,
          5,
          5,
          5,
          5,
          5,
          4,
          4,
          4,
          4,
          4,
          4,
          3,
          3,
          3,
          3,
          3,
          3,
          3,
          2,
          2,
          2,
          2,
          2,
          2,
          2,
          2,
          1,
          1,
          1,
          1,
          1,
          1,
          1,
          1,
          1,
          1,
          1,
          1
         ],
         "xaxis": "x",
         "y": [
          "Antiarrugas",
          "Hidratantes",
          "Desmaquillantes y limpiadores",
          "Nan",
          "Hidratación",
          "Protectores solares",
          "Suplementos",
          "Champu",
          "Multivitamínicos",
          "Limpieza",
          "Geles",
          "Acné",
          "Mascarillas",
          "Maquillajes",
          "Colágeno",
          "Aceites esenciales",
          "Dentífricos",
          "Anticaída",
          "Cepillos",
          "Apósitos, tiritas y gasas",
          "Biberones",
          "Garganta y tos",
          "Colutorios",
          "Contorno de ojos",
          "Desodorantes",
          "Quemaduras y cicatrices",
          "Hidratantes labiales",
          "Mujer",
          "Tintes de pelo",
          "Productos sustitutivos y entrehoras",
          "Peinado y tratamiento",
          "Antimanchas",
          "Pintauñas",
          "Cuidados especiales",
          "Chupetes de silicona",
          "Antimosquitos",
          "Crema de manos",
          "Colesterol",
          "Colirios",
          "Flora intestinal y digestión",
          "Gel-champú",
          "Exfoliantes",
          "Piel seca y atópica",
          "Drenajes",
          "Pintalabios",
          "Tetinas",
          "Champús especiales",
          "Serum",
          "Compresas",
          "Tés e infusiones",
          "Lapiz y sombra de ojos",
          "Limas y tratamiento uñas",
          "Quemagrasas",
          "Recuperación muscular",
          "Ampollas",
          "Lesiones",
          "Proteínas",
          "Jalea real",
          "Incontinencia",
          "Piel",
          "Pestañas",
          "Crema pañal",
          "Cistitis",
          "Útiles de aprendizaje",
          "Cepillos interdentales",
          "Anticaspa",
          "Leches infantiles",
          "Pastilla de jabón",
          "Peines o cepillos",
          "Pañales",
          "Hombre",
          "Afeitado masculino",
          "Mordedores",
          "Preservativos",
          "Minerales",
          "Estreñimiento",
          "Rojeces",
          "Brochas y pinceles",
          "Piernas cansadas y varices",
          "Prótesis dentales",
          "Papillas",
          "After-sun",
          "Cabello | uñas",
          "Niños",
          "Cepillos eléctricos",
          "Tapones y protección",
          "Piojos",
          "Blanqueamiento dental",
          "Hidratantes pies",
          "Menopausia",
          "Protección nieve",
          "Chupetes de latex o caucho",
          "Esterilización y limpieza",
          "Termómetros",
          "Lubricantes",
          "Potitos",
          "Vajillas infantiles",
          "Celulitis",
          "Estrias",
          "Accesorios",
          "Cubiertos",
          "Hilo dental",
          "Educativos e interactivos",
          "Edulcorantes",
          "Adultos",
          "Desinfectantes",
          "Con protección solar",
          "Embarazo y lactancia",
          "Energéticos",
          "Reductores y reafirmantes",
          "Urticaria y psoriasis",
          "Golpes y hematomas",
          "Accesorios de seguridad",
          "Cereales y harinas",
          "Nariz",
          "Cortauñas y tijeras",
          "Depilatorios",
          "Líquido lentillas",
          "Plantillas",
          "Discos de lactancia",
          "Esponjas",
          "Infecciones íntimas",
          "Piel seca",
          "Bolsas en ojos",
          "Toallitas bebé",
          "Piel atópica",
          "Saciantes",
          "Falta de deseo",
          "Tampones",
          "Cadenitas chupetes",
          "Colonias",
          "Salud ocular",
          "Cejas",
          "Canastillas y kits bebé",
          "Jabón de manos",
          "Colchones",
          "Aceite solar",
          "Fertilidad y concepción",
          "Limas y durezas",
          "Recipientes de conservación",
          "Desodorante de pies",
          "Antienvejecimiento",
          "Gases",
          "Baberos y otros",
          "Complementos",
          "Copas menstruales",
          "Accesorios de extracción",
          "Función hepática",
          "Semillas y superalimentos",
          "Sacaleches",
          "Antigrasa",
          "Toallitas oculares",
          "Auto bronceadores",
          "Cuello, escote y pecho",
          "Chupetes personalizados",
          "Sonajeros",
          "Protegeslip",
          "Snacks",
          "Pinzas de depilar",
          "Pezoneras",
          "Sal y especias",
          "Callos",
          "Ambientadores y velas",
          "Bolsas de frío y calor",
          "Termo",
          "Pieles atópicas",
          "Esponjas y toallitas corporales",
          "Quitaesmalte",
          "Próstata",
          "Dermatitis y eczemas",
          "Otros descanso del bebé",
          "Isotónicos y recuperadores",
          "Bragas y compresas postparto",
          "Suero fisiológico",
          "Bienestar de la mujer",
          "Movilidad y descanso",
          "Antiarrugas hombre",
          "Luminosidad",
          "Aceite y vinagre",
          "Pañuelos",
          "Humidificadores",
          "Bañeras de bebé",
          "Guantes",
          "Leche y bebidas vegetales",
          "Ardor y reflujo",
          "Para el baño",
          "Cuidado del pezón",
          "Dolores articulares",
          "Fajas postparto",
          "Colon irritable",
          "Espejos",
          "Zapatos y zuecos",
          "Bebidas y zumos",
          "Solar pelo",
          "Activadores",
          "Insomnio",
          "Cremas, salsas y siropes",
          "Primeros dientes",
          "Verrugas",
          "Costra láctea",
          "Vitaminas",
          "Nebulizador",
          "Pecho",
          "Postres y dulces",
          "Infantil",
          "Legumbres, pastas y arroces",
          "Irrigadores bucales",
          "Nerviosismo y estrés",
          "Control de glucosa",
          "Difusores",
          "Cojin de lactancia",
          "Tensiómetros",
          "Cunas portatiles",
          "Ortodoncia",
          "Galletitas",
          "Dolor menstrual",
          "Orinales",
          "Accesorios de limpieza",
          "Infusiones",
          "Bloqueadores de hidratos",
          "Calienta biberones",
          "Portachupetes",
          "Hamacas bebe",
          "Etiquetas infantiles",
          "Heridas",
          "Hongos",
          "Básculas",
          "Dolor de cabeza",
          "Decolorante del vello",
          "Mochilas infantiles",
          "Herpes labial",
          "Antimareo",
          "Pulsioximetro",
          "Reductores - abdominales",
          "Peluches",
          "Hemorroides",
          "Contenedor y recambios pañal",
          "Accesorios de paseo",
          "Pan y tortitas",
          "Neceseres y otros",
          "Portabebés",
          "Para la cuna",
          "Kit dental",
          "Tensión",
          "Cuidado perineal",
          "Camaras de inhalación",
          "Sujetadores lactancia",
          "Botiquines y kits",
          "Higiénicas - quirúrgicas",
          "Gel desinfectante"
         ],
         "yaxis": "y"
        }
       ],
       "layout": {
        "barmode": "relative",
        "legend": {
         "title": {
          "text": "variable"
         },
         "tracegroupgap": 0
        },
        "margin": {
         "t": 60
        },
        "template": {
         "data": {
          "bar": [
           {
            "error_x": {
             "color": "#2a3f5f"
            },
            "error_y": {
             "color": "#2a3f5f"
            },
            "marker": {
             "line": {
              "color": "#E5ECF6",
              "width": 0.5
             },
             "pattern": {
              "fillmode": "overlay",
              "size": 10,
              "solidity": 0.2
             }
            },
            "type": "bar"
           }
          ],
          "barpolar": [
           {
            "marker": {
             "line": {
              "color": "#E5ECF6",
              "width": 0.5
             },
             "pattern": {
              "fillmode": "overlay",
              "size": 10,
              "solidity": 0.2
             }
            },
            "type": "barpolar"
           }
          ],
          "carpet": [
           {
            "aaxis": {
             "endlinecolor": "#2a3f5f",
             "gridcolor": "white",
             "linecolor": "white",
             "minorgridcolor": "white",
             "startlinecolor": "#2a3f5f"
            },
            "baxis": {
             "endlinecolor": "#2a3f5f",
             "gridcolor": "white",
             "linecolor": "white",
             "minorgridcolor": "white",
             "startlinecolor": "#2a3f5f"
            },
            "type": "carpet"
           }
          ],
          "choropleth": [
           {
            "colorbar": {
             "outlinewidth": 0,
             "ticks": ""
            },
            "type": "choropleth"
           }
          ],
          "contour": [
           {
            "colorbar": {
             "outlinewidth": 0,
             "ticks": ""
            },
            "colorscale": [
             [
              0,
              "#0d0887"
             ],
             [
              0.1111111111111111,
              "#46039f"
             ],
             [
              0.2222222222222222,
              "#7201a8"
             ],
             [
              0.3333333333333333,
              "#9c179e"
             ],
             [
              0.4444444444444444,
              "#bd3786"
             ],
             [
              0.5555555555555556,
              "#d8576b"
             ],
             [
              0.6666666666666666,
              "#ed7953"
             ],
             [
              0.7777777777777778,
              "#fb9f3a"
             ],
             [
              0.8888888888888888,
              "#fdca26"
             ],
             [
              1,
              "#f0f921"
             ]
            ],
            "type": "contour"
           }
          ],
          "contourcarpet": [
           {
            "colorbar": {
             "outlinewidth": 0,
             "ticks": ""
            },
            "type": "contourcarpet"
           }
          ],
          "heatmap": [
           {
            "colorbar": {
             "outlinewidth": 0,
             "ticks": ""
            },
            "colorscale": [
             [
              0,
              "#0d0887"
             ],
             [
              0.1111111111111111,
              "#46039f"
             ],
             [
              0.2222222222222222,
              "#7201a8"
             ],
             [
              0.3333333333333333,
              "#9c179e"
             ],
             [
              0.4444444444444444,
              "#bd3786"
             ],
             [
              0.5555555555555556,
              "#d8576b"
             ],
             [
              0.6666666666666666,
              "#ed7953"
             ],
             [
              0.7777777777777778,
              "#fb9f3a"
             ],
             [
              0.8888888888888888,
              "#fdca26"
             ],
             [
              1,
              "#f0f921"
             ]
            ],
            "type": "heatmap"
           }
          ],
          "heatmapgl": [
           {
            "colorbar": {
             "outlinewidth": 0,
             "ticks": ""
            },
            "colorscale": [
             [
              0,
              "#0d0887"
             ],
             [
              0.1111111111111111,
              "#46039f"
             ],
             [
              0.2222222222222222,
              "#7201a8"
             ],
             [
              0.3333333333333333,
              "#9c179e"
             ],
             [
              0.4444444444444444,
              "#bd3786"
             ],
             [
              0.5555555555555556,
              "#d8576b"
             ],
             [
              0.6666666666666666,
              "#ed7953"
             ],
             [
              0.7777777777777778,
              "#fb9f3a"
             ],
             [
              0.8888888888888888,
              "#fdca26"
             ],
             [
              1,
              "#f0f921"
             ]
            ],
            "type": "heatmapgl"
           }
          ],
          "histogram": [
           {
            "marker": {
             "pattern": {
              "fillmode": "overlay",
              "size": 10,
              "solidity": 0.2
             }
            },
            "type": "histogram"
           }
          ],
          "histogram2d": [
           {
            "colorbar": {
             "outlinewidth": 0,
             "ticks": ""
            },
            "colorscale": [
             [
              0,
              "#0d0887"
             ],
             [
              0.1111111111111111,
              "#46039f"
             ],
             [
              0.2222222222222222,
              "#7201a8"
             ],
             [
              0.3333333333333333,
              "#9c179e"
             ],
             [
              0.4444444444444444,
              "#bd3786"
             ],
             [
              0.5555555555555556,
              "#d8576b"
             ],
             [
              0.6666666666666666,
              "#ed7953"
             ],
             [
              0.7777777777777778,
              "#fb9f3a"
             ],
             [
              0.8888888888888888,
              "#fdca26"
             ],
             [
              1,
              "#f0f921"
             ]
            ],
            "type": "histogram2d"
           }
          ],
          "histogram2dcontour": [
           {
            "colorbar": {
             "outlinewidth": 0,
             "ticks": ""
            },
            "colorscale": [
             [
              0,
              "#0d0887"
             ],
             [
              0.1111111111111111,
              "#46039f"
             ],
             [
              0.2222222222222222,
              "#7201a8"
             ],
             [
              0.3333333333333333,
              "#9c179e"
             ],
             [
              0.4444444444444444,
              "#bd3786"
             ],
             [
              0.5555555555555556,
              "#d8576b"
             ],
             [
              0.6666666666666666,
              "#ed7953"
             ],
             [
              0.7777777777777778,
              "#fb9f3a"
             ],
             [
              0.8888888888888888,
              "#fdca26"
             ],
             [
              1,
              "#f0f921"
             ]
            ],
            "type": "histogram2dcontour"
           }
          ],
          "mesh3d": [
           {
            "colorbar": {
             "outlinewidth": 0,
             "ticks": ""
            },
            "type": "mesh3d"
           }
          ],
          "parcoords": [
           {
            "line": {
             "colorbar": {
              "outlinewidth": 0,
              "ticks": ""
             }
            },
            "type": "parcoords"
           }
          ],
          "pie": [
           {
            "automargin": true,
            "type": "pie"
           }
          ],
          "scatter": [
           {
            "marker": {
             "colorbar": {
              "outlinewidth": 0,
              "ticks": ""
             }
            },
            "type": "scatter"
           }
          ],
          "scatter3d": [
           {
            "line": {
             "colorbar": {
              "outlinewidth": 0,
              "ticks": ""
             }
            },
            "marker": {
             "colorbar": {
              "outlinewidth": 0,
              "ticks": ""
             }
            },
            "type": "scatter3d"
           }
          ],
          "scattercarpet": [
           {
            "marker": {
             "colorbar": {
              "outlinewidth": 0,
              "ticks": ""
             }
            },
            "type": "scattercarpet"
           }
          ],
          "scattergeo": [
           {
            "marker": {
             "colorbar": {
              "outlinewidth": 0,
              "ticks": ""
             }
            },
            "type": "scattergeo"
           }
          ],
          "scattergl": [
           {
            "marker": {
             "colorbar": {
              "outlinewidth": 0,
              "ticks": ""
             }
            },
            "type": "scattergl"
           }
          ],
          "scattermapbox": [
           {
            "marker": {
             "colorbar": {
              "outlinewidth": 0,
              "ticks": ""
             }
            },
            "type": "scattermapbox"
           }
          ],
          "scatterpolar": [
           {
            "marker": {
             "colorbar": {
              "outlinewidth": 0,
              "ticks": ""
             }
            },
            "type": "scatterpolar"
           }
          ],
          "scatterpolargl": [
           {
            "marker": {
             "colorbar": {
              "outlinewidth": 0,
              "ticks": ""
             }
            },
            "type": "scatterpolargl"
           }
          ],
          "scatterternary": [
           {
            "marker": {
             "colorbar": {
              "outlinewidth": 0,
              "ticks": ""
             }
            },
            "type": "scatterternary"
           }
          ],
          "surface": [
           {
            "colorbar": {
             "outlinewidth": 0,
             "ticks": ""
            },
            "colorscale": [
             [
              0,
              "#0d0887"
             ],
             [
              0.1111111111111111,
              "#46039f"
             ],
             [
              0.2222222222222222,
              "#7201a8"
             ],
             [
              0.3333333333333333,
              "#9c179e"
             ],
             [
              0.4444444444444444,
              "#bd3786"
             ],
             [
              0.5555555555555556,
              "#d8576b"
             ],
             [
              0.6666666666666666,
              "#ed7953"
             ],
             [
              0.7777777777777778,
              "#fb9f3a"
             ],
             [
              0.8888888888888888,
              "#fdca26"
             ],
             [
              1,
              "#f0f921"
             ]
            ],
            "type": "surface"
           }
          ],
          "table": [
           {
            "cells": {
             "fill": {
              "color": "#EBF0F8"
             },
             "line": {
              "color": "white"
             }
            },
            "header": {
             "fill": {
              "color": "#C8D4E3"
             },
             "line": {
              "color": "white"
             }
            },
            "type": "table"
           }
          ]
         },
         "layout": {
          "annotationdefaults": {
           "arrowcolor": "#2a3f5f",
           "arrowhead": 0,
           "arrowwidth": 1
          },
          "autotypenumbers": "strict",
          "coloraxis": {
           "colorbar": {
            "outlinewidth": 0,
            "ticks": ""
           }
          },
          "colorscale": {
           "diverging": [
            [
             0,
             "#8e0152"
            ],
            [
             0.1,
             "#c51b7d"
            ],
            [
             0.2,
             "#de77ae"
            ],
            [
             0.3,
             "#f1b6da"
            ],
            [
             0.4,
             "#fde0ef"
            ],
            [
             0.5,
             "#f7f7f7"
            ],
            [
             0.6,
             "#e6f5d0"
            ],
            [
             0.7,
             "#b8e186"
            ],
            [
             0.8,
             "#7fbc41"
            ],
            [
             0.9,
             "#4d9221"
            ],
            [
             1,
             "#276419"
            ]
           ],
           "sequential": [
            [
             0,
             "#0d0887"
            ],
            [
             0.1111111111111111,
             "#46039f"
            ],
            [
             0.2222222222222222,
             "#7201a8"
            ],
            [
             0.3333333333333333,
             "#9c179e"
            ],
            [
             0.4444444444444444,
             "#bd3786"
            ],
            [
             0.5555555555555556,
             "#d8576b"
            ],
            [
             0.6666666666666666,
             "#ed7953"
            ],
            [
             0.7777777777777778,
             "#fb9f3a"
            ],
            [
             0.8888888888888888,
             "#fdca26"
            ],
            [
             1,
             "#f0f921"
            ]
           ],
           "sequentialminus": [
            [
             0,
             "#0d0887"
            ],
            [
             0.1111111111111111,
             "#46039f"
            ],
            [
             0.2222222222222222,
             "#7201a8"
            ],
            [
             0.3333333333333333,
             "#9c179e"
            ],
            [
             0.4444444444444444,
             "#bd3786"
            ],
            [
             0.5555555555555556,
             "#d8576b"
            ],
            [
             0.6666666666666666,
             "#ed7953"
            ],
            [
             0.7777777777777778,
             "#fb9f3a"
            ],
            [
             0.8888888888888888,
             "#fdca26"
            ],
            [
             1,
             "#f0f921"
            ]
           ]
          },
          "colorway": [
           "#636efa",
           "#EF553B",
           "#00cc96",
           "#ab63fa",
           "#FFA15A",
           "#19d3f3",
           "#FF6692",
           "#B6E880",
           "#FF97FF",
           "#FECB52"
          ],
          "font": {
           "color": "#2a3f5f"
          },
          "geo": {
           "bgcolor": "white",
           "lakecolor": "white",
           "landcolor": "#E5ECF6",
           "showlakes": true,
           "showland": true,
           "subunitcolor": "white"
          },
          "hoverlabel": {
           "align": "left"
          },
          "hovermode": "closest",
          "mapbox": {
           "style": "light"
          },
          "paper_bgcolor": "white",
          "plot_bgcolor": "#E5ECF6",
          "polar": {
           "angularaxis": {
            "gridcolor": "white",
            "linecolor": "white",
            "ticks": ""
           },
           "bgcolor": "#E5ECF6",
           "radialaxis": {
            "gridcolor": "white",
            "linecolor": "white",
            "ticks": ""
           }
          },
          "scene": {
           "xaxis": {
            "backgroundcolor": "#E5ECF6",
            "gridcolor": "white",
            "gridwidth": 2,
            "linecolor": "white",
            "showbackground": true,
            "ticks": "",
            "zerolinecolor": "white"
           },
           "yaxis": {
            "backgroundcolor": "#E5ECF6",
            "gridcolor": "white",
            "gridwidth": 2,
            "linecolor": "white",
            "showbackground": true,
            "ticks": "",
            "zerolinecolor": "white"
           },
           "zaxis": {
            "backgroundcolor": "#E5ECF6",
            "gridcolor": "white",
            "gridwidth": 2,
            "linecolor": "white",
            "showbackground": true,
            "ticks": "",
            "zerolinecolor": "white"
           }
          },
          "shapedefaults": {
           "line": {
            "color": "#2a3f5f"
           }
          },
          "ternary": {
           "aaxis": {
            "gridcolor": "white",
            "linecolor": "white",
            "ticks": ""
           },
           "baxis": {
            "gridcolor": "white",
            "linecolor": "white",
            "ticks": ""
           },
           "bgcolor": "#E5ECF6",
           "caxis": {
            "gridcolor": "white",
            "linecolor": "white",
            "ticks": ""
           }
          },
          "title": {
           "x": 0.05
          },
          "xaxis": {
           "automargin": true,
           "gridcolor": "white",
           "linecolor": "white",
           "ticks": "",
           "title": {
            "standoff": 15
           },
           "zerolinecolor": "white",
           "zerolinewidth": 2
          },
          "yaxis": {
           "automargin": true,
           "gridcolor": "white",
           "linecolor": "white",
           "ticks": "",
           "title": {
            "standoff": 15
           },
           "zerolinecolor": "white",
           "zerolinewidth": 2
          }
         }
        },
        "xaxis": {
         "anchor": "y",
         "domain": [
          0,
          1
         ],
         "title": {
          "text": "value"
         }
        },
        "yaxis": {
         "anchor": "x",
         "domain": [
          0,
          1
         ],
         "title": {
          "text": "index"
         }
        }
       }
      }
     },
     "metadata": {},
     "output_type": "display_data"
    }
   ],
   "source": [
    "fig = px.bar(categories[\"cat3\"].value_counts(), orientation=\"h\")\n",
    "fig.show()"
   ]
  },
  {
   "cell_type": "markdown",
   "metadata": {},
   "source": [
    "El mismo efecto de descompensación se intensifica en el tercer nivel de jerarquía."
   ]
  },
  {
   "cell_type": "markdown",
   "metadata": {},
   "source": [
    "## Conclusiones \n",
    "\n",
    "De aquí sacamos varias conclusiones:\n",
    "\n",
    "- Existen valores nulos dentro de las subcategorías\n",
    "- Los nombres de las categorías no están regularizados\n",
    "- Algunas subcategorías están más *segmentadas* que otras\n",
    "- La distribución de categorías no es uniforme"
   ]
  }
 ],
 "metadata": {
  "interpreter": {
   "hash": "31f2aee4e71d21fbe5cf8b01ff0e069b9275f58929596ceb00d14d90e3e16cd6"
  },
  "kernelspec": {
   "display_name": "Python 3.8.10 64-bit",
   "language": "python",
   "name": "python3"
  },
  "language_info": {
   "codemirror_mode": {
    "name": "ipython",
    "version": 3
   },
   "file_extension": ".py",
   "mimetype": "text/x-python",
   "name": "python",
   "nbconvert_exporter": "python",
   "pygments_lexer": "ipython3",
   "version": "3.8.9"
  },
  "orig_nbformat": 4
 },
 "nbformat": 4,
 "nbformat_minor": 2
}
