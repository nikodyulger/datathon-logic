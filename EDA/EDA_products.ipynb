{
 "cells": [
  {
   "cell_type": "markdown",
   "metadata": {},
   "source": [
    "# Análisis Exploratorio\n",
    "\n",
    "En este cuaderno se analizará detalladamente la naturaleza de los datos del archivo **product.csv** proporcionado por la organización del Datathon"
   ]
  },
  {
   "cell_type": "markdown",
   "metadata": {},
   "source": [
    "# Índice de Contenidos\n",
    "1. **Importación de paquetes**\n",
    "2. **Carga de datos**\n",
    "3. **Visualización de datos**\n",
    "4. **Conclusiones**"
   ]
  },
  {
   "cell_type": "markdown",
   "metadata": {},
   "source": [
    "## Importación de paquete\n",
    "\n",
    "El primer paso es importar los módulos que nos facilitarán el trabajo."
   ]
  },
  {
   "cell_type": "code",
   "execution_count": 26,
   "metadata": {},
   "outputs": [],
   "source": [
    "from IPython.display import Image\n",
    "from urllib.error import HTTPError\n",
    "import pandas as pd\n",
    "import random\n",
    "import re\n",
    "import plotly.express as px\n",
    "\n",
    "# Semilla para realizar experimentos reproducibles\n",
    "seed = 125\n",
    "random.seed(seed)"
   ]
  },
  {
   "cell_type": "markdown",
   "metadata": {},
   "source": [
    "## Carga de datos\n",
    "\n",
    "Abrimos los ficheros y los cargamos para empezar a manejarlos y extraer información relevante."
   ]
  },
  {
   "cell_type": "code",
   "execution_count": 27,
   "metadata": {},
   "outputs": [
    {
     "data": {
      "text/html": [
       "<div>\n",
       "<style scoped>\n",
       "    .dataframe tbody tr th:only-of-type {\n",
       "        vertical-align: middle;\n",
       "    }\n",
       "\n",
       "    .dataframe tbody tr th {\n",
       "        vertical-align: top;\n",
       "    }\n",
       "\n",
       "    .dataframe thead th {\n",
       "        text-align: right;\n",
       "    }\n",
       "</style>\n",
       "<table border=\"1\" class=\"dataframe\">\n",
       "  <thead>\n",
       "    <tr style=\"text-align: right;\">\n",
       "      <th></th>\n",
       "      <th>product_id</th>\n",
       "      <th>sku</th>\n",
       "      <th>name</th>\n",
       "      <th>marca_value</th>\n",
       "      <th>short_description</th>\n",
       "      <th>analytic_category</th>\n",
       "      <th>picture</th>\n",
       "    </tr>\n",
       "  </thead>\n",
       "  <tbody>\n",
       "    <tr>\n",
       "      <th>23485</th>\n",
       "      <td>76086</td>\n",
       "      <td>MISUPI</td>\n",
       "      <td>SuperPack personalizado meu Pipo</td>\n",
       "      <td>Mi Pipo</td>\n",
       "      <td>&lt;p&gt;El SuperPack personalizado de Mi Pipo es id...</td>\n",
       "      <td>NaN</td>\n",
       "      <td>https://www.mifarma.es/media/catalog/product/m...</td>\n",
       "    </tr>\n",
       "    <tr>\n",
       "      <th>27586</th>\n",
       "      <td>74774</td>\n",
       "      <td>41401</td>\n",
       "      <td>2x2ml soro &amp; camaleão de cor mágica</td>\n",
       "      <td>Camaleon</td>\n",
       "      <td>&lt;p&gt;Si tu piel necesita un efecto lifting inmed...</td>\n",
       "      <td>Cosmética y Belleza</td>\n",
       "      <td>https://www.mifarma.es/media/catalog/product/4...</td>\n",
       "    </tr>\n",
       "    <tr>\n",
       "      <th>2777</th>\n",
       "      <td>4388</td>\n",
       "      <td>152307</td>\n",
       "      <td>Aquilea Gases 60 Comprimidos</td>\n",
       "      <td>Aquilea</td>\n",
       "      <td>&lt;p&gt;Solución natural a los gases gracias a su c...</td>\n",
       "      <td>Herbolario</td>\n",
       "      <td>https://www.mifarma.es/media/catalog/product/1...</td>\n",
       "    </tr>\n",
       "    <tr>\n",
       "      <th>12655</th>\n",
       "      <td>79092</td>\n",
       "      <td>BN013</td>\n",
       "      <td>Colageno Marino + Silicio Organico Binature 18...</td>\n",
       "      <td>Binature</td>\n",
       "      <td>&lt;p&gt;Complemento alimenticio con Colágeno marino...</td>\n",
       "      <td>Herbolario</td>\n",
       "      <td>https://www.mifarma.es/media/catalog/product/b...</td>\n",
       "    </tr>\n",
       "    <tr>\n",
       "      <th>12783</th>\n",
       "      <td>61316</td>\n",
       "      <td>44701381</td>\n",
       "      <td>Tommee Tippee Easy Drink Taza Aprendizaje 230m...</td>\n",
       "      <td>Tommee tippee</td>\n",
       "      <td>&lt;p&gt;Taza con pajita fabricada en suave silicona...</td>\n",
       "      <td>Infantil</td>\n",
       "      <td>https://www.mifarma.es/media/catalog/product/4...</td>\n",
       "    </tr>\n",
       "  </tbody>\n",
       "</table>\n",
       "</div>"
      ],
      "text/plain": [
       "       product_id       sku  \\\n",
       "23485       76086    MISUPI   \n",
       "27586       74774     41401   \n",
       "2777         4388    152307   \n",
       "12655       79092     BN013   \n",
       "12783       61316  44701381   \n",
       "\n",
       "                                                    name    marca_value  \\\n",
       "23485                   SuperPack personalizado meu Pipo        Mi Pipo   \n",
       "27586                2x2ml soro & camaleão de cor mágica       Camaleon   \n",
       "2777                        Aquilea Gases 60 Comprimidos        Aquilea   \n",
       "12655  Colageno Marino + Silicio Organico Binature 18...       Binature   \n",
       "12783  Tommee Tippee Easy Drink Taza Aprendizaje 230m...  Tommee tippee   \n",
       "\n",
       "                                       short_description    analytic_category  \\\n",
       "23485  <p>El SuperPack personalizado de Mi Pipo es id...                  NaN   \n",
       "27586  <p>Si tu piel necesita un efecto lifting inmed...  Cosmética y Belleza   \n",
       "2777   <p>Solución natural a los gases gracias a su c...           Herbolario   \n",
       "12655  <p>Complemento alimenticio con Colágeno marino...           Herbolario   \n",
       "12783  <p>Taza con pajita fabricada en suave silicona...             Infantil   \n",
       "\n",
       "                                                 picture  \n",
       "23485  https://www.mifarma.es/media/catalog/product/m...  \n",
       "27586  https://www.mifarma.es/media/catalog/product/4...  \n",
       "2777   https://www.mifarma.es/media/catalog/product/1...  \n",
       "12655  https://www.mifarma.es/media/catalog/product/b...  \n",
       "12783  https://www.mifarma.es/media/catalog/product/4...  "
      ]
     },
     "execution_count": 27,
     "metadata": {},
     "output_type": "execute_result"
    }
   ],
   "source": [
    "df_products = pd.read_csv(\"../Data/products.csv\")\n",
    "df_products.sample(5, random_state=seed)"
   ]
  },
  {
   "cell_type": "code",
   "execution_count": 28,
   "metadata": {},
   "outputs": [
    {
     "name": "stdout",
     "output_type": "stream",
     "text": [
      "Dimensiones de los datos: nº columnas (27953) y nº filas (7)\n"
     ]
    }
   ],
   "source": [
    "print(f\"Dimensiones de los datos: nº columnas ({df_products.shape[0]}) y nº filas ({df_products.shape[1]})\")"
   ]
  },
  {
   "cell_type": "markdown",
   "metadata": {},
   "source": [
    "El *dataset* se compone de **7** columnas/características y cerca de unos **30.000** registros, de los cuales podemos ver que algunos son nulos. Más adelante veremos que datos faltan y determinaremos la forma de salvaguardar estos casos."
   ]
  },
  {
   "cell_type": "code",
   "execution_count": 4,
   "metadata": {},
   "outputs": [
    {
     "name": "stdout",
     "output_type": "stream",
     "text": [
      "<class 'pandas.core.frame.DataFrame'>\n",
      "RangeIndex: 27953 entries, 0 to 27952\n",
      "Data columns (total 7 columns):\n",
      " #   Column             Non-Null Count  Dtype \n",
      "---  ------             --------------  ----- \n",
      " 0   product_id         27953 non-null  int64 \n",
      " 1   sku                27953 non-null  object\n",
      " 2   name               27939 non-null  object\n",
      " 3   marca_value        27921 non-null  object\n",
      " 4   short_description  27930 non-null  object\n",
      " 5   analytic_category  24416 non-null  object\n",
      " 6   picture            27947 non-null  object\n",
      "dtypes: int64(1), object(6)\n",
      "memory usage: 1.5+ MB\n"
     ]
    }
   ],
   "source": [
    "df_products.info(verbose=True)"
   ]
  },
  {
   "cell_type": "markdown",
   "metadata": {},
   "source": [
    "Vemos que el tipo de datos de algunas de las columnas puede definirse simplemente como *string* en lugar de *object*"
   ]
  },
  {
   "cell_type": "code",
   "execution_count": 5,
   "metadata": {},
   "outputs": [
    {
     "data": {
      "text/html": [
       "<div>\n",
       "<style scoped>\n",
       "    .dataframe tbody tr th:only-of-type {\n",
       "        vertical-align: middle;\n",
       "    }\n",
       "\n",
       "    .dataframe tbody tr th {\n",
       "        vertical-align: top;\n",
       "    }\n",
       "\n",
       "    .dataframe thead th {\n",
       "        text-align: right;\n",
       "    }\n",
       "</style>\n",
       "<table border=\"1\" class=\"dataframe\">\n",
       "  <thead>\n",
       "    <tr style=\"text-align: right;\">\n",
       "      <th></th>\n",
       "      <th>sku</th>\n",
       "      <th>name</th>\n",
       "      <th>marca_value</th>\n",
       "      <th>short_description</th>\n",
       "      <th>analytic_category</th>\n",
       "      <th>picture</th>\n",
       "    </tr>\n",
       "  </thead>\n",
       "  <tbody>\n",
       "    <tr>\n",
       "      <th>count</th>\n",
       "      <td>27953</td>\n",
       "      <td>27939</td>\n",
       "      <td>27921</td>\n",
       "      <td>27930</td>\n",
       "      <td>24416</td>\n",
       "      <td>27947</td>\n",
       "    </tr>\n",
       "    <tr>\n",
       "      <th>unique</th>\n",
       "      <td>23216</td>\n",
       "      <td>27862</td>\n",
       "      <td>792</td>\n",
       "      <td>20597</td>\n",
       "      <td>10</td>\n",
       "      <td>23175</td>\n",
       "    </tr>\n",
       "    <tr>\n",
       "      <th>top</th>\n",
       "      <td>80890556</td>\n",
       "      <td>Avene Couvrance Compacto</td>\n",
       "      <td>Suavinex</td>\n",
       "      <td>&lt;p&gt;Bebida instantánea sin azúcar, muy baja en ...</td>\n",
       "      <td>Cosmética y Belleza</td>\n",
       "      <td>https://www.mifarma.es/media/catalog/product/1...</td>\n",
       "    </tr>\n",
       "    <tr>\n",
       "      <th>freq</th>\n",
       "      <td>4</td>\n",
       "      <td>4</td>\n",
       "      <td>761</td>\n",
       "      <td>58</td>\n",
       "      <td>8336</td>\n",
       "      <td>4</td>\n",
       "    </tr>\n",
       "  </tbody>\n",
       "</table>\n",
       "</div>"
      ],
      "text/plain": [
       "             sku                      name marca_value  \\\n",
       "count      27953                     27939       27921   \n",
       "unique     23216                     27862         792   \n",
       "top     80890556  Avene Couvrance Compacto    Suavinex   \n",
       "freq           4                         4         761   \n",
       "\n",
       "                                        short_description  \\\n",
       "count                                               27930   \n",
       "unique                                              20597   \n",
       "top     <p>Bebida instantánea sin azúcar, muy baja en ...   \n",
       "freq                                                   58   \n",
       "\n",
       "          analytic_category                                            picture  \n",
       "count                 24416                                              27947  \n",
       "unique                   10                                              23175  \n",
       "top     Cosmética y Belleza  https://www.mifarma.es/media/catalog/product/1...  \n",
       "freq                   8336                                                  4  "
      ]
     },
     "execution_count": 5,
     "metadata": {},
     "output_type": "execute_result"
    }
   ],
   "source": [
    "df_products.describe(include=['object'])"
   ]
  },
  {
   "cell_type": "markdown",
   "metadata": {},
   "source": [
    "De un vistazo vemos las características de las distintas variables:\n",
    "- Hay nombres de productos que se repiten, al igual que sus descripciones. \n",
    "- Resulta *\"extraño\"* que el nº de descripciones no concuerde con el número de productos.\n",
    "- Hay productos que al parecer no tienen fotos\n",
    "- Hay casi 800 marcas de productos diferentes\n",
    "- Llama la atención que la descripciones estén contenidas en etiquetas de párrafo HTML"
   ]
  },
  {
   "cell_type": "code",
   "execution_count": 6,
   "metadata": {},
   "outputs": [
    {
     "name": "stdout",
     "output_type": "stream",
     "text": [
      "      column_name  percent_missing\n",
      "analytic_category        12.653382\n",
      "      marca_value         0.114478\n",
      "short_description         0.082281\n",
      "             name         0.050084\n",
      "          picture         0.021465\n",
      "       product_id         0.000000\n",
      "              sku         0.000000\n"
     ]
    }
   ],
   "source": [
    "percent_missing = df_products.isnull().sum() * 100 / df_products.shape[0]\n",
    "df_missing_values = pd.DataFrame({ \n",
    "    'column_name': df_products.columns,\n",
    "    'percent_missing': percent_missing\n",
    "})\n",
    "df_missing_values.sort_values(by='percent_missing',ascending=False,inplace=True)\n",
    "print(df_missing_values.to_string(index=False))"
   ]
  },
  {
   "cell_type": "markdown",
   "metadata": {},
   "source": [
    "Efectivamente tal y como sospechábamos desde un principio, dado que el número de registros totales no concuerda con el recuento para algunas de las variables, que existe cierto porcentaje de valores perdidos/nulos. Por lo general, no es muy elevado, a excepción de la variable **analytic_category**."
   ]
  },
  {
   "cell_type": "markdown",
   "metadata": {},
   "source": [
    "## Visualizaciones de los datos\n",
    "\n",
    "En este apartado se detallará más en profundidad las caracaterísticas de cada una de las variables, así como también las posibles relaciones entre ellas."
   ]
  },
  {
   "cell_type": "markdown",
   "metadata": {},
   "source": [
    "### Nombres de productos\n",
    "\n",
    "La primera pregunta que nos surge es saber cuales son los productos que más se repiten y cuántas veces, así que vamos a responderla con algunas operaciones básicas."
   ]
  },
  {
   "cell_type": "code",
   "execution_count": 7,
   "metadata": {},
   "outputs": [
    {
     "data": {
      "text/html": [
       "<div>\n",
       "<style scoped>\n",
       "    .dataframe tbody tr th:only-of-type {\n",
       "        vertical-align: middle;\n",
       "    }\n",
       "\n",
       "    .dataframe tbody tr th {\n",
       "        vertical-align: top;\n",
       "    }\n",
       "\n",
       "    .dataframe thead th {\n",
       "        text-align: right;\n",
       "    }\n",
       "</style>\n",
       "<table border=\"1\" class=\"dataframe\">\n",
       "  <thead>\n",
       "    <tr style=\"text-align: right;\">\n",
       "      <th></th>\n",
       "      <th>name</th>\n",
       "      <th>count</th>\n",
       "    </tr>\n",
       "  </thead>\n",
       "  <tbody>\n",
       "    <tr>\n",
       "      <th>0</th>\n",
       "      <td>Avene Couvrance Compacto</td>\n",
       "      <td>4</td>\n",
       "    </tr>\n",
       "    <tr>\n",
       "      <th>1</th>\n",
       "      <td>Medela Embudo Personal Fit</td>\n",
       "      <td>3</td>\n",
       "    </tr>\n",
       "    <tr>\n",
       "      <th>2</th>\n",
       "      <td>IAP Pharma Perfume mulher n º 150 ml</td>\n",
       "      <td>3</td>\n",
       "    </tr>\n",
       "    <tr>\n",
       "      <th>3</th>\n",
       "      <td>Medela Top de Extracción Fácil Sujetador Manos...</td>\n",
       "      <td>3</td>\n",
       "    </tr>\n",
       "    <tr>\n",
       "      <th>4</th>\n",
       "      <td>Babé Stick Labial 4 Gramos</td>\n",
       "      <td>2</td>\n",
       "    </tr>\n",
       "    <tr>\n",
       "      <th>...</th>\n",
       "      <td>...</td>\n",
       "      <td>...</td>\n",
       "    </tr>\n",
       "    <tr>\n",
       "      <th>67</th>\n",
       "      <td>Farmatint 8N Rubio Claro 130ml</td>\n",
       "      <td>2</td>\n",
       "    </tr>\n",
       "    <tr>\n",
       "      <th>68</th>\n",
       "      <td>Chupete Silicona Little Cutie Canpol Babies 6-...</td>\n",
       "      <td>2</td>\n",
       "    </tr>\n",
       "    <tr>\n",
       "      <th>69</th>\n",
       "      <td>Mosquitox Pulsera Color Rosa + 3 Pastillas</td>\n",
       "      <td>2</td>\n",
       "    </tr>\n",
       "    <tr>\n",
       "      <th>70</th>\n",
       "      <td>Portachupetes Suavinex Duo Blanco</td>\n",
       "      <td>2</td>\n",
       "    </tr>\n",
       "    <tr>\n",
       "      <th>71</th>\n",
       "      <td>Crema Solar Coco SPF30 Tropicania 200ml</td>\n",
       "      <td>2</td>\n",
       "    </tr>\n",
       "  </tbody>\n",
       "</table>\n",
       "<p>72 rows × 2 columns</p>\n",
       "</div>"
      ],
      "text/plain": [
       "                                                 name  count\n",
       "0                            Avene Couvrance Compacto      4\n",
       "1                          Medela Embudo Personal Fit      3\n",
       "2                IAP Pharma Perfume mulher n º 150 ml      3\n",
       "3   Medela Top de Extracción Fácil Sujetador Manos...      3\n",
       "4                          Babé Stick Labial 4 Gramos      2\n",
       "..                                                ...    ...\n",
       "67                     Farmatint 8N Rubio Claro 130ml      2\n",
       "68  Chupete Silicona Little Cutie Canpol Babies 6-...      2\n",
       "69         Mosquitox Pulsera Color Rosa + 3 Pastillas      2\n",
       "70                  Portachupetes Suavinex Duo Blanco      2\n",
       "71            Crema Solar Coco SPF30 Tropicania 200ml      2\n",
       "\n",
       "[72 rows x 2 columns]"
      ]
     },
     "execution_count": 7,
     "metadata": {},
     "output_type": "execute_result"
    }
   ],
   "source": [
    "# Nombres de los productos repetidos y cuantas veces se repiten\n",
    "df_repeated_prods = df_products['name'].value_counts().loc[lambda x: x > 1 ].reset_index()\n",
    "df_repeated_prods.columns = ['name', 'count']\n",
    "df_repeated_prods"
   ]
  },
  {
   "cell_type": "markdown",
   "metadata": {},
   "source": [
    "Vemos que hay **72** productos repetidos, algunos (muy pocos) incluso se repiten más de dos veces."
   ]
  },
  {
   "cell_type": "code",
   "execution_count": 8,
   "metadata": {},
   "outputs": [
    {
     "data": {
      "text/plain": [
       "['Avene Couvrance Compacto',\n",
       " 'Medela Embudo Personal Fit',\n",
       " 'IAP Pharma Perfume mulher n º 150 ml',\n",
       " 'Medela Top de Extracción Fácil Sujetador Manos Libres',\n",
       " 'Babé Stick Labial 4 Gramos',\n",
       " 'Gel Masaje Madagascar Sweetness Control 200ml',\n",
       " 'Nivea Crema 150ml',\n",
       " 'Gel Contorno de Ojos Sesderma Men 15ml',\n",
       " 'Babaria Crema Facial Antiarrugas Rosa Mosqueta 50ml',\n",
       " 'Sebamed Champú Dermatológico Anticaspa ']"
      ]
     },
     "execution_count": 8,
     "metadata": {},
     "output_type": "execute_result"
    }
   ],
   "source": [
    "# Nos quedamos solamente con los nombres de los productos\n",
    "names_rep_prods = df_repeated_prods['name'].to_list()\n",
    "names_rep_prods[:10]"
   ]
  },
  {
   "cell_type": "markdown",
   "metadata": {},
   "source": [
    "Ahora bien, ¿por qué hay productos repetidos? "
   ]
  },
  {
   "cell_type": "code",
   "execution_count": 30,
   "metadata": {},
   "outputs": [
    {
     "data": {
      "text/html": [
       "<div>\n",
       "<style scoped>\n",
       "    .dataframe tbody tr th:only-of-type {\n",
       "        vertical-align: middle;\n",
       "    }\n",
       "\n",
       "    .dataframe tbody tr th {\n",
       "        vertical-align: top;\n",
       "    }\n",
       "\n",
       "    .dataframe thead th {\n",
       "        text-align: right;\n",
       "    }\n",
       "</style>\n",
       "<table border=\"1\" class=\"dataframe\">\n",
       "  <thead>\n",
       "    <tr style=\"text-align: right;\">\n",
       "      <th></th>\n",
       "      <th>product_id</th>\n",
       "      <th>sku</th>\n",
       "      <th>name</th>\n",
       "      <th>marca_value</th>\n",
       "      <th>short_description</th>\n",
       "      <th>analytic_category</th>\n",
       "      <th>picture</th>\n",
       "    </tr>\n",
       "  </thead>\n",
       "  <tbody>\n",
       "    <tr>\n",
       "      <th>13170</th>\n",
       "      <td>11068</td>\n",
       "      <td>154277</td>\n",
       "      <td>ARMOLIPID PLUS 20 Comprimidos</td>\n",
       "      <td>Meda</td>\n",
       "      <td>&lt;p&gt;Suplemento alimenticio que ayuda a reducir ...</td>\n",
       "      <td>Herbolario</td>\n",
       "      <td>https://www.mifarma.es/media/catalog/product/1...</td>\n",
       "    </tr>\n",
       "    <tr>\n",
       "      <th>26924</th>\n",
       "      <td>71104</td>\n",
       "      <td>CB23263X.niña</td>\n",
       "      <td>Chupete Silicona Little Cutie Canpol Babies 6-...</td>\n",
       "      <td>Canpol Babies</td>\n",
       "      <td>&lt;p&gt;Chupete con tetina anatómica de silicona in...</td>\n",
       "      <td>NaN</td>\n",
       "      <td>https://www.mifarma.es/media/catalog/product/c...</td>\n",
       "    </tr>\n",
       "    <tr>\n",
       "      <th>20801</th>\n",
       "      <td>84100</td>\n",
       "      <td>181140</td>\n",
       "      <td>Potito Frutas de Temporada con Galletas Nutrib...</td>\n",
       "      <td>Nutribén</td>\n",
       "      <td>&lt;p&gt;El Potito Frutas de Temporada con Galletas ...</td>\n",
       "      <td>Infantil</td>\n",
       "      <td>https://www.mifarma.es/media/catalog/product/1...</td>\n",
       "    </tr>\n",
       "    <tr>\n",
       "      <th>15782</th>\n",
       "      <td>4488</td>\n",
       "      <td>serv201939.232504-232504</td>\n",
       "      <td>Sebamed Aceite de Ducha</td>\n",
       "      <td>Sebamed</td>\n",
       "      <td>&lt;p&gt;Higiene diaria en pieles secas y sensibles....</td>\n",
       "      <td>NaN</td>\n",
       "      <td>https://www.mifarma.es/media/catalog/product/s...</td>\n",
       "    </tr>\n",
       "    <tr>\n",
       "      <th>21881</th>\n",
       "      <td>72480</td>\n",
       "      <td>159472x2</td>\n",
       "      <td>Babé Stick Labial 4 Gramos</td>\n",
       "      <td>Babe</td>\n",
       "      <td>&lt;p&gt;Stick labial de textura cremosa que hidrata...</td>\n",
       "      <td>Cosmética y Belleza</td>\n",
       "      <td>https://www.mifarma.es/media/catalog/product/1...</td>\n",
       "    </tr>\n",
       "    <tr>\n",
       "      <th>861</th>\n",
       "      <td>1745</td>\n",
       "      <td>236265</td>\n",
       "      <td>Germisdin Higiene Corporal Piel Seca 1 Litro</td>\n",
       "      <td>Isdin</td>\n",
       "      <td>&lt;p&gt;&lt;strong&gt;Gel de higiene diaria sin jabón&lt;/st...</td>\n",
       "      <td>Higiene</td>\n",
       "      <td>https://www.mifarma.es/media/catalog/product/2...</td>\n",
       "    </tr>\n",
       "    <tr>\n",
       "      <th>6159</th>\n",
       "      <td>35799</td>\n",
       "      <td>213000-x3</td>\n",
       "      <td>Epaplus Magnesio + Acido Hialuronico + Vitamin...</td>\n",
       "      <td>Epa-plus</td>\n",
       "      <td>&lt;p&gt;&lt;strong&gt;Complemento alimenticio&lt;/strong&gt; el...</td>\n",
       "      <td>Herbolario</td>\n",
       "      <td>https://www.mifarma.es/media/catalog/product/2...</td>\n",
       "    </tr>\n",
       "    <tr>\n",
       "      <th>25588</th>\n",
       "      <td>37398</td>\n",
       "      <td>176510</td>\n",
       "      <td>IAP Pharma Perfume para mulher 30ml não.</td>\n",
       "      <td>iap pharma</td>\n",
       "      <td>&lt;p&gt;Fragancia de mujer con notas olfativas afru...</td>\n",
       "      <td>NaN</td>\n",
       "      <td>https://www.mifarma.es/media/catalog/product/1...</td>\n",
       "    </tr>\n",
       "    <tr>\n",
       "      <th>18759</th>\n",
       "      <td>75475</td>\n",
       "      <td>186977</td>\n",
       "      <td>Gel Masaje Mediterranean Sea Control 200ml</td>\n",
       "      <td>Control</td>\n",
       "      <td>&lt;p&gt;Control Gel Masaje es perfecto para momento...</td>\n",
       "      <td>Vida Íntima</td>\n",
       "      <td>https://www.mifarma.es/media/catalog/product/1...</td>\n",
       "    </tr>\n",
       "    <tr>\n",
       "      <th>23876</th>\n",
       "      <td>47527</td>\n",
       "      <td>70408</td>\n",
       "      <td>Solgar Vitamina C 500 mg 90 comp masticables</td>\n",
       "      <td>Solgar</td>\n",
       "      <td>&lt;p&gt;Vitamina C masticable con sabor frambuesa. ...</td>\n",
       "      <td>Nutrición</td>\n",
       "      <td>https://www.mifarma.es/media/catalog/product/7...</td>\n",
       "    </tr>\n",
       "  </tbody>\n",
       "</table>\n",
       "</div>"
      ],
      "text/plain": [
       "       product_id                       sku  \\\n",
       "13170       11068                    154277   \n",
       "26924       71104             CB23263X.niña   \n",
       "20801       84100                    181140   \n",
       "15782        4488  serv201939.232504-232504   \n",
       "21881       72480                  159472x2   \n",
       "861          1745                    236265   \n",
       "6159        35799                 213000-x3   \n",
       "25588       37398                    176510   \n",
       "18759       75475                    186977   \n",
       "23876       47527                     70408   \n",
       "\n",
       "                                                    name    marca_value  \\\n",
       "13170                      ARMOLIPID PLUS 20 Comprimidos           Meda   \n",
       "26924  Chupete Silicona Little Cutie Canpol Babies 6-...  Canpol Babies   \n",
       "20801  Potito Frutas de Temporada con Galletas Nutrib...       Nutribén   \n",
       "15782                            Sebamed Aceite de Ducha        Sebamed   \n",
       "21881                         Babé Stick Labial 4 Gramos           Babe   \n",
       "861         Germisdin Higiene Corporal Piel Seca 1 Litro          Isdin   \n",
       "6159   Epaplus Magnesio + Acido Hialuronico + Vitamin...       Epa-plus   \n",
       "25588           IAP Pharma Perfume para mulher 30ml não.     iap pharma   \n",
       "18759         Gel Masaje Mediterranean Sea Control 200ml        Control   \n",
       "23876       Solgar Vitamina C 500 mg 90 comp masticables         Solgar   \n",
       "\n",
       "                                       short_description    analytic_category  \\\n",
       "13170  <p>Suplemento alimenticio que ayuda a reducir ...           Herbolario   \n",
       "26924  <p>Chupete con tetina anatómica de silicona in...                  NaN   \n",
       "20801  <p>El Potito Frutas de Temporada con Galletas ...             Infantil   \n",
       "15782  <p>Higiene diaria en pieles secas y sensibles....                  NaN   \n",
       "21881  <p>Stick labial de textura cremosa que hidrata...  Cosmética y Belleza   \n",
       "861    <p><strong>Gel de higiene diaria sin jabón</st...              Higiene   \n",
       "6159   <p><strong>Complemento alimenticio</strong> el...           Herbolario   \n",
       "25588  <p>Fragancia de mujer con notas olfativas afru...                  NaN   \n",
       "18759  <p>Control Gel Masaje es perfecto para momento...          Vida Íntima   \n",
       "23876  <p>Vitamina C masticable con sabor frambuesa. ...            Nutrición   \n",
       "\n",
       "                                                 picture  \n",
       "13170  https://www.mifarma.es/media/catalog/product/1...  \n",
       "26924  https://www.mifarma.es/media/catalog/product/c...  \n",
       "20801  https://www.mifarma.es/media/catalog/product/1...  \n",
       "15782  https://www.mifarma.es/media/catalog/product/s...  \n",
       "21881  https://www.mifarma.es/media/catalog/product/1...  \n",
       "861    https://www.mifarma.es/media/catalog/product/2...  \n",
       "6159   https://www.mifarma.es/media/catalog/product/2...  \n",
       "25588  https://www.mifarma.es/media/catalog/product/1...  \n",
       "18759  https://www.mifarma.es/media/catalog/product/1...  \n",
       "23876  https://www.mifarma.es/media/catalog/product/7...  "
      ]
     },
     "execution_count": 30,
     "metadata": {},
     "output_type": "execute_result"
    }
   ],
   "source": [
    "df_products[df_products['name'].isin(names_rep_prods)].sort_values(by='product_id').sample(10)"
   ]
  },
  {
   "cell_type": "code",
   "execution_count": 31,
   "metadata": {},
   "outputs": [
    {
     "data": {
      "text/plain": [
       "149"
      ]
     },
     "execution_count": 31,
     "metadata": {},
     "output_type": "execute_result"
    }
   ],
   "source": [
    "df_repeated_prods['count'].sum()"
   ]
  },
  {
   "cell_type": "markdown",
   "metadata": {},
   "source": [
    "Es curioso que a pesar de tener el mismo nombre, marca, descripción y categoría, el código de los productos cambia para todos. Quizás es un de las razones por las que se repiten. \n",
    "\n",
    "**NOTA** \n",
    "\n",
    "Al haber muchos productos (~150) mostrar todas las combinaciones resulta engorroso. Jugando con diferentes tipos de *sorting* (filtrando por diferentes columnas) nos hemos percatado de otras cosas como:\n",
    "- Los **product_id** no coinciden aun siendo todos los demás campos iguales\n",
    "- Algunos campos son nulos, predominantemente la **analytic_category**\n",
    "- Tienen diferente descripción"
   ]
  },
  {
   "cell_type": "markdown",
   "metadata": {},
   "source": [
    "### Marcas\n",
    "\n",
    "El catálogo de productos es muy amplio, al igual que las marcas, así que veamos como es su distribución entre los productos."
   ]
  },
  {
   "cell_type": "code",
   "execution_count": 11,
   "metadata": {},
   "outputs": [
    {
     "data": {
      "text/plain": [
       "Suavinex          761\n",
       "Chicco            698\n",
       "Sesderma          474\n",
       "Isdin             461\n",
       "Nuk               405\n",
       "Apivita           372\n",
       "La Roche Posay    364\n",
       "Mam               350\n",
       "Soria Natural     348\n",
       "InterApothek      322\n",
       "Nuxe              311\n",
       "Beter             302\n",
       "Arkopharma        287\n",
       "Otras Marcas      287\n",
       "Canpol Babies     285\n",
       "Uriage            267\n",
       "Ziaja             263\n",
       "Vichy             259\n",
       "Th Pharma         252\n",
       "Tommee tippee     251\n",
       "Name: marca_value, dtype: int64"
      ]
     },
     "execution_count": 11,
     "metadata": {},
     "output_type": "execute_result"
    }
   ],
   "source": [
    "df_products[\"marca_value\"].value_counts().head(20)"
   ]
  },
  {
   "cell_type": "markdown",
   "metadata": {},
   "source": [
    "El **top 20** de marcas en el catálogo están relacionadas sobretodo con *productos de bebé* (Suavinex, Chicco, Nuk, Mam ...) y productos de cosmética (Sesderma, Isdin, La Roche Posay ...)"
   ]
  },
  {
   "cell_type": "code",
   "execution_count": 12,
   "metadata": {},
   "outputs": [
    {
     "data": {
      "text/plain": [
       "Arkosol                  1\n",
       "Elimax                   1\n",
       "Farmavital               1\n",
       "Sangali                  1\n",
       "Keravit                  1\n",
       "Damira                   1\n",
       "Cryopharma               1\n",
       "Dermaclin                1\n",
       "Vitalcare                1\n",
       "Be Cool                  1\n",
       "Compotoirs Compagnies    1\n",
       "MAF                      1\n",
       "Sloan                    1\n",
       "Suntribe                 1\n",
       "Redusan                  1\n",
       "Nevasona                 1\n",
       "Simplisse                1\n",
       "Inglesina                1\n",
       "Depilduch                1\n",
       "Khadi                    1\n",
       "Name: marca_value, dtype: int64"
      ]
     },
     "execution_count": 12,
     "metadata": {},
     "output_type": "execute_result"
    }
   ],
   "source": [
    "df_products[\"marca_value\"].value_counts().tail(20)"
   ]
  },
  {
   "cell_type": "markdown",
   "metadata": {},
   "source": [
    "En cambio, las marcas menos frecuentes están relacionadas con productos muy específicos o con poca variedad de producto dentro de su gama como pueden ser antipiojos (Elimax), vitaminas (Vitalcare), bronceadores (Arkosol), etc."
   ]
  },
  {
   "cell_type": "markdown",
   "metadata": {},
   "source": [
    "### Descripciones\n",
    "\n",
    "Tal y como se ha comentado, resulta un tanto extraño que no haya el mismo número de descripciones que de productos. Así que veamos detalladamente a que se debe esto. Por otro lado, cabe mencionar algo que se nos ha pasado comentar antes y es el hecho de que parece que los las descripciones se han obtenido a través de alguna técnica de *web scraping*, ya que conservan la etiqueta **p** propia de un documento HTML"
   ]
  },
  {
   "cell_type": "code",
   "execution_count": 13,
   "metadata": {},
   "outputs": [
    {
     "data": {
      "text/html": [
       "<div>\n",
       "<style scoped>\n",
       "    .dataframe tbody tr th:only-of-type {\n",
       "        vertical-align: middle;\n",
       "    }\n",
       "\n",
       "    .dataframe tbody tr th {\n",
       "        vertical-align: top;\n",
       "    }\n",
       "\n",
       "    .dataframe thead th {\n",
       "        text-align: right;\n",
       "    }\n",
       "</style>\n",
       "<table border=\"1\" class=\"dataframe\">\n",
       "  <thead>\n",
       "    <tr style=\"text-align: right;\">\n",
       "      <th></th>\n",
       "      <th>short_description</th>\n",
       "      <th>count</th>\n",
       "    </tr>\n",
       "  </thead>\n",
       "  <tbody>\n",
       "    <tr>\n",
       "      <th>0</th>\n",
       "      <td>&lt;p&gt;Bebida instantánea sin azúcar, muy baja en ...</td>\n",
       "      <td>58</td>\n",
       "    </tr>\n",
       "    <tr>\n",
       "      <th>1</th>\n",
       "      <td>&lt;p&gt;Biberón anticólico con un color muy atracti...</td>\n",
       "      <td>29</td>\n",
       "    </tr>\n",
       "    <tr>\n",
       "      <th>2</th>\n",
       "      <td>&lt;p&gt;Tinte permanente para el cabello sin PPD.\\n...</td>\n",
       "      <td>28</td>\n",
       "    </tr>\n",
       "    <tr>\n",
       "      <th>3</th>\n",
       "      <td>&lt;p&gt;Diseño innovador y divertido\\n&lt;/p&gt;</td>\n",
       "      <td>25</td>\n",
       "    </tr>\n",
       "    <tr>\n",
       "      <th>4</th>\n",
       "      <td>&lt;p&gt;Farmatint es el gel de coloración permanene...</td>\n",
       "      <td>24</td>\n",
       "    </tr>\n",
       "    <tr>\n",
       "      <th>...</th>\n",
       "      <td>...</td>\n",
       "      <td>...</td>\n",
       "    </tr>\n",
       "    <tr>\n",
       "      <th>20592</th>\n",
       "      <td>&lt;p&gt;Aceite Seco Protección Media: Nutritivo y i...</td>\n",
       "      <td>1</td>\n",
       "    </tr>\n",
       "    <tr>\n",
       "      <th>20593</th>\n",
       "      <td>&lt;p&gt;Gel fresco calmante al Monoï. Hidratante y ...</td>\n",
       "      <td>1</td>\n",
       "    </tr>\n",
       "    <tr>\n",
       "      <th>20594</th>\n",
       "      <td>&lt;p&gt;Mordedor ligero fase 2\\n&lt;/p&gt;</td>\n",
       "      <td>1</td>\n",
       "    </tr>\n",
       "    <tr>\n",
       "      <th>20595</th>\n",
       "      <td>&lt;p&gt;Un nuevo mundo de sabores en la alimentació...</td>\n",
       "      <td>1</td>\n",
       "    </tr>\n",
       "    <tr>\n",
       "      <th>20596</th>\n",
       "      <td>&lt;p&gt;Preciosa cocina elaborada en madera maciza,...</td>\n",
       "      <td>1</td>\n",
       "    </tr>\n",
       "  </tbody>\n",
       "</table>\n",
       "<p>20597 rows × 2 columns</p>\n",
       "</div>"
      ],
      "text/plain": [
       "                                       short_description  count\n",
       "0      <p>Bebida instantánea sin azúcar, muy baja en ...     58\n",
       "1      <p>Biberón anticólico con un color muy atracti...     29\n",
       "2      <p>Tinte permanente para el cabello sin PPD.\\n...     28\n",
       "3                  <p>Diseño innovador y divertido\\n</p>     25\n",
       "4      <p>Farmatint es el gel de coloración permanene...     24\n",
       "...                                                  ...    ...\n",
       "20592  <p>Aceite Seco Protección Media: Nutritivo y i...      1\n",
       "20593  <p>Gel fresco calmante al Monoï. Hidratante y ...      1\n",
       "20594                    <p>Mordedor ligero fase 2\\n</p>      1\n",
       "20595  <p>Un nuevo mundo de sabores en la alimentació...      1\n",
       "20596  <p>Preciosa cocina elaborada en madera maciza,...      1\n",
       "\n",
       "[20597 rows x 2 columns]"
      ]
     },
     "execution_count": 13,
     "metadata": {},
     "output_type": "execute_result"
    }
   ],
   "source": [
    "df_descriptions = df_products[\"short_description\"].value_counts().reset_index()\n",
    "df_descriptions.columns = ['short_description', 'count']\n",
    "df_descriptions"
   ]
  },
  {
   "cell_type": "markdown",
   "metadata": {},
   "source": [
    "Lo primero de lo que uno se da cuenta es que una de las descripciones se repite bastantes veces. Veamos a qué producto pertenece y si ese producto es uno de los que más se repite dentro del *dataset*"
   ]
  },
  {
   "cell_type": "code",
   "execution_count": 14,
   "metadata": {},
   "outputs": [
    {
     "data": {
      "text/plain": [
       "['<p>Bebida instantánea sin azúcar, muy baja en calorías y carbohidratos. Es un refresco saludable para toda la familia, sin conservantes artificiales y con aromas y saborizantes naturales. Con cada sobre, podrás hacer 1,5 litros de bebida.\\n</p><p>- Con Stevia\\n</p><p>- Sin gluten\\n</p>',\n",
       " '<p>Biberón anticólico con un color muy atractivo y cuatro flujos diferentes, que convierte la hora de la comida en un apasionante juego\\n</p>',\n",
       " '<p>Tinte permanente para el cabello sin PPD.\\n</p>',\n",
       " '<p>Diseño innovador y divertido\\n</p>',\n",
       " '<p>Farmatint es el gel de coloración permanenete que consigue un color natural, duradero y con una cobertura del 100% de las canas.\\n</p>',\n",
       " '<p>Mini Pintauñas.\\n</p>',\n",
       " '<p>Tinte para el cabello formulado sin amoniaco ni parabenos, especialmente indicado para la coloración del cuero cabelludo sensible.\\n</p>',\n",
       " '<p>Fragancia de mujer con notas olfativas afrutadas\\n</p>',\n",
       " '<p>Novedoso vaso de aprendizaje ideal para la transición del biberón a la autonomía de beber en vaso. Con boquilla antiderrames y un innovador sistema mezclador.\\n</p>',\n",
       " '<p>Coloración capilar permanente sin amoniaco. Con oro líquido y aceites florales.\\n</p>']"
      ]
     },
     "execution_count": 14,
     "metadata": {},
     "output_type": "execute_result"
    }
   ],
   "source": [
    "# Nos quedamos solamente con las descripciones\n",
    "descriptions = df_descriptions.loc[df_descriptions['count'] > 1]['short_description'].to_list()\n",
    "descriptions[:10]"
   ]
  },
  {
   "cell_type": "code",
   "execution_count": 15,
   "metadata": {},
   "outputs": [
    {
     "data": {
      "text/html": [
       "<div>\n",
       "<style scoped>\n",
       "    .dataframe tbody tr th:only-of-type {\n",
       "        vertical-align: middle;\n",
       "    }\n",
       "\n",
       "    .dataframe tbody tr th {\n",
       "        vertical-align: top;\n",
       "    }\n",
       "\n",
       "    .dataframe thead th {\n",
       "        text-align: right;\n",
       "    }\n",
       "</style>\n",
       "<table border=\"1\" class=\"dataframe\">\n",
       "  <thead>\n",
       "    <tr style=\"text-align: right;\">\n",
       "      <th></th>\n",
       "      <th>product_id</th>\n",
       "      <th>sku</th>\n",
       "      <th>name</th>\n",
       "      <th>marca_value</th>\n",
       "      <th>short_description</th>\n",
       "      <th>analytic_category</th>\n",
       "      <th>picture</th>\n",
       "    </tr>\n",
       "  </thead>\n",
       "  <tbody>\n",
       "    <tr>\n",
       "      <th>6961</th>\n",
       "      <td>65021</td>\n",
       "      <td>guarana27</td>\n",
       "      <td>Bebida Bolero Sabor Guarana con Stevia 1 Sobre</td>\n",
       "      <td>Bolero</td>\n",
       "      <td>&lt;p&gt;Bebida instantánea sin azúcar, muy baja en ...</td>\n",
       "      <td>NaN</td>\n",
       "      <td>https://www.mifarma.es/media/catalog/product/g...</td>\n",
       "    </tr>\n",
       "    <tr>\n",
       "      <th>13925</th>\n",
       "      <td>65335</td>\n",
       "      <td>coco38</td>\n",
       "      <td>Bebida Bolero Sabor Coco con Stevia 1 Sobre</td>\n",
       "      <td>Bolero</td>\n",
       "      <td>&lt;p&gt;Bebida instantánea sin azúcar, muy baja en ...</td>\n",
       "      <td>Nutrición</td>\n",
       "      <td>https://www.mifarma.es/media/catalog/product/c...</td>\n",
       "    </tr>\n",
       "    <tr>\n",
       "      <th>8895</th>\n",
       "      <td>65308</td>\n",
       "      <td>frutadagron47</td>\n",
       "      <td>Bebida Bolero Sabor Fruta de Dragon con Stevia...</td>\n",
       "      <td>Bolero</td>\n",
       "      <td>&lt;p&gt;Bebida instantánea sin azúcar, muy baja en ...</td>\n",
       "      <td>Nutrición</td>\n",
       "      <td>https://www.mifarma.es/media/catalog/product/f...</td>\n",
       "    </tr>\n",
       "    <tr>\n",
       "      <th>12003</th>\n",
       "      <td>65060</td>\n",
       "      <td>piña14</td>\n",
       "      <td>Bebida Bolero Sabor Piña con Stevia 1 Sobre</td>\n",
       "      <td>Bolero</td>\n",
       "      <td>&lt;p&gt;Bebida instantánea sin azúcar, muy baja en ...</td>\n",
       "      <td>Nutrición</td>\n",
       "      <td>https://www.mifarma.es/media/catalog/product/p...</td>\n",
       "    </tr>\n",
       "    <tr>\n",
       "      <th>2352</th>\n",
       "      <td>65039</td>\n",
       "      <td>sandia21</td>\n",
       "      <td>Bebida Bolero Sabor Sandia con Stevia 1 Sobre</td>\n",
       "      <td>Bolero</td>\n",
       "      <td>&lt;p&gt;Bebida instantánea sin azúcar, muy baja en ...</td>\n",
       "      <td>Nutrición</td>\n",
       "      <td>https://www.mifarma.es/media/catalog/product/s...</td>\n",
       "    </tr>\n",
       "  </tbody>\n",
       "</table>\n",
       "</div>"
      ],
      "text/plain": [
       "       product_id            sku  \\\n",
       "6961        65021      guarana27   \n",
       "13925       65335         coco38   \n",
       "8895        65308  frutadagron47   \n",
       "12003       65060         piña14   \n",
       "2352        65039       sandia21   \n",
       "\n",
       "                                                    name marca_value  \\\n",
       "6961      Bebida Bolero Sabor Guarana con Stevia 1 Sobre      Bolero   \n",
       "13925        Bebida Bolero Sabor Coco con Stevia 1 Sobre      Bolero   \n",
       "8895   Bebida Bolero Sabor Fruta de Dragon con Stevia...      Bolero   \n",
       "12003        Bebida Bolero Sabor Piña con Stevia 1 Sobre      Bolero   \n",
       "2352       Bebida Bolero Sabor Sandia con Stevia 1 Sobre      Bolero   \n",
       "\n",
       "                                       short_description analytic_category  \\\n",
       "6961   <p>Bebida instantánea sin azúcar, muy baja en ...               NaN   \n",
       "13925  <p>Bebida instantánea sin azúcar, muy baja en ...         Nutrición   \n",
       "8895   <p>Bebida instantánea sin azúcar, muy baja en ...         Nutrición   \n",
       "12003  <p>Bebida instantánea sin azúcar, muy baja en ...         Nutrición   \n",
       "2352   <p>Bebida instantánea sin azúcar, muy baja en ...         Nutrición   \n",
       "\n",
       "                                                 picture  \n",
       "6961   https://www.mifarma.es/media/catalog/product/g...  \n",
       "13925  https://www.mifarma.es/media/catalog/product/c...  \n",
       "8895   https://www.mifarma.es/media/catalog/product/f...  \n",
       "12003  https://www.mifarma.es/media/catalog/product/p...  \n",
       "2352   https://www.mifarma.es/media/catalog/product/s...  "
      ]
     },
     "execution_count": 15,
     "metadata": {},
     "output_type": "execute_result"
    }
   ],
   "source": [
    "df_products.loc[df_products['short_description'] == descriptions[0]].sample(n=5,random_state=seed)"
   ]
  },
  {
   "cell_type": "markdown",
   "metadata": {},
   "source": [
    "Resulta que la descripción se repite porque se trata de la misma bebida, pero en realidad son productos diferentes dado que tienen sabores diferentes (intuimos por el nombre) y también diferents **product_id** y **sku**. Veamos otro ejemplo *aleatorio*(*)."
   ]
  },
  {
   "cell_type": "code",
   "execution_count": 16,
   "metadata": {},
   "outputs": [
    {
     "data": {
      "text/html": [
       "<div>\n",
       "<style scoped>\n",
       "    .dataframe tbody tr th:only-of-type {\n",
       "        vertical-align: middle;\n",
       "    }\n",
       "\n",
       "    .dataframe tbody tr th {\n",
       "        vertical-align: top;\n",
       "    }\n",
       "\n",
       "    .dataframe thead th {\n",
       "        text-align: right;\n",
       "    }\n",
       "</style>\n",
       "<table border=\"1\" class=\"dataframe\">\n",
       "  <thead>\n",
       "    <tr style=\"text-align: right;\">\n",
       "      <th></th>\n",
       "      <th>product_id</th>\n",
       "      <th>sku</th>\n",
       "      <th>name</th>\n",
       "      <th>marca_value</th>\n",
       "      <th>short_description</th>\n",
       "      <th>analytic_category</th>\n",
       "      <th>picture</th>\n",
       "    </tr>\n",
       "  </thead>\n",
       "  <tbody>\n",
       "    <tr>\n",
       "      <th>4295</th>\n",
       "      <td>8140</td>\n",
       "      <td>CAU141</td>\n",
       "      <td>Caudalie Espuma Limpiadora Fleur De Vigne Tama...</td>\n",
       "      <td>Caudalie</td>\n",
       "      <td>&lt;p&gt;Espuma limpiadora suave y formulada &lt;strong...</td>\n",
       "      <td>Higiene</td>\n",
       "      <td>https://www.mifarma.es/media/catalog/product/c...</td>\n",
       "    </tr>\n",
       "    <tr>\n",
       "      <th>22579</th>\n",
       "      <td>8140</td>\n",
       "      <td>CAU141</td>\n",
       "      <td>Caudalie limpeza espuma viagens de tamanho Fle...</td>\n",
       "      <td>Caudalie</td>\n",
       "      <td>&lt;p&gt;Espuma limpiadora suave y formulada &lt;strong...</td>\n",
       "      <td>Higiene</td>\n",
       "      <td>https://www.mifarma.es/media/catalog/product/c...</td>\n",
       "    </tr>\n",
       "  </tbody>\n",
       "</table>\n",
       "</div>"
      ],
      "text/plain": [
       "       product_id     sku                                               name  \\\n",
       "4295         8140  CAU141  Caudalie Espuma Limpiadora Fleur De Vigne Tama...   \n",
       "22579        8140  CAU141  Caudalie limpeza espuma viagens de tamanho Fle...   \n",
       "\n",
       "      marca_value                                  short_description  \\\n",
       "4295     Caudalie  <p>Espuma limpiadora suave y formulada <strong...   \n",
       "22579    Caudalie  <p>Espuma limpiadora suave y formulada <strong...   \n",
       "\n",
       "      analytic_category                                            picture  \n",
       "4295            Higiene  https://www.mifarma.es/media/catalog/product/c...  \n",
       "22579           Higiene  https://www.mifarma.es/media/catalog/product/c...  "
      ]
     },
     "execution_count": 16,
     "metadata": {},
     "output_type": "execute_result"
    }
   ],
   "source": [
    "random.seed(seed)\n",
    "df_products.loc[df_products['short_description'] == descriptions[random.randint(0,len(descriptions)-1)]]"
   ]
  },
  {
   "cell_type": "markdown",
   "metadata": {},
   "source": [
    "Este caso es aun más extraño, ya que lo único que cambia es el nombre, pero ni el **product_id** ni el **sku** se ven afectados. Suponemos que es una peculiardid a la hora de organizar el catálogo por parte de la propia empresa"
   ]
  },
  {
   "cell_type": "markdown",
   "metadata": {},
   "source": [
    "### Categorías\n",
    "\n",
    "Esta es la variable con mayor porcentaje de valores perdidos. Dado que el otro archivo **products_categories.csv** detalla la categoría de los productos a través de la clave **sku**, no debería ser un problema recuperar los valores que faltan."
   ]
  },
  {
   "cell_type": "code",
   "execution_count": 17,
   "metadata": {},
   "outputs": [
    {
     "name": "stdout",
     "output_type": "stream",
     "text": [
      "Número de categorías : 10\n"
     ]
    }
   ],
   "source": [
    "print(f\"Número de categorías : {df_products['analytic_category'].nunique()}\")"
   ]
  },
  {
   "cell_type": "markdown",
   "metadata": {},
   "source": [
    "Como ya vimos en la descripción general del *dataset*, tan solo existen **10** categorías entre las que se reparten el catálogo de productos."
   ]
  },
  {
   "cell_type": "code",
   "execution_count": 18,
   "metadata": {},
   "outputs": [
    {
     "data": {
      "application/vnd.plotly.v1+json": {
       "config": {
        "plotlyServerURL": "https://plot.ly"
       },
       "data": [
        {
         "domain": {
          "x": [
           0,
           1
          ],
          "y": [
           0,
           1
          ]
         },
         "hovertemplate": "analytic_category=%{label}<br>count=%{value}<extra></extra>",
         "labels": [
          "Cosmética y Belleza",
          "Higiene",
          "Infantil",
          "Herbolario",
          "Nutrición",
          "Ortopedia",
          "Vida Íntima",
          "Óptica",
          "Perfumeria",
          "Veterinaria"
         ],
         "legendgroup": "",
         "name": "",
         "showlegend": true,
         "textinfo": "percent+label",
         "textposition": "inside",
         "type": "pie",
         "values": [
          8336,
          5410,
          4901,
          2801,
          1600,
          572,
          340,
          244,
          165,
          47
         ]
        }
       ],
       "layout": {
        "legend": {
         "tracegroupgap": 0
        },
        "piecolorway": [
         "rgb(141,211,199)",
         "rgb(255,255,179)",
         "rgb(190,186,218)",
         "rgb(251,128,114)",
         "rgb(128,177,211)",
         "rgb(253,180,98)",
         "rgb(179,222,105)",
         "rgb(252,205,229)",
         "rgb(217,217,217)",
         "rgb(188,128,189)",
         "rgb(204,235,197)",
         "rgb(255,237,111)"
        ],
        "template": {
         "data": {
          "bar": [
           {
            "error_x": {
             "color": "#2a3f5f"
            },
            "error_y": {
             "color": "#2a3f5f"
            },
            "marker": {
             "line": {
              "color": "#E5ECF6",
              "width": 0.5
             },
             "pattern": {
              "fillmode": "overlay",
              "size": 10,
              "solidity": 0.2
             }
            },
            "type": "bar"
           }
          ],
          "barpolar": [
           {
            "marker": {
             "line": {
              "color": "#E5ECF6",
              "width": 0.5
             },
             "pattern": {
              "fillmode": "overlay",
              "size": 10,
              "solidity": 0.2
             }
            },
            "type": "barpolar"
           }
          ],
          "carpet": [
           {
            "aaxis": {
             "endlinecolor": "#2a3f5f",
             "gridcolor": "white",
             "linecolor": "white",
             "minorgridcolor": "white",
             "startlinecolor": "#2a3f5f"
            },
            "baxis": {
             "endlinecolor": "#2a3f5f",
             "gridcolor": "white",
             "linecolor": "white",
             "minorgridcolor": "white",
             "startlinecolor": "#2a3f5f"
            },
            "type": "carpet"
           }
          ],
          "choropleth": [
           {
            "colorbar": {
             "outlinewidth": 0,
             "ticks": ""
            },
            "type": "choropleth"
           }
          ],
          "contour": [
           {
            "colorbar": {
             "outlinewidth": 0,
             "ticks": ""
            },
            "colorscale": [
             [
              0,
              "#0d0887"
             ],
             [
              0.1111111111111111,
              "#46039f"
             ],
             [
              0.2222222222222222,
              "#7201a8"
             ],
             [
              0.3333333333333333,
              "#9c179e"
             ],
             [
              0.4444444444444444,
              "#bd3786"
             ],
             [
              0.5555555555555556,
              "#d8576b"
             ],
             [
              0.6666666666666666,
              "#ed7953"
             ],
             [
              0.7777777777777778,
              "#fb9f3a"
             ],
             [
              0.8888888888888888,
              "#fdca26"
             ],
             [
              1,
              "#f0f921"
             ]
            ],
            "type": "contour"
           }
          ],
          "contourcarpet": [
           {
            "colorbar": {
             "outlinewidth": 0,
             "ticks": ""
            },
            "type": "contourcarpet"
           }
          ],
          "heatmap": [
           {
            "colorbar": {
             "outlinewidth": 0,
             "ticks": ""
            },
            "colorscale": [
             [
              0,
              "#0d0887"
             ],
             [
              0.1111111111111111,
              "#46039f"
             ],
             [
              0.2222222222222222,
              "#7201a8"
             ],
             [
              0.3333333333333333,
              "#9c179e"
             ],
             [
              0.4444444444444444,
              "#bd3786"
             ],
             [
              0.5555555555555556,
              "#d8576b"
             ],
             [
              0.6666666666666666,
              "#ed7953"
             ],
             [
              0.7777777777777778,
              "#fb9f3a"
             ],
             [
              0.8888888888888888,
              "#fdca26"
             ],
             [
              1,
              "#f0f921"
             ]
            ],
            "type": "heatmap"
           }
          ],
          "heatmapgl": [
           {
            "colorbar": {
             "outlinewidth": 0,
             "ticks": ""
            },
            "colorscale": [
             [
              0,
              "#0d0887"
             ],
             [
              0.1111111111111111,
              "#46039f"
             ],
             [
              0.2222222222222222,
              "#7201a8"
             ],
             [
              0.3333333333333333,
              "#9c179e"
             ],
             [
              0.4444444444444444,
              "#bd3786"
             ],
             [
              0.5555555555555556,
              "#d8576b"
             ],
             [
              0.6666666666666666,
              "#ed7953"
             ],
             [
              0.7777777777777778,
              "#fb9f3a"
             ],
             [
              0.8888888888888888,
              "#fdca26"
             ],
             [
              1,
              "#f0f921"
             ]
            ],
            "type": "heatmapgl"
           }
          ],
          "histogram": [
           {
            "marker": {
             "pattern": {
              "fillmode": "overlay",
              "size": 10,
              "solidity": 0.2
             }
            },
            "type": "histogram"
           }
          ],
          "histogram2d": [
           {
            "colorbar": {
             "outlinewidth": 0,
             "ticks": ""
            },
            "colorscale": [
             [
              0,
              "#0d0887"
             ],
             [
              0.1111111111111111,
              "#46039f"
             ],
             [
              0.2222222222222222,
              "#7201a8"
             ],
             [
              0.3333333333333333,
              "#9c179e"
             ],
             [
              0.4444444444444444,
              "#bd3786"
             ],
             [
              0.5555555555555556,
              "#d8576b"
             ],
             [
              0.6666666666666666,
              "#ed7953"
             ],
             [
              0.7777777777777778,
              "#fb9f3a"
             ],
             [
              0.8888888888888888,
              "#fdca26"
             ],
             [
              1,
              "#f0f921"
             ]
            ],
            "type": "histogram2d"
           }
          ],
          "histogram2dcontour": [
           {
            "colorbar": {
             "outlinewidth": 0,
             "ticks": ""
            },
            "colorscale": [
             [
              0,
              "#0d0887"
             ],
             [
              0.1111111111111111,
              "#46039f"
             ],
             [
              0.2222222222222222,
              "#7201a8"
             ],
             [
              0.3333333333333333,
              "#9c179e"
             ],
             [
              0.4444444444444444,
              "#bd3786"
             ],
             [
              0.5555555555555556,
              "#d8576b"
             ],
             [
              0.6666666666666666,
              "#ed7953"
             ],
             [
              0.7777777777777778,
              "#fb9f3a"
             ],
             [
              0.8888888888888888,
              "#fdca26"
             ],
             [
              1,
              "#f0f921"
             ]
            ],
            "type": "histogram2dcontour"
           }
          ],
          "mesh3d": [
           {
            "colorbar": {
             "outlinewidth": 0,
             "ticks": ""
            },
            "type": "mesh3d"
           }
          ],
          "parcoords": [
           {
            "line": {
             "colorbar": {
              "outlinewidth": 0,
              "ticks": ""
             }
            },
            "type": "parcoords"
           }
          ],
          "pie": [
           {
            "automargin": true,
            "type": "pie"
           }
          ],
          "scatter": [
           {
            "marker": {
             "colorbar": {
              "outlinewidth": 0,
              "ticks": ""
             }
            },
            "type": "scatter"
           }
          ],
          "scatter3d": [
           {
            "line": {
             "colorbar": {
              "outlinewidth": 0,
              "ticks": ""
             }
            },
            "marker": {
             "colorbar": {
              "outlinewidth": 0,
              "ticks": ""
             }
            },
            "type": "scatter3d"
           }
          ],
          "scattercarpet": [
           {
            "marker": {
             "colorbar": {
              "outlinewidth": 0,
              "ticks": ""
             }
            },
            "type": "scattercarpet"
           }
          ],
          "scattergeo": [
           {
            "marker": {
             "colorbar": {
              "outlinewidth": 0,
              "ticks": ""
             }
            },
            "type": "scattergeo"
           }
          ],
          "scattergl": [
           {
            "marker": {
             "colorbar": {
              "outlinewidth": 0,
              "ticks": ""
             }
            },
            "type": "scattergl"
           }
          ],
          "scattermapbox": [
           {
            "marker": {
             "colorbar": {
              "outlinewidth": 0,
              "ticks": ""
             }
            },
            "type": "scattermapbox"
           }
          ],
          "scatterpolar": [
           {
            "marker": {
             "colorbar": {
              "outlinewidth": 0,
              "ticks": ""
             }
            },
            "type": "scatterpolar"
           }
          ],
          "scatterpolargl": [
           {
            "marker": {
             "colorbar": {
              "outlinewidth": 0,
              "ticks": ""
             }
            },
            "type": "scatterpolargl"
           }
          ],
          "scatterternary": [
           {
            "marker": {
             "colorbar": {
              "outlinewidth": 0,
              "ticks": ""
             }
            },
            "type": "scatterternary"
           }
          ],
          "surface": [
           {
            "colorbar": {
             "outlinewidth": 0,
             "ticks": ""
            },
            "colorscale": [
             [
              0,
              "#0d0887"
             ],
             [
              0.1111111111111111,
              "#46039f"
             ],
             [
              0.2222222222222222,
              "#7201a8"
             ],
             [
              0.3333333333333333,
              "#9c179e"
             ],
             [
              0.4444444444444444,
              "#bd3786"
             ],
             [
              0.5555555555555556,
              "#d8576b"
             ],
             [
              0.6666666666666666,
              "#ed7953"
             ],
             [
              0.7777777777777778,
              "#fb9f3a"
             ],
             [
              0.8888888888888888,
              "#fdca26"
             ],
             [
              1,
              "#f0f921"
             ]
            ],
            "type": "surface"
           }
          ],
          "table": [
           {
            "cells": {
             "fill": {
              "color": "#EBF0F8"
             },
             "line": {
              "color": "white"
             }
            },
            "header": {
             "fill": {
              "color": "#C8D4E3"
             },
             "line": {
              "color": "white"
             }
            },
            "type": "table"
           }
          ]
         },
         "layout": {
          "annotationdefaults": {
           "arrowcolor": "#2a3f5f",
           "arrowhead": 0,
           "arrowwidth": 1
          },
          "autotypenumbers": "strict",
          "coloraxis": {
           "colorbar": {
            "outlinewidth": 0,
            "ticks": ""
           }
          },
          "colorscale": {
           "diverging": [
            [
             0,
             "#8e0152"
            ],
            [
             0.1,
             "#c51b7d"
            ],
            [
             0.2,
             "#de77ae"
            ],
            [
             0.3,
             "#f1b6da"
            ],
            [
             0.4,
             "#fde0ef"
            ],
            [
             0.5,
             "#f7f7f7"
            ],
            [
             0.6,
             "#e6f5d0"
            ],
            [
             0.7,
             "#b8e186"
            ],
            [
             0.8,
             "#7fbc41"
            ],
            [
             0.9,
             "#4d9221"
            ],
            [
             1,
             "#276419"
            ]
           ],
           "sequential": [
            [
             0,
             "#0d0887"
            ],
            [
             0.1111111111111111,
             "#46039f"
            ],
            [
             0.2222222222222222,
             "#7201a8"
            ],
            [
             0.3333333333333333,
             "#9c179e"
            ],
            [
             0.4444444444444444,
             "#bd3786"
            ],
            [
             0.5555555555555556,
             "#d8576b"
            ],
            [
             0.6666666666666666,
             "#ed7953"
            ],
            [
             0.7777777777777778,
             "#fb9f3a"
            ],
            [
             0.8888888888888888,
             "#fdca26"
            ],
            [
             1,
             "#f0f921"
            ]
           ],
           "sequentialminus": [
            [
             0,
             "#0d0887"
            ],
            [
             0.1111111111111111,
             "#46039f"
            ],
            [
             0.2222222222222222,
             "#7201a8"
            ],
            [
             0.3333333333333333,
             "#9c179e"
            ],
            [
             0.4444444444444444,
             "#bd3786"
            ],
            [
             0.5555555555555556,
             "#d8576b"
            ],
            [
             0.6666666666666666,
             "#ed7953"
            ],
            [
             0.7777777777777778,
             "#fb9f3a"
            ],
            [
             0.8888888888888888,
             "#fdca26"
            ],
            [
             1,
             "#f0f921"
            ]
           ]
          },
          "colorway": [
           "#636efa",
           "#EF553B",
           "#00cc96",
           "#ab63fa",
           "#FFA15A",
           "#19d3f3",
           "#FF6692",
           "#B6E880",
           "#FF97FF",
           "#FECB52"
          ],
          "font": {
           "color": "#2a3f5f"
          },
          "geo": {
           "bgcolor": "white",
           "lakecolor": "white",
           "landcolor": "#E5ECF6",
           "showlakes": true,
           "showland": true,
           "subunitcolor": "white"
          },
          "hoverlabel": {
           "align": "left"
          },
          "hovermode": "closest",
          "mapbox": {
           "style": "light"
          },
          "paper_bgcolor": "white",
          "plot_bgcolor": "#E5ECF6",
          "polar": {
           "angularaxis": {
            "gridcolor": "white",
            "linecolor": "white",
            "ticks": ""
           },
           "bgcolor": "#E5ECF6",
           "radialaxis": {
            "gridcolor": "white",
            "linecolor": "white",
            "ticks": ""
           }
          },
          "scene": {
           "xaxis": {
            "backgroundcolor": "#E5ECF6",
            "gridcolor": "white",
            "gridwidth": 2,
            "linecolor": "white",
            "showbackground": true,
            "ticks": "",
            "zerolinecolor": "white"
           },
           "yaxis": {
            "backgroundcolor": "#E5ECF6",
            "gridcolor": "white",
            "gridwidth": 2,
            "linecolor": "white",
            "showbackground": true,
            "ticks": "",
            "zerolinecolor": "white"
           },
           "zaxis": {
            "backgroundcolor": "#E5ECF6",
            "gridcolor": "white",
            "gridwidth": 2,
            "linecolor": "white",
            "showbackground": true,
            "ticks": "",
            "zerolinecolor": "white"
           }
          },
          "shapedefaults": {
           "line": {
            "color": "#2a3f5f"
           }
          },
          "ternary": {
           "aaxis": {
            "gridcolor": "white",
            "linecolor": "white",
            "ticks": ""
           },
           "baxis": {
            "gridcolor": "white",
            "linecolor": "white",
            "ticks": ""
           },
           "bgcolor": "#E5ECF6",
           "caxis": {
            "gridcolor": "white",
            "linecolor": "white",
            "ticks": ""
           }
          },
          "title": {
           "x": 0.05
          },
          "xaxis": {
           "automargin": true,
           "gridcolor": "white",
           "linecolor": "white",
           "ticks": "",
           "title": {
            "standoff": 15
           },
           "zerolinecolor": "white",
           "zerolinewidth": 2
          },
          "yaxis": {
           "automargin": true,
           "gridcolor": "white",
           "linecolor": "white",
           "ticks": "",
           "title": {
            "standoff": 15
           },
           "zerolinecolor": "white",
           "zerolinewidth": 2
          }
         }
        },
        "title": {
         "text": "Distribución de las categorías de productos"
        }
       }
      }
     },
     "metadata": {},
     "output_type": "display_data"
    }
   ],
   "source": [
    "df_categories = df_products[\"analytic_category\"].value_counts().reset_index()\n",
    "df_categories.columns = ['analytic_category', 'count']\n",
    "df_categories\n",
    "\n",
    "fig = px.pie(df_categories, values='count', names='analytic_category', title='Distribución de las categorías de productos',color_discrete_sequence=px.colors.qualitative.Set3)\n",
    "fig.update_traces(textposition='inside', textinfo='percent+label')\n",
    "fig.show()"
   ]
  },
  {
   "cell_type": "markdown",
   "metadata": {},
   "source": [
    "Por los productos más repetidos, podíamos ya intuir por donde \"irian los tiros\" en cuanto a las categorías. En primer lugar, *\"Cosmética y Belleza\"* forma el grupo más amplio de productos, siguiendole los de *\"Higiene\"* y los *\"Infantiles\"*. Recordemos que en el **top** de productos más repetidos encontramos sobre todo cosméticos y artículos para bebés."
   ]
  },
  {
   "cell_type": "code",
   "execution_count": 19,
   "metadata": {},
   "outputs": [
    {
     "data": {
      "text/plain": [
       "['Cosmética y Belleza',\n",
       " 'Higiene',\n",
       " 'Infantil',\n",
       " 'Herbolario',\n",
       " 'Nutrición',\n",
       " 'Ortopedia',\n",
       " 'Vida Íntima',\n",
       " 'Óptica',\n",
       " 'Perfumeria',\n",
       " 'Veterinaria']"
      ]
     },
     "execution_count": 19,
     "metadata": {},
     "output_type": "execute_result"
    }
   ],
   "source": [
    "# Nos quedamos solamente con las categorias\n",
    "categories = df_categories['analytic_category'].to_list()\n",
    "categories"
   ]
  },
  {
   "cell_type": "code",
   "execution_count": 20,
   "metadata": {},
   "outputs": [
    {
     "name": "stdout",
     "output_type": "stream",
     "text": [
      "Hay 8311 productos dentro de Cosmética y Belleza\n",
      "Hay 343 marcas dentro de Cosmética y Belleza\n",
      "------------------\n",
      "Los productos más comunes dentro de la categoría\n",
      "\n",
      "Phytolium 4 Anti-caida 12 Dosis (-20% DTO)                                          2\n",
      "NeoStrata Pack Skin Active Matrix Support SPF30 50ml + Cellular Restoration 50ml    2\n",
      "Naturia Champu Uso Frecuente RENE Furterer 500ml                                    2\n",
      "Hidrotelial Bálsamo Reparador Nariz y Labios SPF15 10 ml                            2\n",
      "Vichy Liftactiv Flexilift Maquillaje 30 ml Color Nº55 Bronce                        2\n",
      "Name: name, dtype: int64\n",
      "------------------\n",
      "Las marcas más comunes (nºprod) dentro de la categoría\n",
      "\n",
      "Sesderma          360\n",
      "La Roche Posay    271\n",
      "Isdin             270\n",
      "Beter             244\n",
      "Nuxe              202\n",
      "Name: marca_value, dtype: int64\n"
     ]
    }
   ],
   "source": [
    "df_pr_cat = df_products[df_products['analytic_category'] == categories[0]][['name','marca_value']]\n",
    "print(f\"Hay {df_pr_cat['name'].nunique()} productos dentro de {categories[0]}\")\n",
    "print(f\"Hay {df_pr_cat['marca_value'].nunique()} marcas dentro de {categories[0]}\")\n",
    "print('------------------')\n",
    "print(\"Los productos más comunes dentro de la categoría\\n\")\n",
    "products = df_pr_cat['name'].value_counts()[:5]\n",
    "print(products)\n",
    "print('------------------')\n",
    "print(\"Las marcas más comunes (nºprod) dentro de la categoría\\n\")\n",
    "marcas = df_pr_cat['marca_value'].value_counts()[:5]\n",
    "print(marcas)"
   ]
  },
  {
   "cell_type": "code",
   "execution_count": 21,
   "metadata": {},
   "outputs": [
    {
     "name": "stdout",
     "output_type": "stream",
     "text": [
      "Hay 5390 productos dentro de Higiene\n",
      "Hay 369 marcas dentro de Higiene\n",
      "------------------\n",
      "Los productos más comunes dentro de la categoría\n",
      "\n",
      "Champu Cebolla Nuggela 250 ml                          2\n",
      "Germisdin Higiene Corporal Piel Seca 1 Litro           2\n",
      "Bioderma Atoderm Gel Moussant 500 ml                   2\n",
      "Fluorkin Pasta Dentifrica Junior Cola 75ml             2\n",
      "Babaria Crema Facial Antiarrugas Rosa Mosqueta 50ml    2\n",
      "Name: name, dtype: int64\n",
      "------------------\n",
      "Las marcas más comunes (nºprod) dentro de la categorían\n",
      "\n",
      "Lacer      174\n",
      "Kin        133\n",
      "Apivita    127\n",
      "Isdin      123\n",
      "Ziaja      120\n",
      "Name: marca_value, dtype: int64\n"
     ]
    }
   ],
   "source": [
    "df_pr_cat = df_products[df_products['analytic_category'] == categories[1]][['name','marca_value']]\n",
    "print(f\"Hay {df_pr_cat['name'].nunique()} productos dentro de {categories[1]}\")\n",
    "print(f\"Hay {df_pr_cat['marca_value'].nunique()} marcas dentro de {categories[1]}\")\n",
    "print('------------------')\n",
    "print(\"Los productos más comunes dentro de la categoría\\n\")\n",
    "products = df_pr_cat['name'].value_counts()[:5]\n",
    "print(products)\n",
    "print('------------------')\n",
    "print(\"Las marcas más comunes (nºprod) dentro de la categorían\\n\")\n",
    "marcas = df_pr_cat['marca_value'].value_counts()[:5]\n",
    "print(marcas)"
   ]
  },
  {
   "cell_type": "markdown",
   "metadata": {},
   "source": [
    "Es curioso que a pesar de que *Cosmética y Belleza* sea la categoría *\"más común\"*, alberga menos marcas que la segunda categoría más común que es *Higiene*."
   ]
  },
  {
   "cell_type": "markdown",
   "metadata": {},
   "source": [
    "### Imágenes \n",
    "\n",
    "La última variable que nos queda por explorar son los enlaces proporcionados de cada uno de los productos. Lo único que podemos hacer es ver como se compone la **URL** y ver si tenemos acceso a realizar peticiones a estas mismas."
   ]
  },
  {
   "cell_type": "code",
   "execution_count": 22,
   "metadata": {},
   "outputs": [
    {
     "name": "stdout",
     "output_type": "stream",
     "text": [
      "Extensión de los archivos de imagen\n",
      "\n",
      "Hay 27945.0 de tipo JPG\n",
      "Hay 0.0 de tipo PNG\n",
      "Hay 0.0 de tipo BMP\n",
      "Hay 0.0 de tipo SVG\n"
     ]
    }
   ],
   "source": [
    "print(\"Extensión de los archivos de imagen\\n\")\n",
    "print(\"Hay {} de tipo JPG\".format(df_products['picture'].str.count(r'(\\.jpg)').sum()))\n",
    "print(\"Hay {} de tipo PNG\".format(df_products['picture'].str.count(r'(\\.png)').sum()))\n",
    "print(\"Hay {} de tipo BMP\".format(df_products['picture'].str.count(r'(\\.bmp)').sum()))\n",
    "print(\"Hay {} de tipo SVG\".format(df_products['picture'].str.count(r'(\\\\.svg)').sum()))"
   ]
  },
  {
   "cell_type": "code",
   "execution_count": 23,
   "metadata": {},
   "outputs": [
    {
     "data": {
      "text/plain": [
       "['https://www.mifarma.es/media/catalog/product/m/i/misupi_.jpg',\n",
       " 'https://www.mifarma.es/media/catalog/product/4/1/41401_.jpg',\n",
       " 'https://www.mifarma.es/media/catalog/product/1/5/152307_.jpg',\n",
       " 'https://www.mifarma.es/media/catalog/product/b/n/bn013_.jpg',\n",
       " 'https://www.mifarma.es/media/catalog/product/4/4/44701381_.jpg',\n",
       " 'https://www.mifarma.es/media/catalog/product/2/3/232330_.jpg',\n",
       " 'https://www.mifarma.es/media/catalog/product/4/2/425851_.jpg',\n",
       " 'https://www.mifarma.es/media/catalog/product/2/4/246253.duplo_.jpg',\n",
       " 'https://www.mifarma.es/media/catalog/product/1/7/170203_.jpg',\n",
       " 'https://www.mifarma.es/media/catalog/product/m/n/mn11010u_.jpg']"
      ]
     },
     "execution_count": 23,
     "metadata": {},
     "output_type": "execute_result"
    }
   ],
   "source": [
    "# Nos quedamos con algunas imágenes aleatorias*\n",
    "pictures = df_products['picture'].sample(n=10,random_state=seed).to_list()\n",
    "pictures"
   ]
  },
  {
   "cell_type": "markdown",
   "metadata": {},
   "source": [
    "Las fotos están organizadas por carpetas con codificación alfanumérica en las hojas del árbol de directorios, partiendo que la raíz es **media** que deriva en **catalog** y este a su vez en **product**. Veamos si coincide con su **product_id** o quizás con **sku**."
   ]
  },
  {
   "cell_type": "code",
   "execution_count": 24,
   "metadata": {},
   "outputs": [
    {
     "name": "stdout",
     "output_type": "stream",
     "text": [
      "El nombre del fichero es bn013_\n",
      "----------------\n",
      "Filtrando por product_id\n",
      "\n",
      "[]\n",
      "----------------\n",
      "Filtrando por sku\n",
      "\n",
      "[]\n"
     ]
    }
   ],
   "source": [
    "random.seed(seed)\n",
    "picture = pictures[random.randint(0,len(pictures)-1)] # Imagen al azar* \n",
    "pattern = re.compile(r'([\\w]+)(\\.jpg)') # Buscamos el nombre del fichero con la extenstion\n",
    "file_name = pattern.search(picture).group(1) # Sacamos solamente el grupo del nombre\n",
    "print(f\"El nombre del fichero es {file_name}\") \n",
    "print('----------------')\n",
    "# Probamos con product_idp --> quitamos el \"slash\" nombre\n",
    "print(\"Filtrando por product_id\\n\")\n",
    "print(df_products[(df_products['product_id'] == file_name[:-1]) & (df_products['picture'] == picture)].to_records())\n",
    "print('----------------')\n",
    "# Probamos con sku  --> quitamos el \"slash\" nombre\n",
    "print(\"Filtrando por sku\\n\")\n",
    "print(df_products[(df_products['sku'] == file_name[:-1]) & (df_products['picture'] == picture)].to_records())"
   ]
  },
  {
   "cell_type": "markdown",
   "metadata": {},
   "source": [
    "Vemos efectivamente como el nombre del fichero coincide con el código del producto. \n",
    "\n",
    "**NOTA**\n",
    "\n",
    "Al haber tantos productos, consideramos innecesario ir uno a uno comprobando si esta regla se cumple. Por tanto, daremos por hecho que no siempre se dará el caso."
   ]
  },
  {
   "cell_type": "code",
   "execution_count": 25,
   "metadata": {},
   "outputs": [
    {
     "name": "stdout",
     "output_type": "stream",
     "text": [
      "HTTP Error 410: Gone\n",
      "https://www.mifarma.es/media/catalog/product/m/i/misupi_.jpg\n",
      "HTTP Error 410: Gone\n",
      "https://www.mifarma.es/media/catalog/product/4/1/41401_.jpg\n",
      "HTTP Error 410: Gone\n",
      "https://www.mifarma.es/media/catalog/product/1/5/152307_.jpg\n",
      "HTTP Error 410: Gone\n",
      "https://www.mifarma.es/media/catalog/product/b/n/bn013_.jpg\n",
      "HTTP Error 410: Gone\n",
      "https://www.mifarma.es/media/catalog/product/4/4/44701381_.jpg\n",
      "HTTP Error 410: Gone\n",
      "https://www.mifarma.es/media/catalog/product/2/3/232330_.jpg\n",
      "HTTP Error 410: Gone\n",
      "https://www.mifarma.es/media/catalog/product/4/2/425851_.jpg\n",
      "HTTP Error 410: Gone\n",
      "https://www.mifarma.es/media/catalog/product/2/4/246253.duplo_.jpg\n",
      "HTTP Error 410: Gone\n",
      "https://www.mifarma.es/media/catalog/product/1/7/170203_.jpg\n",
      "HTTP Error 410: Gone\n",
      "https://www.mifarma.es/media/catalog/product/m/n/mn11010u_.jpg\n"
     ]
    }
   ],
   "source": [
    "for picture in pictures:\n",
    "    try:\n",
    "        Image(url=picture,embed=True)\n",
    "    except HTTPError as e:\n",
    "        print(e)\n",
    "    print(picture)"
   ]
  },
  {
   "cell_type": "markdown",
   "metadata": {},
   "source": [
    "Parece ser que no es posible recuperar ningunas de las imágenes debido a un error **HTTP 410** que nos indica que el fichero ya no está disponible. Consideramos que esto ocurrirá con todas las fotos, no solamente con el *sample*, ya que se tratan de datos de 2017 y 2018, por lo que ha habido tiempo suficiente como para que MiFarma haya cambiado tanto de productos, como de sus imágenes por algunas más actuales."
   ]
  },
  {
   "cell_type": "markdown",
   "metadata": {},
   "source": [
    "## Conclusiones \n",
    "\n",
    "De este análisis deducimos lo siguiente:\n",
    "\n",
    "- Existe un **12%** de valores perdidos para el atributo *analytic_category*\n",
    "- Las descripciones contienen etiquetas HTML\n",
    "- Las URLs del campo de *picture* están obsoletos\n",
    "- Hay una gran variedad de marcas de productos, algunas más frecuentes que otras al igual que pasa con la distribución de las categorías"
   ]
  }
 ],
 "metadata": {
  "interpreter": {
   "hash": "f22a20af907fde35ff19e1e892fdb271353fb19b11c7ebd774491472e685293c"
  },
  "kernelspec": {
   "display_name": "Python 3.9.10 64-bit",
   "language": "python",
   "name": "python3"
  },
  "language_info": {
   "codemirror_mode": {
    "name": "ipython",
    "version": 3
   },
   "file_extension": ".py",
   "mimetype": "text/x-python",
   "name": "python",
   "nbconvert_exporter": "python",
   "pygments_lexer": "ipython3",
   "version": "3.8.9"
  },
  "orig_nbformat": 4
 },
 "nbformat": 4,
 "nbformat_minor": 2
}
