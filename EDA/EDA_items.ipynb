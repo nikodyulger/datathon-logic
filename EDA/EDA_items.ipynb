{
 "cells": [
  {
   "cell_type": "markdown",
   "metadata": {},
   "source": [
    "# Análisis exploratorio de *items_ordered_2years*"
   ]
  },
  {
   "cell_type": "markdown",
   "metadata": {},
   "source": [
    "En este cuadeerno se detalla el proceso de análisis de datos de los pedidos realizados"
   ]
  },
  {
   "cell_type": "markdown",
   "metadata": {},
   "source": [
    "# Índice de Contenidos"
   ]
  },
  {
   "cell_type": "markdown",
   "metadata": {},
   "source": [
    "1. Importación de paquetes\n",
    "2. Carga de datos\n",
    "3. Análisis de los datos\n",
    "\n",
    "    3.1. Variables\n",
    "\n",
    "    3.2. Duplicados\n",
    "\n",
    "    3.3. Clientes\n",
    "\n",
    "    3.4. Ventas totales\n",
    "\n",
    "    3.5. Ventas por localización\n",
    "    \n",
    "4. Conclusiones"
   ]
  },
  {
   "cell_type": "markdown",
   "metadata": {},
   "source": [
    "## Importación de paquetes"
   ]
  },
  {
   "cell_type": "markdown",
   "metadata": {},
   "source": [
    "Cargamos las librerías a usar."
   ]
  },
  {
   "cell_type": "code",
   "execution_count": 53,
   "metadata": {},
   "outputs": [],
   "source": [
    "import pandas as pd\n",
    "import plotly.express as px\n",
    "import random\n",
    "\n",
    "seed = 124\n",
    "random.seed(seed)"
   ]
  },
  {
   "cell_type": "markdown",
   "metadata": {},
   "source": [
    "## Carga de datos"
   ]
  },
  {
   "cell_type": "markdown",
   "metadata": {},
   "source": [
    "Abrimos el fichero y lo cargamos para poder manejar la información"
   ]
  },
  {
   "cell_type": "code",
   "execution_count": 54,
   "metadata": {},
   "outputs": [
    {
     "data": {
      "text/html": [
       "<div>\n",
       "<style scoped>\n",
       "    .dataframe tbody tr th:only-of-type {\n",
       "        vertical-align: middle;\n",
       "    }\n",
       "\n",
       "    .dataframe tbody tr th {\n",
       "        vertical-align: top;\n",
       "    }\n",
       "\n",
       "    .dataframe thead th {\n",
       "        text-align: right;\n",
       "    }\n",
       "</style>\n",
       "<table border=\"1\" class=\"dataframe\">\n",
       "  <thead>\n",
       "    <tr style=\"text-align: right;\">\n",
       "      <th></th>\n",
       "      <th>num_order</th>\n",
       "      <th>item_id</th>\n",
       "      <th>created_at</th>\n",
       "      <th>product_id</th>\n",
       "      <th>qty_ordered</th>\n",
       "      <th>base_cost</th>\n",
       "      <th>price</th>\n",
       "      <th>discount_percent</th>\n",
       "      <th>customer_id</th>\n",
       "      <th>city</th>\n",
       "      <th>zipcode</th>\n",
       "    </tr>\n",
       "  </thead>\n",
       "  <tbody>\n",
       "    <tr>\n",
       "      <th>117430</th>\n",
       "      <td>3144f70e73aabd87886a92c499134ec6</td>\n",
       "      <td>84492c3f9eeefe8f358b9f78d42e6d51</td>\n",
       "      <td>2017-06-06 19:47:26</td>\n",
       "      <td>15054</td>\n",
       "      <td>1</td>\n",
       "      <td>37.8377</td>\n",
       "      <td>41.28</td>\n",
       "      <td>9.0</td>\n",
       "      <td>cc2905f9c3e5fcda4d1878b57c486a54</td>\n",
       "      <td>VITORIA</td>\n",
       "      <td>01007</td>\n",
       "    </tr>\n",
       "    <tr>\n",
       "      <th>835866</th>\n",
       "      <td>8dbfe1ffec173f2e8a44a85dd66278ab</td>\n",
       "      <td>64f6ad39241754101366880979e9b831</td>\n",
       "      <td>2018-11-24 14:30:23</td>\n",
       "      <td>55454</td>\n",
       "      <td>1</td>\n",
       "      <td>7.0833</td>\n",
       "      <td>8.85</td>\n",
       "      <td>20.0</td>\n",
       "      <td>f74d36ac2995966d36a8c7c29c0167fa</td>\n",
       "      <td>Zaragoza</td>\n",
       "      <td>50019</td>\n",
       "    </tr>\n",
       "    <tr>\n",
       "      <th>298248</th>\n",
       "      <td>a4403564192ddabe89734bcfddc32eb2</td>\n",
       "      <td>060541582b058837fe2708225b7a10d9</td>\n",
       "      <td>2017-11-27 09:23:45</td>\n",
       "      <td>2284</td>\n",
       "      <td>1</td>\n",
       "      <td>6.8250</td>\n",
       "      <td>8.05</td>\n",
       "      <td>8.0</td>\n",
       "      <td>f8ae06846397f55bc9e7c063f960207e</td>\n",
       "      <td>CIUDAD RODRIGO</td>\n",
       "      <td>37500</td>\n",
       "    </tr>\n",
       "    <tr>\n",
       "      <th>103857</th>\n",
       "      <td>d52995ca3b208edbffe643d5ad2e5b50</td>\n",
       "      <td>f033b7a59a6dbe537891c73b20b30a83</td>\n",
       "      <td>2017-05-13 08:27:06</td>\n",
       "      <td>12051</td>\n",
       "      <td>1</td>\n",
       "      <td>2.6111</td>\n",
       "      <td>4.10</td>\n",
       "      <td>5.0</td>\n",
       "      <td>121aea0f7e1978bf3f457d50d20aaa03</td>\n",
       "      <td>POZOBLANCO</td>\n",
       "      <td>14400</td>\n",
       "    </tr>\n",
       "    <tr>\n",
       "      <th>180683</th>\n",
       "      <td>e753adf54a219db2e06fe9345ae4eb9a</td>\n",
       "      <td>587ab92d5cb201abeb9b0506fea500d5</td>\n",
       "      <td>2017-07-29 18:32:54</td>\n",
       "      <td>11242</td>\n",
       "      <td>1</td>\n",
       "      <td>4.7902</td>\n",
       "      <td>7.75</td>\n",
       "      <td>9.0</td>\n",
       "      <td>facafe93eba27034473c7b57d8902e0d</td>\n",
       "      <td>CIUDAD REAL</td>\n",
       "      <td>13002</td>\n",
       "    </tr>\n",
       "  </tbody>\n",
       "</table>\n",
       "</div>"
      ],
      "text/plain": [
       "                               num_order                           item_id  \\\n",
       "117430  3144f70e73aabd87886a92c499134ec6  84492c3f9eeefe8f358b9f78d42e6d51   \n",
       "835866  8dbfe1ffec173f2e8a44a85dd66278ab  64f6ad39241754101366880979e9b831   \n",
       "298248  a4403564192ddabe89734bcfddc32eb2  060541582b058837fe2708225b7a10d9   \n",
       "103857  d52995ca3b208edbffe643d5ad2e5b50  f033b7a59a6dbe537891c73b20b30a83   \n",
       "180683  e753adf54a219db2e06fe9345ae4eb9a  587ab92d5cb201abeb9b0506fea500d5   \n",
       "\n",
       "                created_at  product_id  qty_ordered  base_cost  price  \\\n",
       "117430 2017-06-06 19:47:26       15054            1    37.8377  41.28   \n",
       "835866 2018-11-24 14:30:23       55454            1     7.0833   8.85   \n",
       "298248 2017-11-27 09:23:45        2284            1     6.8250   8.05   \n",
       "103857 2017-05-13 08:27:06       12051            1     2.6111   4.10   \n",
       "180683 2017-07-29 18:32:54       11242            1     4.7902   7.75   \n",
       "\n",
       "        discount_percent                       customer_id             city  \\\n",
       "117430               9.0  cc2905f9c3e5fcda4d1878b57c486a54         VITORIA    \n",
       "835866              20.0  f74d36ac2995966d36a8c7c29c0167fa         Zaragoza   \n",
       "298248               8.0  f8ae06846397f55bc9e7c063f960207e  CIUDAD RODRIGO    \n",
       "103857               5.0  121aea0f7e1978bf3f457d50d20aaa03       POZOBLANCO   \n",
       "180683               9.0  facafe93eba27034473c7b57d8902e0d      CIUDAD REAL   \n",
       "\n",
       "       zipcode  \n",
       "117430   01007  \n",
       "835866   50019  \n",
       "298248   37500  \n",
       "103857   14400  \n",
       "180683   13002  "
      ]
     },
     "execution_count": 54,
     "metadata": {},
     "output_type": "execute_result"
    }
   ],
   "source": [
    "df_items = pd.read_csv('../Data/items_ordered_2years.txt', sep='|', on_bad_lines='skip',parse_dates=['created_at'])\n",
    "df_items.sample(5, random_state=seed)"
   ]
  },
  {
   "cell_type": "markdown",
   "metadata": {},
   "source": [
    "## Análisis de los datos"
   ]
  },
  {
   "cell_type": "markdown",
   "metadata": {},
   "source": [
    "En este apartado se analizarán todas las características de las variables"
   ]
  },
  {
   "cell_type": "code",
   "execution_count": 55,
   "metadata": {},
   "outputs": [
    {
     "name": "stdout",
     "output_type": "stream",
     "text": [
      "Dimensiones de los datos: (930905, 11)\n"
     ]
    }
   ],
   "source": [
    "print(\"Dimensiones de los datos:\", df_items.shape)"
   ]
  },
  {
   "cell_type": "code",
   "execution_count": 56,
   "metadata": {},
   "outputs": [
    {
     "data": {
      "text/plain": [
       "num_order              0\n",
       "item_id                0\n",
       "created_at             0\n",
       "product_id             0\n",
       "qty_ordered            0\n",
       "base_cost           2402\n",
       "price                  0\n",
       "discount_percent       0\n",
       "customer_id            0\n",
       "city                3007\n",
       "zipcode             3004\n",
       "dtype: int64"
      ]
     },
     "execution_count": 56,
     "metadata": {},
     "output_type": "execute_result"
    }
   ],
   "source": [
    "df_items.isna().sum()"
   ]
  },
  {
   "cell_type": "markdown",
   "metadata": {},
   "source": [
    "Existen datos perdidos o no proporcionados de 3 variables distintas"
   ]
  },
  {
   "cell_type": "code",
   "execution_count": 57,
   "metadata": {},
   "outputs": [
    {
     "name": "stdout",
     "output_type": "stream",
     "text": [
      "     column_name  percent_missing\n",
      "            city         0.323019\n",
      "         zipcode         0.322697\n",
      "       base_cost         0.258028\n",
      "       num_order         0.000000\n",
      "         item_id         0.000000\n",
      "      created_at         0.000000\n",
      "      product_id         0.000000\n",
      "     qty_ordered         0.000000\n",
      "           price         0.000000\n",
      "discount_percent         0.000000\n",
      "     customer_id         0.000000\n"
     ]
    }
   ],
   "source": [
    "percent_missing = df_items.isnull().sum() * 100 / df_items.shape[0]\n",
    "df_missing_values = pd.DataFrame({ \n",
    "    'column_name': df_items.columns,\n",
    "    'percent_missing': percent_missing\n",
    "})\n",
    "df_missing_values.sort_values(by='percent_missing',ascending=False,inplace=True)\n",
    "print(df_missing_values.to_string(index=False))"
   ]
  },
  {
   "cell_type": "markdown",
   "metadata": {},
   "source": [
    "Aunque haya datos perdidos, estos no representan una gran proporción respecto al dataset"
   ]
  },
  {
   "cell_type": "code",
   "execution_count": 58,
   "metadata": {},
   "outputs": [
    {
     "name": "stdout",
     "output_type": "stream",
     "text": [
      "<class 'pandas.core.frame.DataFrame'>\n",
      "RangeIndex: 930905 entries, 0 to 930904\n",
      "Data columns (total 11 columns):\n",
      " #   Column            Non-Null Count   Dtype         \n",
      "---  ------            --------------   -----         \n",
      " 0   num_order         930905 non-null  object        \n",
      " 1   item_id           930905 non-null  object        \n",
      " 2   created_at        930905 non-null  datetime64[ns]\n",
      " 3   product_id        930905 non-null  int64         \n",
      " 4   qty_ordered       930905 non-null  int64         \n",
      " 5   base_cost         928503 non-null  float64       \n",
      " 6   price             930905 non-null  float64       \n",
      " 7   discount_percent  930905 non-null  float64       \n",
      " 8   customer_id       930905 non-null  object        \n",
      " 9   city              927898 non-null  object        \n",
      " 10  zipcode           927901 non-null  object        \n",
      "dtypes: datetime64[ns](1), float64(3), int64(2), object(5)\n",
      "memory usage: 60.4+ MB\n"
     ]
    }
   ],
   "source": [
    "df_items.info()"
   ]
  },
  {
   "cell_type": "markdown",
   "metadata": {},
   "source": [
    "Podemos observar que tenemos 1 variable de tipo fecha, 2 variables que son números enteros (el identificador de producto y la cantidad pedida), 3 variables son números decimales (precio base, precio de venta y porcentaje de descuento) y las demás variables que son clásificadas como tipo **object** también las podemos considerar de tipo *string*"
   ]
  },
  {
   "cell_type": "code",
   "execution_count": 59,
   "metadata": {},
   "outputs": [
    {
     "data": {
      "text/html": [
       "<div>\n",
       "<style scoped>\n",
       "    .dataframe tbody tr th:only-of-type {\n",
       "        vertical-align: middle;\n",
       "    }\n",
       "\n",
       "    .dataframe tbody tr th {\n",
       "        vertical-align: top;\n",
       "    }\n",
       "\n",
       "    .dataframe thead th {\n",
       "        text-align: right;\n",
       "    }\n",
       "</style>\n",
       "<table border=\"1\" class=\"dataframe\">\n",
       "  <thead>\n",
       "    <tr style=\"text-align: right;\">\n",
       "      <th></th>\n",
       "      <th>product_id</th>\n",
       "      <th>qty_ordered</th>\n",
       "      <th>base_cost</th>\n",
       "      <th>price</th>\n",
       "      <th>discount_percent</th>\n",
       "    </tr>\n",
       "  </thead>\n",
       "  <tbody>\n",
       "    <tr>\n",
       "      <th>count</th>\n",
       "      <td>930905.000000</td>\n",
       "      <td>930905.000000</td>\n",
       "      <td>928503.00000</td>\n",
       "      <td>930905.000000</td>\n",
       "      <td>930905.000000</td>\n",
       "    </tr>\n",
       "    <tr>\n",
       "      <th>mean</th>\n",
       "      <td>28608.778755</td>\n",
       "      <td>1.354653</td>\n",
       "      <td>8.49795</td>\n",
       "      <td>10.883495</td>\n",
       "      <td>8.188974</td>\n",
       "    </tr>\n",
       "    <tr>\n",
       "      <th>std</th>\n",
       "      <td>26808.254585</td>\n",
       "      <td>1.280747</td>\n",
       "      <td>77.50866</td>\n",
       "      <td>9.888217</td>\n",
       "      <td>6.760173</td>\n",
       "    </tr>\n",
       "    <tr>\n",
       "      <th>min</th>\n",
       "      <td>85.000000</td>\n",
       "      <td>1.000000</td>\n",
       "      <td>-164.79740</td>\n",
       "      <td>0.000000</td>\n",
       "      <td>1.000000</td>\n",
       "    </tr>\n",
       "    <tr>\n",
       "      <th>25%</th>\n",
       "      <td>6480.000000</td>\n",
       "      <td>1.000000</td>\n",
       "      <td>3.30470</td>\n",
       "      <td>4.690000</td>\n",
       "      <td>5.000000</td>\n",
       "    </tr>\n",
       "    <tr>\n",
       "      <th>50%</th>\n",
       "      <td>14765.000000</td>\n",
       "      <td>1.000000</td>\n",
       "      <td>6.09540</td>\n",
       "      <td>8.220000</td>\n",
       "      <td>6.000000</td>\n",
       "    </tr>\n",
       "    <tr>\n",
       "      <th>75%</th>\n",
       "      <td>50567.000000</td>\n",
       "      <td>1.000000</td>\n",
       "      <td>10.46500</td>\n",
       "      <td>13.960000</td>\n",
       "      <td>10.000000</td>\n",
       "    </tr>\n",
       "    <tr>\n",
       "      <th>max</th>\n",
       "      <td>98205.000000</td>\n",
       "      <td>120.000000</td>\n",
       "      <td>47251.00000</td>\n",
       "      <td>650.830000</td>\n",
       "      <td>100.000000</td>\n",
       "    </tr>\n",
       "  </tbody>\n",
       "</table>\n",
       "</div>"
      ],
      "text/plain": [
       "          product_id    qty_ordered     base_cost          price  \\\n",
       "count  930905.000000  930905.000000  928503.00000  930905.000000   \n",
       "mean    28608.778755       1.354653       8.49795      10.883495   \n",
       "std     26808.254585       1.280747      77.50866       9.888217   \n",
       "min        85.000000       1.000000    -164.79740       0.000000   \n",
       "25%      6480.000000       1.000000       3.30470       4.690000   \n",
       "50%     14765.000000       1.000000       6.09540       8.220000   \n",
       "75%     50567.000000       1.000000      10.46500      13.960000   \n",
       "max     98205.000000     120.000000   47251.00000     650.830000   \n",
       "\n",
       "       discount_percent  \n",
       "count     930905.000000  \n",
       "mean           8.188974  \n",
       "std            6.760173  \n",
       "min            1.000000  \n",
       "25%            5.000000  \n",
       "50%            6.000000  \n",
       "75%           10.000000  \n",
       "max          100.000000  "
      ]
     },
     "execution_count": 59,
     "metadata": {},
     "output_type": "execute_result"
    }
   ],
   "source": [
    "df_items.describe()"
   ]
  },
  {
   "cell_type": "markdown",
   "metadata": {},
   "source": [
    "Al echar un vistazo por encima nos podemos dar cuenta de un par de cosas un tanto *extrañas*:\n",
    "* El mínimo precio base es negativo\n",
    "* El mínimo precio de venta es 0\n",
    "* El mínimo porcentaje de descuento es 1, por lo tanto no hay ningún pedido que no tenga aplicado un porcentaje de descuento"
   ]
  },
  {
   "cell_type": "code",
   "execution_count": 60,
   "metadata": {},
   "outputs": [
    {
     "data": {
      "text/html": [
       "<div>\n",
       "<style scoped>\n",
       "    .dataframe tbody tr th:only-of-type {\n",
       "        vertical-align: middle;\n",
       "    }\n",
       "\n",
       "    .dataframe tbody tr th {\n",
       "        vertical-align: top;\n",
       "    }\n",
       "\n",
       "    .dataframe thead th {\n",
       "        text-align: right;\n",
       "    }\n",
       "</style>\n",
       "<table border=\"1\" class=\"dataframe\">\n",
       "  <thead>\n",
       "    <tr style=\"text-align: right;\">\n",
       "      <th></th>\n",
       "      <th>num_order</th>\n",
       "      <th>item_id</th>\n",
       "      <th>customer_id</th>\n",
       "      <th>city</th>\n",
       "      <th>zipcode</th>\n",
       "    </tr>\n",
       "  </thead>\n",
       "  <tbody>\n",
       "    <tr>\n",
       "      <th>count</th>\n",
       "      <td>930905</td>\n",
       "      <td>930905</td>\n",
       "      <td>930905</td>\n",
       "      <td>927898</td>\n",
       "      <td>927901</td>\n",
       "    </tr>\n",
       "    <tr>\n",
       "      <th>unique</th>\n",
       "      <td>278040</td>\n",
       "      <td>906266</td>\n",
       "      <td>118796</td>\n",
       "      <td>20993</td>\n",
       "      <td>11116</td>\n",
       "    </tr>\n",
       "    <tr>\n",
       "      <th>top</th>\n",
       "      <td>8edd335c2683fd27bdb93326db66b99f</td>\n",
       "      <td>642b9b87df5b13e91ce86962684c2613</td>\n",
       "      <td>60d097f001dd2ee8c9989434307a5c2b</td>\n",
       "      <td>Madrid</td>\n",
       "      <td>28050</td>\n",
       "    </tr>\n",
       "    <tr>\n",
       "      <th>freq</th>\n",
       "      <td>60</td>\n",
       "      <td>3</td>\n",
       "      <td>870</td>\n",
       "      <td>69308</td>\n",
       "      <td>5355</td>\n",
       "    </tr>\n",
       "  </tbody>\n",
       "</table>\n",
       "</div>"
      ],
      "text/plain": [
       "                               num_order                           item_id  \\\n",
       "count                             930905                            930905   \n",
       "unique                            278040                            906266   \n",
       "top     8edd335c2683fd27bdb93326db66b99f  642b9b87df5b13e91ce86962684c2613   \n",
       "freq                                  60                                 3   \n",
       "\n",
       "                             customer_id    city zipcode  \n",
       "count                             930905  927898  927901  \n",
       "unique                            118796   20993   11116  \n",
       "top     60d097f001dd2ee8c9989434307a5c2b  Madrid   28050  \n",
       "freq                                 870   69308    5355  "
      ]
     },
     "execution_count": 60,
     "metadata": {},
     "output_type": "execute_result"
    }
   ],
   "source": [
    "df_items.describe(include=object)"
   ]
  },
  {
   "cell_type": "markdown",
   "metadata": {},
   "source": [
    "Vemos que el número de pedido se repite y esto se debe a que por cada producto distinto que existen dentro de un pedido necesitamos un registro nuevo, y por eso se repide el identificador de pedido"
   ]
  },
  {
   "cell_type": "markdown",
   "metadata": {},
   "source": [
    "### Variables"
   ]
  },
  {
   "cell_type": "markdown",
   "metadata": {},
   "source": [
    "Ahora realizaremos un análisis más específico de cada variable"
   ]
  },
  {
   "cell_type": "markdown",
   "metadata": {},
   "source": [
    "#### *num_order*"
   ]
  },
  {
   "cell_type": "markdown",
   "metadata": {},
   "source": [
    "Esta variable es el identificador de los pedidos y la podemos ver repetida ya que en un mismo pedido puede haber diferentes productos, y para cada producto distinto dentro de un mismo pedido se usan distintas entradas."
   ]
  },
  {
   "cell_type": "code",
   "execution_count": 61,
   "metadata": {},
   "outputs": [
    {
     "name": "stdout",
     "output_type": "stream",
     "text": [
      "Hay 278040 pedidos registrados\n"
     ]
    }
   ],
   "source": [
    "orders = df_items['num_order'].nunique()\n",
    "print(f'Hay {orders} pedidos registrados')"
   ]
  },
  {
   "cell_type": "code",
   "execution_count": 62,
   "metadata": {},
   "outputs": [
    {
     "data": {
      "text/plain": [
       "8edd335c2683fd27bdb93326db66b99f    60\n",
       "32bc727524a84262812580f0cae3b0d8    57\n",
       "94f3ba50d99564135beac0041365c6c9    56\n",
       "63e18c8dc7557fc2a2794c9b44c0a0c2    55\n",
       "826d04fc123bae848bd5704bd517ce1a    55\n",
       "                                    ..\n",
       "d33eaff239b4bc93d4a2df5ac496daae     1\n",
       "af61815e3df9330dceb0f36a60e25487     1\n",
       "346766a5c8d3725d988c64ff46ca6b85     1\n",
       "fb34477f573ffa3cb117b4ddfe68f5a7     1\n",
       "881455cb3a7483be5a802af92f2256c8     1\n",
       "Name: num_order, Length: 278040, dtype: int64"
      ]
     },
     "execution_count": 62,
     "metadata": {},
     "output_type": "execute_result"
    }
   ],
   "source": [
    "df_items['num_order'].value_counts()"
   ]
  },
  {
   "cell_type": "markdown",
   "metadata": {},
   "source": [
    "El máximo de líneas de pedidos son 60, mientras que hay pedidos con tan solo una línea. "
   ]
  },
  {
   "cell_type": "markdown",
   "metadata": {},
   "source": [
    "#### *item_id*"
   ]
  },
  {
   "cell_type": "markdown",
   "metadata": {},
   "source": [
    "La variable *item_id* se usa para identificar el producto dentro del pedido, por lo tanto un mismo producto que este en pedidos distintos tendrá distintos *item_id*"
   ]
  },
  {
   "cell_type": "code",
   "execution_count": 63,
   "metadata": {},
   "outputs": [
    {
     "name": "stdout",
     "output_type": "stream",
     "text": [
      "Identificadores : 906266\n",
      "Registros : 930905\n"
     ]
    }
   ],
   "source": [
    "items = df_items['item_id'].nunique()\n",
    "print(f'Identificadores : {items}')\n",
    "print(f'Registros : {df_items.shape[0]}')"
   ]
  },
  {
   "cell_type": "markdown",
   "metadata": {},
   "source": [
    "Como se ve no tenemos identificadores de items como registros del dataset lo que nos lleva a pensar que podría haber registros repetidos"
   ]
  },
  {
   "cell_type": "code",
   "execution_count": 64,
   "metadata": {},
   "outputs": [
    {
     "data": {
      "text/plain": [
       "642b9b87df5b13e91ce86962684c2613    3\n",
       "b65a8a92ca1c759728dab9f559ca110f    2\n",
       "2923056a8d1e6ed45515fa81abb28cd2    2\n",
       "9637187d92b5f65bdf2274192cc383b9    2\n",
       "147b2733c3c7ede56fc0216dbecaa086    2\n",
       "                                   ..\n",
       "f9889940349661aabca5f39a2f48c0b4    1\n",
       "51dfa451f3dce80988c7513d993f8679    1\n",
       "0ee2102c149c5e12ea625e96570418c4    1\n",
       "163022e8334c7399148532a3bf705e5e    1\n",
       "fd0c1bb9a90dce3f3b2099990f019262    1\n",
       "Name: item_id, Length: 906266, dtype: int64"
      ]
     },
     "execution_count": 64,
     "metadata": {},
     "output_type": "execute_result"
    }
   ],
   "source": [
    "df_items['item_id'].value_counts()"
   ]
  },
  {
   "cell_type": "code",
   "execution_count": 65,
   "metadata": {},
   "outputs": [
    {
     "data": {
      "text/html": [
       "<div>\n",
       "<style scoped>\n",
       "    .dataframe tbody tr th:only-of-type {\n",
       "        vertical-align: middle;\n",
       "    }\n",
       "\n",
       "    .dataframe tbody tr th {\n",
       "        vertical-align: top;\n",
       "    }\n",
       "\n",
       "    .dataframe thead th {\n",
       "        text-align: right;\n",
       "    }\n",
       "</style>\n",
       "<table border=\"1\" class=\"dataframe\">\n",
       "  <thead>\n",
       "    <tr style=\"text-align: right;\">\n",
       "      <th></th>\n",
       "      <th>num_order</th>\n",
       "      <th>item_id</th>\n",
       "      <th>created_at</th>\n",
       "      <th>product_id</th>\n",
       "      <th>qty_ordered</th>\n",
       "      <th>base_cost</th>\n",
       "      <th>price</th>\n",
       "      <th>discount_percent</th>\n",
       "      <th>customer_id</th>\n",
       "      <th>city</th>\n",
       "      <th>zipcode</th>\n",
       "    </tr>\n",
       "  </thead>\n",
       "  <tbody>\n",
       "    <tr>\n",
       "      <th>874752</th>\n",
       "      <td>5672b1fa40b5398a40a1790374ebffa2</td>\n",
       "      <td>642b9b87df5b13e91ce86962684c2613</td>\n",
       "      <td>2018-12-17 01:19:35</td>\n",
       "      <td>7391</td>\n",
       "      <td>2</td>\n",
       "      <td>6.4084</td>\n",
       "      <td>9.76</td>\n",
       "      <td>57.0</td>\n",
       "      <td>d8d4d4aadb6c893d715015a8a2a04f94</td>\n",
       "      <td>Valladolid</td>\n",
       "      <td>47012</td>\n",
       "    </tr>\n",
       "    <tr>\n",
       "      <th>874753</th>\n",
       "      <td>5672b1fa40b5398a40a1790374ebffa2</td>\n",
       "      <td>642b9b87df5b13e91ce86962684c2613</td>\n",
       "      <td>2018-12-17 01:19:35</td>\n",
       "      <td>7391</td>\n",
       "      <td>2</td>\n",
       "      <td>6.4084</td>\n",
       "      <td>9.76</td>\n",
       "      <td>57.0</td>\n",
       "      <td>d8d4d4aadb6c893d715015a8a2a04f94</td>\n",
       "      <td>Valladolid</td>\n",
       "      <td>47012</td>\n",
       "    </tr>\n",
       "    <tr>\n",
       "      <th>874754</th>\n",
       "      <td>5672b1fa40b5398a40a1790374ebffa2</td>\n",
       "      <td>642b9b87df5b13e91ce86962684c2613</td>\n",
       "      <td>2018-12-17 01:19:35</td>\n",
       "      <td>7391</td>\n",
       "      <td>2</td>\n",
       "      <td>6.4084</td>\n",
       "      <td>9.76</td>\n",
       "      <td>57.0</td>\n",
       "      <td>d8d4d4aadb6c893d715015a8a2a04f94</td>\n",
       "      <td>Valladolid</td>\n",
       "      <td>47012</td>\n",
       "    </tr>\n",
       "  </tbody>\n",
       "</table>\n",
       "</div>"
      ],
      "text/plain": [
       "                               num_order                           item_id  \\\n",
       "874752  5672b1fa40b5398a40a1790374ebffa2  642b9b87df5b13e91ce86962684c2613   \n",
       "874753  5672b1fa40b5398a40a1790374ebffa2  642b9b87df5b13e91ce86962684c2613   \n",
       "874754  5672b1fa40b5398a40a1790374ebffa2  642b9b87df5b13e91ce86962684c2613   \n",
       "\n",
       "                created_at  product_id  qty_ordered  base_cost  price  \\\n",
       "874752 2018-12-17 01:19:35        7391            2     6.4084   9.76   \n",
       "874753 2018-12-17 01:19:35        7391            2     6.4084   9.76   \n",
       "874754 2018-12-17 01:19:35        7391            2     6.4084   9.76   \n",
       "\n",
       "        discount_percent                       customer_id        city zipcode  \n",
       "874752              57.0  d8d4d4aadb6c893d715015a8a2a04f94  Valladolid   47012  \n",
       "874753              57.0  d8d4d4aadb6c893d715015a8a2a04f94  Valladolid   47012  \n",
       "874754              57.0  d8d4d4aadb6c893d715015a8a2a04f94  Valladolid   47012  "
      ]
     },
     "execution_count": 65,
     "metadata": {},
     "output_type": "execute_result"
    }
   ],
   "source": [
    "df_items[df_items['item_id'] == '642b9b87df5b13e91ce86962684c2613']"
   ]
  },
  {
   "cell_type": "markdown",
   "metadata": {},
   "source": [
    "Nuestras sospechas se confirman, ya que vemos que el mismo pedido tiene las tres mismas líneas. Por tanto, se trata de datos duplicados"
   ]
  },
  {
   "cell_type": "markdown",
   "metadata": {},
   "source": [
    "#### *created_at*"
   ]
  },
  {
   "cell_type": "markdown",
   "metadata": {},
   "source": [
    "Instante en el que se realizó el pedido"
   ]
  },
  {
   "cell_type": "code",
   "execution_count": 66,
   "metadata": {},
   "outputs": [
    {
     "data": {
      "text/plain": [
       "117430   2017-06-06 19:47:26\n",
       "Name: created_at, dtype: datetime64[ns]"
      ]
     },
     "execution_count": 66,
     "metadata": {},
     "output_type": "execute_result"
    }
   ],
   "source": [
    "df_items['created_at'].sample(1,random_state=seed)"
   ]
  },
  {
   "cell_type": "markdown",
   "metadata": {},
   "source": [
    "El formato de la fecha y tiempo es *YYYY-MM-DD HH:MM:SS*"
   ]
  },
  {
   "cell_type": "markdown",
   "metadata": {},
   "source": [
    "#### *product_id*"
   ]
  },
  {
   "cell_type": "markdown",
   "metadata": {},
   "source": [
    "Identificador del producto"
   ]
  },
  {
   "cell_type": "code",
   "execution_count": 67,
   "metadata": {},
   "outputs": [
    {
     "name": "stdout",
     "output_type": "stream",
     "text": [
      "Hay 26396 identificadores de productos\n"
     ]
    }
   ],
   "source": [
    "products = df_items['product_id'].nunique()\n",
    "print(f'Hay {products} identificadores de productos')"
   ]
  },
  {
   "cell_type": "code",
   "execution_count": 68,
   "metadata": {},
   "outputs": [
    {
     "data": {
      "text/plain": [
       "13109    2849\n",
       "7349     2759\n",
       "7348     2571\n",
       "43862    2544\n",
       "10516    2226\n",
       "         ... \n",
       "7397        1\n",
       "87691       1\n",
       "9778        1\n",
       "84466       1\n",
       "97587       1\n",
       "Name: product_id, Length: 26396, dtype: int64"
      ]
     },
     "execution_count": 68,
     "metadata": {},
     "output_type": "execute_result"
    }
   ],
   "source": [
    "# Productos en más frecuentas en los pedidos\n",
    "df_items['product_id'].value_counts()"
   ]
  },
  {
   "cell_type": "markdown",
   "metadata": {},
   "source": [
    "Los productos más comunes en los pedidos, no son exactamente los mismos que los que más cantidad se piden."
   ]
  },
  {
   "cell_type": "code",
   "execution_count": 69,
   "metadata": {},
   "outputs": [
    {
     "data": {
      "text/html": [
       "<div>\n",
       "<style scoped>\n",
       "    .dataframe tbody tr th:only-of-type {\n",
       "        vertical-align: middle;\n",
       "    }\n",
       "\n",
       "    .dataframe tbody tr th {\n",
       "        vertical-align: top;\n",
       "    }\n",
       "\n",
       "    .dataframe thead th {\n",
       "        text-align: right;\n",
       "    }\n",
       "</style>\n",
       "<table border=\"1\" class=\"dataframe\">\n",
       "  <thead>\n",
       "    <tr style=\"text-align: right;\">\n",
       "      <th></th>\n",
       "      <th>product_id</th>\n",
       "      <th>num_order</th>\n",
       "      <th>qty_ordered</th>\n",
       "    </tr>\n",
       "  </thead>\n",
       "  <tbody>\n",
       "    <tr>\n",
       "      <th>3694</th>\n",
       "      <td>7348</td>\n",
       "      <td>2571</td>\n",
       "      <td>10773</td>\n",
       "    </tr>\n",
       "    <tr>\n",
       "      <th>3695</th>\n",
       "      <td>7349</td>\n",
       "      <td>2759</td>\n",
       "      <td>9461</td>\n",
       "    </tr>\n",
       "    <tr>\n",
       "      <th>3892</th>\n",
       "      <td>7629</td>\n",
       "      <td>898</td>\n",
       "      <td>8810</td>\n",
       "    </tr>\n",
       "    <tr>\n",
       "      <th>3693</th>\n",
       "      <td>7347</td>\n",
       "      <td>1527</td>\n",
       "      <td>7188</td>\n",
       "    </tr>\n",
       "    <tr>\n",
       "      <th>13586</th>\n",
       "      <td>43862</td>\n",
       "      <td>2544</td>\n",
       "      <td>6541</td>\n",
       "    </tr>\n",
       "  </tbody>\n",
       "</table>\n",
       "</div>"
      ],
      "text/plain": [
       "       product_id  num_order  qty_ordered\n",
       "3694         7348       2571        10773\n",
       "3695         7349       2759         9461\n",
       "3892         7629        898         8810\n",
       "3693         7347       1527         7188\n",
       "13586       43862       2544         6541"
      ]
     },
     "execution_count": 69,
     "metadata": {},
     "output_type": "execute_result"
    }
   ],
   "source": [
    "# Productos más vendidos (cantidad)\n",
    "df_best_products = df_items.groupby(\"product_id\",as_index=False).agg({\"num_order\":\"count\", \"qty_ordered\":\"sum\"}).sort_values(\"qty_ordered\", ascending=False)\n",
    "df_best_products.head()"
   ]
  },
  {
   "cell_type": "markdown",
   "metadata": {},
   "source": [
    "#### *qty_ordered*"
   ]
  },
  {
   "cell_type": "markdown",
   "metadata": {},
   "source": [
    "Cantidad pedida de cierto producto para un cierto pedido"
   ]
  },
  {
   "cell_type": "code",
   "execution_count": 70,
   "metadata": {},
   "outputs": [
    {
     "data": {
      "text/html": [
       "<div>\n",
       "<style scoped>\n",
       "    .dataframe tbody tr th:only-of-type {\n",
       "        vertical-align: middle;\n",
       "    }\n",
       "\n",
       "    .dataframe tbody tr th {\n",
       "        vertical-align: top;\n",
       "    }\n",
       "\n",
       "    .dataframe thead th {\n",
       "        text-align: right;\n",
       "    }\n",
       "</style>\n",
       "<table border=\"1\" class=\"dataframe\">\n",
       "  <thead>\n",
       "    <tr style=\"text-align: right;\">\n",
       "      <th></th>\n",
       "      <th>num_order</th>\n",
       "      <th>total_qty</th>\n",
       "      <th>n_items</th>\n",
       "    </tr>\n",
       "  </thead>\n",
       "  <tbody>\n",
       "    <tr>\n",
       "      <th>155083</th>\n",
       "      <td>8edd335c2683fd27bdb93326db66b99f</td>\n",
       "      <td>205</td>\n",
       "      <td>60</td>\n",
       "    </tr>\n",
       "    <tr>\n",
       "      <th>140797</th>\n",
       "      <td>8190f04869bb51f919c5fb6c31c38d61</td>\n",
       "      <td>175</td>\n",
       "      <td>8</td>\n",
       "    </tr>\n",
       "    <tr>\n",
       "      <th>84949</th>\n",
       "      <td>4e52e54a3f585cb3ea99cda90edf5efb</td>\n",
       "      <td>170</td>\n",
       "      <td>2</td>\n",
       "    </tr>\n",
       "    <tr>\n",
       "      <th>197281</th>\n",
       "      <td>b581322c8b9ff5a742083b21fdea111b</td>\n",
       "      <td>120</td>\n",
       "      <td>15</td>\n",
       "    </tr>\n",
       "    <tr>\n",
       "      <th>236782</th>\n",
       "      <td>da19eb62bff1d06538a37ff5990e050c</td>\n",
       "      <td>120</td>\n",
       "      <td>1</td>\n",
       "    </tr>\n",
       "    <tr>\n",
       "      <th>4833</th>\n",
       "      <td>047cb62fdb2a456d282465fde9175f43</td>\n",
       "      <td>115</td>\n",
       "      <td>6</td>\n",
       "    </tr>\n",
       "    <tr>\n",
       "      <th>102339</th>\n",
       "      <td>5e4bc005dcfdfa48fea14fa6a04fe879</td>\n",
       "      <td>111</td>\n",
       "      <td>8</td>\n",
       "    </tr>\n",
       "    <tr>\n",
       "      <th>90264</th>\n",
       "      <td>5333f97d62651050ee56e22d6c4e0515</td>\n",
       "      <td>111</td>\n",
       "      <td>8</td>\n",
       "    </tr>\n",
       "    <tr>\n",
       "      <th>25480</th>\n",
       "      <td>178896521a4b6aac03f220c00fc5d3e1</td>\n",
       "      <td>110</td>\n",
       "      <td>26</td>\n",
       "    </tr>\n",
       "    <tr>\n",
       "      <th>180400</th>\n",
       "      <td>a5e994e10285c621eb175dfb4b86af42</td>\n",
       "      <td>105</td>\n",
       "      <td>2</td>\n",
       "    </tr>\n",
       "  </tbody>\n",
       "</table>\n",
       "</div>"
      ],
      "text/plain": [
       "                               num_order  total_qty  n_items\n",
       "155083  8edd335c2683fd27bdb93326db66b99f        205       60\n",
       "140797  8190f04869bb51f919c5fb6c31c38d61        175        8\n",
       "84949   4e52e54a3f585cb3ea99cda90edf5efb        170        2\n",
       "197281  b581322c8b9ff5a742083b21fdea111b        120       15\n",
       "236782  da19eb62bff1d06538a37ff5990e050c        120        1\n",
       "4833    047cb62fdb2a456d282465fde9175f43        115        6\n",
       "102339  5e4bc005dcfdfa48fea14fa6a04fe879        111        8\n",
       "90264   5333f97d62651050ee56e22d6c4e0515        111        8\n",
       "25480   178896521a4b6aac03f220c00fc5d3e1        110       26\n",
       "180400  a5e994e10285c621eb175dfb4b86af42        105        2"
      ]
     },
     "execution_count": 70,
     "metadata": {},
     "output_type": "execute_result"
    }
   ],
   "source": [
    "df_q = df_items.groupby('num_order',as_index=False).agg(total_qty=('qty_ordered','sum'),n_items=('item_id','count')).sort_values('total_qty',ascending=False)\n",
    "df_q.head(10)"
   ]
  },
  {
   "cell_type": "code",
   "execution_count": 71,
   "metadata": {},
   "outputs": [
    {
     "data": {
      "text/html": [
       "<div>\n",
       "<style scoped>\n",
       "    .dataframe tbody tr th:only-of-type {\n",
       "        vertical-align: middle;\n",
       "    }\n",
       "\n",
       "    .dataframe tbody tr th {\n",
       "        vertical-align: top;\n",
       "    }\n",
       "\n",
       "    .dataframe thead th {\n",
       "        text-align: right;\n",
       "    }\n",
       "</style>\n",
       "<table border=\"1\" class=\"dataframe\">\n",
       "  <thead>\n",
       "    <tr style=\"text-align: right;\">\n",
       "      <th></th>\n",
       "      <th>num_order</th>\n",
       "      <th>total_qty</th>\n",
       "      <th>n_items</th>\n",
       "    </tr>\n",
       "  </thead>\n",
       "  <tbody>\n",
       "    <tr>\n",
       "      <th>147868</th>\n",
       "      <td>881f259eb3b8ea82612ea15554e40941</td>\n",
       "      <td>1</td>\n",
       "      <td>1</td>\n",
       "    </tr>\n",
       "    <tr>\n",
       "      <th>232110</th>\n",
       "      <td>d5c6bd0b5ba4540f54dfdde68f0ab01b</td>\n",
       "      <td>1</td>\n",
       "      <td>1</td>\n",
       "    </tr>\n",
       "    <tr>\n",
       "      <th>147858</th>\n",
       "      <td>881cf5c9a5839af996a170b3c0b15e9a</td>\n",
       "      <td>1</td>\n",
       "      <td>1</td>\n",
       "    </tr>\n",
       "    <tr>\n",
       "      <th>46384</th>\n",
       "      <td>2ad1d53c6df75ac61a266e51f69ffb3f</td>\n",
       "      <td>1</td>\n",
       "      <td>1</td>\n",
       "    </tr>\n",
       "    <tr>\n",
       "      <th>232115</th>\n",
       "      <td>d5c71c9bd0e38ad83dcaa7b910391860</td>\n",
       "      <td>1</td>\n",
       "      <td>1</td>\n",
       "    </tr>\n",
       "    <tr>\n",
       "      <th>232116</th>\n",
       "      <td>d5c721b1b29c8dedc104c13a9eb726bd</td>\n",
       "      <td>1</td>\n",
       "      <td>1</td>\n",
       "    </tr>\n",
       "    <tr>\n",
       "      <th>232117</th>\n",
       "      <td>d5c740b9c8caee5fd558bccca1e357ca</td>\n",
       "      <td>1</td>\n",
       "      <td>1</td>\n",
       "    </tr>\n",
       "    <tr>\n",
       "      <th>232118</th>\n",
       "      <td>d5c8105d63704447436d6bf134f9248a</td>\n",
       "      <td>1</td>\n",
       "      <td>1</td>\n",
       "    </tr>\n",
       "    <tr>\n",
       "      <th>147846</th>\n",
       "      <td>881af40fe9368a9a5826a3f4ebdeae69</td>\n",
       "      <td>1</td>\n",
       "      <td>1</td>\n",
       "    </tr>\n",
       "    <tr>\n",
       "      <th>175604</th>\n",
       "      <td>a17376da967af87bdc36e084ca45f3c1</td>\n",
       "      <td>1</td>\n",
       "      <td>1</td>\n",
       "    </tr>\n",
       "  </tbody>\n",
       "</table>\n",
       "</div>"
      ],
      "text/plain": [
       "                               num_order  total_qty  n_items\n",
       "147868  881f259eb3b8ea82612ea15554e40941          1        1\n",
       "232110  d5c6bd0b5ba4540f54dfdde68f0ab01b          1        1\n",
       "147858  881cf5c9a5839af996a170b3c0b15e9a          1        1\n",
       "46384   2ad1d53c6df75ac61a266e51f69ffb3f          1        1\n",
       "232115  d5c71c9bd0e38ad83dcaa7b910391860          1        1\n",
       "232116  d5c721b1b29c8dedc104c13a9eb726bd          1        1\n",
       "232117  d5c740b9c8caee5fd558bccca1e357ca          1        1\n",
       "232118  d5c8105d63704447436d6bf134f9248a          1        1\n",
       "147846  881af40fe9368a9a5826a3f4ebdeae69          1        1\n",
       "175604  a17376da967af87bdc36e084ca45f3c1          1        1"
      ]
     },
     "execution_count": 71,
     "metadata": {},
     "output_type": "execute_result"
    }
   ],
   "source": [
    "df_q.tail(10)"
   ]
  },
  {
   "cell_type": "markdown",
   "metadata": {},
   "source": [
    "En el resumen de la descripción del conjunto de datos, ya veíamos que los mínimos y máximos de las cantidades que se piden eran bastante dispares. Con esta tabla vemos como se reparten las cantidades pedidas respecto a los productos dentro del pedido."
   ]
  },
  {
   "cell_type": "code",
   "execution_count": 72,
   "metadata": {},
   "outputs": [
    {
     "data": {
      "text/plain": [
       "2     49574\n",
       "1     47440\n",
       "3     39832\n",
       "4     35624\n",
       "5     26570\n",
       "6     22356\n",
       "7     14185\n",
       "8     11620\n",
       "9      7362\n",
       "10     6318\n",
       "Name: total_qty, dtype: int64"
      ]
     },
     "execution_count": 72,
     "metadata": {},
     "output_type": "execute_result"
    }
   ],
   "source": [
    "df_q['total_qty'].value_counts().head(10)"
   ]
  },
  {
   "cell_type": "code",
   "execution_count": 73,
   "metadata": {},
   "outputs": [
    {
     "data": {
      "text/plain": [
       "17159"
      ]
     },
     "execution_count": 73,
     "metadata": {},
     "output_type": "execute_result"
    }
   ],
   "source": [
    "df_q[df_q['total_qty'] > 10].shape[0]"
   ]
  },
  {
   "cell_type": "markdown",
   "metadata": {},
   "source": [
    "Vemos que lo más común es que en los pedidos haya entre *2* y *10* unidades de productos. Aun así hay un número sustancia del pedidos que tienen cantidades superiores a las *10* unidades."
   ]
  },
  {
   "cell_type": "markdown",
   "metadata": {},
   "source": [
    "#### *base_cost*"
   ]
  },
  {
   "cell_type": "markdown",
   "metadata": {},
   "source": [
    "Precio de coste de una unidad de producto sin IVA"
   ]
  },
  {
   "cell_type": "markdown",
   "metadata": {},
   "source": [
    "Como vimos al principio esta columna tiene valores perdidos. Veamos si sería posible recuperarlos mirando *base_cost* del mismo producto en otros pedidos."
   ]
  },
  {
   "cell_type": "code",
   "execution_count": 74,
   "metadata": {},
   "outputs": [
    {
     "name": "stdout",
     "output_type": "stream",
     "text": [
      "Nº productos con precios nulos: 564\n",
      "Nº productos que se puede recuperar base_cost: 499\n"
     ]
    },
    {
     "data": {
      "text/html": [
       "<div>\n",
       "<style scoped>\n",
       "    .dataframe tbody tr th:only-of-type {\n",
       "        vertical-align: middle;\n",
       "    }\n",
       "\n",
       "    .dataframe tbody tr th {\n",
       "        vertical-align: top;\n",
       "    }\n",
       "\n",
       "    .dataframe thead th {\n",
       "        text-align: right;\n",
       "    }\n",
       "</style>\n",
       "<table border=\"1\" class=\"dataframe\">\n",
       "  <thead>\n",
       "    <tr style=\"text-align: right;\">\n",
       "      <th></th>\n",
       "      <th>product_id</th>\n",
       "      <th>n_cost</th>\n",
       "      <th>mean_cost</th>\n",
       "    </tr>\n",
       "  </thead>\n",
       "  <tbody>\n",
       "    <tr>\n",
       "      <th>351</th>\n",
       "      <td>15484</td>\n",
       "      <td>1895</td>\n",
       "      <td>0.000000</td>\n",
       "    </tr>\n",
       "    <tr>\n",
       "      <th>375</th>\n",
       "      <td>16899</td>\n",
       "      <td>639</td>\n",
       "      <td>0.813194</td>\n",
       "    </tr>\n",
       "    <tr>\n",
       "      <th>146</th>\n",
       "      <td>9387</td>\n",
       "      <td>609</td>\n",
       "      <td>12.674422</td>\n",
       "    </tr>\n",
       "    <tr>\n",
       "      <th>96</th>\n",
       "      <td>7499</td>\n",
       "      <td>578</td>\n",
       "      <td>4.546056</td>\n",
       "    </tr>\n",
       "    <tr>\n",
       "      <th>221</th>\n",
       "      <td>11239</td>\n",
       "      <td>338</td>\n",
       "      <td>3.822018</td>\n",
       "    </tr>\n",
       "    <tr>\n",
       "      <th>...</th>\n",
       "      <td>...</td>\n",
       "      <td>...</td>\n",
       "      <td>...</td>\n",
       "    </tr>\n",
       "    <tr>\n",
       "      <th>119</th>\n",
       "      <td>8426</td>\n",
       "      <td>1</td>\n",
       "      <td>3.929200</td>\n",
       "    </tr>\n",
       "    <tr>\n",
       "      <th>474</th>\n",
       "      <td>24319</td>\n",
       "      <td>1</td>\n",
       "      <td>5.920000</td>\n",
       "    </tr>\n",
       "    <tr>\n",
       "      <th>107</th>\n",
       "      <td>7749</td>\n",
       "      <td>1</td>\n",
       "      <td>3.652800</td>\n",
       "    </tr>\n",
       "    <tr>\n",
       "      <th>309</th>\n",
       "      <td>13307</td>\n",
       "      <td>1</td>\n",
       "      <td>2.169600</td>\n",
       "    </tr>\n",
       "    <tr>\n",
       "      <th>181</th>\n",
       "      <td>10204</td>\n",
       "      <td>1</td>\n",
       "      <td>1.112000</td>\n",
       "    </tr>\n",
       "  </tbody>\n",
       "</table>\n",
       "<p>499 rows × 3 columns</p>\n",
       "</div>"
      ],
      "text/plain": [
       "     product_id  n_cost  mean_cost\n",
       "351       15484    1895   0.000000\n",
       "375       16899     639   0.813194\n",
       "146        9387     609  12.674422\n",
       "96         7499     578   4.546056\n",
       "221       11239     338   3.822018\n",
       "..          ...     ...        ...\n",
       "119        8426       1   3.929200\n",
       "474       24319       1   5.920000\n",
       "107        7749       1   3.652800\n",
       "309       13307       1   2.169600\n",
       "181       10204       1   1.112000\n",
       "\n",
       "[499 rows x 3 columns]"
      ]
     },
     "execution_count": 74,
     "metadata": {},
     "output_type": "execute_result"
    }
   ],
   "source": [
    "products = df_items[df_items['base_cost'].isna()]['product_id'].drop_duplicates().to_list()\n",
    "print(f'Nº productos con precios nulos: {len(products)}')\n",
    "df_pr = df_items[(df_items['product_id'].isin(products)) & (df_items['base_cost'].notna())][['product_id','base_cost']]\n",
    "print(f\"Nº productos que se puede recuperar base_cost: {df_pr['product_id'].nunique()}\")\n",
    "df_pr.groupby('product_id',as_index=False).agg(n_cost=('base_cost','count'),mean_cost=('base_cost','mean')).sort_values('n_cost',ascending=False)"
   ]
  },
  {
   "cell_type": "markdown",
   "metadata": {},
   "source": [
    "Parece ser que se puede recuperar bastantes valores, eso sí hay que decidir que valores imputar porque los productos varían de precio en los diferentes pedidos. Lo más extraño a mencionar es que el precio de coste medio de uno de los productos sea directamente un cero."
   ]
  },
  {
   "cell_type": "code",
   "execution_count": 75,
   "metadata": {},
   "outputs": [
    {
     "name": "stdout",
     "output_type": "stream",
     "text": [
      "Registros con base_cost negativo: 46\n"
     ]
    }
   ],
   "source": [
    "neg_bcost = df_items[df_items['base_cost'] < 0].shape[0]\n",
    "print(f'Registros con base_cost negativo: {neg_bcost}')"
   ]
  },
  {
   "cell_type": "markdown",
   "metadata": {},
   "source": [
    "#### *price*"
   ]
  },
  {
   "cell_type": "markdown",
   "metadata": {},
   "source": [
    "Precio unitario de los productos."
   ]
  },
  {
   "cell_type": "code",
   "execution_count": 76,
   "metadata": {},
   "outputs": [
    {
     "name": "stdout",
     "output_type": "stream",
     "text": [
      "Productos con precio cero: 61\n",
      "Líneas pedido sin beneficios: 10729\n"
     ]
    }
   ],
   "source": [
    "pr_zero = df_items[df_items['price'] == 0].shape[0]\n",
    "null_benefits = df_items[(df_items['price'] < df_items['base_cost'])][['product_id','base_cost','price','discount_percent']]\n",
    "print(f'Productos con precio cero: {pr_zero}')\n",
    "print(f'Líneas pedido sin beneficios: {null_benefits.shape[0]}')"
   ]
  },
  {
   "cell_type": "markdown",
   "metadata": {},
   "source": [
    "Existen registros con precios nulos y también bastantes líneas de pedidos en los que nos se generan beneficios. Puede que estas últimas se traten de descuentos aplicados."
   ]
  },
  {
   "cell_type": "code",
   "execution_count": 77,
   "metadata": {},
   "outputs": [
    {
     "data": {
      "text/html": [
       "<div>\n",
       "<style scoped>\n",
       "    .dataframe tbody tr th:only-of-type {\n",
       "        vertical-align: middle;\n",
       "    }\n",
       "\n",
       "    .dataframe tbody tr th {\n",
       "        vertical-align: top;\n",
       "    }\n",
       "\n",
       "    .dataframe thead th {\n",
       "        text-align: right;\n",
       "    }\n",
       "</style>\n",
       "<table border=\"1\" class=\"dataframe\">\n",
       "  <thead>\n",
       "    <tr style=\"text-align: right;\">\n",
       "      <th></th>\n",
       "      <th>product_id</th>\n",
       "      <th>base_cost</th>\n",
       "      <th>price</th>\n",
       "      <th>discount_percent</th>\n",
       "    </tr>\n",
       "  </thead>\n",
       "  <tbody>\n",
       "    <tr>\n",
       "      <th>product_id</th>\n",
       "      <td>1.000000</td>\n",
       "      <td>0.037836</td>\n",
       "      <td>0.098569</td>\n",
       "      <td>0.010467</td>\n",
       "    </tr>\n",
       "    <tr>\n",
       "      <th>base_cost</th>\n",
       "      <td>0.037836</td>\n",
       "      <td>1.000000</td>\n",
       "      <td>0.060518</td>\n",
       "      <td>-0.014418</td>\n",
       "    </tr>\n",
       "    <tr>\n",
       "      <th>price</th>\n",
       "      <td>0.098569</td>\n",
       "      <td>0.060518</td>\n",
       "      <td>1.000000</td>\n",
       "      <td>0.033838</td>\n",
       "    </tr>\n",
       "    <tr>\n",
       "      <th>discount_percent</th>\n",
       "      <td>0.010467</td>\n",
       "      <td>-0.014418</td>\n",
       "      <td>0.033838</td>\n",
       "      <td>1.000000</td>\n",
       "    </tr>\n",
       "  </tbody>\n",
       "</table>\n",
       "</div>"
      ],
      "text/plain": [
       "                  product_id  base_cost     price  discount_percent\n",
       "product_id          1.000000   0.037836  0.098569          0.010467\n",
       "base_cost           0.037836   1.000000  0.060518         -0.014418\n",
       "price               0.098569   0.060518  1.000000          0.033838\n",
       "discount_percent    0.010467  -0.014418  0.033838          1.000000"
      ]
     },
     "execution_count": 77,
     "metadata": {},
     "output_type": "execute_result"
    }
   ],
   "source": [
    "null_benefits.corr()"
   ]
  },
  {
   "cell_type": "markdown",
   "metadata": {},
   "source": [
    "Donde nos surge la gran duda es en que no hay correspondencia entre los costes, precios y descuentos de los productos. Por tanto, podemos intuir que los precios sobre los que se aplican los descuentos no son estos, sino otros, ya que nosotros tenemos los precios finales."
   ]
  },
  {
   "cell_type": "markdown",
   "metadata": {},
   "source": [
    "#### *discount_percent*"
   ]
  },
  {
   "cell_type": "markdown",
   "metadata": {},
   "source": [
    "Porcentaje de descuento aplicado, pero no al precio con el que contamos nosotros."
   ]
  },
  {
   "cell_type": "code",
   "execution_count": 78,
   "metadata": {},
   "outputs": [
    {
     "name": "stdout",
     "output_type": "stream",
     "text": [
      "Líneas con descuento: 930905\n",
      "Lineas total: 930905\n"
     ]
    }
   ],
   "source": [
    "print(f\"Líneas con descuento: {df_items[df_items['discount_percent'] > 0].shape[0]}\")\n",
    "print(f'Lineas total: {df_items.shape[0]}')"
   ]
  },
  {
   "cell_type": "markdown",
   "metadata": {},
   "source": [
    "Algo que llama la atención es que todos las líneas de pedidos tienen descuentos"
   ]
  },
  {
   "cell_type": "code",
   "execution_count": 79,
   "metadata": {},
   "outputs": [
    {
     "name": "stdout",
     "output_type": "stream",
     "text": [
      "Cantidad de porc. desc.: 45\n"
     ]
    },
    {
     "data": {
      "text/plain": [
       "5.0     420479\n",
       "10.0    158901\n",
       "7.0     100545\n",
       "8.0      60444\n",
       "6.0      54337\n",
       "20.0     50545\n",
       "9.0      35230\n",
       "15.0     29645\n",
       "11.0     10079\n",
       "25.0      2560\n",
       "Name: discount_percent, dtype: int64"
      ]
     },
     "execution_count": 79,
     "metadata": {},
     "output_type": "execute_result"
    }
   ],
   "source": [
    "print(f\"Cantidad de porc. desc.: {df_items['discount_percent'].nunique()}\")\n",
    "df_items['discount_percent'].value_counts().sort_values(ascending=False).head(10)"
   ]
  },
  {
   "cell_type": "code",
   "execution_count": 80,
   "metadata": {},
   "outputs": [
    {
     "data": {
      "text/plain": [
       "58.0000    17\n",
       "38.0000    16\n",
       "29.0000    15\n",
       "1.0000     15\n",
       "12.5631    13\n",
       "37.0000    12\n",
       "33.0000     5\n",
       "32.0000     4\n",
       "65.0000     3\n",
       "34.0000     3\n",
       "Name: discount_percent, dtype: int64"
      ]
     },
     "execution_count": 80,
     "metadata": {},
     "output_type": "execute_result"
    }
   ],
   "source": [
    "df_items['discount_percent'].value_counts().sort_values(ascending=False).tail(10)"
   ]
  },
  {
   "cell_type": "markdown",
   "metadata": {},
   "source": [
    "Los porcentajes de descuento más comunes son por debajo de *25%*, mientras que los menos comunes oscilan entre el *30% y 50%*."
   ]
  },
  {
   "cell_type": "markdown",
   "metadata": {},
   "source": [
    "#### *customer_id*"
   ]
  },
  {
   "cell_type": "markdown",
   "metadata": {},
   "source": [
    "El identificador del cliente que ha realizado el pedido"
   ]
  },
  {
   "cell_type": "code",
   "execution_count": 81,
   "metadata": {},
   "outputs": [
    {
     "name": "stdout",
     "output_type": "stream",
     "text": [
      "118796 clientes han realizado pedidos\n"
     ]
    }
   ],
   "source": [
    "clients = df_items['customer_id'].nunique()\n",
    "print(f'{clients} clientes han realizado pedidos')"
   ]
  },
  {
   "cell_type": "code",
   "execution_count": 82,
   "metadata": {},
   "outputs": [
    {
     "data": {
      "text/plain": [
       "117430    cc2905f9c3e5fcda4d1878b57c486a54\n",
       "835866    f74d36ac2995966d36a8c7c29c0167fa\n",
       "298248    f8ae06846397f55bc9e7c063f960207e\n",
       "103857    121aea0f7e1978bf3f457d50d20aaa03\n",
       "180683    facafe93eba27034473c7b57d8902e0d\n",
       "Name: customer_id, dtype: object"
      ]
     },
     "execution_count": 82,
     "metadata": {},
     "output_type": "execute_result"
    }
   ],
   "source": [
    "df_items['customer_id'].sample(5,random_state=seed)"
   ]
  },
  {
   "cell_type": "markdown",
   "metadata": {},
   "source": [
    "Este campo es un *hash* con el fin de anonimizar los datos personales."
   ]
  },
  {
   "cell_type": "markdown",
   "metadata": {},
   "source": [
    "#### *city* y *zipcode*"
   ]
  },
  {
   "cell_type": "markdown",
   "metadata": {},
   "source": [
    "Estas variables indican la ciudad en la cuál se han realizado el pedido"
   ]
  },
  {
   "cell_type": "code",
   "execution_count": 83,
   "metadata": {},
   "outputs": [
    {
     "name": "stdout",
     "output_type": "stream",
     "text": [
      "Nº de ciudades: 20993\n",
      "Nº de ciudades: 11116\n"
     ]
    }
   ],
   "source": [
    "print(f\"Nº de ciudades: {df_items['city'].nunique()}\")\n",
    "print(f\"Nº de ciudades: {df_items['zipcode'].nunique()}\")"
   ]
  },
  {
   "cell_type": "markdown",
   "metadata": {},
   "source": [
    "Vimos antes que estas dos columnas tienen un número similar de registros nulos, lo que da a entender que puede que coincidan."
   ]
  },
  {
   "cell_type": "code",
   "execution_count": 84,
   "metadata": {},
   "outputs": [
    {
     "data": {
      "text/plain": [
       "2910"
      ]
     },
     "execution_count": 84,
     "metadata": {},
     "output_type": "execute_result"
    }
   ],
   "source": [
    "df_items[(df_items.city.isna()) & (df_items.zipcode.isna())].shape[0]"
   ]
  },
  {
   "cell_type": "markdown",
   "metadata": {},
   "source": [
    "Tenemos 2910 registros donde no tenemos ninguna información de la dirección, ni la ciudad ni  el código postal. A pesar de que no son demasiados registros, es información que no podremos recuperar de ninguna manera, ya que los datos están anonimizados"
   ]
  },
  {
   "cell_type": "code",
   "execution_count": 85,
   "metadata": {},
   "outputs": [
    {
     "data": {
      "text/plain": [
       "Collado Villalba          620\n",
       "albacete                  470\n",
       "Collado villalba          117\n",
       "collado villalba           91\n",
       "Villalba de la Sierra      82\n",
       "                         ... \n",
       "Collaso villalba            1\n",
       "La Puebla de montalban      1\n",
       "argamasilla de alba         1\n",
       "villalba del rey            1\n",
       "Montalbanejo                1\n",
       "Name: city, Length: 62, dtype: int64"
      ]
     },
     "execution_count": 85,
     "metadata": {},
     "output_type": "execute_result"
    }
   ],
   "source": [
    "cities = df_items[(df_items['city'].notna()) & (df_items['city'].str.contains('alba'))]['city']\n",
    "cities.value_counts()"
   ]
  },
  {
   "cell_type": "markdown",
   "metadata": {},
   "source": [
    "Haciendo una búsqueda sencilla de cadenas, vemos que el campo no está normalizado y hay nombres de ciudades escritos de diferentes maneras. "
   ]
  },
  {
   "cell_type": "code",
   "execution_count": 86,
   "metadata": {},
   "outputs": [
    {
     "name": "stdout",
     "output_type": "stream",
     "text": [
      "Nº de ciudades: 11569\n"
     ]
    }
   ],
   "source": [
    "# Normalizamos los nombres de ciudades\n",
    "indexes = df_items['city'].notna().index\n",
    "df_items.loc[indexes, 'city'] = df_items.loc[indexes, 'city'].apply(lambda x: str(x).lower().strip())\n",
    "print(f\"Nº de ciudades: {df_items['city'].nunique()}\")"
   ]
  },
  {
   "cell_type": "markdown",
   "metadata": {},
   "source": [
    "Cuando normalizamos vemos que el número de ciudades disminuye. Aun así, faltarían muchos más métodos que aplicar para llegar a normalizar el campo."
   ]
  },
  {
   "cell_type": "markdown",
   "metadata": {},
   "source": [
    "**NOTA** Por otro lado, mientras que estabamos limpiando datos, nos dimos cuenta que hay valores númericos para ciudades y códigos postales imputados como nombres."
   ]
  },
  {
   "cell_type": "code",
   "execution_count": 87,
   "metadata": {},
   "outputs": [
    {
     "name": "stdout",
     "output_type": "stream",
     "text": [
      "Nº ciudad con dígitos: 802\n"
     ]
    },
    {
     "data": {
      "text/html": [
       "<div>\n",
       "<style scoped>\n",
       "    .dataframe tbody tr th:only-of-type {\n",
       "        vertical-align: middle;\n",
       "    }\n",
       "\n",
       "    .dataframe tbody tr th {\n",
       "        vertical-align: top;\n",
       "    }\n",
       "\n",
       "    .dataframe thead th {\n",
       "        text-align: right;\n",
       "    }\n",
       "</style>\n",
       "<table border=\"1\" class=\"dataframe\">\n",
       "  <thead>\n",
       "    <tr style=\"text-align: right;\">\n",
       "      <th></th>\n",
       "      <th>num_order</th>\n",
       "      <th>city</th>\n",
       "      <th>zipcode</th>\n",
       "    </tr>\n",
       "  </thead>\n",
       "  <tbody>\n",
       "    <tr>\n",
       "      <th>140206</th>\n",
       "      <td>2000185acbdce1eb1ff992920ba55ab7</td>\n",
       "      <td>08014</td>\n",
       "      <td>08014</td>\n",
       "    </tr>\n",
       "    <tr>\n",
       "      <th>794517</th>\n",
       "      <td>be53ac9ff585d3bb19950d1a5dd27de3</td>\n",
       "      <td>1500</td>\n",
       "      <td>409</td>\n",
       "    </tr>\n",
       "    <tr>\n",
       "      <th>613185</th>\n",
       "      <td>cd2574eba675f621839adb548d382828</td>\n",
       "      <td>28027</td>\n",
       "      <td>Madrid</td>\n",
       "    </tr>\n",
       "    <tr>\n",
       "      <th>888965</th>\n",
       "      <td>6c8481e2b51551d96013c8d243bde19a</td>\n",
       "      <td>10005</td>\n",
       "      <td>Cáceres</td>\n",
       "    </tr>\n",
       "    <tr>\n",
       "      <th>453354</th>\n",
       "      <td>c2c699bfd6eb8461a4a2ea5606b86e7b</td>\n",
       "      <td>08003</td>\n",
       "      <td>08003</td>\n",
       "    </tr>\n",
       "  </tbody>\n",
       "</table>\n",
       "</div>"
      ],
      "text/plain": [
       "                               num_order   city  zipcode\n",
       "140206  2000185acbdce1eb1ff992920ba55ab7  08014    08014\n",
       "794517  be53ac9ff585d3bb19950d1a5dd27de3   1500      409\n",
       "613185  cd2574eba675f621839adb548d382828  28027   Madrid\n",
       "888965  6c8481e2b51551d96013c8d243bde19a  10005  Cáceres\n",
       "453354  c2c699bfd6eb8461a4a2ea5606b86e7b  08003    08003"
      ]
     },
     "execution_count": 87,
     "metadata": {},
     "output_type": "execute_result"
    }
   ],
   "source": [
    "df_city = df_items[(df_items['city'].notna()) & (df_items['city'].str.isnumeric())]\n",
    "print(f\"Nº ciudad con dígitos: {df_city.shape[0]}\")\n",
    "df_city[['num_order','city','zipcode']].sample(5,random_state=seed)"
   ]
  },
  {
   "cell_type": "code",
   "execution_count": 88,
   "metadata": {},
   "outputs": [
    {
     "name": "stdout",
     "output_type": "stream",
     "text": [
      "Nº códigos postales y ciudad invertidos: 357\n"
     ]
    },
    {
     "data": {
      "text/html": [
       "<div>\n",
       "<style scoped>\n",
       "    .dataframe tbody tr th:only-of-type {\n",
       "        vertical-align: middle;\n",
       "    }\n",
       "\n",
       "    .dataframe tbody tr th {\n",
       "        vertical-align: top;\n",
       "    }\n",
       "\n",
       "    .dataframe thead th {\n",
       "        text-align: right;\n",
       "    }\n",
       "</style>\n",
       "<table border=\"1\" class=\"dataframe\">\n",
       "  <thead>\n",
       "    <tr style=\"text-align: right;\">\n",
       "      <th></th>\n",
       "      <th>city</th>\n",
       "      <th>zipcode</th>\n",
       "    </tr>\n",
       "  </thead>\n",
       "  <tbody>\n",
       "    <tr>\n",
       "      <th>865154</th>\n",
       "      <td>28016</td>\n",
       "      <td>madrid</td>\n",
       "    </tr>\n",
       "    <tr>\n",
       "      <th>874602</th>\n",
       "      <td>36141</td>\n",
       "      <td>Vilaboa</td>\n",
       "    </tr>\n",
       "    <tr>\n",
       "      <th>758997</th>\n",
       "      <td>43800</td>\n",
       "      <td>Valls</td>\n",
       "    </tr>\n",
       "    <tr>\n",
       "      <th>567188</th>\n",
       "      <td>25600</td>\n",
       "      <td>Balaguer</td>\n",
       "    </tr>\n",
       "    <tr>\n",
       "      <th>469752</th>\n",
       "      <td>03660</td>\n",
       "      <td>NOVELDA</td>\n",
       "    </tr>\n",
       "    <tr>\n",
       "      <th>169158</th>\n",
       "      <td>46009</td>\n",
       "      <td>Valencia</td>\n",
       "    </tr>\n",
       "    <tr>\n",
       "      <th>917406</th>\n",
       "      <td>03206</td>\n",
       "      <td>Elche</td>\n",
       "    </tr>\n",
       "    <tr>\n",
       "      <th>804884</th>\n",
       "      <td>46182</td>\n",
       "      <td>LA CAÑADA</td>\n",
       "    </tr>\n",
       "    <tr>\n",
       "      <th>842221</th>\n",
       "      <td>13003</td>\n",
       "      <td>Ciudad Real</td>\n",
       "    </tr>\n",
       "    <tr>\n",
       "      <th>474900</th>\n",
       "      <td>08030</td>\n",
       "      <td>BARCELONA</td>\n",
       "    </tr>\n",
       "  </tbody>\n",
       "</table>\n",
       "</div>"
      ],
      "text/plain": [
       "         city      zipcode\n",
       "865154  28016       madrid\n",
       "874602  36141      Vilaboa\n",
       "758997  43800        Valls\n",
       "567188  25600     Balaguer\n",
       "469752  03660      NOVELDA\n",
       "169158  46009     Valencia\n",
       "917406  03206        Elche\n",
       "804884  46182   LA CAÑADA \n",
       "842221  13003  Ciudad Real\n",
       "474900  08030    BARCELONA"
      ]
     },
     "execution_count": 88,
     "metadata": {},
     "output_type": "execute_result"
    }
   ],
   "source": [
    "df_zip = df_items[(df_items['zipcode'].notna()) & (df_items['zipcode'].notna())]\n",
    "df_zip = df_zip[(df_zip['city'].str.isnumeric()) & (~df_zip['zipcode'].str.isnumeric())]\n",
    "print(f\"Nº códigos postales y ciudad invertidos: {df_zip.shape[0]}\")\n",
    "df_zip[['city','zipcode']].sample(10,random_state=seed)"
   ]
  },
  {
   "cell_type": "markdown",
   "metadata": {},
   "source": [
    "### Duplicados"
   ]
  },
  {
   "cell_type": "markdown",
   "metadata": {},
   "source": [
    "En apartados anteriores intuimos la presencia de registros duplicados, veamos a que se debe."
   ]
  },
  {
   "cell_type": "code",
   "execution_count": 89,
   "metadata": {},
   "outputs": [
    {
     "name": "stdout",
     "output_type": "stream",
     "text": [
      "Regitros duplicados: 17599\n"
     ]
    },
    {
     "data": {
      "text/html": [
       "<div>\n",
       "<style scoped>\n",
       "    .dataframe tbody tr th:only-of-type {\n",
       "        vertical-align: middle;\n",
       "    }\n",
       "\n",
       "    .dataframe tbody tr th {\n",
       "        vertical-align: top;\n",
       "    }\n",
       "\n",
       "    .dataframe thead th {\n",
       "        text-align: right;\n",
       "    }\n",
       "</style>\n",
       "<table border=\"1\" class=\"dataframe\">\n",
       "  <thead>\n",
       "    <tr style=\"text-align: right;\">\n",
       "      <th></th>\n",
       "      <th>num_order</th>\n",
       "      <th>item_id</th>\n",
       "      <th>created_at</th>\n",
       "      <th>product_id</th>\n",
       "      <th>qty_ordered</th>\n",
       "      <th>base_cost</th>\n",
       "      <th>price</th>\n",
       "      <th>discount_percent</th>\n",
       "      <th>customer_id</th>\n",
       "      <th>city</th>\n",
       "      <th>zipcode</th>\n",
       "    </tr>\n",
       "  </thead>\n",
       "  <tbody>\n",
       "    <tr>\n",
       "      <th>34</th>\n",
       "      <td>5992c1625cc4b93264594f98c0c88db3</td>\n",
       "      <td>8a4653d26eac38f05519dc529e5b4639</td>\n",
       "      <td>2017-01-01 08:31:58</td>\n",
       "      <td>24172</td>\n",
       "      <td>1</td>\n",
       "      <td>9.5160</td>\n",
       "      <td>12.14</td>\n",
       "      <td>8.0</td>\n",
       "      <td>528041acb3b5ddddc51f42c95a78c21a</td>\n",
       "      <td>murcia</td>\n",
       "      <td>30139</td>\n",
       "    </tr>\n",
       "    <tr>\n",
       "      <th>36</th>\n",
       "      <td>5992c1625cc4b93264594f98c0c88db3</td>\n",
       "      <td>9c7846d8386f7191de9640a4115dcb73</td>\n",
       "      <td>2017-01-01 08:31:58</td>\n",
       "      <td>6159</td>\n",
       "      <td>1</td>\n",
       "      <td>4.9140</td>\n",
       "      <td>7.40</td>\n",
       "      <td>8.0</td>\n",
       "      <td>528041acb3b5ddddc51f42c95a78c21a</td>\n",
       "      <td>murcia</td>\n",
       "      <td>30139</td>\n",
       "    </tr>\n",
       "    <tr>\n",
       "      <th>37</th>\n",
       "      <td>5992c1625cc4b93264594f98c0c88db3</td>\n",
       "      <td>80a5e455e90a2c8753662b71abed5d10</td>\n",
       "      <td>2017-01-01 08:31:58</td>\n",
       "      <td>10315</td>\n",
       "      <td>1</td>\n",
       "      <td>4.0788</td>\n",
       "      <td>5.58</td>\n",
       "      <td>8.0</td>\n",
       "      <td>528041acb3b5ddddc51f42c95a78c21a</td>\n",
       "      <td>murcia</td>\n",
       "      <td>30139</td>\n",
       "    </tr>\n",
       "    <tr>\n",
       "      <th>39</th>\n",
       "      <td>5992c1625cc4b93264594f98c0c88db3</td>\n",
       "      <td>8f29bf49f01d7e6b2d516f8bd6cfe435</td>\n",
       "      <td>2017-01-01 08:31:58</td>\n",
       "      <td>9048</td>\n",
       "      <td>1</td>\n",
       "      <td>2.3900</td>\n",
       "      <td>2.60</td>\n",
       "      <td>8.0</td>\n",
       "      <td>528041acb3b5ddddc51f42c95a78c21a</td>\n",
       "      <td>murcia</td>\n",
       "      <td>30139</td>\n",
       "    </tr>\n",
       "    <tr>\n",
       "      <th>40</th>\n",
       "      <td>5992c1625cc4b93264594f98c0c88db3</td>\n",
       "      <td>257d5601d124014aa1d583af2a070432</td>\n",
       "      <td>2017-01-01 08:31:58</td>\n",
       "      <td>30489</td>\n",
       "      <td>1</td>\n",
       "      <td>1.2700</td>\n",
       "      <td>4.81</td>\n",
       "      <td>8.0</td>\n",
       "      <td>528041acb3b5ddddc51f42c95a78c21a</td>\n",
       "      <td>murcia</td>\n",
       "      <td>30139</td>\n",
       "    </tr>\n",
       "  </tbody>\n",
       "</table>\n",
       "</div>"
      ],
      "text/plain": [
       "                           num_order                           item_id  \\\n",
       "34  5992c1625cc4b93264594f98c0c88db3  8a4653d26eac38f05519dc529e5b4639   \n",
       "36  5992c1625cc4b93264594f98c0c88db3  9c7846d8386f7191de9640a4115dcb73   \n",
       "37  5992c1625cc4b93264594f98c0c88db3  80a5e455e90a2c8753662b71abed5d10   \n",
       "39  5992c1625cc4b93264594f98c0c88db3  8f29bf49f01d7e6b2d516f8bd6cfe435   \n",
       "40  5992c1625cc4b93264594f98c0c88db3  257d5601d124014aa1d583af2a070432   \n",
       "\n",
       "            created_at  product_id  qty_ordered  base_cost  price  \\\n",
       "34 2017-01-01 08:31:58       24172            1     9.5160  12.14   \n",
       "36 2017-01-01 08:31:58        6159            1     4.9140   7.40   \n",
       "37 2017-01-01 08:31:58       10315            1     4.0788   5.58   \n",
       "39 2017-01-01 08:31:58        9048            1     2.3900   2.60   \n",
       "40 2017-01-01 08:31:58       30489            1     1.2700   4.81   \n",
       "\n",
       "    discount_percent                       customer_id    city zipcode  \n",
       "34               8.0  528041acb3b5ddddc51f42c95a78c21a  murcia   30139  \n",
       "36               8.0  528041acb3b5ddddc51f42c95a78c21a  murcia   30139  \n",
       "37               8.0  528041acb3b5ddddc51f42c95a78c21a  murcia   30139  \n",
       "39               8.0  528041acb3b5ddddc51f42c95a78c21a  murcia   30139  \n",
       "40               8.0  528041acb3b5ddddc51f42c95a78c21a  murcia   30139  "
      ]
     },
     "execution_count": 89,
     "metadata": {},
     "output_type": "execute_result"
    }
   ],
   "source": [
    "print(f\"Regitros duplicados: {df_items.duplicated().sum()}\")\n",
    "df_items[df_items.duplicated()].head(5)"
   ]
  },
  {
   "cell_type": "markdown",
   "metadata": {},
   "source": [
    "### Clientes que más compran"
   ]
  },
  {
   "cell_type": "markdown",
   "metadata": {},
   "source": [
    "Clientes que más pedidos hacen"
   ]
  },
  {
   "cell_type": "code",
   "execution_count": 90,
   "metadata": {},
   "outputs": [
    {
     "data": {
      "text/html": [
       "<div>\n",
       "<style scoped>\n",
       "    .dataframe tbody tr th:only-of-type {\n",
       "        vertical-align: middle;\n",
       "    }\n",
       "\n",
       "    .dataframe tbody tr th {\n",
       "        vertical-align: top;\n",
       "    }\n",
       "\n",
       "    .dataframe thead th {\n",
       "        text-align: right;\n",
       "    }\n",
       "</style>\n",
       "<table border=\"1\" class=\"dataframe\">\n",
       "  <thead>\n",
       "    <tr style=\"text-align: right;\">\n",
       "      <th></th>\n",
       "      <th>customer_id</th>\n",
       "      <th>num_order</th>\n",
       "      <th>qty_ordered</th>\n",
       "    </tr>\n",
       "  </thead>\n",
       "  <tbody>\n",
       "    <tr>\n",
       "      <th>83564</th>\n",
       "      <td>b46e4d83eb0c080e114a32ee1f842b7d</td>\n",
       "      <td>104</td>\n",
       "      <td>550</td>\n",
       "    </tr>\n",
       "    <tr>\n",
       "      <th>107769</th>\n",
       "      <td>e86e234e3b71bfba9a0ab95ab0de36b1</td>\n",
       "      <td>72</td>\n",
       "      <td>463</td>\n",
       "    </tr>\n",
       "    <tr>\n",
       "      <th>69102</th>\n",
       "      <td>94c74109038dc85def6ac232828b2131</td>\n",
       "      <td>72</td>\n",
       "      <td>413</td>\n",
       "    </tr>\n",
       "    <tr>\n",
       "      <th>118240</th>\n",
       "      <td>fec46170b4980fd6432797ed6ecdf7c1</td>\n",
       "      <td>64</td>\n",
       "      <td>156</td>\n",
       "    </tr>\n",
       "    <tr>\n",
       "      <th>106391</th>\n",
       "      <td>e597a4ec127e0dd5e19533b68edbc92f</td>\n",
       "      <td>60</td>\n",
       "      <td>673</td>\n",
       "    </tr>\n",
       "  </tbody>\n",
       "</table>\n",
       "</div>"
      ],
      "text/plain": [
       "                             customer_id  num_order  qty_ordered\n",
       "83564   b46e4d83eb0c080e114a32ee1f842b7d        104          550\n",
       "107769  e86e234e3b71bfba9a0ab95ab0de36b1         72          463\n",
       "69102   94c74109038dc85def6ac232828b2131         72          413\n",
       "118240  fec46170b4980fd6432797ed6ecdf7c1         64          156\n",
       "106391  e597a4ec127e0dd5e19533b68edbc92f         60          673"
      ]
     },
     "execution_count": 90,
     "metadata": {},
     "output_type": "execute_result"
    }
   ],
   "source": [
    "df_clients = df_items.groupby(['customer_id', 'num_order'],as_index=False).agg({'qty_ordered':'sum'}) # num_order se repite, por tanto no se puede agregar por el de primeras\n",
    "df_clients = df_clients.groupby(['customer_id'],as_index=False).agg({'num_order':'count', 'qty_ordered':'sum'})\n",
    "df_clients = df_clients.sort_values('num_order',ascending=False)\n",
    "df_clients.head()"
   ]
  },
  {
   "cell_type": "markdown",
   "metadata": {},
   "source": [
    "Clientes que han comprado una mayor cantidad de productos"
   ]
  },
  {
   "cell_type": "code",
   "execution_count": 91,
   "metadata": {},
   "outputs": [
    {
     "data": {
      "text/html": [
       "<div>\n",
       "<style scoped>\n",
       "    .dataframe tbody tr th:only-of-type {\n",
       "        vertical-align: middle;\n",
       "    }\n",
       "\n",
       "    .dataframe tbody tr th {\n",
       "        vertical-align: top;\n",
       "    }\n",
       "\n",
       "    .dataframe thead th {\n",
       "        text-align: right;\n",
       "    }\n",
       "</style>\n",
       "<table border=\"1\" class=\"dataframe\">\n",
       "  <thead>\n",
       "    <tr style=\"text-align: right;\">\n",
       "      <th></th>\n",
       "      <th>customer_id</th>\n",
       "      <th>num_order</th>\n",
       "      <th>qty_ordered</th>\n",
       "    </tr>\n",
       "  </thead>\n",
       "  <tbody>\n",
       "    <tr>\n",
       "      <th>45115</th>\n",
       "      <td>60d097f001dd2ee8c9989434307a5c2b</td>\n",
       "      <td>27</td>\n",
       "      <td>1064</td>\n",
       "    </tr>\n",
       "    <tr>\n",
       "      <th>29375</th>\n",
       "      <td>3eda45623e6304ce8966c928a6aa7084</td>\n",
       "      <td>26</td>\n",
       "      <td>801</td>\n",
       "    </tr>\n",
       "    <tr>\n",
       "      <th>106391</th>\n",
       "      <td>e597a4ec127e0dd5e19533b68edbc92f</td>\n",
       "      <td>60</td>\n",
       "      <td>673</td>\n",
       "    </tr>\n",
       "    <tr>\n",
       "      <th>79725</th>\n",
       "      <td>ac02166ad1e62e310dc1a89e2ec24ce7</td>\n",
       "      <td>38</td>\n",
       "      <td>622</td>\n",
       "    </tr>\n",
       "    <tr>\n",
       "      <th>81154</th>\n",
       "      <td>af21079e8d355aded105bd4ce03034e0</td>\n",
       "      <td>6</td>\n",
       "      <td>600</td>\n",
       "    </tr>\n",
       "  </tbody>\n",
       "</table>\n",
       "</div>"
      ],
      "text/plain": [
       "                             customer_id  num_order  qty_ordered\n",
       "45115   60d097f001dd2ee8c9989434307a5c2b         27         1064\n",
       "29375   3eda45623e6304ce8966c928a6aa7084         26          801\n",
       "106391  e597a4ec127e0dd5e19533b68edbc92f         60          673\n",
       "79725   ac02166ad1e62e310dc1a89e2ec24ce7         38          622\n",
       "81154   af21079e8d355aded105bd4ce03034e0          6          600"
      ]
     },
     "execution_count": 91,
     "metadata": {},
     "output_type": "execute_result"
    }
   ],
   "source": [
    "df_clientes = df_clients.sort_values('qty_ordered',ascending=False)\n",
    "df_clientes.head()"
   ]
  },
  {
   "cell_type": "markdown",
   "metadata": {},
   "source": [
    "### Ventas totales"
   ]
  },
  {
   "cell_type": "markdown",
   "metadata": {},
   "source": [
    "En este apartado veremos las fechas en las cuáles se producen más ventas"
   ]
  },
  {
   "cell_type": "code",
   "execution_count": 92,
   "metadata": {},
   "outputs": [
    {
     "data": {
      "text/html": [
       "<div>\n",
       "<style scoped>\n",
       "    .dataframe tbody tr th:only-of-type {\n",
       "        vertical-align: middle;\n",
       "    }\n",
       "\n",
       "    .dataframe tbody tr th {\n",
       "        vertical-align: top;\n",
       "    }\n",
       "\n",
       "    .dataframe thead th {\n",
       "        text-align: right;\n",
       "    }\n",
       "</style>\n",
       "<table border=\"1\" class=\"dataframe\">\n",
       "  <thead>\n",
       "    <tr style=\"text-align: right;\">\n",
       "      <th></th>\n",
       "      <th>created_at</th>\n",
       "      <th>date</th>\n",
       "    </tr>\n",
       "  </thead>\n",
       "  <tbody>\n",
       "    <tr>\n",
       "      <th>117430</th>\n",
       "      <td>2017-06-06 19:47:26</td>\n",
       "      <td>2017-06-06</td>\n",
       "    </tr>\n",
       "    <tr>\n",
       "      <th>835866</th>\n",
       "      <td>2018-11-24 14:30:23</td>\n",
       "      <td>2018-11-24</td>\n",
       "    </tr>\n",
       "    <tr>\n",
       "      <th>298248</th>\n",
       "      <td>2017-11-27 09:23:45</td>\n",
       "      <td>2017-11-27</td>\n",
       "    </tr>\n",
       "    <tr>\n",
       "      <th>103857</th>\n",
       "      <td>2017-05-13 08:27:06</td>\n",
       "      <td>2017-05-13</td>\n",
       "    </tr>\n",
       "    <tr>\n",
       "      <th>180683</th>\n",
       "      <td>2017-07-29 18:32:54</td>\n",
       "      <td>2017-07-29</td>\n",
       "    </tr>\n",
       "  </tbody>\n",
       "</table>\n",
       "</div>"
      ],
      "text/plain": [
       "                created_at        date\n",
       "117430 2017-06-06 19:47:26  2017-06-06\n",
       "835866 2018-11-24 14:30:23  2018-11-24\n",
       "298248 2017-11-27 09:23:45  2017-11-27\n",
       "103857 2017-05-13 08:27:06  2017-05-13\n",
       "180683 2017-07-29 18:32:54  2017-07-29"
      ]
     },
     "execution_count": 92,
     "metadata": {},
     "output_type": "execute_result"
    }
   ],
   "source": [
    "# Modificamos la columna para que solo muestre la fecha sin la hora\n",
    "df_items.loc[:, 'date'] = df_items['created_at'].dt.date\n",
    "df_items[['created_at','date']].sample(5,random_state=seed)"
   ]
  },
  {
   "cell_type": "markdown",
   "metadata": {},
   "source": [
    "Agrupamos por fecha para saber la cantidad de productos y el número de pedidos realizados por cada día"
   ]
  },
  {
   "cell_type": "code",
   "execution_count": 93,
   "metadata": {},
   "outputs": [
    {
     "data": {
      "text/html": [
       "<div>\n",
       "<style scoped>\n",
       "    .dataframe tbody tr th:only-of-type {\n",
       "        vertical-align: middle;\n",
       "    }\n",
       "\n",
       "    .dataframe tbody tr th {\n",
       "        vertical-align: top;\n",
       "    }\n",
       "\n",
       "    .dataframe thead th {\n",
       "        text-align: right;\n",
       "    }\n",
       "</style>\n",
       "<table border=\"1\" class=\"dataframe\">\n",
       "  <thead>\n",
       "    <tr style=\"text-align: right;\">\n",
       "      <th></th>\n",
       "      <th>date</th>\n",
       "      <th>num_order</th>\n",
       "      <th>qty_ordered</th>\n",
       "    </tr>\n",
       "  </thead>\n",
       "  <tbody>\n",
       "    <tr>\n",
       "      <th>685</th>\n",
       "      <td>2018-11-18</td>\n",
       "      <td>1524</td>\n",
       "      <td>8578</td>\n",
       "    </tr>\n",
       "    <tr>\n",
       "      <th>115</th>\n",
       "      <td>2017-04-26</td>\n",
       "      <td>423</td>\n",
       "      <td>2485</td>\n",
       "    </tr>\n",
       "    <tr>\n",
       "      <th>220</th>\n",
       "      <td>2017-08-09</td>\n",
       "      <td>432</td>\n",
       "      <td>1949</td>\n",
       "    </tr>\n",
       "    <tr>\n",
       "      <th>420</th>\n",
       "      <td>2018-02-26</td>\n",
       "      <td>152</td>\n",
       "      <td>465</td>\n",
       "    </tr>\n",
       "    <tr>\n",
       "      <th>378</th>\n",
       "      <td>2018-01-15</td>\n",
       "      <td>538</td>\n",
       "      <td>3317</td>\n",
       "    </tr>\n",
       "  </tbody>\n",
       "</table>\n",
       "</div>"
      ],
      "text/plain": [
       "           date  num_order  qty_ordered\n",
       "685  2018-11-18       1524         8578\n",
       "115  2017-04-26        423         2485\n",
       "220  2017-08-09        432         1949\n",
       "420  2018-02-26        152          465\n",
       "378  2018-01-15        538         3317"
      ]
     },
     "execution_count": 93,
     "metadata": {},
     "output_type": "execute_result"
    }
   ],
   "source": [
    "df_temp = df_items.groupby(['date', 'num_order']).agg({'qty_ordered':'sum'}).reset_index() # num_order se repite, por tanto no se puede agregar por el de primeras\n",
    "df_temp = df_temp.groupby(['date']).agg({'num_order':'count', 'qty_ordered':'sum'}).reset_index()\n",
    "df_temp.sample(5,random_state=seed)"
   ]
  },
  {
   "cell_type": "code",
   "execution_count": 94,
   "metadata": {},
   "outputs": [
    {
     "data": {
      "application/vnd.plotly.v1+json": {
       "config": {
        "plotlyServerURL": "https://plot.ly"
       },
       "data": [
        {
         "hovertemplate": "date=%{x}<br>num_order=%{y}<extra></extra>",
         "legendgroup": "",
         "line": {
          "color": "#636efa"
         },
         "marker": {
          "symbol": "circle"
         },
         "mode": "lines",
         "name": "",
         "orientation": "v",
         "showlegend": false,
         "stackgroup": "1",
         "type": "scatter",
         "x": [
          "2017-01-01",
          "2017-01-02",
          "2017-01-03",
          "2017-01-04",
          "2017-01-05",
          "2017-01-06",
          "2017-01-07",
          "2017-01-08",
          "2017-01-09",
          "2017-01-10",
          "2017-01-11",
          "2017-01-12",
          "2017-01-13",
          "2017-01-14",
          "2017-01-15",
          "2017-01-16",
          "2017-01-17",
          "2017-01-18",
          "2017-01-19",
          "2017-01-20",
          "2017-01-21",
          "2017-01-22",
          "2017-01-23",
          "2017-01-24",
          "2017-01-25",
          "2017-01-26",
          "2017-01-27",
          "2017-01-28",
          "2017-01-29",
          "2017-01-30",
          "2017-01-31",
          "2017-02-01",
          "2017-02-02",
          "2017-02-03",
          "2017-02-04",
          "2017-02-05",
          "2017-02-06",
          "2017-02-07",
          "2017-02-08",
          "2017-02-09",
          "2017-02-10",
          "2017-02-11",
          "2017-02-12",
          "2017-02-13",
          "2017-02-14",
          "2017-02-15",
          "2017-02-16",
          "2017-02-17",
          "2017-02-18",
          "2017-02-19",
          "2017-02-20",
          "2017-02-21",
          "2017-02-22",
          "2017-02-23",
          "2017-02-24",
          "2017-02-25",
          "2017-02-26",
          "2017-02-27",
          "2017-02-28",
          "2017-03-01",
          "2017-03-02",
          "2017-03-03",
          "2017-03-04",
          "2017-03-05",
          "2017-03-06",
          "2017-03-07",
          "2017-03-08",
          "2017-03-09",
          "2017-03-10",
          "2017-03-11",
          "2017-03-12",
          "2017-03-13",
          "2017-03-14",
          "2017-03-15",
          "2017-03-16",
          "2017-03-17",
          "2017-03-18",
          "2017-03-19",
          "2017-03-20",
          "2017-03-21",
          "2017-03-22",
          "2017-03-23",
          "2017-03-24",
          "2017-03-25",
          "2017-03-26",
          "2017-03-27",
          "2017-03-28",
          "2017-03-29",
          "2017-03-30",
          "2017-03-31",
          "2017-04-01",
          "2017-04-02",
          "2017-04-03",
          "2017-04-04",
          "2017-04-05",
          "2017-04-06",
          "2017-04-07",
          "2017-04-08",
          "2017-04-09",
          "2017-04-10",
          "2017-04-11",
          "2017-04-12",
          "2017-04-13",
          "2017-04-14",
          "2017-04-15",
          "2017-04-16",
          "2017-04-17",
          "2017-04-18",
          "2017-04-19",
          "2017-04-20",
          "2017-04-21",
          "2017-04-22",
          "2017-04-23",
          "2017-04-24",
          "2017-04-25",
          "2017-04-26",
          "2017-04-27",
          "2017-04-28",
          "2017-04-29",
          "2017-04-30",
          "2017-05-01",
          "2017-05-02",
          "2017-05-03",
          "2017-05-04",
          "2017-05-05",
          "2017-05-06",
          "2017-05-07",
          "2017-05-08",
          "2017-05-09",
          "2017-05-10",
          "2017-05-11",
          "2017-05-12",
          "2017-05-13",
          "2017-05-14",
          "2017-05-15",
          "2017-05-16",
          "2017-05-17",
          "2017-05-18",
          "2017-05-19",
          "2017-05-20",
          "2017-05-21",
          "2017-05-22",
          "2017-05-23",
          "2017-05-24",
          "2017-05-25",
          "2017-05-26",
          "2017-05-27",
          "2017-05-28",
          "2017-05-29",
          "2017-05-30",
          "2017-05-31",
          "2017-06-01",
          "2017-06-02",
          "2017-06-03",
          "2017-06-04",
          "2017-06-05",
          "2017-06-06",
          "2017-06-07",
          "2017-06-08",
          "2017-06-09",
          "2017-06-10",
          "2017-06-11",
          "2017-06-12",
          "2017-06-13",
          "2017-06-14",
          "2017-06-15",
          "2017-06-16",
          "2017-06-17",
          "2017-06-18",
          "2017-06-19",
          "2017-06-20",
          "2017-06-21",
          "2017-06-22",
          "2017-06-23",
          "2017-06-24",
          "2017-06-25",
          "2017-06-26",
          "2017-06-27",
          "2017-06-28",
          "2017-06-29",
          "2017-06-30",
          "2017-07-01",
          "2017-07-02",
          "2017-07-03",
          "2017-07-04",
          "2017-07-05",
          "2017-07-06",
          "2017-07-07",
          "2017-07-08",
          "2017-07-09",
          "2017-07-10",
          "2017-07-11",
          "2017-07-12",
          "2017-07-13",
          "2017-07-14",
          "2017-07-15",
          "2017-07-16",
          "2017-07-17",
          "2017-07-18",
          "2017-07-19",
          "2017-07-20",
          "2017-07-21",
          "2017-07-22",
          "2017-07-23",
          "2017-07-24",
          "2017-07-25",
          "2017-07-26",
          "2017-07-27",
          "2017-07-28",
          "2017-07-29",
          "2017-07-30",
          "2017-07-31",
          "2017-08-01",
          "2017-08-02",
          "2017-08-03",
          "2017-08-04",
          "2017-08-05",
          "2017-08-06",
          "2017-08-07",
          "2017-08-08",
          "2017-08-09",
          "2017-08-10",
          "2017-08-11",
          "2017-08-12",
          "2017-08-13",
          "2017-08-14",
          "2017-08-15",
          "2017-08-16",
          "2017-08-17",
          "2017-08-18",
          "2017-08-19",
          "2017-08-20",
          "2017-08-21",
          "2017-08-22",
          "2017-08-23",
          "2017-08-24",
          "2017-08-25",
          "2017-08-26",
          "2017-08-27",
          "2017-08-28",
          "2017-08-29",
          "2017-08-30",
          "2017-08-31",
          "2017-09-01",
          "2017-09-02",
          "2017-09-03",
          "2017-09-04",
          "2017-09-05",
          "2017-09-06",
          "2017-09-07",
          "2017-09-08",
          "2017-09-09",
          "2017-09-10",
          "2017-09-11",
          "2017-09-12",
          "2017-09-13",
          "2017-09-14",
          "2017-09-15",
          "2017-09-16",
          "2017-09-17",
          "2017-09-18",
          "2017-09-19",
          "2017-09-20",
          "2017-09-21",
          "2017-09-22",
          "2017-09-23",
          "2017-09-24",
          "2017-09-25",
          "2017-09-26",
          "2017-09-27",
          "2017-09-28",
          "2017-09-29",
          "2017-09-30",
          "2017-10-01",
          "2017-10-02",
          "2017-10-03",
          "2017-10-04",
          "2017-10-05",
          "2017-10-06",
          "2017-10-07",
          "2017-10-08",
          "2017-10-09",
          "2017-10-10",
          "2017-10-11",
          "2017-10-12",
          "2017-10-13",
          "2017-10-14",
          "2017-10-15",
          "2017-10-16",
          "2017-10-17",
          "2017-10-18",
          "2017-10-19",
          "2017-10-20",
          "2017-10-21",
          "2017-10-22",
          "2017-10-23",
          "2017-10-24",
          "2017-10-25",
          "2017-10-26",
          "2017-10-27",
          "2017-10-28",
          "2017-10-29",
          "2017-10-30",
          "2017-10-31",
          "2017-11-01",
          "2017-11-02",
          "2017-11-03",
          "2017-11-04",
          "2017-11-05",
          "2017-11-06",
          "2017-11-07",
          "2017-11-08",
          "2017-11-09",
          "2017-11-10",
          "2017-11-11",
          "2017-11-12",
          "2017-11-13",
          "2017-11-14",
          "2017-11-15",
          "2017-11-16",
          "2017-11-17",
          "2017-11-18",
          "2017-11-19",
          "2017-11-20",
          "2017-11-21",
          "2017-11-22",
          "2017-11-23",
          "2017-11-24",
          "2017-11-25",
          "2017-11-26",
          "2017-11-27",
          "2017-11-28",
          "2017-11-29",
          "2017-11-30",
          "2017-12-01",
          "2017-12-02",
          "2017-12-03",
          "2017-12-04",
          "2017-12-05",
          "2017-12-06",
          "2017-12-07",
          "2017-12-08",
          "2017-12-10",
          "2017-12-11",
          "2017-12-12",
          "2017-12-13",
          "2017-12-14",
          "2017-12-15",
          "2017-12-16",
          "2017-12-17",
          "2017-12-18",
          "2017-12-19",
          "2017-12-20",
          "2017-12-21",
          "2017-12-22",
          "2017-12-23",
          "2017-12-24",
          "2017-12-25",
          "2017-12-26",
          "2017-12-27",
          "2017-12-28",
          "2017-12-29",
          "2017-12-30",
          "2017-12-31",
          "2018-01-01",
          "2018-01-02",
          "2018-01-03",
          "2018-01-04",
          "2018-01-05",
          "2018-01-06",
          "2018-01-07",
          "2018-01-08",
          "2018-01-09",
          "2018-01-10",
          "2018-01-11",
          "2018-01-12",
          "2018-01-13",
          "2018-01-14",
          "2018-01-15",
          "2018-01-16",
          "2018-01-17",
          "2018-01-18",
          "2018-01-19",
          "2018-01-20",
          "2018-01-21",
          "2018-01-22",
          "2018-01-23",
          "2018-01-24",
          "2018-01-25",
          "2018-01-26",
          "2018-01-27",
          "2018-01-28",
          "2018-01-29",
          "2018-01-30",
          "2018-01-31",
          "2018-02-01",
          "2018-02-02",
          "2018-02-03",
          "2018-02-04",
          "2018-02-05",
          "2018-02-06",
          "2018-02-07",
          "2018-02-08",
          "2018-02-09",
          "2018-02-10",
          "2018-02-11",
          "2018-02-12",
          "2018-02-13",
          "2018-02-14",
          "2018-02-15",
          "2018-02-16",
          "2018-02-17",
          "2018-02-18",
          "2018-02-19",
          "2018-02-20",
          "2018-02-21",
          "2018-02-22",
          "2018-02-23",
          "2018-02-24",
          "2018-02-25",
          "2018-02-26",
          "2018-02-27",
          "2018-02-28",
          "2018-03-01",
          "2018-03-02",
          "2018-03-03",
          "2018-03-04",
          "2018-03-05",
          "2018-03-06",
          "2018-03-07",
          "2018-03-08",
          "2018-03-09",
          "2018-03-10",
          "2018-03-11",
          "2018-03-12",
          "2018-03-13",
          "2018-03-14",
          "2018-03-15",
          "2018-03-16",
          "2018-03-17",
          "2018-03-18",
          "2018-03-19",
          "2018-03-20",
          "2018-03-21",
          "2018-03-22",
          "2018-03-23",
          "2018-03-24",
          "2018-03-25",
          "2018-03-26",
          "2018-03-27",
          "2018-03-28",
          "2018-03-29",
          "2018-03-30",
          "2018-03-31",
          "2018-04-01",
          "2018-04-02",
          "2018-04-03",
          "2018-04-04",
          "2018-04-05",
          "2018-04-06",
          "2018-04-07",
          "2018-04-08",
          "2018-04-09",
          "2018-04-10",
          "2018-04-11",
          "2018-04-12",
          "2018-04-13",
          "2018-04-14",
          "2018-04-15",
          "2018-04-16",
          "2018-04-17",
          "2018-04-18",
          "2018-04-19",
          "2018-04-20",
          "2018-04-21",
          "2018-04-22",
          "2018-04-23",
          "2018-04-24",
          "2018-04-25",
          "2018-04-26",
          "2018-04-27",
          "2018-04-28",
          "2018-04-29",
          "2018-04-30",
          "2018-05-01",
          "2018-05-02",
          "2018-05-03",
          "2018-05-04",
          "2018-05-05",
          "2018-05-06",
          "2018-05-07",
          "2018-05-08",
          "2018-05-09",
          "2018-05-10",
          "2018-05-11",
          "2018-05-12",
          "2018-05-13",
          "2018-05-14",
          "2018-05-15",
          "2018-05-16",
          "2018-05-17",
          "2018-05-18",
          "2018-05-19",
          "2018-05-20",
          "2018-05-21",
          "2018-05-22",
          "2018-05-23",
          "2018-05-24",
          "2018-05-25",
          "2018-05-26",
          "2018-05-27",
          "2018-05-28",
          "2018-05-29",
          "2018-05-30",
          "2018-05-31",
          "2018-06-01",
          "2018-06-02",
          "2018-06-03",
          "2018-06-04",
          "2018-06-05",
          "2018-06-06",
          "2018-06-07",
          "2018-06-08",
          "2018-06-09",
          "2018-06-10",
          "2018-06-11",
          "2018-06-12",
          "2018-06-13",
          "2018-06-14",
          "2018-06-15",
          "2018-06-16",
          "2018-06-17",
          "2018-06-18",
          "2018-06-19",
          "2018-06-20",
          "2018-06-21",
          "2018-06-22",
          "2018-06-23",
          "2018-06-24",
          "2018-06-25",
          "2018-06-26",
          "2018-06-27",
          "2018-06-28",
          "2018-06-29",
          "2018-06-30",
          "2018-07-01",
          "2018-07-02",
          "2018-07-03",
          "2018-07-04",
          "2018-07-05",
          "2018-07-06",
          "2018-07-07",
          "2018-07-08",
          "2018-07-09",
          "2018-07-10",
          "2018-07-11",
          "2018-07-12",
          "2018-07-13",
          "2018-07-14",
          "2018-07-15",
          "2018-07-16",
          "2018-07-17",
          "2018-07-18",
          "2018-07-19",
          "2018-07-20",
          "2018-07-21",
          "2018-07-22",
          "2018-07-23",
          "2018-07-24",
          "2018-07-25",
          "2018-07-26",
          "2018-07-27",
          "2018-07-28",
          "2018-07-29",
          "2018-07-30",
          "2018-07-31",
          "2018-08-01",
          "2018-08-02",
          "2018-08-03",
          "2018-08-04",
          "2018-08-05",
          "2018-08-06",
          "2018-08-07",
          "2018-08-08",
          "2018-08-09",
          "2018-08-10",
          "2018-08-11",
          "2018-08-12",
          "2018-08-13",
          "2018-08-14",
          "2018-08-15",
          "2018-08-16",
          "2018-08-17",
          "2018-08-18",
          "2018-08-19",
          "2018-08-20",
          "2018-08-21",
          "2018-08-22",
          "2018-08-23",
          "2018-08-24",
          "2018-08-25",
          "2018-08-26",
          "2018-08-27",
          "2018-08-28",
          "2018-08-29",
          "2018-08-30",
          "2018-08-31",
          "2018-09-01",
          "2018-09-02",
          "2018-09-03",
          "2018-09-04",
          "2018-09-05",
          "2018-09-06",
          "2018-09-07",
          "2018-09-08",
          "2018-09-09",
          "2018-09-10",
          "2018-09-11",
          "2018-09-12",
          "2018-09-13",
          "2018-09-14",
          "2018-09-15",
          "2018-09-16",
          "2018-09-17",
          "2018-09-18",
          "2018-09-19",
          "2018-09-20",
          "2018-09-21",
          "2018-09-22",
          "2018-09-23",
          "2018-09-24",
          "2018-09-25",
          "2018-09-26",
          "2018-09-27",
          "2018-09-28",
          "2018-09-29",
          "2018-09-30",
          "2018-10-01",
          "2018-10-02",
          "2018-10-03",
          "2018-10-04",
          "2018-10-05",
          "2018-10-06",
          "2018-10-07",
          "2018-10-08",
          "2018-10-09",
          "2018-10-10",
          "2018-10-11",
          "2018-10-12",
          "2018-10-13",
          "2018-10-14",
          "2018-10-15",
          "2018-10-16",
          "2018-10-17",
          "2018-10-18",
          "2018-10-19",
          "2018-10-20",
          "2018-10-21",
          "2018-10-22",
          "2018-10-23",
          "2018-10-24",
          "2018-10-25",
          "2018-10-26",
          "2018-10-27",
          "2018-10-28",
          "2018-10-29",
          "2018-10-30",
          "2018-10-31",
          "2018-11-01",
          "2018-11-02",
          "2018-11-03",
          "2018-11-04",
          "2018-11-05",
          "2018-11-06",
          "2018-11-07",
          "2018-11-08",
          "2018-11-09",
          "2018-11-10",
          "2018-11-11",
          "2018-11-12",
          "2018-11-13",
          "2018-11-14",
          "2018-11-15",
          "2018-11-16",
          "2018-11-17",
          "2018-11-18",
          "2018-11-19",
          "2018-11-20",
          "2018-11-21",
          "2018-11-22",
          "2018-11-23",
          "2018-11-24",
          "2018-11-25",
          "2018-11-26",
          "2018-11-27",
          "2018-11-28",
          "2018-11-29",
          "2018-11-30",
          "2018-12-01",
          "2018-12-02",
          "2018-12-03",
          "2018-12-04",
          "2018-12-05",
          "2018-12-06",
          "2018-12-07",
          "2018-12-08",
          "2018-12-09",
          "2018-12-10",
          "2018-12-11",
          "2018-12-12",
          "2018-12-13",
          "2018-12-14",
          "2018-12-15",
          "2018-12-16",
          "2018-12-17",
          "2018-12-18",
          "2018-12-19",
          "2018-12-20",
          "2018-12-21",
          "2018-12-22",
          "2018-12-23",
          "2018-12-24",
          "2018-12-25",
          "2018-12-26",
          "2018-12-27",
          "2018-12-28",
          "2018-12-29",
          "2018-12-30"
         ],
         "xaxis": "x",
         "y": [
          506,
          183,
          31,
          34,
          38,
          19,
          19,
          20,
          172,
          253,
          261,
          266,
          215,
          214,
          333,
          221,
          276,
          235,
          223,
          200,
          174,
          386,
          219,
          87,
          74,
          88,
          56,
          44,
          175,
          118,
          93,
          60,
          54,
          44,
          30,
          40,
          380,
          512,
          410,
          325,
          410,
          281,
          424,
          417,
          461,
          401,
          153,
          30,
          31,
          28,
          393,
          378,
          365,
          401,
          294,
          257,
          590,
          464,
          454,
          577,
          485,
          321,
          312,
          477,
          365,
          317,
          546,
          367,
          274,
          224,
          422,
          562,
          523,
          386,
          445,
          295,
          260,
          538,
          243,
          39,
          27,
          23,
          13,
          16,
          43,
          68,
          70,
          77,
          60,
          59,
          41,
          77,
          74,
          52,
          68,
          70,
          45,
          46,
          62,
          378,
          313,
          309,
          216,
          221,
          320,
          514,
          742,
          325,
          380,
          301,
          231,
          292,
          398,
          368,
          388,
          423,
          128,
          93,
          57,
          88,
          43,
          46,
          37,
          33,
          37,
          25,
          47,
          68,
          59,
          55,
          53,
          43,
          32,
          55,
          69,
          60,
          70,
          59,
          49,
          21,
          55,
          43,
          46,
          36,
          49,
          35,
          20,
          56,
          228,
          435,
          361,
          341,
          284,
          226,
          315,
          473,
          384,
          417,
          294,
          239,
          196,
          432,
          371,
          388,
          310,
          242,
          166,
          70,
          252,
          227,
          248,
          399,
          335,
          209,
          284,
          405,
          532,
          429,
          472,
          251,
          310,
          290,
          346,
          796,
          787,
          562,
          463,
          555,
          365,
          541,
          674,
          823,
          679,
          457,
          428,
          308,
          438,
          128,
          66,
          57,
          52,
          51,
          29,
          51,
          369,
          411,
          320,
          291,
          227,
          162,
          390,
          388,
          215,
          122,
          105,
          142,
          98,
          172,
          373,
          543,
          432,
          314,
          279,
          295,
          365,
          192,
          490,
          135,
          115,
          81,
          53,
          166,
          496,
          426,
          361,
          444,
          291,
          175,
          294,
          151,
          84,
          90,
          84,
          48,
          37,
          393,
          364,
          357,
          404,
          324,
          210,
          244,
          306,
          136,
          67,
          59,
          86,
          60,
          44,
          75,
          880,
          711,
          645,
          543,
          606,
          544,
          789,
          177,
          412,
          304,
          231,
          169,
          159,
          463,
          102,
          110,
          136,
          110,
          62,
          69,
          111,
          49,
          49,
          58,
          52,
          49,
          43,
          75,
          898,
          675,
          680,
          599,
          540,
          473,
          814,
          667,
          665,
          672,
          701,
          753,
          477,
          936,
          784,
          1017,
          995,
          47,
          42,
          35,
          79,
          65,
          69,
          62,
          82,
          144,
          355,
          287,
          72,
          57,
          58,
          34,
          46,
          33,
          43,
          633,
          544,
          554,
          436,
          2887,
          837,
          732,
          2055,
          852,
          50,
          38,
          2,
          33,
          36,
          44,
          48,
          70,
          17,
          2,
          5,
          20,
          23,
          12,
          13,
          13,
          8,
          18,
          269,
          395,
          317,
          237,
          225,
          173,
          149,
          76,
          84,
          77,
          77,
          60,
          41,
          32,
          53,
          115,
          82,
          59,
          65,
          64,
          110,
          463,
          520,
          636,
          485,
          358,
          469,
          582,
          538,
          570,
          404,
          374,
          427,
          345,
          508,
          285,
          196,
          187,
          159,
          103,
          242,
          310,
          741,
          921,
          1019,
          819,
          866,
          666,
          1128,
          319,
          107,
          131,
          108,
          100,
          79,
          146,
          162,
          106,
          157,
          86,
          96,
          64,
          98,
          127,
          94,
          113,
          137,
          107,
          125,
          170,
          152,
          163,
          167,
          116,
          101,
          80,
          131,
          96,
          109,
          115,
          78,
          61,
          93,
          103,
          453,
          803,
          689,
          523,
          427,
          563,
          713,
          967,
          800,
          911,
          713,
          606,
          715,
          922,
          936,
          854,
          633,
          517,
          599,
          528,
          847,
          1371,
          343,
          105,
          76,
          64,
          68,
          101,
          74,
          94,
          92,
          64,
          46,
          76,
          95,
          916,
          1276,
          1091,
          873,
          745,
          627,
          995,
          893,
          1077,
          922,
          744,
          734,
          396,
          66,
          58,
          58,
          82,
          64,
          35,
          46,
          44,
          105,
          156,
          156,
          195,
          2449,
          103,
          42,
          46,
          76,
          78,
          1353,
          762,
          583,
          1491,
          340,
          90,
          110,
          151,
          152,
          73,
          234,
          939,
          784,
          792,
          733,
          314,
          152,
          181,
          862,
          746,
          413,
          179,
          74,
          61,
          82,
          87,
          97,
          104,
          71,
          63,
          44,
          79,
          116,
          96,
          90,
          83,
          66,
          57,
          109,
          220,
          115,
          103,
          95,
          81,
          58,
          131,
          984,
          1179,
          835,
          632,
          560,
          587,
          948,
          822,
          730,
          515,
          429,
          583,
          408,
          592,
          679,
          174,
          51,
          35,
          47,
          31,
          49,
          140,
          632,
          970,
          687,
          586,
          474,
          944,
          462,
          95,
          72,
          46,
          63,
          37,
          70,
          1192,
          1096,
          920,
          727,
          576,
          540,
          721,
          941,
          728,
          687,
          626,
          572,
          443,
          628,
          128,
          47,
          40,
          39,
          36,
          15,
          33,
          698,
          902,
          813,
          876,
          626,
          529,
          865,
          1165,
          989,
          943,
          894,
          628,
          457,
          1089,
          919,
          835,
          954,
          740,
          518,
          464,
          865,
          131,
          53,
          45,
          42,
          52,
          39,
          63,
          95,
          114,
          1114,
          994,
          868,
          750,
          1350,
          1315,
          1145,
          1003,
          1196,
          946,
          810,
          1312,
          163,
          31,
          37,
          32,
          33,
          24,
          50,
          54,
          47,
          139,
          387,
          551,
          302,
          382,
          136,
          51,
          35,
          503,
          403,
          372,
          844,
          646,
          837,
          1192,
          1054,
          1160,
          988,
          1539,
          1664,
          1480,
          1328,
          836,
          521,
          464,
          1436,
          594,
          598,
          351,
          353,
          478,
          965,
          1524,
          509,
          406,
          545,
          836,
          4222,
          1263,
          1992,
          1502,
          83,
          39,
          35,
          80,
          41,
          53,
          38,
          62,
          32,
          36,
          25,
          26,
          79,
          1369,
          1229,
          1067,
          966,
          836,
          701,
          1698,
          1342,
          1033,
          997,
          713,
          768,
          515,
          660,
          1330,
          810,
          1231,
          1346,
          1260,
          1053,
          1599
         ],
         "yaxis": "y"
        }
       ],
       "layout": {
        "legend": {
         "tracegroupgap": 0
        },
        "template": {
         "data": {
          "bar": [
           {
            "error_x": {
             "color": "#2a3f5f"
            },
            "error_y": {
             "color": "#2a3f5f"
            },
            "marker": {
             "line": {
              "color": "#E5ECF6",
              "width": 0.5
             },
             "pattern": {
              "fillmode": "overlay",
              "size": 10,
              "solidity": 0.2
             }
            },
            "type": "bar"
           }
          ],
          "barpolar": [
           {
            "marker": {
             "line": {
              "color": "#E5ECF6",
              "width": 0.5
             },
             "pattern": {
              "fillmode": "overlay",
              "size": 10,
              "solidity": 0.2
             }
            },
            "type": "barpolar"
           }
          ],
          "carpet": [
           {
            "aaxis": {
             "endlinecolor": "#2a3f5f",
             "gridcolor": "white",
             "linecolor": "white",
             "minorgridcolor": "white",
             "startlinecolor": "#2a3f5f"
            },
            "baxis": {
             "endlinecolor": "#2a3f5f",
             "gridcolor": "white",
             "linecolor": "white",
             "minorgridcolor": "white",
             "startlinecolor": "#2a3f5f"
            },
            "type": "carpet"
           }
          ],
          "choropleth": [
           {
            "colorbar": {
             "outlinewidth": 0,
             "ticks": ""
            },
            "type": "choropleth"
           }
          ],
          "contour": [
           {
            "colorbar": {
             "outlinewidth": 0,
             "ticks": ""
            },
            "colorscale": [
             [
              0,
              "#0d0887"
             ],
             [
              0.1111111111111111,
              "#46039f"
             ],
             [
              0.2222222222222222,
              "#7201a8"
             ],
             [
              0.3333333333333333,
              "#9c179e"
             ],
             [
              0.4444444444444444,
              "#bd3786"
             ],
             [
              0.5555555555555556,
              "#d8576b"
             ],
             [
              0.6666666666666666,
              "#ed7953"
             ],
             [
              0.7777777777777778,
              "#fb9f3a"
             ],
             [
              0.8888888888888888,
              "#fdca26"
             ],
             [
              1,
              "#f0f921"
             ]
            ],
            "type": "contour"
           }
          ],
          "contourcarpet": [
           {
            "colorbar": {
             "outlinewidth": 0,
             "ticks": ""
            },
            "type": "contourcarpet"
           }
          ],
          "heatmap": [
           {
            "colorbar": {
             "outlinewidth": 0,
             "ticks": ""
            },
            "colorscale": [
             [
              0,
              "#0d0887"
             ],
             [
              0.1111111111111111,
              "#46039f"
             ],
             [
              0.2222222222222222,
              "#7201a8"
             ],
             [
              0.3333333333333333,
              "#9c179e"
             ],
             [
              0.4444444444444444,
              "#bd3786"
             ],
             [
              0.5555555555555556,
              "#d8576b"
             ],
             [
              0.6666666666666666,
              "#ed7953"
             ],
             [
              0.7777777777777778,
              "#fb9f3a"
             ],
             [
              0.8888888888888888,
              "#fdca26"
             ],
             [
              1,
              "#f0f921"
             ]
            ],
            "type": "heatmap"
           }
          ],
          "heatmapgl": [
           {
            "colorbar": {
             "outlinewidth": 0,
             "ticks": ""
            },
            "colorscale": [
             [
              0,
              "#0d0887"
             ],
             [
              0.1111111111111111,
              "#46039f"
             ],
             [
              0.2222222222222222,
              "#7201a8"
             ],
             [
              0.3333333333333333,
              "#9c179e"
             ],
             [
              0.4444444444444444,
              "#bd3786"
             ],
             [
              0.5555555555555556,
              "#d8576b"
             ],
             [
              0.6666666666666666,
              "#ed7953"
             ],
             [
              0.7777777777777778,
              "#fb9f3a"
             ],
             [
              0.8888888888888888,
              "#fdca26"
             ],
             [
              1,
              "#f0f921"
             ]
            ],
            "type": "heatmapgl"
           }
          ],
          "histogram": [
           {
            "marker": {
             "pattern": {
              "fillmode": "overlay",
              "size": 10,
              "solidity": 0.2
             }
            },
            "type": "histogram"
           }
          ],
          "histogram2d": [
           {
            "colorbar": {
             "outlinewidth": 0,
             "ticks": ""
            },
            "colorscale": [
             [
              0,
              "#0d0887"
             ],
             [
              0.1111111111111111,
              "#46039f"
             ],
             [
              0.2222222222222222,
              "#7201a8"
             ],
             [
              0.3333333333333333,
              "#9c179e"
             ],
             [
              0.4444444444444444,
              "#bd3786"
             ],
             [
              0.5555555555555556,
              "#d8576b"
             ],
             [
              0.6666666666666666,
              "#ed7953"
             ],
             [
              0.7777777777777778,
              "#fb9f3a"
             ],
             [
              0.8888888888888888,
              "#fdca26"
             ],
             [
              1,
              "#f0f921"
             ]
            ],
            "type": "histogram2d"
           }
          ],
          "histogram2dcontour": [
           {
            "colorbar": {
             "outlinewidth": 0,
             "ticks": ""
            },
            "colorscale": [
             [
              0,
              "#0d0887"
             ],
             [
              0.1111111111111111,
              "#46039f"
             ],
             [
              0.2222222222222222,
              "#7201a8"
             ],
             [
              0.3333333333333333,
              "#9c179e"
             ],
             [
              0.4444444444444444,
              "#bd3786"
             ],
             [
              0.5555555555555556,
              "#d8576b"
             ],
             [
              0.6666666666666666,
              "#ed7953"
             ],
             [
              0.7777777777777778,
              "#fb9f3a"
             ],
             [
              0.8888888888888888,
              "#fdca26"
             ],
             [
              1,
              "#f0f921"
             ]
            ],
            "type": "histogram2dcontour"
           }
          ],
          "mesh3d": [
           {
            "colorbar": {
             "outlinewidth": 0,
             "ticks": ""
            },
            "type": "mesh3d"
           }
          ],
          "parcoords": [
           {
            "line": {
             "colorbar": {
              "outlinewidth": 0,
              "ticks": ""
             }
            },
            "type": "parcoords"
           }
          ],
          "pie": [
           {
            "automargin": true,
            "type": "pie"
           }
          ],
          "scatter": [
           {
            "marker": {
             "colorbar": {
              "outlinewidth": 0,
              "ticks": ""
             }
            },
            "type": "scatter"
           }
          ],
          "scatter3d": [
           {
            "line": {
             "colorbar": {
              "outlinewidth": 0,
              "ticks": ""
             }
            },
            "marker": {
             "colorbar": {
              "outlinewidth": 0,
              "ticks": ""
             }
            },
            "type": "scatter3d"
           }
          ],
          "scattercarpet": [
           {
            "marker": {
             "colorbar": {
              "outlinewidth": 0,
              "ticks": ""
             }
            },
            "type": "scattercarpet"
           }
          ],
          "scattergeo": [
           {
            "marker": {
             "colorbar": {
              "outlinewidth": 0,
              "ticks": ""
             }
            },
            "type": "scattergeo"
           }
          ],
          "scattergl": [
           {
            "marker": {
             "colorbar": {
              "outlinewidth": 0,
              "ticks": ""
             }
            },
            "type": "scattergl"
           }
          ],
          "scattermapbox": [
           {
            "marker": {
             "colorbar": {
              "outlinewidth": 0,
              "ticks": ""
             }
            },
            "type": "scattermapbox"
           }
          ],
          "scatterpolar": [
           {
            "marker": {
             "colorbar": {
              "outlinewidth": 0,
              "ticks": ""
             }
            },
            "type": "scatterpolar"
           }
          ],
          "scatterpolargl": [
           {
            "marker": {
             "colorbar": {
              "outlinewidth": 0,
              "ticks": ""
             }
            },
            "type": "scatterpolargl"
           }
          ],
          "scatterternary": [
           {
            "marker": {
             "colorbar": {
              "outlinewidth": 0,
              "ticks": ""
             }
            },
            "type": "scatterternary"
           }
          ],
          "surface": [
           {
            "colorbar": {
             "outlinewidth": 0,
             "ticks": ""
            },
            "colorscale": [
             [
              0,
              "#0d0887"
             ],
             [
              0.1111111111111111,
              "#46039f"
             ],
             [
              0.2222222222222222,
              "#7201a8"
             ],
             [
              0.3333333333333333,
              "#9c179e"
             ],
             [
              0.4444444444444444,
              "#bd3786"
             ],
             [
              0.5555555555555556,
              "#d8576b"
             ],
             [
              0.6666666666666666,
              "#ed7953"
             ],
             [
              0.7777777777777778,
              "#fb9f3a"
             ],
             [
              0.8888888888888888,
              "#fdca26"
             ],
             [
              1,
              "#f0f921"
             ]
            ],
            "type": "surface"
           }
          ],
          "table": [
           {
            "cells": {
             "fill": {
              "color": "#EBF0F8"
             },
             "line": {
              "color": "white"
             }
            },
            "header": {
             "fill": {
              "color": "#C8D4E3"
             },
             "line": {
              "color": "white"
             }
            },
            "type": "table"
           }
          ]
         },
         "layout": {
          "annotationdefaults": {
           "arrowcolor": "#2a3f5f",
           "arrowhead": 0,
           "arrowwidth": 1
          },
          "autotypenumbers": "strict",
          "coloraxis": {
           "colorbar": {
            "outlinewidth": 0,
            "ticks": ""
           }
          },
          "colorscale": {
           "diverging": [
            [
             0,
             "#8e0152"
            ],
            [
             0.1,
             "#c51b7d"
            ],
            [
             0.2,
             "#de77ae"
            ],
            [
             0.3,
             "#f1b6da"
            ],
            [
             0.4,
             "#fde0ef"
            ],
            [
             0.5,
             "#f7f7f7"
            ],
            [
             0.6,
             "#e6f5d0"
            ],
            [
             0.7,
             "#b8e186"
            ],
            [
             0.8,
             "#7fbc41"
            ],
            [
             0.9,
             "#4d9221"
            ],
            [
             1,
             "#276419"
            ]
           ],
           "sequential": [
            [
             0,
             "#0d0887"
            ],
            [
             0.1111111111111111,
             "#46039f"
            ],
            [
             0.2222222222222222,
             "#7201a8"
            ],
            [
             0.3333333333333333,
             "#9c179e"
            ],
            [
             0.4444444444444444,
             "#bd3786"
            ],
            [
             0.5555555555555556,
             "#d8576b"
            ],
            [
             0.6666666666666666,
             "#ed7953"
            ],
            [
             0.7777777777777778,
             "#fb9f3a"
            ],
            [
             0.8888888888888888,
             "#fdca26"
            ],
            [
             1,
             "#f0f921"
            ]
           ],
           "sequentialminus": [
            [
             0,
             "#0d0887"
            ],
            [
             0.1111111111111111,
             "#46039f"
            ],
            [
             0.2222222222222222,
             "#7201a8"
            ],
            [
             0.3333333333333333,
             "#9c179e"
            ],
            [
             0.4444444444444444,
             "#bd3786"
            ],
            [
             0.5555555555555556,
             "#d8576b"
            ],
            [
             0.6666666666666666,
             "#ed7953"
            ],
            [
             0.7777777777777778,
             "#fb9f3a"
            ],
            [
             0.8888888888888888,
             "#fdca26"
            ],
            [
             1,
             "#f0f921"
            ]
           ]
          },
          "colorway": [
           "#636efa",
           "#EF553B",
           "#00cc96",
           "#ab63fa",
           "#FFA15A",
           "#19d3f3",
           "#FF6692",
           "#B6E880",
           "#FF97FF",
           "#FECB52"
          ],
          "font": {
           "color": "#2a3f5f"
          },
          "geo": {
           "bgcolor": "white",
           "lakecolor": "white",
           "landcolor": "#E5ECF6",
           "showlakes": true,
           "showland": true,
           "subunitcolor": "white"
          },
          "hoverlabel": {
           "align": "left"
          },
          "hovermode": "closest",
          "mapbox": {
           "style": "light"
          },
          "paper_bgcolor": "white",
          "plot_bgcolor": "#E5ECF6",
          "polar": {
           "angularaxis": {
            "gridcolor": "white",
            "linecolor": "white",
            "ticks": ""
           },
           "bgcolor": "#E5ECF6",
           "radialaxis": {
            "gridcolor": "white",
            "linecolor": "white",
            "ticks": ""
           }
          },
          "scene": {
           "xaxis": {
            "backgroundcolor": "#E5ECF6",
            "gridcolor": "white",
            "gridwidth": 2,
            "linecolor": "white",
            "showbackground": true,
            "ticks": "",
            "zerolinecolor": "white"
           },
           "yaxis": {
            "backgroundcolor": "#E5ECF6",
            "gridcolor": "white",
            "gridwidth": 2,
            "linecolor": "white",
            "showbackground": true,
            "ticks": "",
            "zerolinecolor": "white"
           },
           "zaxis": {
            "backgroundcolor": "#E5ECF6",
            "gridcolor": "white",
            "gridwidth": 2,
            "linecolor": "white",
            "showbackground": true,
            "ticks": "",
            "zerolinecolor": "white"
           }
          },
          "shapedefaults": {
           "line": {
            "color": "#2a3f5f"
           }
          },
          "ternary": {
           "aaxis": {
            "gridcolor": "white",
            "linecolor": "white",
            "ticks": ""
           },
           "baxis": {
            "gridcolor": "white",
            "linecolor": "white",
            "ticks": ""
           },
           "bgcolor": "#E5ECF6",
           "caxis": {
            "gridcolor": "white",
            "linecolor": "white",
            "ticks": ""
           }
          },
          "title": {
           "x": 0.05
          },
          "xaxis": {
           "automargin": true,
           "gridcolor": "white",
           "linecolor": "white",
           "ticks": "",
           "title": {
            "standoff": 15
           },
           "zerolinecolor": "white",
           "zerolinewidth": 2
          },
          "yaxis": {
           "automargin": true,
           "gridcolor": "white",
           "linecolor": "white",
           "ticks": "",
           "title": {
            "standoff": 15
           },
           "zerolinecolor": "white",
           "zerolinewidth": 2
          }
         }
        },
        "title": {
         "text": "Pedidos realizados por día"
        },
        "xaxis": {
         "anchor": "y",
         "domain": [
          0,
          1
         ],
         "title": {
          "text": "date"
         }
        },
        "yaxis": {
         "anchor": "x",
         "domain": [
          0,
          1
         ],
         "title": {
          "text": "num_order"
         }
        }
       }
      }
     },
     "metadata": {},
     "output_type": "display_data"
    }
   ],
   "source": [
    "fig = px.area(df_temp, x=\"date\", y=\"num_order\", title='Pedidos realizados por día',)\n",
    "fig.show()"
   ]
  },
  {
   "cell_type": "markdown",
   "metadata": {},
   "source": [
    "Vemos los picos de pedidos en los meses como Noviembre (BlackFriday) y picos en las rebajas tanto de invierno como de verano"
   ]
  },
  {
   "cell_type": "code",
   "execution_count": 95,
   "metadata": {},
   "outputs": [
    {
     "data": {
      "application/vnd.plotly.v1+json": {
       "config": {
        "plotlyServerURL": "https://plot.ly"
       },
       "data": [
        {
         "hovertemplate": "date=%{x}<br>qty_ordered=%{y}<extra></extra>",
         "legendgroup": "",
         "line": {
          "color": "#636efa"
         },
         "marker": {
          "symbol": "circle"
         },
         "mode": "lines",
         "name": "",
         "orientation": "v",
         "showlegend": false,
         "stackgroup": "1",
         "type": "scatter",
         "x": [
          "2017-01-01",
          "2017-01-02",
          "2017-01-03",
          "2017-01-04",
          "2017-01-05",
          "2017-01-06",
          "2017-01-07",
          "2017-01-08",
          "2017-01-09",
          "2017-01-10",
          "2017-01-11",
          "2017-01-12",
          "2017-01-13",
          "2017-01-14",
          "2017-01-15",
          "2017-01-16",
          "2017-01-17",
          "2017-01-18",
          "2017-01-19",
          "2017-01-20",
          "2017-01-21",
          "2017-01-22",
          "2017-01-23",
          "2017-01-24",
          "2017-01-25",
          "2017-01-26",
          "2017-01-27",
          "2017-01-28",
          "2017-01-29",
          "2017-01-30",
          "2017-01-31",
          "2017-02-01",
          "2017-02-02",
          "2017-02-03",
          "2017-02-04",
          "2017-02-05",
          "2017-02-06",
          "2017-02-07",
          "2017-02-08",
          "2017-02-09",
          "2017-02-10",
          "2017-02-11",
          "2017-02-12",
          "2017-02-13",
          "2017-02-14",
          "2017-02-15",
          "2017-02-16",
          "2017-02-17",
          "2017-02-18",
          "2017-02-19",
          "2017-02-20",
          "2017-02-21",
          "2017-02-22",
          "2017-02-23",
          "2017-02-24",
          "2017-02-25",
          "2017-02-26",
          "2017-02-27",
          "2017-02-28",
          "2017-03-01",
          "2017-03-02",
          "2017-03-03",
          "2017-03-04",
          "2017-03-05",
          "2017-03-06",
          "2017-03-07",
          "2017-03-08",
          "2017-03-09",
          "2017-03-10",
          "2017-03-11",
          "2017-03-12",
          "2017-03-13",
          "2017-03-14",
          "2017-03-15",
          "2017-03-16",
          "2017-03-17",
          "2017-03-18",
          "2017-03-19",
          "2017-03-20",
          "2017-03-21",
          "2017-03-22",
          "2017-03-23",
          "2017-03-24",
          "2017-03-25",
          "2017-03-26",
          "2017-03-27",
          "2017-03-28",
          "2017-03-29",
          "2017-03-30",
          "2017-03-31",
          "2017-04-01",
          "2017-04-02",
          "2017-04-03",
          "2017-04-04",
          "2017-04-05",
          "2017-04-06",
          "2017-04-07",
          "2017-04-08",
          "2017-04-09",
          "2017-04-10",
          "2017-04-11",
          "2017-04-12",
          "2017-04-13",
          "2017-04-14",
          "2017-04-15",
          "2017-04-16",
          "2017-04-17",
          "2017-04-18",
          "2017-04-19",
          "2017-04-20",
          "2017-04-21",
          "2017-04-22",
          "2017-04-23",
          "2017-04-24",
          "2017-04-25",
          "2017-04-26",
          "2017-04-27",
          "2017-04-28",
          "2017-04-29",
          "2017-04-30",
          "2017-05-01",
          "2017-05-02",
          "2017-05-03",
          "2017-05-04",
          "2017-05-05",
          "2017-05-06",
          "2017-05-07",
          "2017-05-08",
          "2017-05-09",
          "2017-05-10",
          "2017-05-11",
          "2017-05-12",
          "2017-05-13",
          "2017-05-14",
          "2017-05-15",
          "2017-05-16",
          "2017-05-17",
          "2017-05-18",
          "2017-05-19",
          "2017-05-20",
          "2017-05-21",
          "2017-05-22",
          "2017-05-23",
          "2017-05-24",
          "2017-05-25",
          "2017-05-26",
          "2017-05-27",
          "2017-05-28",
          "2017-05-29",
          "2017-05-30",
          "2017-05-31",
          "2017-06-01",
          "2017-06-02",
          "2017-06-03",
          "2017-06-04",
          "2017-06-05",
          "2017-06-06",
          "2017-06-07",
          "2017-06-08",
          "2017-06-09",
          "2017-06-10",
          "2017-06-11",
          "2017-06-12",
          "2017-06-13",
          "2017-06-14",
          "2017-06-15",
          "2017-06-16",
          "2017-06-17",
          "2017-06-18",
          "2017-06-19",
          "2017-06-20",
          "2017-06-21",
          "2017-06-22",
          "2017-06-23",
          "2017-06-24",
          "2017-06-25",
          "2017-06-26",
          "2017-06-27",
          "2017-06-28",
          "2017-06-29",
          "2017-06-30",
          "2017-07-01",
          "2017-07-02",
          "2017-07-03",
          "2017-07-04",
          "2017-07-05",
          "2017-07-06",
          "2017-07-07",
          "2017-07-08",
          "2017-07-09",
          "2017-07-10",
          "2017-07-11",
          "2017-07-12",
          "2017-07-13",
          "2017-07-14",
          "2017-07-15",
          "2017-07-16",
          "2017-07-17",
          "2017-07-18",
          "2017-07-19",
          "2017-07-20",
          "2017-07-21",
          "2017-07-22",
          "2017-07-23",
          "2017-07-24",
          "2017-07-25",
          "2017-07-26",
          "2017-07-27",
          "2017-07-28",
          "2017-07-29",
          "2017-07-30",
          "2017-07-31",
          "2017-08-01",
          "2017-08-02",
          "2017-08-03",
          "2017-08-04",
          "2017-08-05",
          "2017-08-06",
          "2017-08-07",
          "2017-08-08",
          "2017-08-09",
          "2017-08-10",
          "2017-08-11",
          "2017-08-12",
          "2017-08-13",
          "2017-08-14",
          "2017-08-15",
          "2017-08-16",
          "2017-08-17",
          "2017-08-18",
          "2017-08-19",
          "2017-08-20",
          "2017-08-21",
          "2017-08-22",
          "2017-08-23",
          "2017-08-24",
          "2017-08-25",
          "2017-08-26",
          "2017-08-27",
          "2017-08-28",
          "2017-08-29",
          "2017-08-30",
          "2017-08-31",
          "2017-09-01",
          "2017-09-02",
          "2017-09-03",
          "2017-09-04",
          "2017-09-05",
          "2017-09-06",
          "2017-09-07",
          "2017-09-08",
          "2017-09-09",
          "2017-09-10",
          "2017-09-11",
          "2017-09-12",
          "2017-09-13",
          "2017-09-14",
          "2017-09-15",
          "2017-09-16",
          "2017-09-17",
          "2017-09-18",
          "2017-09-19",
          "2017-09-20",
          "2017-09-21",
          "2017-09-22",
          "2017-09-23",
          "2017-09-24",
          "2017-09-25",
          "2017-09-26",
          "2017-09-27",
          "2017-09-28",
          "2017-09-29",
          "2017-09-30",
          "2017-10-01",
          "2017-10-02",
          "2017-10-03",
          "2017-10-04",
          "2017-10-05",
          "2017-10-06",
          "2017-10-07",
          "2017-10-08",
          "2017-10-09",
          "2017-10-10",
          "2017-10-11",
          "2017-10-12",
          "2017-10-13",
          "2017-10-14",
          "2017-10-15",
          "2017-10-16",
          "2017-10-17",
          "2017-10-18",
          "2017-10-19",
          "2017-10-20",
          "2017-10-21",
          "2017-10-22",
          "2017-10-23",
          "2017-10-24",
          "2017-10-25",
          "2017-10-26",
          "2017-10-27",
          "2017-10-28",
          "2017-10-29",
          "2017-10-30",
          "2017-10-31",
          "2017-11-01",
          "2017-11-02",
          "2017-11-03",
          "2017-11-04",
          "2017-11-05",
          "2017-11-06",
          "2017-11-07",
          "2017-11-08",
          "2017-11-09",
          "2017-11-10",
          "2017-11-11",
          "2017-11-12",
          "2017-11-13",
          "2017-11-14",
          "2017-11-15",
          "2017-11-16",
          "2017-11-17",
          "2017-11-18",
          "2017-11-19",
          "2017-11-20",
          "2017-11-21",
          "2017-11-22",
          "2017-11-23",
          "2017-11-24",
          "2017-11-25",
          "2017-11-26",
          "2017-11-27",
          "2017-11-28",
          "2017-11-29",
          "2017-11-30",
          "2017-12-01",
          "2017-12-02",
          "2017-12-03",
          "2017-12-04",
          "2017-12-05",
          "2017-12-06",
          "2017-12-07",
          "2017-12-08",
          "2017-12-10",
          "2017-12-11",
          "2017-12-12",
          "2017-12-13",
          "2017-12-14",
          "2017-12-15",
          "2017-12-16",
          "2017-12-17",
          "2017-12-18",
          "2017-12-19",
          "2017-12-20",
          "2017-12-21",
          "2017-12-22",
          "2017-12-23",
          "2017-12-24",
          "2017-12-25",
          "2017-12-26",
          "2017-12-27",
          "2017-12-28",
          "2017-12-29",
          "2017-12-30",
          "2017-12-31",
          "2018-01-01",
          "2018-01-02",
          "2018-01-03",
          "2018-01-04",
          "2018-01-05",
          "2018-01-06",
          "2018-01-07",
          "2018-01-08",
          "2018-01-09",
          "2018-01-10",
          "2018-01-11",
          "2018-01-12",
          "2018-01-13",
          "2018-01-14",
          "2018-01-15",
          "2018-01-16",
          "2018-01-17",
          "2018-01-18",
          "2018-01-19",
          "2018-01-20",
          "2018-01-21",
          "2018-01-22",
          "2018-01-23",
          "2018-01-24",
          "2018-01-25",
          "2018-01-26",
          "2018-01-27",
          "2018-01-28",
          "2018-01-29",
          "2018-01-30",
          "2018-01-31",
          "2018-02-01",
          "2018-02-02",
          "2018-02-03",
          "2018-02-04",
          "2018-02-05",
          "2018-02-06",
          "2018-02-07",
          "2018-02-08",
          "2018-02-09",
          "2018-02-10",
          "2018-02-11",
          "2018-02-12",
          "2018-02-13",
          "2018-02-14",
          "2018-02-15",
          "2018-02-16",
          "2018-02-17",
          "2018-02-18",
          "2018-02-19",
          "2018-02-20",
          "2018-02-21",
          "2018-02-22",
          "2018-02-23",
          "2018-02-24",
          "2018-02-25",
          "2018-02-26",
          "2018-02-27",
          "2018-02-28",
          "2018-03-01",
          "2018-03-02",
          "2018-03-03",
          "2018-03-04",
          "2018-03-05",
          "2018-03-06",
          "2018-03-07",
          "2018-03-08",
          "2018-03-09",
          "2018-03-10",
          "2018-03-11",
          "2018-03-12",
          "2018-03-13",
          "2018-03-14",
          "2018-03-15",
          "2018-03-16",
          "2018-03-17",
          "2018-03-18",
          "2018-03-19",
          "2018-03-20",
          "2018-03-21",
          "2018-03-22",
          "2018-03-23",
          "2018-03-24",
          "2018-03-25",
          "2018-03-26",
          "2018-03-27",
          "2018-03-28",
          "2018-03-29",
          "2018-03-30",
          "2018-03-31",
          "2018-04-01",
          "2018-04-02",
          "2018-04-03",
          "2018-04-04",
          "2018-04-05",
          "2018-04-06",
          "2018-04-07",
          "2018-04-08",
          "2018-04-09",
          "2018-04-10",
          "2018-04-11",
          "2018-04-12",
          "2018-04-13",
          "2018-04-14",
          "2018-04-15",
          "2018-04-16",
          "2018-04-17",
          "2018-04-18",
          "2018-04-19",
          "2018-04-20",
          "2018-04-21",
          "2018-04-22",
          "2018-04-23",
          "2018-04-24",
          "2018-04-25",
          "2018-04-26",
          "2018-04-27",
          "2018-04-28",
          "2018-04-29",
          "2018-04-30",
          "2018-05-01",
          "2018-05-02",
          "2018-05-03",
          "2018-05-04",
          "2018-05-05",
          "2018-05-06",
          "2018-05-07",
          "2018-05-08",
          "2018-05-09",
          "2018-05-10",
          "2018-05-11",
          "2018-05-12",
          "2018-05-13",
          "2018-05-14",
          "2018-05-15",
          "2018-05-16",
          "2018-05-17",
          "2018-05-18",
          "2018-05-19",
          "2018-05-20",
          "2018-05-21",
          "2018-05-22",
          "2018-05-23",
          "2018-05-24",
          "2018-05-25",
          "2018-05-26",
          "2018-05-27",
          "2018-05-28",
          "2018-05-29",
          "2018-05-30",
          "2018-05-31",
          "2018-06-01",
          "2018-06-02",
          "2018-06-03",
          "2018-06-04",
          "2018-06-05",
          "2018-06-06",
          "2018-06-07",
          "2018-06-08",
          "2018-06-09",
          "2018-06-10",
          "2018-06-11",
          "2018-06-12",
          "2018-06-13",
          "2018-06-14",
          "2018-06-15",
          "2018-06-16",
          "2018-06-17",
          "2018-06-18",
          "2018-06-19",
          "2018-06-20",
          "2018-06-21",
          "2018-06-22",
          "2018-06-23",
          "2018-06-24",
          "2018-06-25",
          "2018-06-26",
          "2018-06-27",
          "2018-06-28",
          "2018-06-29",
          "2018-06-30",
          "2018-07-01",
          "2018-07-02",
          "2018-07-03",
          "2018-07-04",
          "2018-07-05",
          "2018-07-06",
          "2018-07-07",
          "2018-07-08",
          "2018-07-09",
          "2018-07-10",
          "2018-07-11",
          "2018-07-12",
          "2018-07-13",
          "2018-07-14",
          "2018-07-15",
          "2018-07-16",
          "2018-07-17",
          "2018-07-18",
          "2018-07-19",
          "2018-07-20",
          "2018-07-21",
          "2018-07-22",
          "2018-07-23",
          "2018-07-24",
          "2018-07-25",
          "2018-07-26",
          "2018-07-27",
          "2018-07-28",
          "2018-07-29",
          "2018-07-30",
          "2018-07-31",
          "2018-08-01",
          "2018-08-02",
          "2018-08-03",
          "2018-08-04",
          "2018-08-05",
          "2018-08-06",
          "2018-08-07",
          "2018-08-08",
          "2018-08-09",
          "2018-08-10",
          "2018-08-11",
          "2018-08-12",
          "2018-08-13",
          "2018-08-14",
          "2018-08-15",
          "2018-08-16",
          "2018-08-17",
          "2018-08-18",
          "2018-08-19",
          "2018-08-20",
          "2018-08-21",
          "2018-08-22",
          "2018-08-23",
          "2018-08-24",
          "2018-08-25",
          "2018-08-26",
          "2018-08-27",
          "2018-08-28",
          "2018-08-29",
          "2018-08-30",
          "2018-08-31",
          "2018-09-01",
          "2018-09-02",
          "2018-09-03",
          "2018-09-04",
          "2018-09-05",
          "2018-09-06",
          "2018-09-07",
          "2018-09-08",
          "2018-09-09",
          "2018-09-10",
          "2018-09-11",
          "2018-09-12",
          "2018-09-13",
          "2018-09-14",
          "2018-09-15",
          "2018-09-16",
          "2018-09-17",
          "2018-09-18",
          "2018-09-19",
          "2018-09-20",
          "2018-09-21",
          "2018-09-22",
          "2018-09-23",
          "2018-09-24",
          "2018-09-25",
          "2018-09-26",
          "2018-09-27",
          "2018-09-28",
          "2018-09-29",
          "2018-09-30",
          "2018-10-01",
          "2018-10-02",
          "2018-10-03",
          "2018-10-04",
          "2018-10-05",
          "2018-10-06",
          "2018-10-07",
          "2018-10-08",
          "2018-10-09",
          "2018-10-10",
          "2018-10-11",
          "2018-10-12",
          "2018-10-13",
          "2018-10-14",
          "2018-10-15",
          "2018-10-16",
          "2018-10-17",
          "2018-10-18",
          "2018-10-19",
          "2018-10-20",
          "2018-10-21",
          "2018-10-22",
          "2018-10-23",
          "2018-10-24",
          "2018-10-25",
          "2018-10-26",
          "2018-10-27",
          "2018-10-28",
          "2018-10-29",
          "2018-10-30",
          "2018-10-31",
          "2018-11-01",
          "2018-11-02",
          "2018-11-03",
          "2018-11-04",
          "2018-11-05",
          "2018-11-06",
          "2018-11-07",
          "2018-11-08",
          "2018-11-09",
          "2018-11-10",
          "2018-11-11",
          "2018-11-12",
          "2018-11-13",
          "2018-11-14",
          "2018-11-15",
          "2018-11-16",
          "2018-11-17",
          "2018-11-18",
          "2018-11-19",
          "2018-11-20",
          "2018-11-21",
          "2018-11-22",
          "2018-11-23",
          "2018-11-24",
          "2018-11-25",
          "2018-11-26",
          "2018-11-27",
          "2018-11-28",
          "2018-11-29",
          "2018-11-30",
          "2018-12-01",
          "2018-12-02",
          "2018-12-03",
          "2018-12-04",
          "2018-12-05",
          "2018-12-06",
          "2018-12-07",
          "2018-12-08",
          "2018-12-09",
          "2018-12-10",
          "2018-12-11",
          "2018-12-12",
          "2018-12-13",
          "2018-12-14",
          "2018-12-15",
          "2018-12-16",
          "2018-12-17",
          "2018-12-18",
          "2018-12-19",
          "2018-12-20",
          "2018-12-21",
          "2018-12-22",
          "2018-12-23",
          "2018-12-24",
          "2018-12-25",
          "2018-12-26",
          "2018-12-27",
          "2018-12-28",
          "2018-12-29",
          "2018-12-30"
         ],
         "xaxis": "x",
         "y": [
          2545,
          846,
          111,
          126,
          133,
          104,
          60,
          102,
          1051,
          1566,
          1581,
          1680,
          1368,
          1292,
          1984,
          1278,
          1566,
          1628,
          1455,
          1222,
          1158,
          2334,
          1318,
          501,
          203,
          189,
          140,
          161,
          411,
          252,
          297,
          203,
          273,
          186,
          98,
          101,
          1763,
          2366,
          2003,
          1465,
          1878,
          1347,
          2034,
          1879,
          2049,
          1846,
          695,
          77,
          65,
          71,
          1828,
          1640,
          1660,
          1874,
          1446,
          1218,
          2704,
          2035,
          2113,
          2561,
          2287,
          1606,
          1366,
          2293,
          1472,
          1366,
          2300,
          1517,
          1299,
          923,
          1824,
          2695,
          2392,
          1728,
          2110,
          1481,
          1163,
          2498,
          1043,
          122,
          64,
          101,
          37,
          71,
          141,
          176,
          200,
          269,
          219,
          192,
          173,
          234,
          219,
          133,
          233,
          161,
          146,
          200,
          167,
          1707,
          1317,
          1326,
          896,
          1019,
          1373,
          2499,
          3327,
          1671,
          2260,
          1738,
          1270,
          1787,
          2418,
          2120,
          2004,
          2485,
          583,
          402,
          211,
          378,
          176,
          191,
          114,
          94,
          109,
          76,
          124,
          265,
          198,
          186,
          145,
          133,
          161,
          192,
          271,
          207,
          249,
          172,
          152,
          82,
          211,
          115,
          167,
          124,
          189,
          144,
          54,
          185,
          1223,
          2475,
          1963,
          1859,
          1677,
          1087,
          1829,
          2557,
          2153,
          2114,
          1449,
          1221,
          1082,
          2335,
          1608,
          909,
          732,
          584,
          352,
          175,
          564,
          504,
          1033,
          1668,
          1395,
          1038,
          1388,
          2034,
          2458,
          1890,
          2114,
          1066,
          1293,
          1312,
          1581,
          3804,
          3907,
          2643,
          2079,
          2635,
          1708,
          2520,
          3027,
          3258,
          2900,
          2106,
          1809,
          1419,
          1937,
          470,
          262,
          146,
          160,
          132,
          97,
          134,
          2171,
          2220,
          1738,
          1656,
          1438,
          917,
          2426,
          1718,
          474,
          269,
          208,
          303,
          214,
          391,
          1533,
          2401,
          1949,
          1464,
          1260,
          1339,
          1709,
          851,
          1430,
          347,
          261,
          192,
          99,
          382,
          1385,
          1153,
          1059,
          1077,
          899,
          488,
          721,
          334,
          259,
          237,
          207,
          189,
          99,
          1853,
          1815,
          1826,
          1770,
          1724,
          1134,
          1224,
          1587,
          502,
          155,
          150,
          207,
          108,
          89,
          178,
          4193,
          3428,
          2919,
          2530,
          2627,
          2562,
          3781,
          393,
          942,
          683,
          494,
          328,
          336,
          1017,
          302,
          270,
          291,
          272,
          149,
          166,
          266,
          131,
          127,
          153,
          146,
          127,
          126,
          258,
          4114,
          3206,
          3224,
          3015,
          2769,
          2338,
          4180,
          3027,
          3058,
          3269,
          3189,
          3622,
          2282,
          4741,
          3635,
          4750,
          4863,
          135,
          140,
          118,
          236,
          218,
          261,
          258,
          210,
          360,
          1027,
          790,
          214,
          188,
          243,
          99,
          127,
          74,
          135,
          1658,
          2033,
          1698,
          1275,
          9425,
          2886,
          2198,
          8424,
          3251,
          229,
          80,
          5,
          65,
          80,
          101,
          96,
          164,
          40,
          8,
          9,
          123,
          86,
          53,
          51,
          39,
          13,
          57,
          1505,
          2015,
          1619,
          1389,
          1090,
          925,
          888,
          302,
          226,
          152,
          196,
          140,
          126,
          119,
          162,
          379,
          230,
          189,
          174,
          206,
          337,
          2803,
          3161,
          3730,
          3054,
          2163,
          2980,
          3833,
          3317,
          3879,
          2731,
          2363,
          2650,
          2243,
          3400,
          1047,
          547,
          426,
          495,
          259,
          552,
          721,
          3325,
          3992,
          4510,
          3599,
          3877,
          3389,
          5658,
          1291,
          290,
          369,
          328,
          215,
          238,
          397,
          364,
          286,
          397,
          281,
          254,
          188,
          283,
          395,
          312,
          423,
          549,
          386,
          430,
          534,
          465,
          585,
          565,
          492,
          383,
          257,
          370,
          282,
          307,
          337,
          178,
          143,
          243,
          329,
          2228,
          4085,
          3477,
          2505,
          2136,
          2911,
          3711,
          4847,
          3476,
          4164,
          3240,
          2765,
          3465,
          4348,
          4104,
          3620,
          2994,
          2286,
          3012,
          2606,
          4234,
          6600,
          1458,
          244,
          196,
          169,
          195,
          202,
          186,
          246,
          244,
          188,
          154,
          205,
          310,
          4361,
          5858,
          4973,
          4095,
          3662,
          3048,
          4962,
          4191,
          5065,
          4316,
          3351,
          3257,
          1862,
          152,
          137,
          210,
          318,
          178,
          98,
          131,
          126,
          223,
          310,
          287,
          732,
          13836,
          552,
          99,
          166,
          196,
          247,
          6221,
          3629,
          3128,
          7635,
          1332,
          237,
          257,
          326,
          354,
          178,
          628,
          5002,
          3756,
          4021,
          3732,
          903,
          474,
          444,
          4225,
          3644,
          2212,
          729,
          228,
          176,
          242,
          305,
          251,
          343,
          176,
          175,
          109,
          227,
          293,
          276,
          268,
          272,
          152,
          137,
          248,
          430,
          271,
          277,
          238,
          257,
          173,
          414,
          5201,
          6335,
          4587,
          3315,
          3029,
          3293,
          5313,
          3976,
          3764,
          2669,
          1975,
          1983,
          1449,
          2035,
          2222,
          424,
          99,
          79,
          59,
          50,
          87,
          226,
          3254,
          4972,
          3554,
          3224,
          2650,
          5603,
          2504,
          213,
          159,
          111,
          124,
          81,
          169,
          5907,
          5237,
          4478,
          3313,
          2756,
          2602,
          3740,
          4363,
          3474,
          3329,
          2903,
          2717,
          2185,
          3001,
          596,
          116,
          133,
          108,
          90,
          47,
          101,
          2445,
          2878,
          2624,
          2657,
          1959,
          1798,
          3121,
          5467,
          4944,
          5267,
          4755,
          3424,
          2607,
          6188,
          4920,
          4612,
          4899,
          3857,
          2640,
          2555,
          4751,
          602,
          182,
          172,
          96,
          104,
          88,
          151,
          232,
          301,
          5334,
          4768,
          4355,
          3720,
          6835,
          6267,
          5832,
          4635,
          5467,
          4268,
          3782,
          6239,
          612,
          63,
          90,
          87,
          72,
          51,
          164,
          128,
          149,
          717,
          1911,
          3196,
          1851,
          2281,
          666,
          221,
          122,
          1760,
          1492,
          1440,
          3120,
          2245,
          3489,
          5707,
          5471,
          5812,
          4955,
          8206,
          7697,
          7559,
          6622,
          3715,
          2526,
          1703,
          5662,
          1817,
          1798,
          1133,
          1467,
          2324,
          5141,
          8578,
          1835,
          1056,
          1650,
          2334,
          14660,
          4015,
          5927,
          4289,
          244,
          164,
          108,
          271,
          120,
          173,
          86,
          185,
          101,
          92,
          88,
          71,
          290,
          6300,
          5926,
          5023,
          4828,
          4324,
          3489,
          8804,
          6667,
          5285,
          4743,
          3458,
          3703,
          2629,
          3207,
          8139,
          4673,
          6650,
          6871,
          6916,
          5496,
          8546
         ],
         "yaxis": "y"
        }
       ],
       "layout": {
        "legend": {
         "tracegroupgap": 0
        },
        "template": {
         "data": {
          "bar": [
           {
            "error_x": {
             "color": "#2a3f5f"
            },
            "error_y": {
             "color": "#2a3f5f"
            },
            "marker": {
             "line": {
              "color": "#E5ECF6",
              "width": 0.5
             },
             "pattern": {
              "fillmode": "overlay",
              "size": 10,
              "solidity": 0.2
             }
            },
            "type": "bar"
           }
          ],
          "barpolar": [
           {
            "marker": {
             "line": {
              "color": "#E5ECF6",
              "width": 0.5
             },
             "pattern": {
              "fillmode": "overlay",
              "size": 10,
              "solidity": 0.2
             }
            },
            "type": "barpolar"
           }
          ],
          "carpet": [
           {
            "aaxis": {
             "endlinecolor": "#2a3f5f",
             "gridcolor": "white",
             "linecolor": "white",
             "minorgridcolor": "white",
             "startlinecolor": "#2a3f5f"
            },
            "baxis": {
             "endlinecolor": "#2a3f5f",
             "gridcolor": "white",
             "linecolor": "white",
             "minorgridcolor": "white",
             "startlinecolor": "#2a3f5f"
            },
            "type": "carpet"
           }
          ],
          "choropleth": [
           {
            "colorbar": {
             "outlinewidth": 0,
             "ticks": ""
            },
            "type": "choropleth"
           }
          ],
          "contour": [
           {
            "colorbar": {
             "outlinewidth": 0,
             "ticks": ""
            },
            "colorscale": [
             [
              0,
              "#0d0887"
             ],
             [
              0.1111111111111111,
              "#46039f"
             ],
             [
              0.2222222222222222,
              "#7201a8"
             ],
             [
              0.3333333333333333,
              "#9c179e"
             ],
             [
              0.4444444444444444,
              "#bd3786"
             ],
             [
              0.5555555555555556,
              "#d8576b"
             ],
             [
              0.6666666666666666,
              "#ed7953"
             ],
             [
              0.7777777777777778,
              "#fb9f3a"
             ],
             [
              0.8888888888888888,
              "#fdca26"
             ],
             [
              1,
              "#f0f921"
             ]
            ],
            "type": "contour"
           }
          ],
          "contourcarpet": [
           {
            "colorbar": {
             "outlinewidth": 0,
             "ticks": ""
            },
            "type": "contourcarpet"
           }
          ],
          "heatmap": [
           {
            "colorbar": {
             "outlinewidth": 0,
             "ticks": ""
            },
            "colorscale": [
             [
              0,
              "#0d0887"
             ],
             [
              0.1111111111111111,
              "#46039f"
             ],
             [
              0.2222222222222222,
              "#7201a8"
             ],
             [
              0.3333333333333333,
              "#9c179e"
             ],
             [
              0.4444444444444444,
              "#bd3786"
             ],
             [
              0.5555555555555556,
              "#d8576b"
             ],
             [
              0.6666666666666666,
              "#ed7953"
             ],
             [
              0.7777777777777778,
              "#fb9f3a"
             ],
             [
              0.8888888888888888,
              "#fdca26"
             ],
             [
              1,
              "#f0f921"
             ]
            ],
            "type": "heatmap"
           }
          ],
          "heatmapgl": [
           {
            "colorbar": {
             "outlinewidth": 0,
             "ticks": ""
            },
            "colorscale": [
             [
              0,
              "#0d0887"
             ],
             [
              0.1111111111111111,
              "#46039f"
             ],
             [
              0.2222222222222222,
              "#7201a8"
             ],
             [
              0.3333333333333333,
              "#9c179e"
             ],
             [
              0.4444444444444444,
              "#bd3786"
             ],
             [
              0.5555555555555556,
              "#d8576b"
             ],
             [
              0.6666666666666666,
              "#ed7953"
             ],
             [
              0.7777777777777778,
              "#fb9f3a"
             ],
             [
              0.8888888888888888,
              "#fdca26"
             ],
             [
              1,
              "#f0f921"
             ]
            ],
            "type": "heatmapgl"
           }
          ],
          "histogram": [
           {
            "marker": {
             "pattern": {
              "fillmode": "overlay",
              "size": 10,
              "solidity": 0.2
             }
            },
            "type": "histogram"
           }
          ],
          "histogram2d": [
           {
            "colorbar": {
             "outlinewidth": 0,
             "ticks": ""
            },
            "colorscale": [
             [
              0,
              "#0d0887"
             ],
             [
              0.1111111111111111,
              "#46039f"
             ],
             [
              0.2222222222222222,
              "#7201a8"
             ],
             [
              0.3333333333333333,
              "#9c179e"
             ],
             [
              0.4444444444444444,
              "#bd3786"
             ],
             [
              0.5555555555555556,
              "#d8576b"
             ],
             [
              0.6666666666666666,
              "#ed7953"
             ],
             [
              0.7777777777777778,
              "#fb9f3a"
             ],
             [
              0.8888888888888888,
              "#fdca26"
             ],
             [
              1,
              "#f0f921"
             ]
            ],
            "type": "histogram2d"
           }
          ],
          "histogram2dcontour": [
           {
            "colorbar": {
             "outlinewidth": 0,
             "ticks": ""
            },
            "colorscale": [
             [
              0,
              "#0d0887"
             ],
             [
              0.1111111111111111,
              "#46039f"
             ],
             [
              0.2222222222222222,
              "#7201a8"
             ],
             [
              0.3333333333333333,
              "#9c179e"
             ],
             [
              0.4444444444444444,
              "#bd3786"
             ],
             [
              0.5555555555555556,
              "#d8576b"
             ],
             [
              0.6666666666666666,
              "#ed7953"
             ],
             [
              0.7777777777777778,
              "#fb9f3a"
             ],
             [
              0.8888888888888888,
              "#fdca26"
             ],
             [
              1,
              "#f0f921"
             ]
            ],
            "type": "histogram2dcontour"
           }
          ],
          "mesh3d": [
           {
            "colorbar": {
             "outlinewidth": 0,
             "ticks": ""
            },
            "type": "mesh3d"
           }
          ],
          "parcoords": [
           {
            "line": {
             "colorbar": {
              "outlinewidth": 0,
              "ticks": ""
             }
            },
            "type": "parcoords"
           }
          ],
          "pie": [
           {
            "automargin": true,
            "type": "pie"
           }
          ],
          "scatter": [
           {
            "marker": {
             "colorbar": {
              "outlinewidth": 0,
              "ticks": ""
             }
            },
            "type": "scatter"
           }
          ],
          "scatter3d": [
           {
            "line": {
             "colorbar": {
              "outlinewidth": 0,
              "ticks": ""
             }
            },
            "marker": {
             "colorbar": {
              "outlinewidth": 0,
              "ticks": ""
             }
            },
            "type": "scatter3d"
           }
          ],
          "scattercarpet": [
           {
            "marker": {
             "colorbar": {
              "outlinewidth": 0,
              "ticks": ""
             }
            },
            "type": "scattercarpet"
           }
          ],
          "scattergeo": [
           {
            "marker": {
             "colorbar": {
              "outlinewidth": 0,
              "ticks": ""
             }
            },
            "type": "scattergeo"
           }
          ],
          "scattergl": [
           {
            "marker": {
             "colorbar": {
              "outlinewidth": 0,
              "ticks": ""
             }
            },
            "type": "scattergl"
           }
          ],
          "scattermapbox": [
           {
            "marker": {
             "colorbar": {
              "outlinewidth": 0,
              "ticks": ""
             }
            },
            "type": "scattermapbox"
           }
          ],
          "scatterpolar": [
           {
            "marker": {
             "colorbar": {
              "outlinewidth": 0,
              "ticks": ""
             }
            },
            "type": "scatterpolar"
           }
          ],
          "scatterpolargl": [
           {
            "marker": {
             "colorbar": {
              "outlinewidth": 0,
              "ticks": ""
             }
            },
            "type": "scatterpolargl"
           }
          ],
          "scatterternary": [
           {
            "marker": {
             "colorbar": {
              "outlinewidth": 0,
              "ticks": ""
             }
            },
            "type": "scatterternary"
           }
          ],
          "surface": [
           {
            "colorbar": {
             "outlinewidth": 0,
             "ticks": ""
            },
            "colorscale": [
             [
              0,
              "#0d0887"
             ],
             [
              0.1111111111111111,
              "#46039f"
             ],
             [
              0.2222222222222222,
              "#7201a8"
             ],
             [
              0.3333333333333333,
              "#9c179e"
             ],
             [
              0.4444444444444444,
              "#bd3786"
             ],
             [
              0.5555555555555556,
              "#d8576b"
             ],
             [
              0.6666666666666666,
              "#ed7953"
             ],
             [
              0.7777777777777778,
              "#fb9f3a"
             ],
             [
              0.8888888888888888,
              "#fdca26"
             ],
             [
              1,
              "#f0f921"
             ]
            ],
            "type": "surface"
           }
          ],
          "table": [
           {
            "cells": {
             "fill": {
              "color": "#EBF0F8"
             },
             "line": {
              "color": "white"
             }
            },
            "header": {
             "fill": {
              "color": "#C8D4E3"
             },
             "line": {
              "color": "white"
             }
            },
            "type": "table"
           }
          ]
         },
         "layout": {
          "annotationdefaults": {
           "arrowcolor": "#2a3f5f",
           "arrowhead": 0,
           "arrowwidth": 1
          },
          "autotypenumbers": "strict",
          "coloraxis": {
           "colorbar": {
            "outlinewidth": 0,
            "ticks": ""
           }
          },
          "colorscale": {
           "diverging": [
            [
             0,
             "#8e0152"
            ],
            [
             0.1,
             "#c51b7d"
            ],
            [
             0.2,
             "#de77ae"
            ],
            [
             0.3,
             "#f1b6da"
            ],
            [
             0.4,
             "#fde0ef"
            ],
            [
             0.5,
             "#f7f7f7"
            ],
            [
             0.6,
             "#e6f5d0"
            ],
            [
             0.7,
             "#b8e186"
            ],
            [
             0.8,
             "#7fbc41"
            ],
            [
             0.9,
             "#4d9221"
            ],
            [
             1,
             "#276419"
            ]
           ],
           "sequential": [
            [
             0,
             "#0d0887"
            ],
            [
             0.1111111111111111,
             "#46039f"
            ],
            [
             0.2222222222222222,
             "#7201a8"
            ],
            [
             0.3333333333333333,
             "#9c179e"
            ],
            [
             0.4444444444444444,
             "#bd3786"
            ],
            [
             0.5555555555555556,
             "#d8576b"
            ],
            [
             0.6666666666666666,
             "#ed7953"
            ],
            [
             0.7777777777777778,
             "#fb9f3a"
            ],
            [
             0.8888888888888888,
             "#fdca26"
            ],
            [
             1,
             "#f0f921"
            ]
           ],
           "sequentialminus": [
            [
             0,
             "#0d0887"
            ],
            [
             0.1111111111111111,
             "#46039f"
            ],
            [
             0.2222222222222222,
             "#7201a8"
            ],
            [
             0.3333333333333333,
             "#9c179e"
            ],
            [
             0.4444444444444444,
             "#bd3786"
            ],
            [
             0.5555555555555556,
             "#d8576b"
            ],
            [
             0.6666666666666666,
             "#ed7953"
            ],
            [
             0.7777777777777778,
             "#fb9f3a"
            ],
            [
             0.8888888888888888,
             "#fdca26"
            ],
            [
             1,
             "#f0f921"
            ]
           ]
          },
          "colorway": [
           "#636efa",
           "#EF553B",
           "#00cc96",
           "#ab63fa",
           "#FFA15A",
           "#19d3f3",
           "#FF6692",
           "#B6E880",
           "#FF97FF",
           "#FECB52"
          ],
          "font": {
           "color": "#2a3f5f"
          },
          "geo": {
           "bgcolor": "white",
           "lakecolor": "white",
           "landcolor": "#E5ECF6",
           "showlakes": true,
           "showland": true,
           "subunitcolor": "white"
          },
          "hoverlabel": {
           "align": "left"
          },
          "hovermode": "closest",
          "mapbox": {
           "style": "light"
          },
          "paper_bgcolor": "white",
          "plot_bgcolor": "#E5ECF6",
          "polar": {
           "angularaxis": {
            "gridcolor": "white",
            "linecolor": "white",
            "ticks": ""
           },
           "bgcolor": "#E5ECF6",
           "radialaxis": {
            "gridcolor": "white",
            "linecolor": "white",
            "ticks": ""
           }
          },
          "scene": {
           "xaxis": {
            "backgroundcolor": "#E5ECF6",
            "gridcolor": "white",
            "gridwidth": 2,
            "linecolor": "white",
            "showbackground": true,
            "ticks": "",
            "zerolinecolor": "white"
           },
           "yaxis": {
            "backgroundcolor": "#E5ECF6",
            "gridcolor": "white",
            "gridwidth": 2,
            "linecolor": "white",
            "showbackground": true,
            "ticks": "",
            "zerolinecolor": "white"
           },
           "zaxis": {
            "backgroundcolor": "#E5ECF6",
            "gridcolor": "white",
            "gridwidth": 2,
            "linecolor": "white",
            "showbackground": true,
            "ticks": "",
            "zerolinecolor": "white"
           }
          },
          "shapedefaults": {
           "line": {
            "color": "#2a3f5f"
           }
          },
          "ternary": {
           "aaxis": {
            "gridcolor": "white",
            "linecolor": "white",
            "ticks": ""
           },
           "baxis": {
            "gridcolor": "white",
            "linecolor": "white",
            "ticks": ""
           },
           "bgcolor": "#E5ECF6",
           "caxis": {
            "gridcolor": "white",
            "linecolor": "white",
            "ticks": ""
           }
          },
          "title": {
           "x": 0.05
          },
          "xaxis": {
           "automargin": true,
           "gridcolor": "white",
           "linecolor": "white",
           "ticks": "",
           "title": {
            "standoff": 15
           },
           "zerolinecolor": "white",
           "zerolinewidth": 2
          },
          "yaxis": {
           "automargin": true,
           "gridcolor": "white",
           "linecolor": "white",
           "ticks": "",
           "title": {
            "standoff": 15
           },
           "zerolinecolor": "white",
           "zerolinewidth": 2
          }
         }
        },
        "title": {
         "text": "Cantidad de productos pedidos por día"
        },
        "xaxis": {
         "anchor": "y",
         "domain": [
          0,
          1
         ],
         "title": {
          "text": "date"
         }
        },
        "yaxis": {
         "anchor": "x",
         "domain": [
          0,
          1
         ],
         "title": {
          "text": "qty_ordered"
         }
        }
       }
      }
     },
     "metadata": {},
     "output_type": "display_data"
    }
   ],
   "source": [
    "fig = px.area(df_temp, x=\"date\", y=\"qty_ordered\", title='Cantidad de productos pedidos por día')\n",
    "fig.show()"
   ]
  },
  {
   "cell_type": "markdown",
   "metadata": {},
   "source": [
    "La cantidad de productos pedidos por día es muy similar en forma a la anterior gráfica, por lo que tienen cierta correlación. Aun así, nos debemos fijar en la escala del eje Y."
   ]
  },
  {
   "cell_type": "code",
   "execution_count": 96,
   "metadata": {},
   "outputs": [
    {
     "data": {
      "text/html": [
       "<div>\n",
       "<style scoped>\n",
       "    .dataframe tbody tr th:only-of-type {\n",
       "        vertical-align: middle;\n",
       "    }\n",
       "\n",
       "    .dataframe tbody tr th {\n",
       "        vertical-align: top;\n",
       "    }\n",
       "\n",
       "    .dataframe thead th {\n",
       "        text-align: right;\n",
       "    }\n",
       "</style>\n",
       "<table border=\"1\" class=\"dataframe\">\n",
       "  <thead>\n",
       "    <tr style=\"text-align: right;\">\n",
       "      <th></th>\n",
       "      <th>num_order</th>\n",
       "      <th>qty_ordered</th>\n",
       "    </tr>\n",
       "  </thead>\n",
       "  <tbody>\n",
       "    <tr>\n",
       "      <th>num_order</th>\n",
       "      <td>1.000000</td>\n",
       "      <td>0.969879</td>\n",
       "    </tr>\n",
       "    <tr>\n",
       "      <th>qty_ordered</th>\n",
       "      <td>0.969879</td>\n",
       "      <td>1.000000</td>\n",
       "    </tr>\n",
       "  </tbody>\n",
       "</table>\n",
       "</div>"
      ],
      "text/plain": [
       "             num_order  qty_ordered\n",
       "num_order     1.000000     0.969879\n",
       "qty_ordered   0.969879     1.000000"
      ]
     },
     "execution_count": 96,
     "metadata": {},
     "output_type": "execute_result"
    }
   ],
   "source": [
    "df_temp.corr()"
   ]
  },
  {
   "cell_type": "markdown",
   "metadata": {},
   "source": [
    "### Ventas por localización"
   ]
  },
  {
   "cell_type": "markdown",
   "metadata": {},
   "source": [
    "Puesto que hemos sacado las coordenadas de cada localización podemos mostrar visualmente donde se han producido más ventas"
   ]
  },
  {
   "cell_type": "code",
   "execution_count": 97,
   "metadata": {},
   "outputs": [
    {
     "data": {
      "text/html": [
       "<div>\n",
       "<style scoped>\n",
       "    .dataframe tbody tr th:only-of-type {\n",
       "        vertical-align: middle;\n",
       "    }\n",
       "\n",
       "    .dataframe tbody tr th {\n",
       "        vertical-align: top;\n",
       "    }\n",
       "\n",
       "    .dataframe thead th {\n",
       "        text-align: right;\n",
       "    }\n",
       "</style>\n",
       "<table border=\"1\" class=\"dataframe\">\n",
       "  <thead>\n",
       "    <tr style=\"text-align: right;\">\n",
       "      <th></th>\n",
       "      <th>city</th>\n",
       "      <th>num_order</th>\n",
       "      <th>qty_ordered</th>\n",
       "    </tr>\n",
       "  </thead>\n",
       "  <tbody>\n",
       "    <tr>\n",
       "      <th>6050</th>\n",
       "      <td>madrid</td>\n",
       "      <td>30982</td>\n",
       "      <td>142546</td>\n",
       "    </tr>\n",
       "    <tr>\n",
       "      <th>1403</th>\n",
       "      <td>barcelona</td>\n",
       "      <td>12936</td>\n",
       "      <td>61839</td>\n",
       "    </tr>\n",
       "    <tr>\n",
       "      <th>10574</th>\n",
       "      <td>valencia</td>\n",
       "      <td>6488</td>\n",
       "      <td>28350</td>\n",
       "    </tr>\n",
       "    <tr>\n",
       "      <th>9631</th>\n",
       "      <td>sevilla</td>\n",
       "      <td>4358</td>\n",
       "      <td>19099</td>\n",
       "    </tr>\n",
       "    <tr>\n",
       "      <th>1794</th>\n",
       "      <td>bilbao</td>\n",
       "      <td>2740</td>\n",
       "      <td>12890</td>\n",
       "    </tr>\n",
       "    <tr>\n",
       "      <th>10620</th>\n",
       "      <td>valladolid</td>\n",
       "      <td>2156</td>\n",
       "      <td>9731</td>\n",
       "    </tr>\n",
       "    <tr>\n",
       "      <th>683</th>\n",
       "      <td>alicante</td>\n",
       "      <td>1929</td>\n",
       "      <td>8889</td>\n",
       "    </tr>\n",
       "    <tr>\n",
       "      <th>11469</th>\n",
       "      <td>zaragoza</td>\n",
       "      <td>1897</td>\n",
       "      <td>7905</td>\n",
       "    </tr>\n",
       "    <tr>\n",
       "      <th>346</th>\n",
       "      <td>albacete</td>\n",
       "      <td>1889</td>\n",
       "      <td>7962</td>\n",
       "    </tr>\n",
       "    <tr>\n",
       "      <th>6140</th>\n",
       "      <td>malaga</td>\n",
       "      <td>1802</td>\n",
       "      <td>7674</td>\n",
       "    </tr>\n",
       "  </tbody>\n",
       "</table>\n",
       "</div>"
      ],
      "text/plain": [
       "             city  num_order  qty_ordered\n",
       "6050       madrid      30982       142546\n",
       "1403    barcelona      12936        61839\n",
       "10574    valencia       6488        28350\n",
       "9631      sevilla       4358        19099\n",
       "1794       bilbao       2740        12890\n",
       "10620  valladolid       2156         9731\n",
       "683      alicante       1929         8889\n",
       "11469    zaragoza       1897         7905\n",
       "346      albacete       1889         7962\n",
       "6140       malaga       1802         7674"
      ]
     },
     "execution_count": 97,
     "metadata": {},
     "output_type": "execute_result"
    }
   ],
   "source": [
    "df_temp = df_items.groupby(['city', 'num_order'],as_index=False).agg({'qty_ordered':'sum'}) # num_order se repite, por tanto no se puede agregar por el de primeras\n",
    "df_temp = df_temp.groupby(['city'],as_index=False).agg({'num_order':'count', 'qty_ordered':'sum'})\n",
    "df_temp.sort_values('num_order',ascending=False).head(10)"
   ]
  },
  {
   "cell_type": "markdown",
   "metadata": {},
   "source": [
    "Dado que no hemos limpiado aun los datos, los pedidos por localización no son correctos, tal y como podemos ver en la muestra. Algunas ciudades como Madrid se repiten varias veces porque están escritas de forma distinta. Aquí es donde hay que remarcar la importancia de trabajar los datos."
   ]
  },
  {
   "cell_type": "markdown",
   "metadata": {},
   "source": [
    "## Conclusiones"
   ]
  },
  {
   "cell_type": "markdown",
   "metadata": {},
   "source": [
    "A partir de este análisis hemos deducido:\n",
    "\n",
    "* Una misma localización puede estar representada de muchas diferentes maneras.\n",
    "* Los datos que faltan son pocos. De los campos *base_cost*, *city* y *zipcode* que faltan podemos guiarnos de otras ventas para intentar recuperarlos.\n",
    "* Hay productos donde el precio base es negativo.\n",
    "* Existen productos donde el precio de venta es inferior al precio base.\n",
    "* Todos los pedidos tienen aplicado algún tipo de descuento.\n",
    "* Existe un pico de ventas en días especiales, sobre todo black friday."
   ]
  }
 ],
 "metadata": {
  "interpreter": {
   "hash": "a9c1387708d9e4974b2be20baf1ba03d24dc421de985eaacaca663e211393d73"
  },
  "kernelspec": {
   "display_name": "Python 3.9.6 64-bit",
   "language": "python",
   "name": "python3"
  },
  "language_info": {
   "codemirror_mode": {
    "name": "ipython",
    "version": 3
   },
   "file_extension": ".py",
   "mimetype": "text/x-python",
   "name": "python",
   "nbconvert_exporter": "python",
   "pygments_lexer": "ipython3",
   "version": "3.8.1"
  },
  "orig_nbformat": 4
 },
 "nbformat": 4,
 "nbformat_minor": 2
}
