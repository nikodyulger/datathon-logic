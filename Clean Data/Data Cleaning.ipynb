{
 "cells": [
  {
   "cell_type": "markdown",
   "metadata": {},
   "source": [
    "# Limpieza y Arreglo de Datos \n",
    "\n",
    "En este cuaderno se detalla el proceso de limpieza y arreglo de los dos conjuntos de datos: *products.csv* y *products_categories.csv*. El objetivo es preparar los datasets, para poder manejarlos posteriormente sin errores."
   ]
  },
  {
   "cell_type": "markdown",
   "metadata": {},
   "source": [
    "## Índice \n",
    "\n",
    "1. Importación paquetes\n",
    "2. Carga de Datos\n",
    "3. Categorías\n",
    "4. Productos\n",
    "5. Nombres\n",
    "6. Conclusiones"
   ]
  },
  {
   "cell_type": "markdown",
   "metadata": {},
   "source": [
    "# Importación de paquetes\n",
    "\n",
    "Como siempre importamos los paquetes necesarios para realizar la limpieza"
   ]
  },
  {
   "cell_type": "code",
   "execution_count": 149,
   "metadata": {},
   "outputs": [],
   "source": [
    "import pandas as pd\n",
    "import re\n",
    "import spacy\n",
    "from collections import Counter, OrderedDict\n",
    "# Semilla para realizar experimentos reproducibles\n",
    "seed = 125"
   ]
  },
  {
   "cell_type": "markdown",
   "metadata": {},
   "source": [
    "# Carga de Datos\n",
    "\n",
    "Cargamos en memoria los dos ficheros y comprobamos que lo hayan hecho correctamente."
   ]
  },
  {
   "cell_type": "code",
   "execution_count": 150,
   "metadata": {},
   "outputs": [
    {
     "data": {
      "text/html": [
       "<div>\n",
       "<style scoped>\n",
       "    .dataframe tbody tr th:only-of-type {\n",
       "        vertical-align: middle;\n",
       "    }\n",
       "\n",
       "    .dataframe tbody tr th {\n",
       "        vertical-align: top;\n",
       "    }\n",
       "\n",
       "    .dataframe thead th {\n",
       "        text-align: right;\n",
       "    }\n",
       "</style>\n",
       "<table border=\"1\" class=\"dataframe\">\n",
       "  <thead>\n",
       "    <tr style=\"text-align: right;\">\n",
       "      <th></th>\n",
       "      <th>product_id</th>\n",
       "      <th>sku</th>\n",
       "      <th>name</th>\n",
       "      <th>marca_value</th>\n",
       "      <th>short_description</th>\n",
       "      <th>analytic_category</th>\n",
       "      <th>picture</th>\n",
       "    </tr>\n",
       "  </thead>\n",
       "  <tbody>\n",
       "    <tr>\n",
       "      <th>23485</th>\n",
       "      <td>76086</td>\n",
       "      <td>MISUPI</td>\n",
       "      <td>SuperPack personalizado meu Pipo</td>\n",
       "      <td>Mi Pipo</td>\n",
       "      <td>&lt;p&gt;El SuperPack personalizado de Mi Pipo es id...</td>\n",
       "      <td>NaN</td>\n",
       "      <td>https://www.mifarma.es/media/catalog/product/m...</td>\n",
       "    </tr>\n",
       "    <tr>\n",
       "      <th>27586</th>\n",
       "      <td>74774</td>\n",
       "      <td>41401</td>\n",
       "      <td>2x2ml soro &amp; camaleão de cor mágica</td>\n",
       "      <td>Camaleon</td>\n",
       "      <td>&lt;p&gt;Si tu piel necesita un efecto lifting inmed...</td>\n",
       "      <td>Cosmética y Belleza</td>\n",
       "      <td>https://www.mifarma.es/media/catalog/product/4...</td>\n",
       "    </tr>\n",
       "    <tr>\n",
       "      <th>2777</th>\n",
       "      <td>4388</td>\n",
       "      <td>152307</td>\n",
       "      <td>Aquilea Gases 60 Comprimidos</td>\n",
       "      <td>Aquilea</td>\n",
       "      <td>&lt;p&gt;Solución natural a los gases gracias a su c...</td>\n",
       "      <td>Herbolario</td>\n",
       "      <td>https://www.mifarma.es/media/catalog/product/1...</td>\n",
       "    </tr>\n",
       "    <tr>\n",
       "      <th>12655</th>\n",
       "      <td>79092</td>\n",
       "      <td>BN013</td>\n",
       "      <td>Colageno Marino + Silicio Organico Binature 18...</td>\n",
       "      <td>Binature</td>\n",
       "      <td>&lt;p&gt;Complemento alimenticio con Colágeno marino...</td>\n",
       "      <td>Herbolario</td>\n",
       "      <td>https://www.mifarma.es/media/catalog/product/b...</td>\n",
       "    </tr>\n",
       "    <tr>\n",
       "      <th>12783</th>\n",
       "      <td>61316</td>\n",
       "      <td>44701381</td>\n",
       "      <td>Tommee Tippee Easy Drink Taza Aprendizaje 230m...</td>\n",
       "      <td>Tommee tippee</td>\n",
       "      <td>&lt;p&gt;Taza con pajita fabricada en suave silicona...</td>\n",
       "      <td>Infantil</td>\n",
       "      <td>https://www.mifarma.es/media/catalog/product/4...</td>\n",
       "    </tr>\n",
       "  </tbody>\n",
       "</table>\n",
       "</div>"
      ],
      "text/plain": [
       "       product_id       sku  \\\n",
       "23485       76086    MISUPI   \n",
       "27586       74774     41401   \n",
       "2777         4388    152307   \n",
       "12655       79092     BN013   \n",
       "12783       61316  44701381   \n",
       "\n",
       "                                                    name    marca_value  \\\n",
       "23485                   SuperPack personalizado meu Pipo        Mi Pipo   \n",
       "27586                2x2ml soro & camaleão de cor mágica       Camaleon   \n",
       "2777                        Aquilea Gases 60 Comprimidos        Aquilea   \n",
       "12655  Colageno Marino + Silicio Organico Binature 18...       Binature   \n",
       "12783  Tommee Tippee Easy Drink Taza Aprendizaje 230m...  Tommee tippee   \n",
       "\n",
       "                                       short_description    analytic_category  \\\n",
       "23485  <p>El SuperPack personalizado de Mi Pipo es id...                  NaN   \n",
       "27586  <p>Si tu piel necesita un efecto lifting inmed...  Cosmética y Belleza   \n",
       "2777   <p>Solución natural a los gases gracias a su c...           Herbolario   \n",
       "12655  <p>Complemento alimenticio con Colágeno marino...           Herbolario   \n",
       "12783  <p>Taza con pajita fabricada en suave silicona...             Infantil   \n",
       "\n",
       "                                                 picture  \n",
       "23485  https://www.mifarma.es/media/catalog/product/m...  \n",
       "27586  https://www.mifarma.es/media/catalog/product/4...  \n",
       "2777   https://www.mifarma.es/media/catalog/product/1...  \n",
       "12655  https://www.mifarma.es/media/catalog/product/b...  \n",
       "12783  https://www.mifarma.es/media/catalog/product/4...  "
      ]
     },
     "execution_count": 150,
     "metadata": {},
     "output_type": "execute_result"
    }
   ],
   "source": [
    "df_products = pd.read_csv('../Data/products.csv')\n",
    "df_products.sample(5,random_state=seed)"
   ]
  },
  {
   "cell_type": "code",
   "execution_count": 151,
   "metadata": {},
   "outputs": [
    {
     "data": {
      "text/html": [
       "<div>\n",
       "<style scoped>\n",
       "    .dataframe tbody tr th:only-of-type {\n",
       "        vertical-align: middle;\n",
       "    }\n",
       "\n",
       "    .dataframe tbody tr th {\n",
       "        vertical-align: top;\n",
       "    }\n",
       "\n",
       "    .dataframe thead th {\n",
       "        text-align: right;\n",
       "    }\n",
       "</style>\n",
       "<table border=\"1\" class=\"dataframe\">\n",
       "  <thead>\n",
       "    <tr style=\"text-align: right;\">\n",
       "      <th></th>\n",
       "      <th>sku</th>\n",
       "      <th>cat1</th>\n",
       "      <th>cat2</th>\n",
       "      <th>cat3</th>\n",
       "    </tr>\n",
       "  </thead>\n",
       "  <tbody>\n",
       "    <tr>\n",
       "      <th>4038</th>\n",
       "      <td>177366.gris</td>\n",
       "      <td>Infantil</td>\n",
       "      <td>Biberones</td>\n",
       "      <td>Biberones</td>\n",
       "    </tr>\n",
       "    <tr>\n",
       "      <th>1305</th>\n",
       "      <td>153978</td>\n",
       "      <td>Salud</td>\n",
       "      <td>Problemas cardiovasculares y circulación</td>\n",
       "      <td>Piernas cansadas y varices</td>\n",
       "    </tr>\n",
       "    <tr>\n",
       "      <th>5430</th>\n",
       "      <td>187507</td>\n",
       "      <td>Salud</td>\n",
       "      <td>Ortopedia</td>\n",
       "      <td>Plantillas</td>\n",
       "    </tr>\n",
       "    <tr>\n",
       "      <th>4805</th>\n",
       "      <td>183139</td>\n",
       "      <td>Cosmética y Belleza</td>\n",
       "      <td>Ojos</td>\n",
       "      <td>Contorno de Ojos</td>\n",
       "    </tr>\n",
       "    <tr>\n",
       "      <th>2870</th>\n",
       "      <td>168461</td>\n",
       "      <td>Infantil</td>\n",
       "      <td>Higiene infantil</td>\n",
       "      <td>Crema pañal</td>\n",
       "    </tr>\n",
       "  </tbody>\n",
       "</table>\n",
       "</div>"
      ],
      "text/plain": [
       "              sku                 cat1  \\\n",
       "4038  177366.gris             Infantil   \n",
       "1305       153978                Salud   \n",
       "5430       187507                Salud   \n",
       "4805       183139  Cosmética y Belleza   \n",
       "2870       168461             Infantil   \n",
       "\n",
       "                                          cat2                        cat3  \n",
       "4038                                 Biberones                   Biberones  \n",
       "1305  Problemas cardiovasculares y circulación  Piernas cansadas y varices  \n",
       "5430                                 Ortopedia                  Plantillas  \n",
       "4805                                      Ojos            Contorno de Ojos  \n",
       "2870                          Higiene infantil                 Crema pañal  "
      ]
     },
     "execution_count": 151,
     "metadata": {},
     "output_type": "execute_result"
    }
   ],
   "source": [
    "df_categories = pd.read_csv('../Data/products_categories.csv')\n",
    "df_categories.sample(5,random_state=seed)"
   ]
  },
  {
   "cell_type": "markdown",
   "metadata": {},
   "source": [
    "# Categorías\n",
    "\n",
    "Empezaremos con el dataset de categorías, ya que es el *\"menos\"* problemático y también porque nos servirá de ayuda para completar datos en el otro dataframe."
   ]
  },
  {
   "cell_type": "markdown",
   "metadata": {},
   "source": [
    "Si recordamos del Análisis Exploratorio, vimos que hay ciertos número de valores nulos en las subcategorías(**cat2** y **cat3**). Así que sustituiremos esos valores nulos por un simple guión que indique que carece de tal categoría, ya que carecemos de fuentes de datos que nos puedan dar indicios sobre la subcategoría del producto"
   ]
  },
  {
   "cell_type": "code",
   "execution_count": 152,
   "metadata": {},
   "outputs": [
    {
     "data": {
      "text/plain": [
       "sku       0\n",
       "cat1      0\n",
       "cat2     20\n",
       "cat3    300\n",
       "dtype: int64"
      ]
     },
     "execution_count": 152,
     "metadata": {},
     "output_type": "execute_result"
    }
   ],
   "source": [
    "df_categories.isna().sum()"
   ]
  },
  {
   "cell_type": "code",
   "execution_count": 153,
   "metadata": {},
   "outputs": [
    {
     "data": {
      "text/plain": [
       "sku     0\n",
       "cat1    0\n",
       "cat2    0\n",
       "cat3    0\n",
       "dtype: int64"
      ]
     },
     "execution_count": 153,
     "metadata": {},
     "output_type": "execute_result"
    }
   ],
   "source": [
    "df_categories.fillna('-', inplace=True)\n",
    "df_categories.isna().sum()"
   ]
  },
  {
   "cell_type": "markdown",
   "metadata": {},
   "source": [
    "Lo siguiente será estandarizar todos los campos, ya que se identificaron *\"erratas\"* a la hora de imputar los nombres. Para ello, se eliminan los espacios innecesarios e inonsitencias de mayúsculas y minúsculas."
   ]
  },
  {
   "cell_type": "code",
   "execution_count": 154,
   "metadata": {},
   "outputs": [
    {
     "data": {
      "text/html": [
       "<div>\n",
       "<style scoped>\n",
       "    .dataframe tbody tr th:only-of-type {\n",
       "        vertical-align: middle;\n",
       "    }\n",
       "\n",
       "    .dataframe tbody tr th {\n",
       "        vertical-align: top;\n",
       "    }\n",
       "\n",
       "    .dataframe thead th {\n",
       "        text-align: right;\n",
       "    }\n",
       "</style>\n",
       "<table border=\"1\" class=\"dataframe\">\n",
       "  <thead>\n",
       "    <tr style=\"text-align: right;\">\n",
       "      <th></th>\n",
       "      <th>sku</th>\n",
       "      <th>cat1</th>\n",
       "      <th>cat2</th>\n",
       "      <th>cat3</th>\n",
       "    </tr>\n",
       "  </thead>\n",
       "  <tbody>\n",
       "    <tr>\n",
       "      <th>0</th>\n",
       "      <td>00.01.10.014</td>\n",
       "      <td>Cosmética y belleza</td>\n",
       "      <td>Corporal</td>\n",
       "      <td>Hidratación</td>\n",
       "    </tr>\n",
       "    <tr>\n",
       "      <th>1</th>\n",
       "      <td>00.071697.000.000</td>\n",
       "      <td>Infantil</td>\n",
       "      <td>Juguetes</td>\n",
       "      <td>Mordedores</td>\n",
       "    </tr>\n",
       "    <tr>\n",
       "      <th>2</th>\n",
       "      <td>000133</td>\n",
       "      <td>Infantil</td>\n",
       "      <td>Higiene infantil</td>\n",
       "      <td>Canastillas y kits bebé</td>\n",
       "    </tr>\n",
       "    <tr>\n",
       "      <th>3</th>\n",
       "      <td>000147</td>\n",
       "      <td>Higiene y cuidado personal</td>\n",
       "      <td>Facial</td>\n",
       "      <td>Desmaquillantes y limpiadores</td>\n",
       "    </tr>\n",
       "    <tr>\n",
       "      <th>4</th>\n",
       "      <td>000148</td>\n",
       "      <td>Cosmética y belleza</td>\n",
       "      <td>Manos</td>\n",
       "      <td>Crema de manos</td>\n",
       "    </tr>\n",
       "    <tr>\n",
       "      <th>...</th>\n",
       "      <td>...</td>\n",
       "      <td>...</td>\n",
       "      <td>...</td>\n",
       "      <td>...</td>\n",
       "    </tr>\n",
       "    <tr>\n",
       "      <th>11154</th>\n",
       "      <td>ZTV15215</td>\n",
       "      <td>Higiene y cuidado personal</td>\n",
       "      <td>Íntima</td>\n",
       "      <td>Limpieza</td>\n",
       "    </tr>\n",
       "    <tr>\n",
       "      <th>11155</th>\n",
       "      <td>ZTV15216</td>\n",
       "      <td>Higiene y cuidado personal</td>\n",
       "      <td>Cabello</td>\n",
       "      <td>Champu</td>\n",
       "    </tr>\n",
       "    <tr>\n",
       "      <th>11156</th>\n",
       "      <td>zuecoloki</td>\n",
       "      <td>Salud</td>\n",
       "      <td>Ortopedia</td>\n",
       "      <td>Zapatos y zuecos</td>\n",
       "    </tr>\n",
       "    <tr>\n",
       "      <th>11157</th>\n",
       "      <td>zuecooden</td>\n",
       "      <td>Salud</td>\n",
       "      <td>Ortopedia</td>\n",
       "      <td>Zapatos y zuecos</td>\n",
       "    </tr>\n",
       "    <tr>\n",
       "      <th>11158</th>\n",
       "      <td>ZVA01-15417</td>\n",
       "      <td>Salud</td>\n",
       "      <td>Botiquín</td>\n",
       "      <td>Quemaduras y cicatrices</td>\n",
       "    </tr>\n",
       "  </tbody>\n",
       "</table>\n",
       "<p>11159 rows × 4 columns</p>\n",
       "</div>"
      ],
      "text/plain": [
       "                     sku                        cat1              cat2  \\\n",
       "0           00.01.10.014         Cosmética y belleza          Corporal   \n",
       "1      00.071697.000.000                    Infantil          Juguetes   \n",
       "2                 000133                    Infantil  Higiene infantil   \n",
       "3                 000147  Higiene y cuidado personal            Facial   \n",
       "4                 000148         Cosmética y belleza             Manos   \n",
       "...                  ...                         ...               ...   \n",
       "11154           ZTV15215  Higiene y cuidado personal            Íntima   \n",
       "11155           ZTV15216  Higiene y cuidado personal           Cabello   \n",
       "11156          zuecoloki                       Salud         Ortopedia   \n",
       "11157          zuecooden                       Salud         Ortopedia   \n",
       "11158        ZVA01-15417                       Salud          Botiquín   \n",
       "\n",
       "                                cat3  \n",
       "0                        Hidratación  \n",
       "1                         Mordedores  \n",
       "2            Canastillas y kits bebé  \n",
       "3      Desmaquillantes y limpiadores  \n",
       "4                     Crema de manos  \n",
       "...                              ...  \n",
       "11154                       Limpieza  \n",
       "11155                         Champu  \n",
       "11156               Zapatos y zuecos  \n",
       "11157               Zapatos y zuecos  \n",
       "11158        Quemaduras y cicatrices  \n",
       "\n",
       "[11159 rows x 4 columns]"
      ]
     },
     "execution_count": 154,
     "metadata": {},
     "output_type": "execute_result"
    }
   ],
   "source": [
    "df_categories.loc[:, [\"cat1\", \"cat2\", \"cat3\"]] = df_categories[[\"cat1\", \"cat2\", \"cat3\"]].apply(lambda r: [str(n).strip().capitalize() for n in r], axis=1, result_type=\"broadcast\")\n",
    "df_categories"
   ]
  },
  {
   "cell_type": "markdown",
   "metadata": {},
   "source": [
    "Finalmente, dado que no se encontraron más inconvenientes con estos datos, se guardan en un nuevo fichero que será el que se use a partir de ahora."
   ]
  },
  {
   "cell_type": "code",
   "execution_count": 155,
   "metadata": {},
   "outputs": [],
   "source": [
    "df_categories.to_csv('./clean_categories.csv',index=False)"
   ]
  },
  {
   "cell_type": "markdown",
   "metadata": {},
   "source": [
    "# Productos\n",
    "\n",
    "Este dataset presenta varias *\"trabas\"*, así que veamos como darles solución. El primer gran incoveniente es que había un gran porcentaje de productos sin **analytic_category**. Viendo que los valores de la columna **cat1** coinciden con las de esta, se intentará rescatar su valores a partir de la clave **sku** "
   ]
  },
  {
   "cell_type": "markdown",
   "metadata": {},
   "source": []
  },
  {
   "cell_type": "code",
   "execution_count": 156,
   "metadata": {},
   "outputs": [
    {
     "data": {
      "text/plain": [
       "product_id              0\n",
       "sku                     0\n",
       "name                   14\n",
       "marca_value            32\n",
       "short_description      23\n",
       "analytic_category    3537\n",
       "picture                 6\n",
       "dtype: int64"
      ]
     },
     "execution_count": 156,
     "metadata": {},
     "output_type": "execute_result"
    }
   ],
   "source": [
    "df_products.isna().sum() #Cantidad de valores que faltan"
   ]
  },
  {
   "cell_type": "markdown",
   "metadata": {},
   "source": [
    "Antes de realizar el *merge* comprobamos que los nombres de categorías sean exactamente iguales, para que no aparezcan categorías duplicadas."
   ]
  },
  {
   "cell_type": "code",
   "execution_count": 157,
   "metadata": {},
   "outputs": [
    {
     "data": {
      "text/plain": [
       "Cosmética y belleza           3367\n",
       "Higiene y cuidado personal    2994\n",
       "Salud                         2855\n",
       "Infantil                      1304\n",
       "Nutrición                      619\n",
       "Veterinaria                     20\n",
       "Name: cat1, dtype: int64"
      ]
     },
     "execution_count": 157,
     "metadata": {},
     "output_type": "execute_result"
    }
   ],
   "source": [
    "df_categories['cat1'].value_counts()"
   ]
  },
  {
   "cell_type": "code",
   "execution_count": 158,
   "metadata": {},
   "outputs": [
    {
     "data": {
      "text/plain": [
       "Cosmética y Belleza    8336\n",
       "Higiene                5410\n",
       "Infantil               4901\n",
       "Herbolario             2801\n",
       "Nutrición              1600\n",
       "Ortopedia               572\n",
       "Vida Íntima             340\n",
       "Óptica                  244\n",
       "Perfumeria              165\n",
       "Veterinaria              47\n",
       "Name: analytic_category, dtype: int64"
      ]
     },
     "execution_count": 158,
     "metadata": {},
     "output_type": "execute_result"
    }
   ],
   "source": [
    "df_products['analytic_category'].value_counts()"
   ]
  },
  {
   "cell_type": "markdown",
   "metadata": {},
   "source": [
    "Vemos que hay algunas categorías que llevarían a errores. Vamos a prevenirlos."
   ]
  },
  {
   "cell_type": "code",
   "execution_count": 159,
   "metadata": {},
   "outputs": [],
   "source": [
    "df_categories.loc[df_categories['cat1'] == 'Higiene y cuidado personal', 'cat1'] = 'Higiene'\n",
    "df_categories.loc[df_categories['cat1'] == 'Cosmética y belleza', 'cat1'] = 'Cosmética y Belleza'"
   ]
  },
  {
   "cell_type": "code",
   "execution_count": 160,
   "metadata": {},
   "outputs": [],
   "source": [
    "recoverable = df_products.loc[df_products[\"analytic_category\"].isna(), [\"sku\"]].reset_index().merge(df_categories[[\"sku\", \"cat1\"]], on=\"sku\")"
   ]
  },
  {
   "cell_type": "code",
   "execution_count": 161,
   "metadata": {},
   "outputs": [
    {
     "data": {
      "text/plain": [
       "5        NaN\n",
       "20641    NaN\n",
       "6        NaN\n",
       "11727    NaN\n",
       "17477    NaN\n",
       "        ... \n",
       "27376    NaN\n",
       "27466    NaN\n",
       "27493    NaN\n",
       "27754    NaN\n",
       "27800    NaN\n",
       "Name: analytic_category, Length: 868, dtype: object"
      ]
     },
     "execution_count": 161,
     "metadata": {},
     "output_type": "execute_result"
    }
   ],
   "source": [
    "# Comprobamos que se ha ejecutado correctamente\n",
    "df_products.loc[recoverable[\"index\"], \"analytic_category\"]"
   ]
  },
  {
   "cell_type": "code",
   "execution_count": 162,
   "metadata": {},
   "outputs": [],
   "source": [
    "# Asignamos los valores recuperados\n",
    "df_products.loc[recoverable[\"index\"], \"analytic_category\"] = recoverable[\"cat1\"].values"
   ]
  },
  {
   "cell_type": "code",
   "execution_count": 163,
   "metadata": {},
   "outputs": [
    {
     "data": {
      "text/plain": [
       "5                   Infantil\n",
       "20641               Infantil\n",
       "6                   Infantil\n",
       "11727               Infantil\n",
       "17477               Infantil\n",
       "                ...         \n",
       "27376                Higiene\n",
       "27466    Cosmética y Belleza\n",
       "27493    Cosmética y Belleza\n",
       "27754                Higiene\n",
       "27800                Higiene\n",
       "Name: analytic_category, Length: 868, dtype: object"
      ]
     },
     "execution_count": 163,
     "metadata": {},
     "output_type": "execute_result"
    }
   ],
   "source": [
    "# Comprobamos que ha funcionado correctamente\n",
    "df_products.loc[recoverable[\"index\"].values, \"analytic_category\"]"
   ]
  },
  {
   "cell_type": "code",
   "execution_count": 164,
   "metadata": {},
   "outputs": [
    {
     "data": {
      "text/plain": [
       "product_id              0\n",
       "sku                     0\n",
       "name                   14\n",
       "marca_value            32\n",
       "short_description      23\n",
       "analytic_category    2669\n",
       "picture                 6\n",
       "dtype: int64"
      ]
     },
     "execution_count": 164,
     "metadata": {},
     "output_type": "execute_result"
    }
   ],
   "source": [
    "df_products.isna().sum()"
   ]
  },
  {
   "cell_type": "markdown",
   "metadata": {},
   "source": [
    "Conseguimos reducir sustancialmente los valores perdidos de categorías de cerca de *3500* pasan a alrededor de *2700*. Aun así sigue siendo un recuento bastante grande respecto al total del conjunto de datos."
   ]
  },
  {
   "cell_type": "markdown",
   "metadata": {},
   "source": [
    "**IDEA FELIZ**. Por lo general una marca se suele enmarcar dentro de una misma categoría de productos, ¿por qué no restaurar los valores que quedan de la columna **analytic_category** a través de las categorías de las marcas?"
   ]
  },
  {
   "cell_type": "code",
   "execution_count": 165,
   "metadata": {},
   "outputs": [
    {
     "data": {
      "text/html": [
       "<div>\n",
       "<style scoped>\n",
       "    .dataframe tbody tr th:only-of-type {\n",
       "        vertical-align: middle;\n",
       "    }\n",
       "\n",
       "    .dataframe tbody tr th {\n",
       "        vertical-align: top;\n",
       "    }\n",
       "\n",
       "    .dataframe thead th {\n",
       "        text-align: right;\n",
       "    }\n",
       "</style>\n",
       "<table border=\"1\" class=\"dataframe\">\n",
       "  <thead>\n",
       "    <tr style=\"text-align: right;\">\n",
       "      <th></th>\n",
       "      <th>marca_value</th>\n",
       "      <th>analytic_category</th>\n",
       "    </tr>\n",
       "  </thead>\n",
       "  <tbody>\n",
       "    <tr>\n",
       "      <th>1690</th>\n",
       "      <td>Nestle Nan</td>\n",
       "      <td>NaN</td>\n",
       "    </tr>\n",
       "    <tr>\n",
       "      <th>1193</th>\n",
       "      <td>Sandoz</td>\n",
       "      <td>Cosmética y Belleza</td>\n",
       "    </tr>\n",
       "    <tr>\n",
       "      <th>219</th>\n",
       "      <td>Fluocaril</td>\n",
       "      <td>Higiene</td>\n",
       "    </tr>\n",
       "    <tr>\n",
       "      <th>416</th>\n",
       "      <td>Disney</td>\n",
       "      <td>Infantil</td>\n",
       "    </tr>\n",
       "    <tr>\n",
       "      <th>1648</th>\n",
       "      <td>Cerave</td>\n",
       "      <td>Cosmética y Belleza</td>\n",
       "    </tr>\n",
       "  </tbody>\n",
       "</table>\n",
       "</div>"
      ],
      "text/plain": [
       "     marca_value    analytic_category\n",
       "1690  Nestle Nan                  NaN\n",
       "1193      Sandoz  Cosmética y Belleza\n",
       "219    Fluocaril              Higiene\n",
       "416       Disney             Infantil\n",
       "1648      Cerave  Cosmética y Belleza"
      ]
     },
     "execution_count": 165,
     "metadata": {},
     "output_type": "execute_result"
    }
   ],
   "source": [
    "df_marcas = df_products[['marca_value','analytic_category']].drop_duplicates(ignore_index=True)\n",
    "df_marcas.sample(5,random_state=seed)"
   ]
  },
  {
   "cell_type": "markdown",
   "metadata": {},
   "source": [
    "Eliminamos aquellas filas que tengan nula el campo de categoría, ya que no son válidas si queremos recuperar los valores perdidos."
   ]
  },
  {
   "cell_type": "code",
   "execution_count": 166,
   "metadata": {},
   "outputs": [
    {
     "data": {
      "text/plain": [
       "(1913, 2)"
      ]
     },
     "execution_count": 166,
     "metadata": {},
     "output_type": "execute_result"
    }
   ],
   "source": [
    "df_marcas.shape"
   ]
  },
  {
   "cell_type": "code",
   "execution_count": 167,
   "metadata": {},
   "outputs": [],
   "source": [
    "df_marcas.dropna(inplace=True)"
   ]
  },
  {
   "cell_type": "code",
   "execution_count": 168,
   "metadata": {},
   "outputs": [
    {
     "data": {
      "text/plain": [
       "(1566, 2)"
      ]
     },
     "execution_count": 168,
     "metadata": {},
     "output_type": "execute_result"
    }
   ],
   "source": [
    "df_marcas.shape"
   ]
  },
  {
   "cell_type": "markdown",
   "metadata": {},
   "source": [
    "Agrupamos las marcas y nos quedamos con las que se asocian solamente a una única categoría, ya que de otro modo no se puede adivinar a que categoría pertenece el producto de la marca."
   ]
  },
  {
   "cell_type": "code",
   "execution_count": 169,
   "metadata": {},
   "outputs": [],
   "source": [
    "df_marcas_count = df_marcas.groupby(['marca_value'],as_index=False).agg(count=('analytic_category','count'),cat=('analytic_category','first'))"
   ]
  },
  {
   "cell_type": "code",
   "execution_count": 170,
   "metadata": {},
   "outputs": [
    {
     "data": {
      "text/html": [
       "<div>\n",
       "<style scoped>\n",
       "    .dataframe tbody tr th:only-of-type {\n",
       "        vertical-align: middle;\n",
       "    }\n",
       "\n",
       "    .dataframe tbody tr th {\n",
       "        vertical-align: top;\n",
       "    }\n",
       "\n",
       "    .dataframe thead th {\n",
       "        text-align: right;\n",
       "    }\n",
       "</style>\n",
       "<table border=\"1\" class=\"dataframe\">\n",
       "  <thead>\n",
       "    <tr style=\"text-align: right;\">\n",
       "      <th></th>\n",
       "      <th>marca_value</th>\n",
       "      <th>count</th>\n",
       "      <th>cat</th>\n",
       "    </tr>\n",
       "  </thead>\n",
       "  <tbody>\n",
       "    <tr>\n",
       "      <th>749</th>\n",
       "      <td>Yammy</td>\n",
       "      <td>1</td>\n",
       "      <td>Infantil</td>\n",
       "    </tr>\n",
       "    <tr>\n",
       "      <th>672</th>\n",
       "      <td>Sophie La Girafe</td>\n",
       "      <td>1</td>\n",
       "      <td>Infantil</td>\n",
       "    </tr>\n",
       "    <tr>\n",
       "      <th>509</th>\n",
       "      <td>Olioseptil</td>\n",
       "      <td>1</td>\n",
       "      <td>Herbolario</td>\n",
       "    </tr>\n",
       "    <tr>\n",
       "      <th>483</th>\n",
       "      <td>Nickelodeon</td>\n",
       "      <td>1</td>\n",
       "      <td>Higiene</td>\n",
       "    </tr>\n",
       "    <tr>\n",
       "      <th>263</th>\n",
       "      <td>Fisiopharma</td>\n",
       "      <td>1</td>\n",
       "      <td>Herbolario</td>\n",
       "    </tr>\n",
       "  </tbody>\n",
       "</table>\n",
       "</div>"
      ],
      "text/plain": [
       "          marca_value  count         cat\n",
       "749             Yammy      1    Infantil\n",
       "672  Sophie La Girafe      1    Infantil\n",
       "509        Olioseptil      1  Herbolario\n",
       "483       Nickelodeon      1     Higiene\n",
       "263       Fisiopharma      1  Herbolario"
      ]
     },
     "execution_count": 170,
     "metadata": {},
     "output_type": "execute_result"
    }
   ],
   "source": [
    "df_marcas_count = df_marcas_count[df_marcas_count['count'] == 1]\n",
    "df_marcas_count.sample(5,random_state=seed)"
   ]
  },
  {
   "cell_type": "markdown",
   "metadata": {},
   "source": [
    "Recuperamos los valores perdidos en el dataframe de productos"
   ]
  },
  {
   "cell_type": "code",
   "execution_count": 171,
   "metadata": {},
   "outputs": [
    {
     "data": {
      "text/html": [
       "<div>\n",
       "<style scoped>\n",
       "    .dataframe tbody tr th:only-of-type {\n",
       "        vertical-align: middle;\n",
       "    }\n",
       "\n",
       "    .dataframe tbody tr th {\n",
       "        vertical-align: top;\n",
       "    }\n",
       "\n",
       "    .dataframe thead th {\n",
       "        text-align: right;\n",
       "    }\n",
       "</style>\n",
       "<table border=\"1\" class=\"dataframe\">\n",
       "  <thead>\n",
       "    <tr style=\"text-align: right;\">\n",
       "      <th></th>\n",
       "      <th>marca_value</th>\n",
       "      <th>cat</th>\n",
       "      <th>index</th>\n",
       "    </tr>\n",
       "  </thead>\n",
       "  <tbody>\n",
       "    <tr>\n",
       "      <th>0</th>\n",
       "      <td>4moms</td>\n",
       "      <td>Infantil</td>\n",
       "      <td>26751</td>\n",
       "    </tr>\n",
       "    <tr>\n",
       "      <th>1</th>\n",
       "      <td>Adisan</td>\n",
       "      <td>Infantil</td>\n",
       "      <td>9170</td>\n",
       "    </tr>\n",
       "    <tr>\n",
       "      <th>2</th>\n",
       "      <td>AeroChamber</td>\n",
       "      <td>Ortopedia</td>\n",
       "      <td>16245</td>\n",
       "    </tr>\n",
       "    <tr>\n",
       "      <th>3</th>\n",
       "      <td>Almiron</td>\n",
       "      <td>Infantil</td>\n",
       "      <td>11629</td>\n",
       "    </tr>\n",
       "    <tr>\n",
       "      <th>4</th>\n",
       "      <td>Ausonia</td>\n",
       "      <td>Higiene</td>\n",
       "      <td>18243</td>\n",
       "    </tr>\n",
       "    <tr>\n",
       "      <th>...</th>\n",
       "      <td>...</td>\n",
       "      <td>...</td>\n",
       "      <td>...</td>\n",
       "    </tr>\n",
       "    <tr>\n",
       "      <th>629</th>\n",
       "      <td>Warmies</td>\n",
       "      <td>Infantil</td>\n",
       "      <td>15630</td>\n",
       "    </tr>\n",
       "    <tr>\n",
       "      <th>630</th>\n",
       "      <td>Warmies</td>\n",
       "      <td>Infantil</td>\n",
       "      <td>21320</td>\n",
       "    </tr>\n",
       "    <tr>\n",
       "      <th>631</th>\n",
       "      <td>Warmies</td>\n",
       "      <td>Infantil</td>\n",
       "      <td>22076</td>\n",
       "    </tr>\n",
       "    <tr>\n",
       "      <th>632</th>\n",
       "      <td>Warmies</td>\n",
       "      <td>Infantil</td>\n",
       "      <td>26475</td>\n",
       "    </tr>\n",
       "    <tr>\n",
       "      <th>633</th>\n",
       "      <td>Warmies</td>\n",
       "      <td>Infantil</td>\n",
       "      <td>27120</td>\n",
       "    </tr>\n",
       "  </tbody>\n",
       "</table>\n",
       "<p>634 rows × 3 columns</p>\n",
       "</div>"
      ],
      "text/plain": [
       "     marca_value        cat  index\n",
       "0          4moms   Infantil  26751\n",
       "1         Adisan   Infantil   9170\n",
       "2    AeroChamber  Ortopedia  16245\n",
       "3        Almiron   Infantil  11629\n",
       "4        Ausonia    Higiene  18243\n",
       "..           ...        ...    ...\n",
       "629      Warmies   Infantil  15630\n",
       "630      Warmies   Infantil  21320\n",
       "631      Warmies   Infantil  22076\n",
       "632      Warmies   Infantil  26475\n",
       "633      Warmies   Infantil  27120\n",
       "\n",
       "[634 rows x 3 columns]"
      ]
     },
     "execution_count": 171,
     "metadata": {},
     "output_type": "execute_result"
    }
   ],
   "source": [
    "recoverable = df_marcas_count[[\"marca_value\", \"cat\"]].merge(df_products.loc[df_products[\"analytic_category\"].isna(), [\"marca_value\"]].reset_index(), on=\"marca_value\")\n",
    "recoverable"
   ]
  },
  {
   "cell_type": "code",
   "execution_count": 172,
   "metadata": {},
   "outputs": [],
   "source": [
    "df_products.loc[recoverable[\"index\"], \"analytic_category\"] = recoverable[\"cat\"].values"
   ]
  },
  {
   "cell_type": "code",
   "execution_count": 173,
   "metadata": {},
   "outputs": [
    {
     "data": {
      "text/plain": [
       "(27953, 7)"
      ]
     },
     "execution_count": 173,
     "metadata": {},
     "output_type": "execute_result"
    }
   ],
   "source": [
    "df_products.shape"
   ]
  },
  {
   "cell_type": "code",
   "execution_count": 174,
   "metadata": {},
   "outputs": [
    {
     "data": {
      "text/plain": [
       "product_id              0\n",
       "sku                     0\n",
       "name                   14\n",
       "marca_value            32\n",
       "short_description      23\n",
       "analytic_category    2035\n",
       "picture                 6\n",
       "dtype: int64"
      ]
     },
     "execution_count": 174,
     "metadata": {},
     "output_type": "execute_result"
    }
   ],
   "source": [
    "df_products.isna().sum()"
   ]
  },
  {
   "cell_type": "markdown",
   "metadata": {},
   "source": [
    "Se ha conseguido reducir de nuevo el recuento de categorías perdidas, pero sigue siendo un número cuantioso.\n",
    "\n",
    "**IDEA FELIZ** Dado que tenemos las descripciones de los productos, podemos crear un diccionario con palabras clave que se suelen repetir. De esta manera puede que consigamos imputar más valores perdidos, sin perder rigor en los datos."
   ]
  },
  {
   "cell_type": "markdown",
   "metadata": {},
   "source": [
    "Dado que las descripciones tienen etiquetas de HTML, estas deben ser eliminadas si queremos tokenizar correctamente los textos."
   ]
  },
  {
   "cell_type": "code",
   "execution_count": 175,
   "metadata": {},
   "outputs": [
    {
     "data": {
      "text/html": [
       "<div>\n",
       "<style scoped>\n",
       "    .dataframe tbody tr th:only-of-type {\n",
       "        vertical-align: middle;\n",
       "    }\n",
       "\n",
       "    .dataframe tbody tr th {\n",
       "        vertical-align: top;\n",
       "    }\n",
       "\n",
       "    .dataframe thead th {\n",
       "        text-align: right;\n",
       "    }\n",
       "</style>\n",
       "<table border=\"1\" class=\"dataframe\">\n",
       "  <thead>\n",
       "    <tr style=\"text-align: right;\">\n",
       "      <th></th>\n",
       "      <th>product_id</th>\n",
       "      <th>sku</th>\n",
       "      <th>name</th>\n",
       "      <th>marca_value</th>\n",
       "      <th>short_description</th>\n",
       "      <th>analytic_category</th>\n",
       "      <th>picture</th>\n",
       "    </tr>\n",
       "  </thead>\n",
       "  <tbody>\n",
       "    <tr>\n",
       "      <th>23485</th>\n",
       "      <td>76086</td>\n",
       "      <td>MISUPI</td>\n",
       "      <td>SuperPack personalizado meu Pipo</td>\n",
       "      <td>Mi Pipo</td>\n",
       "      <td>El SuperPack personalizado de Mi Pipo es ideal...</td>\n",
       "      <td>Infantil</td>\n",
       "      <td>https://www.mifarma.es/media/catalog/product/m...</td>\n",
       "    </tr>\n",
       "    <tr>\n",
       "      <th>27586</th>\n",
       "      <td>74774</td>\n",
       "      <td>41401</td>\n",
       "      <td>2x2ml soro &amp; camaleão de cor mágica</td>\n",
       "      <td>Camaleon</td>\n",
       "      <td>Si tu piel necesita un efecto lifting inmediat...</td>\n",
       "      <td>Cosmética y Belleza</td>\n",
       "      <td>https://www.mifarma.es/media/catalog/product/4...</td>\n",
       "    </tr>\n",
       "    <tr>\n",
       "      <th>2777</th>\n",
       "      <td>4388</td>\n",
       "      <td>152307</td>\n",
       "      <td>Aquilea Gases 60 Comprimidos</td>\n",
       "      <td>Aquilea</td>\n",
       "      <td>Solución natural a los gases gracias a su comb...</td>\n",
       "      <td>Herbolario</td>\n",
       "      <td>https://www.mifarma.es/media/catalog/product/1...</td>\n",
       "    </tr>\n",
       "    <tr>\n",
       "      <th>12655</th>\n",
       "      <td>79092</td>\n",
       "      <td>BN013</td>\n",
       "      <td>Colageno Marino + Silicio Organico Binature 18...</td>\n",
       "      <td>Binature</td>\n",
       "      <td>Complemento alimenticio con Colágeno marino hi...</td>\n",
       "      <td>Herbolario</td>\n",
       "      <td>https://www.mifarma.es/media/catalog/product/b...</td>\n",
       "    </tr>\n",
       "    <tr>\n",
       "      <th>12783</th>\n",
       "      <td>61316</td>\n",
       "      <td>44701381</td>\n",
       "      <td>Tommee Tippee Easy Drink Taza Aprendizaje 230m...</td>\n",
       "      <td>Tommee tippee</td>\n",
       "      <td>Taza con pajita fabricada en suave silicona id...</td>\n",
       "      <td>Infantil</td>\n",
       "      <td>https://www.mifarma.es/media/catalog/product/4...</td>\n",
       "    </tr>\n",
       "  </tbody>\n",
       "</table>\n",
       "</div>"
      ],
      "text/plain": [
       "       product_id       sku  \\\n",
       "23485       76086    MISUPI   \n",
       "27586       74774     41401   \n",
       "2777         4388    152307   \n",
       "12655       79092     BN013   \n",
       "12783       61316  44701381   \n",
       "\n",
       "                                                    name    marca_value  \\\n",
       "23485                   SuperPack personalizado meu Pipo        Mi Pipo   \n",
       "27586                2x2ml soro & camaleão de cor mágica       Camaleon   \n",
       "2777                        Aquilea Gases 60 Comprimidos        Aquilea   \n",
       "12655  Colageno Marino + Silicio Organico Binature 18...       Binature   \n",
       "12783  Tommee Tippee Easy Drink Taza Aprendizaje 230m...  Tommee tippee   \n",
       "\n",
       "                                       short_description    analytic_category  \\\n",
       "23485  El SuperPack personalizado de Mi Pipo es ideal...             Infantil   \n",
       "27586  Si tu piel necesita un efecto lifting inmediat...  Cosmética y Belleza   \n",
       "2777   Solución natural a los gases gracias a su comb...           Herbolario   \n",
       "12655  Complemento alimenticio con Colágeno marino hi...           Herbolario   \n",
       "12783  Taza con pajita fabricada en suave silicona id...             Infantil   \n",
       "\n",
       "                                                 picture  \n",
       "23485  https://www.mifarma.es/media/catalog/product/m...  \n",
       "27586  https://www.mifarma.es/media/catalog/product/4...  \n",
       "2777   https://www.mifarma.es/media/catalog/product/1...  \n",
       "12655  https://www.mifarma.es/media/catalog/product/b...  \n",
       "12783  https://www.mifarma.es/media/catalog/product/4...  "
      ]
     },
     "execution_count": 175,
     "metadata": {},
     "output_type": "execute_result"
    }
   ],
   "source": [
    "df_products.loc[:,('short_description')] = df_products['short_description'].str.replace(r'<[^<>]*>', '', regex=True)\n",
    "df_products.sample(5,random_state=seed)"
   ]
  },
  {
   "cell_type": "markdown",
   "metadata": {},
   "source": [
    "Por otro lado, también se vio la presencia de carácteres de salto de línea. Estos deben ser eliminados, así como normalizar las palabras para que las mayúsculas no afecten a la hora de crear el diccionario de palabras."
   ]
  },
  {
   "cell_type": "code",
   "execution_count": 176,
   "metadata": {},
   "outputs": [
    {
     "data": {
      "text/html": [
       "<div>\n",
       "<style scoped>\n",
       "    .dataframe tbody tr th:only-of-type {\n",
       "        vertical-align: middle;\n",
       "    }\n",
       "\n",
       "    .dataframe tbody tr th {\n",
       "        vertical-align: top;\n",
       "    }\n",
       "\n",
       "    .dataframe thead th {\n",
       "        text-align: right;\n",
       "    }\n",
       "</style>\n",
       "<table border=\"1\" class=\"dataframe\">\n",
       "  <thead>\n",
       "    <tr style=\"text-align: right;\">\n",
       "      <th></th>\n",
       "      <th>product_id</th>\n",
       "      <th>sku</th>\n",
       "      <th>name</th>\n",
       "      <th>marca_value</th>\n",
       "      <th>short_description</th>\n",
       "      <th>analytic_category</th>\n",
       "      <th>picture</th>\n",
       "    </tr>\n",
       "  </thead>\n",
       "  <tbody>\n",
       "    <tr>\n",
       "      <th>23485</th>\n",
       "      <td>76086</td>\n",
       "      <td>MISUPI</td>\n",
       "      <td>SuperPack personalizado meu Pipo</td>\n",
       "      <td>Mi Pipo</td>\n",
       "      <td>el superpack personalizado de mi pipo es ideal...</td>\n",
       "      <td>Infantil</td>\n",
       "      <td>https://www.mifarma.es/media/catalog/product/m...</td>\n",
       "    </tr>\n",
       "    <tr>\n",
       "      <th>27586</th>\n",
       "      <td>74774</td>\n",
       "      <td>41401</td>\n",
       "      <td>2x2ml soro &amp; camaleão de cor mágica</td>\n",
       "      <td>Camaleon</td>\n",
       "      <td>si tu piel necesita un efecto lifting inmediat...</td>\n",
       "      <td>Cosmética y Belleza</td>\n",
       "      <td>https://www.mifarma.es/media/catalog/product/4...</td>\n",
       "    </tr>\n",
       "    <tr>\n",
       "      <th>2777</th>\n",
       "      <td>4388</td>\n",
       "      <td>152307</td>\n",
       "      <td>Aquilea Gases 60 Comprimidos</td>\n",
       "      <td>Aquilea</td>\n",
       "      <td>solución natural a los gases gracias a su comb...</td>\n",
       "      <td>Herbolario</td>\n",
       "      <td>https://www.mifarma.es/media/catalog/product/1...</td>\n",
       "    </tr>\n",
       "    <tr>\n",
       "      <th>12655</th>\n",
       "      <td>79092</td>\n",
       "      <td>BN013</td>\n",
       "      <td>Colageno Marino + Silicio Organico Binature 18...</td>\n",
       "      <td>Binature</td>\n",
       "      <td>complemento alimenticio con colágeno marino hi...</td>\n",
       "      <td>Herbolario</td>\n",
       "      <td>https://www.mifarma.es/media/catalog/product/b...</td>\n",
       "    </tr>\n",
       "    <tr>\n",
       "      <th>12783</th>\n",
       "      <td>61316</td>\n",
       "      <td>44701381</td>\n",
       "      <td>Tommee Tippee Easy Drink Taza Aprendizaje 230m...</td>\n",
       "      <td>Tommee tippee</td>\n",
       "      <td>taza con pajita fabricada en suave silicona id...</td>\n",
       "      <td>Infantil</td>\n",
       "      <td>https://www.mifarma.es/media/catalog/product/4...</td>\n",
       "    </tr>\n",
       "  </tbody>\n",
       "</table>\n",
       "</div>"
      ],
      "text/plain": [
       "       product_id       sku  \\\n",
       "23485       76086    MISUPI   \n",
       "27586       74774     41401   \n",
       "2777         4388    152307   \n",
       "12655       79092     BN013   \n",
       "12783       61316  44701381   \n",
       "\n",
       "                                                    name    marca_value  \\\n",
       "23485                   SuperPack personalizado meu Pipo        Mi Pipo   \n",
       "27586                2x2ml soro & camaleão de cor mágica       Camaleon   \n",
       "2777                        Aquilea Gases 60 Comprimidos        Aquilea   \n",
       "12655  Colageno Marino + Silicio Organico Binature 18...       Binature   \n",
       "12783  Tommee Tippee Easy Drink Taza Aprendizaje 230m...  Tommee tippee   \n",
       "\n",
       "                                       short_description    analytic_category  \\\n",
       "23485  el superpack personalizado de mi pipo es ideal...             Infantil   \n",
       "27586  si tu piel necesita un efecto lifting inmediat...  Cosmética y Belleza   \n",
       "2777   solución natural a los gases gracias a su comb...           Herbolario   \n",
       "12655  complemento alimenticio con colágeno marino hi...           Herbolario   \n",
       "12783  taza con pajita fabricada en suave silicona id...             Infantil   \n",
       "\n",
       "                                                 picture  \n",
       "23485  https://www.mifarma.es/media/catalog/product/m...  \n",
       "27586  https://www.mifarma.es/media/catalog/product/4...  \n",
       "2777   https://www.mifarma.es/media/catalog/product/1...  \n",
       "12655  https://www.mifarma.es/media/catalog/product/b...  \n",
       "12783  https://www.mifarma.es/media/catalog/product/4...  "
      ]
     },
     "execution_count": 176,
     "metadata": {},
     "output_type": "execute_result"
    }
   ],
   "source": [
    "df_products.loc[:,'short_description'] = df_products['short_description'].replace(to_replace=[r\"\\\\t|\\\\n|\\\\r\", \"\\t|\\n|\\r\"], value='', regex=True)\n",
    "df_products.loc[:,'short_description'] = df_products['short_description'].str.lower()\n",
    "df_products['short_description'].fillna('-',inplace=True)\n",
    "df_products.sample(5,random_state=seed)"
   ]
  },
  {
   "cell_type": "markdown",
   "metadata": {},
   "source": [
    "Nos quedamos con las descripciones y sus índices para que sean más fácil después realizar el update del dataframe de productos"
   ]
  },
  {
   "cell_type": "code",
   "execution_count": 177,
   "metadata": {},
   "outputs": [
    {
     "data": {
      "text/plain": [
       "['pack de cuidados solares para una óptima protección facial y corporal frente a las radiaciones solares. ofrecen una alta protección, al tiempo que protegen las células del fotoenvejecimiento y activan las defensas naturales de la piel. indicados especialmente para el cuidado de las pieles muy claras.',\n",
       " 'mussvital gel de baño sin jabón es una fórmula específica para la higiene y el cuidado diario de la piel sensible en adultos y niños.  cuida y protege eficazmente la piel más delicada, limpiando sin irritar y respetando la barrera hidrolipídica. ahora, gratis 1 loción hidratante y 1 gel, ambos en formato de 100ml.- sin parabenos.',\n",
       " 'lucha de forma activa contra la caída del cabello, estimula y fortalece el cabello y las uñas. ideal en épocas de cambios hormonales o en la dieta. se puede consumir durante el período de lactancia.',\n",
       " 'suplemento alimenticio rico en vitamina c. ayuda a proteger la salud general y en particular el sistema inmunitario. apto para veganos, vegetarianos y kosher. 100 comprimidos fáciles de tomar.',\n",
       " 'crema con propiedades antiarrugas y antiedad.',\n",
       " 'gel de baño con dosificador con una formulación suave indicada para la higiene diaria de la piel. nutre y protege delicadamente la piel de toda la familia',\n",
       " 'gel de baño muerdago rojo mifarma 250ml ideal para despertar los sentidos en las primeras horas del día.',\n",
       " 'divertida y práctica taza de aprendizaje perfecta para que los niños aprendan a beber solitos, fomentando así su autonomía.',\n",
       " 'l-glutamina kyowa en forma libre que favorece el funcionamiento muscular. sabor neutro.- apto para veganos',\n",
       " 'con bordes y punta redondeada']"
      ]
     },
     "execution_count": 177,
     "metadata": {},
     "output_type": "execute_result"
    }
   ],
   "source": [
    "descriptions = df_products[df_products['analytic_category'].isna()]['short_description'].to_list()\n",
    "indexes = df_products[df_products['analytic_category'].isna()]['short_description'].index\n",
    "descriptions[:10]"
   ]
  },
  {
   "cell_type": "markdown",
   "metadata": {},
   "source": [
    "Se ha hecho uso de un paquete especial para problemas de procesamiento de lenguajes para tokenizar el texto."
   ]
  },
  {
   "cell_type": "code",
   "execution_count": 178,
   "metadata": {},
   "outputs": [],
   "source": [
    "# Se carga el paquete de español\n",
    "nlp = spacy.load(\"es_core_news_sm\")\n",
    "\n",
    "# Juntamos en un texto todas las descripciones\n",
    "comb_desc = ' '.join(descriptions)\n",
    "\n",
    "doc = nlp(comb_desc)\n",
    "\n",
    "# Extraemos las palabras relevantes y contamos su aparición en el doc\n",
    "words = [token.text for token in doc if not token.is_stop and not token.is_punct]\n",
    "word_freq = Counter(words)"
   ]
  },
  {
   "cell_type": "markdown",
   "metadata": {},
   "source": [
    "Nos hemos quedado con las **150** palabras más relevantes, de las cuales hemos extraído las que hemos considerado menos ambiguas. Con esto nos referimos a palabras que unívocamente podríamos relacionar a un tipo de categoría."
   ]
  },
  {
   "cell_type": "code",
   "execution_count": 179,
   "metadata": {},
   "outputs": [
    {
     "name": "stdout",
     "output_type": "stream",
     "text": [
      "[('y', 1566), ('a', 667), ('piel', 276), ('bebé', 238), ('pack', 218), ('chupete', 207), ('tetina', 172), ('ideal', 152), ('complemento', 125), ('bebés', 125), ('silicona', 124), ('alimenticio', 121), ('base', 117), ('crema', 116), ('suavinex', 115), ('forma', 110), ('diseño', 102), ('biberón', 101), ('pieles', 99), (' ', 96), ('gel', 94), ('meses', 93), ('suave', 91), ('o', 89), ('color', 87), ('agua', 83), ('corporal', 80), ('indicado', 80), ('gafas', 79), ('gracias', 76), ('regalo', 76), ('hidratante', 73), ('e', 72), ('sol', 71), ('cuidado', 68), ('natural', 68), ('bpa', 67), ('productos', 67), ('niños', 66), ('pequeños', 64), ('divertido', 63), ('especialmente', 62), ('contiene', 62), ('protege', 61), ('facial', 60), ('mordedor', 60), ('cabello', 59), ('manos', 58), ('+', 58), ('aceite', 57), ('higiene', 55), ('fácil', 55), ('parabenos', 53), ('apto', 52), ('3', 52), ('chicco', 52), ('2', 51), ('anatómica', 49), ('látex', 49), ('protección', 48), ('1', 48), ('chupetes', 47), ('hidrata', 47), ('formulado', 47), ('ayuda', 46), ('tratamiento', 46), ('6', 45), ('incluye', 45), ('bisphenol', 45), ('cepillo', 44), ('solares', 43), ('frente', 43), ('ml', 43), ('baño', 42), ('extracto', 42), ('tipo', 42), ('rostro', 42), ('vitaminas', 42), ('azul', 42), ('jabón', 41), ('champú', 41), ('100%', 40), ('gafa', 40), ('delicada', 39), ('mascarilla', 39), ('leche', 39), ('veganos', 38), ('pasta', 38), ('encías', 38), ('perfume', 38), ('colección', 38), ('flujo', 38), ('alta', 37), ('limpia', 37), ('infantil', 37), ('broche', 37), ('boca', 37), ('radiaciones', 36), ('naturales', 36), ('especial', 35), ('compuesto', 35), ('colágeno', 35), ('a.', 35), ('sistema', 34), ('efecto', 34), ('práctico', 34), ('dibujos', 34), ('agradable', 33), ('dientes', 33), ('propiedades', 32), ('sabor', 32), ('sonajero', 32), ('elaborado', 32), ('aroma', 32), ('protegen', 31), ('ideales', 31), ('ácido', 31), ('solar', 31), ('diseñado', 31), ('favorece', 30), ('fragancia', 30), ('vegetarianos', 29), ('rosa', 29), ('cuerpo', 29), ('modelo', 29), ('diaria', 28), ('unidades', 28), ('secas', 28), ('pezón', 28), ('limpieza', 28), ('colonia', 27), ('formulada', 27), ('mam', 27), ('aporta', 27), ('proporciona', 27), ('as', 27), ('libre', 26), ('permite', 26), ('ojos', 26), ('brillo', 26), ('resistente', 26), ('cadenita', 26), ('perfumada', 26), ('cuidados', 25), ('kosher', 25), ('antiedad', 25), ('fabricado', 25), ('presbicia', 25), ('interapothek', 25), ('colores', 25)]\n"
     ]
    }
   ],
   "source": [
    "common_words = word_freq.most_common(150)\n",
    "print (common_words)"
   ]
  },
  {
   "cell_type": "code",
   "execution_count": 180,
   "metadata": {},
   "outputs": [
    {
     "name": "stdout",
     "output_type": "stream",
     "text": [
      "Nº palabras clave: 22\n",
      "Categoría más repetida: [('Infantil', 11)]\n"
     ]
    }
   ],
   "source": [
    "# Creamos nuestro diccionario de palabras en orden de frecuencia para evitar solapamientos\n",
    "key_words = [\"bebé\",\"chupete\",\"tetina\",\"bebés\",\"suavinex\",\"biberón\",\"niños\",\"gafas\",\"higiene\",\"cabello\",\"chicco\",\"encías\",\"chupetes\",\"rostro\",\"baño\",\"vitaminas\",\"jabón\",\"infantil\",\"champú\",\"gafa\",\"perfume\",\"mam\"]\n",
    "value_cat = [\"Infantil\",\"Infantil\",\"Infantil\",\"Infantil\",\"Infantil\",\"Infantil\",\"Infantil\",\"Óptica\",\"Higiene\",\"Cosmética y Belleza\",\"Infantil\",\"Higiene\",\"Infantil\",\"Cosmética y Belleza\",\"Higiene\",\"Nutrición\",\"Higiene\",\"Infantil\",\"Higiene\",\"Óptica\",\"Perfumeria\",\"Infantil\"]\n",
    "cat_dict = OrderedDict(zip(key_words,value_cat))\n",
    "print(f'Nº palabras clave: {len(key_words)}')\n",
    "print(f'Categoría más repetida: {Counter(value_cat).most_common(1)}')"
   ]
  },
  {
   "cell_type": "code",
   "execution_count": 181,
   "metadata": {},
   "outputs": [],
   "source": [
    "# Función para asignar la categoría dependiendo de la descripcion\n",
    "def word_in_catalog(desc,catalog):\n",
    "    for k,w in catalog.items():\n",
    "        if k in desc:\n",
    "            return w"
   ]
  },
  {
   "cell_type": "code",
   "execution_count": 182,
   "metadata": {},
   "outputs": [],
   "source": [
    "for i in indexes:\n",
    "    df_products.loc[i,'analytic_category'] = word_in_catalog(df_products.loc[i,'short_description'],cat_dict)"
   ]
  },
  {
   "cell_type": "code",
   "execution_count": 183,
   "metadata": {},
   "outputs": [
    {
     "data": {
      "text/plain": [
       "product_id              0\n",
       "sku                     0\n",
       "name                   14\n",
       "marca_value            32\n",
       "short_description       0\n",
       "analytic_category    1061\n",
       "picture                 6\n",
       "dtype: int64"
      ]
     },
     "execution_count": 183,
     "metadata": {},
     "output_type": "execute_result"
    }
   ],
   "source": [
    "df_products.isna().sum()"
   ]
  },
  {
   "cell_type": "markdown",
   "metadata": {},
   "source": [
    "Con esto hemos logrado rebajar en *otros mil* las categorías perdidas, algo verdaderamente impresionante con algo tan simple. Podríamos seguir intentando recuperar valores a partir de las descripciones con algún tipo de modelo predictivo o viendo el contexto de las palabras, pero ello requiere mucho tiempo del que no se dispone. \n",
    "\n",
    "Dicho esto, el resto de nulos que permanecen serán eliminados, porque ya no suponen un gran porcentaje de valores perdidos."
   ]
  },
  {
   "cell_type": "code",
   "execution_count": 184,
   "metadata": {},
   "outputs": [
    {
     "name": "stdout",
     "output_type": "stream",
     "text": [
      "      column_name  percent_missing\n",
      "analytic_category         3.795657\n",
      "      marca_value         0.114478\n",
      "             name         0.050084\n",
      "          picture         0.021465\n",
      "       product_id         0.000000\n",
      "              sku         0.000000\n",
      "short_description         0.000000\n"
     ]
    }
   ],
   "source": [
    "percent_missing = df_products.isnull().sum() * 100 / df_products.shape[0]\n",
    "df_missing_values = pd.DataFrame({ \n",
    "    'column_name': df_products.columns,\n",
    "    'percent_missing': percent_missing\n",
    "})\n",
    "df_missing_values.sort_values(by='percent_missing',ascending=False,inplace=True)\n",
    "print(df_missing_values.to_string(index=False))"
   ]
  },
  {
   "cell_type": "markdown",
   "metadata": {},
   "source": [
    "Se ha pasado de **12%** a un **4%** lo cual consideramos un número razonable. En cuanto al resto de variables con valores perdidos, la de *marca* es la única que podemos salvar algunos registros, dado que al echar un vistazo nos hemos percatado de que algunos nombres de producto contiene también el de la marca."
   ]
  },
  {
   "cell_type": "code",
   "execution_count": 185,
   "metadata": {},
   "outputs": [
    {
     "data": {
      "text/html": [
       "<div>\n",
       "<style scoped>\n",
       "    .dataframe tbody tr th:only-of-type {\n",
       "        vertical-align: middle;\n",
       "    }\n",
       "\n",
       "    .dataframe tbody tr th {\n",
       "        vertical-align: top;\n",
       "    }\n",
       "\n",
       "    .dataframe thead th {\n",
       "        text-align: right;\n",
       "    }\n",
       "</style>\n",
       "<table border=\"1\" class=\"dataframe\">\n",
       "  <thead>\n",
       "    <tr style=\"text-align: right;\">\n",
       "      <th></th>\n",
       "      <th>product_id</th>\n",
       "      <th>sku</th>\n",
       "      <th>name</th>\n",
       "      <th>marca_value</th>\n",
       "      <th>short_description</th>\n",
       "      <th>analytic_category</th>\n",
       "      <th>picture</th>\n",
       "    </tr>\n",
       "  </thead>\n",
       "  <tbody>\n",
       "    <tr>\n",
       "      <th>16104</th>\n",
       "      <td>33681</td>\n",
       "      <td>CONFETTI.L.CIR</td>\n",
       "      <td>Sujetador de Lactancia Medela Bravado Confetti...</td>\n",
       "      <td>NaN</td>\n",
       "      <td>las copas no incluyen aro ni costuras, mejoran...</td>\n",
       "      <td>Infantil</td>\n",
       "      <td>https://www.mifarma.es/media/catalog/product/c...</td>\n",
       "    </tr>\n",
       "    <tr>\n",
       "      <th>12641</th>\n",
       "      <td>11609</td>\n",
       "      <td>DUVIT</td>\n",
       "      <td>Dr Dunner Multivital Complemento Alimenticio 4...</td>\n",
       "      <td>NaN</td>\n",
       "      <td>complemento alimenticio con 13 vitaminas y 11 ...</td>\n",
       "      <td>Nutrición</td>\n",
       "      <td>https://www.mifarma.es/media/catalog/product/d...</td>\n",
       "    </tr>\n",
       "    <tr>\n",
       "      <th>21037</th>\n",
       "      <td>23902</td>\n",
       "      <td>DUEQUECO</td>\n",
       "      <td>Dr Dunner Echinol Bio Equinacea 80 Comprimidos</td>\n",
       "      <td>NaN</td>\n",
       "      <td>dr dunner echinol bio equinacea 80 comprimidos.</td>\n",
       "      <td>Herbolario</td>\n",
       "      <td>https://www.mifarma.es/media/catalog/product/d...</td>\n",
       "    </tr>\n",
       "    <tr>\n",
       "      <th>5939</th>\n",
       "      <td>23884</td>\n",
       "      <td>DUCAR01</td>\n",
       "      <td>Dr Dunner Silygold Cardo Mariano 80 Comprimidos</td>\n",
       "      <td>NaN</td>\n",
       "      <td>dr dunner silygold cardo mariano 80 comprimidos.</td>\n",
       "      <td>Herbolario</td>\n",
       "      <td>https://www.mifarma.es/media/catalog/product/d...</td>\n",
       "    </tr>\n",
       "    <tr>\n",
       "      <th>923</th>\n",
       "      <td>7105</td>\n",
       "      <td>157899</td>\n",
       "      <td>Dr Dunner Cinnulin 40 Capsulas</td>\n",
       "      <td>NaN</td>\n",
       "      <td>cuida tus niveles de azúcar: complemento alime...</td>\n",
       "      <td>Herbolario</td>\n",
       "      <td>https://www.mifarma.es/media/catalog/product/1...</td>\n",
       "    </tr>\n",
       "    <tr>\n",
       "      <th>5738</th>\n",
       "      <td>23899</td>\n",
       "      <td>DUGIN</td>\n",
       "      <td>Dr Dunner Ginkocel Biloba 40 Comprimidos</td>\n",
       "      <td>NaN</td>\n",
       "      <td>dr dunner gastrodiet 40 comprimidos.</td>\n",
       "      <td>Herbolario</td>\n",
       "      <td>https://www.mifarma.es/media/catalog/product/d...</td>\n",
       "    </tr>\n",
       "    <tr>\n",
       "      <th>13094</th>\n",
       "      <td>78484</td>\n",
       "      <td>152937.0</td>\n",
       "      <td>Sublime Curl Champu Sublimador Rizos Rene Furt...</td>\n",
       "      <td>NaN</td>\n",
       "      <td>sublime curl champu sublimador rizos rene furt...</td>\n",
       "      <td>Cosmética y Belleza</td>\n",
       "      <td>https://www.mifarma.es/media/catalog/product/1...</td>\n",
       "    </tr>\n",
       "    <tr>\n",
       "      <th>4451</th>\n",
       "      <td>513</td>\n",
       "      <td>317171x2-317171-317171</td>\n",
       "      <td>La Roche Posay Solucion Micelar 200ml + 200 ml...</td>\n",
       "      <td>NaN</td>\n",
       "      <td>solucion micelar la roche posay desmaquillante...</td>\n",
       "      <td>None</td>\n",
       "      <td>https://www.mifarma.es/media/catalog/product/3...</td>\n",
       "    </tr>\n",
       "    <tr>\n",
       "      <th>9188</th>\n",
       "      <td>17205</td>\n",
       "      <td>DUGAS</td>\n",
       "      <td>Dr Dunner Gastrodiet 40 Comprimidos</td>\n",
       "      <td>NaN</td>\n",
       "      <td>reduce los problemas intestinales y elimina lo...</td>\n",
       "      <td>Herbolario</td>\n",
       "      <td>https://www.mifarma.es/media/catalog/product/d...</td>\n",
       "    </tr>\n",
       "    <tr>\n",
       "      <th>20926</th>\n",
       "      <td>1031</td>\n",
       "      <td>SERV262253X2-262253-262253</td>\n",
       "      <td>Champú Revitalizante Interapothek 400ml Duplo</td>\n",
       "      <td>NaN</td>\n",
       "      <td>champú formulado con provitamina b5 especialme...</td>\n",
       "      <td>Higiene</td>\n",
       "      <td>https://www.mifarma.es/media/catalog/product/s...</td>\n",
       "    </tr>\n",
       "  </tbody>\n",
       "</table>\n",
       "</div>"
      ],
      "text/plain": [
       "       product_id                         sku  \\\n",
       "16104       33681              CONFETTI.L.CIR   \n",
       "12641       11609                       DUVIT   \n",
       "21037       23902                    DUEQUECO   \n",
       "5939        23884                     DUCAR01   \n",
       "923          7105                      157899   \n",
       "5738        23899                       DUGIN   \n",
       "13094       78484                    152937.0   \n",
       "4451          513      317171x2-317171-317171   \n",
       "9188        17205                       DUGAS   \n",
       "20926        1031  SERV262253X2-262253-262253   \n",
       "\n",
       "                                                    name marca_value  \\\n",
       "16104  Sujetador de Lactancia Medela Bravado Confetti...         NaN   \n",
       "12641  Dr Dunner Multivital Complemento Alimenticio 4...         NaN   \n",
       "21037     Dr Dunner Echinol Bio Equinacea 80 Comprimidos         NaN   \n",
       "5939     Dr Dunner Silygold Cardo Mariano 80 Comprimidos         NaN   \n",
       "923                       Dr Dunner Cinnulin 40 Capsulas         NaN   \n",
       "5738            Dr Dunner Ginkocel Biloba 40 Comprimidos         NaN   \n",
       "13094  Sublime Curl Champu Sublimador Rizos Rene Furt...         NaN   \n",
       "4451   La Roche Posay Solucion Micelar 200ml + 200 ml...         NaN   \n",
       "9188                 Dr Dunner Gastrodiet 40 Comprimidos         NaN   \n",
       "20926      Champú Revitalizante Interapothek 400ml Duplo         NaN   \n",
       "\n",
       "                                       short_description    analytic_category  \\\n",
       "16104  las copas no incluyen aro ni costuras, mejoran...             Infantil   \n",
       "12641  complemento alimenticio con 13 vitaminas y 11 ...            Nutrición   \n",
       "21037    dr dunner echinol bio equinacea 80 comprimidos.           Herbolario   \n",
       "5939    dr dunner silygold cardo mariano 80 comprimidos.           Herbolario   \n",
       "923    cuida tus niveles de azúcar: complemento alime...           Herbolario   \n",
       "5738                dr dunner gastrodiet 40 comprimidos.           Herbolario   \n",
       "13094  sublime curl champu sublimador rizos rene furt...  Cosmética y Belleza   \n",
       "4451   solucion micelar la roche posay desmaquillante...                 None   \n",
       "9188   reduce los problemas intestinales y elimina lo...           Herbolario   \n",
       "20926  champú formulado con provitamina b5 especialme...              Higiene   \n",
       "\n",
       "                                                 picture  \n",
       "16104  https://www.mifarma.es/media/catalog/product/c...  \n",
       "12641  https://www.mifarma.es/media/catalog/product/d...  \n",
       "21037  https://www.mifarma.es/media/catalog/product/d...  \n",
       "5939   https://www.mifarma.es/media/catalog/product/d...  \n",
       "923    https://www.mifarma.es/media/catalog/product/1...  \n",
       "5738   https://www.mifarma.es/media/catalog/product/d...  \n",
       "13094  https://www.mifarma.es/media/catalog/product/1...  \n",
       "4451   https://www.mifarma.es/media/catalog/product/3...  \n",
       "9188   https://www.mifarma.es/media/catalog/product/d...  \n",
       "20926  https://www.mifarma.es/media/catalog/product/s...  "
      ]
     },
     "execution_count": 185,
     "metadata": {},
     "output_type": "execute_result"
    }
   ],
   "source": [
    "df_products[df_products['marca_value'].isna()].sample(10,random_state=seed)"
   ]
  },
  {
   "cell_type": "code",
   "execution_count": 186,
   "metadata": {},
   "outputs": [
    {
     "data": {
      "text/plain": [
       "['Prelox 60 Comprimidos',\n",
       " 'Dr Dunner Cinnulin 40 Capsulas',\n",
       " 'Interapothek Champu Anticaida 400 ml + 400 ml DUPLO',\n",
       " 'Dr Dunner Menosoy 60 Capsulas',\n",
       " 'La Roche Posay Solucion Micelar 200ml + 200 ml DUPLO',\n",
       " 'Medela Bravado Design Seamless Latte M',\n",
       " 'Dr Dunner Ginkocel Biloba 40 Comprimidos',\n",
       " 'Dr Dunner Pagosid 80 Comprimidos',\n",
       " 'Dr Dunner Silygold Cardo Mariano 80 Comprimidos',\n",
       " 'Medela Bravado Design Seamless Latte L',\n",
       " 'Dr Dunner Gastrodiet 40 Comprimidos',\n",
       " 'Sujetador de Lactancia Medela Bravado Confetti Nursing Bra Talla M Ciruela ',\n",
       " 'Medela Bravado Design Bliss Negro 100 D/E DD',\n",
       " 'Medela Discos Absorbentes Desechables 30 Discos + 30 Discos DUPLO',\n",
       " 'Dr Dunner Derinol 40 Capsulas',\n",
       " 'Dr Dunner Nattolin Osteo 30 Capsulas',\n",
       " 'Dr Dunner Multivital Complemento Alimenticio 40 Comprimidos',\n",
       " 'Sublime Curl Champu Sublimador Rizos Rene Furterer 250ml',\n",
       " 'Lierac Magnificence Crema Aterciopelada 50ml + Serum Antiarrugas 30ml + Contorno de Ojos de REGALO',\n",
       " 'Sujetador de Lactancia Medela Bravado Confetti Nursing Bra Talla L Ciruela ']"
      ]
     },
     "execution_count": 186,
     "metadata": {},
     "output_type": "execute_result"
    }
   ],
   "source": [
    "# Recuperamos los nombres de productos\n",
    "product_names = df_products[df_products['marca_value'].isna()]['name'].to_list()\n",
    "indexes = df_products[df_products['marca_value'].isna()]['name'].index\n",
    "product_names[:20]"
   ]
  },
  {
   "cell_type": "code",
   "execution_count": 187,
   "metadata": {},
   "outputs": [],
   "source": [
    "# Juntamos en un texto todas las descripciones\n",
    "prods = ' '.join(product_names)\n",
    "\n",
    "doc = nlp(prods)\n",
    "\n",
    "# Extraemos las palabras relevantes y contamos su aparición en el doc\n",
    "words = [token.text for token in doc if not token.is_stop and not token.is_punct]\n",
    "word_freq = Counter(words)"
   ]
  },
  {
   "cell_type": "code",
   "execution_count": 188,
   "metadata": {},
   "outputs": [
    {
     "name": "stdout",
     "output_type": "stream",
     "text": [
      "[('Dr', 12), ('Dunner', 12), ('Medela', 9), ('Comprimidos', 7), ('Bravado', 7), ('40', 5), ('Capsulas', 5), ('+', 5), (' ', 5), ('ml', 4), ('Sujetador', 4), ('Lactancia', 4), ('Confetti', 4), ('Nursing', 4), ('Bra', 4), ('Talla', 4), ('Ciruela', 4), ('30', 4), ('60', 3), ('DUPLO', 3), ('Design', 3), ('80', 3), ('L', 3), ('Discos', 3), ('Interapothek', 2), ('Champu', 2), ('400', 2), ('Seamless', 2), ('Latte', 2), ('M', 2), ('250ml', 2), ('MiRebotica', 2), ('Gel', 2), ('Efecto', 2), ('Prelox', 1), ('Cinnulin', 1), ('Anticaida', 1), ('Menosoy', 1), ('Roche', 1), ('Posay', 1), ('Solucion', 1), ('Micelar', 1), ('200ml', 1), ('200', 1), ('Ginkocel', 1), ('Biloba', 1), ('Pagosid', 1), ('Silygold', 1), ('Cardo', 1), ('Mariano', 1), ('Gastrodiet', 1), ('Bliss', 1), ('Negro', 1), ('100', 1), ('D', 1), ('E', 1), ('DD', 1), ('Absorbentes', 1), ('Desechables', 1), ('Derinol', 1), ('Nattolin', 1), ('Osteo', 1), ('Multivital', 1), ('Complemento', 1), ('Alimenticio', 1), ('Sublime', 1), ('Curl', 1), ('Sublimador', 1), ('Rizos', 1), ('Rene', 1), ('Furterer', 1), ('Lierac', 1), ('Magnificence', 1), ('Crema', 1), ('Aterciopelada', 1), ('50ml', 1), ('Serum', 1), ('Antiarrugas', 1), ('30ml', 1), ('Contorno', 1), ('Ojos', 1), ('REGALO', 1), ('Flammaspray', 1), ('75ml', 1), ('Frío', 1), ('250', 1), ('Calor', 1), ('Neurodyn', 1), ('XL', 1), ('S', 1), ('Sutia', 1), ('amamentacao', 1), ('ameixa', 1), ('confete', 1), ('bufa', 1), ('enfermagem', 1), ('sutia', 1), ('tamanho', 1), ('Champú', 1), ('Revitalizante', 1), ('400ml', 1), ('Duplo', 1), ('Echinol', 1), ('Bio', 1), ('Equinacea', 1), ('Prelox-60', 1), ('comprimidos', 1), ('Linomega', 1), ('Cápsulas', 1), ('Loción', 1), ('Capilar', 1), ('Anticaída', 1), ('Forte', 1), ('Farline', 1), ('100ml', 1)]\n"
     ]
    }
   ],
   "source": [
    "common_words = word_freq.most_common()\n",
    "print (common_words)"
   ]
  },
  {
   "cell_type": "code",
   "execution_count": 189,
   "metadata": {},
   "outputs": [],
   "source": [
    "# Se ha hecho una búsqueda en Internet para comrpobar que existen\n",
    "key_words = ['Dunner', 'Medela', 'Interapothek', 'MiRebotica', 'Rene', 'Furterer', 'Lierac', 'Roche', 'Posay', 'Farlane']\n",
    "marcas_value = ['Dr Dunner', 'Medela', 'Interapothek', 'MiRebotica', 'Rene Furterer', 'Rene Furterer', 'Lierac','La Roche Posay', 'La Roche Posay', 'Farline']"
   ]
  },
  {
   "cell_type": "code",
   "execution_count": 190,
   "metadata": {},
   "outputs": [
    {
     "data": {
      "text/plain": [
       "La Roche Posay    364\n",
       "Rene Furterer     178\n",
       "Lierac            155\n",
       "Medela            114\n",
       "Farline           108\n",
       "Name: marca_value, dtype: int64"
      ]
     },
     "execution_count": 190,
     "metadata": {},
     "output_type": "execute_result"
    }
   ],
   "source": [
    "# Comprobamos que existan esas marcas existan dentro de nuestro catálogo\n",
    "df_products[df_products['marca_value'].isin(marcas_value)]['marca_value'].value_counts()"
   ]
  },
  {
   "cell_type": "markdown",
   "metadata": {},
   "source": [
    "Vemos que algunas marcas no aparecen, esto puede deberse a que estén escritas de otra manera. Comprobémoslo! "
   ]
  },
  {
   "cell_type": "code",
   "execution_count": 191,
   "metadata": {},
   "outputs": [
    {
     "data": {
      "text/plain": [
       "DrBrown´s       158\n",
       "Drasanvi        145\n",
       "Dr. Hauschka    109\n",
       "Dr. Scholl       83\n",
       "Dr. Tree          7\n",
       "Dr. Dunner        3\n",
       "Name: marca_value, dtype: int64"
      ]
     },
     "execution_count": 191,
     "metadata": {},
     "output_type": "execute_result"
    }
   ],
   "source": [
    "df_products.loc[df_products['marca_value'].str.contains('Dr', na=False),'marca_value'].value_counts()"
   ]
  },
  {
   "cell_type": "code",
   "execution_count": 192,
   "metadata": {},
   "outputs": [
    {
     "data": {
      "text/plain": [
       "InterApothek          322\n",
       "Inter-Pharma           53\n",
       "Dietéticos Intersa      4\n",
       "Name: marca_value, dtype: int64"
      ]
     },
     "execution_count": 192,
     "metadata": {},
     "output_type": "execute_result"
    }
   ],
   "source": [
    "df_products.loc[df_products['marca_value'].str.contains('Inter', na=False),'marca_value'].value_counts()"
   ]
  },
  {
   "cell_type": "code",
   "execution_count": 193,
   "metadata": {},
   "outputs": [
    {
     "data": {
      "text/plain": [
       "Mi Pipo          76\n",
       "Mia Laurens      75\n",
       "Mi Rebotica      61\n",
       "Mifarma Daily    20\n",
       "Mifarma          12\n",
       "Mifarma Baby      8\n",
       "Migrasin          8\n",
       "Milton            4\n",
       "Mitigal           4\n",
       "Miradent          1\n",
       "Name: marca_value, dtype: int64"
      ]
     },
     "execution_count": 193,
     "metadata": {},
     "output_type": "execute_result"
    }
   ],
   "source": [
    "df_products.loc[df_products['marca_value'].str.contains('Mi', na=False),'marca_value'].value_counts()"
   ]
  },
  {
   "cell_type": "markdown",
   "metadata": {},
   "source": [
    "Vemos que efectivamente se trataba de eso, por tanto cambiamos las palabras clave"
   ]
  },
  {
   "cell_type": "code",
   "execution_count": 194,
   "metadata": {},
   "outputs": [],
   "source": [
    "marcas_value = ['Dr. Dunner', 'Medela', 'InterApothek', 'Mi Rebotica', 'Rene Furterer', 'Rene Furterer', 'La Roche Posay', 'La Roche Posay', 'Farline']\n",
    "marcas_dict = OrderedDict(zip(key_words,marcas_value))"
   ]
  },
  {
   "cell_type": "code",
   "execution_count": 195,
   "metadata": {},
   "outputs": [],
   "source": [
    "for i in indexes:\n",
    "    df_products.loc[i,'marca_value'] = word_in_catalog(df_products.loc[i,'name'],marcas_dict)"
   ]
  },
  {
   "cell_type": "code",
   "execution_count": 196,
   "metadata": {},
   "outputs": [
    {
     "data": {
      "text/plain": [
       "product_id              0\n",
       "sku                     0\n",
       "name                   14\n",
       "marca_value             4\n",
       "short_description       0\n",
       "analytic_category    1061\n",
       "picture                 6\n",
       "dtype: int64"
      ]
     },
     "execution_count": 196,
     "metadata": {},
     "output_type": "execute_result"
    }
   ],
   "source": [
    "df_products.isna().sum()"
   ]
  },
  {
   "cell_type": "markdown",
   "metadata": {},
   "source": [
    "Se ha reducido considerablemente el número de marcas que faltan. Por tanto, ya podemos dar por finalizada la recuperación de valores y eliminaremos todas aquellas filas que contienen valores nulos."
   ]
  },
  {
   "cell_type": "code",
   "execution_count": 197,
   "metadata": {},
   "outputs": [],
   "source": [
    "df_products.dropna(how='any',inplace=True)"
   ]
  },
  {
   "cell_type": "code",
   "execution_count": 198,
   "metadata": {},
   "outputs": [
    {
     "data": {
      "text/plain": [
       "product_id           0\n",
       "sku                  0\n",
       "name                 0\n",
       "marca_value          0\n",
       "short_description    0\n",
       "analytic_category    0\n",
       "picture              0\n",
       "dtype: int64"
      ]
     },
     "execution_count": 198,
     "metadata": {},
     "output_type": "execute_result"
    }
   ],
   "source": [
    "df_products.isna().sum()"
   ]
  },
  {
   "cell_type": "markdown",
   "metadata": {},
   "source": [
    "Ya para finalizar, hemos considerado que la columna de *pictures* no aporta ningún valor, ya que los links no funcionan y además lo que pretendemos desarrollar posteriormente no implica el uso de estas supuestas imágenes."
   ]
  },
  {
   "cell_type": "code",
   "execution_count": 199,
   "metadata": {},
   "outputs": [],
   "source": [
    "df_products.drop(columns=['picture'],inplace=True)"
   ]
  },
  {
   "cell_type": "markdown",
   "metadata": {},
   "source": [
    "## Nombres de productos\n"
   ]
  },
  {
   "cell_type": "code",
   "execution_count": 200,
   "metadata": {},
   "outputs": [
    {
     "name": "stdout",
     "output_type": "stream",
     "text": [
      "IDs de productos repetidos: 4649\n",
      "Combinación de IDs y SKUs de productos repetidos: 4609\n",
      "Productos repetidos: 0\n"
     ]
    }
   ],
   "source": [
    "p_id = df_products[['product_id']].duplicated(keep='first').sum()\n",
    "p_id_sku = df_products[['product_id','sku']].duplicated(keep='first').sum()\n",
    "p_id_sku_n = df_products[['product_id','sku','name']].duplicated(keep='first').sum()\n",
    "print(f'IDs de productos repetidos: {p_id}')\n",
    "print(f'Combinación de IDs y SKUs de productos repetidos: {p_id_sku}')\n",
    "print(f'Productos repetidos: {p_id_sku_n}')"
   ]
  },
  {
   "cell_type": "markdown",
   "metadata": {},
   "source": [
    "Normalizamos el nombre de los productos para ver si hay algun duplicado."
   ]
  },
  {
   "cell_type": "code",
   "execution_count": 201,
   "metadata": {},
   "outputs": [
    {
     "data": {
      "text/html": [
       "<div>\n",
       "<style scoped>\n",
       "    .dataframe tbody tr th:only-of-type {\n",
       "        vertical-align: middle;\n",
       "    }\n",
       "\n",
       "    .dataframe tbody tr th {\n",
       "        vertical-align: top;\n",
       "    }\n",
       "\n",
       "    .dataframe thead th {\n",
       "        text-align: right;\n",
       "    }\n",
       "</style>\n",
       "<table border=\"1\" class=\"dataframe\">\n",
       "  <thead>\n",
       "    <tr style=\"text-align: right;\">\n",
       "      <th></th>\n",
       "      <th>product_id</th>\n",
       "      <th>sku</th>\n",
       "      <th>name</th>\n",
       "      <th>marca_value</th>\n",
       "      <th>short_description</th>\n",
       "      <th>analytic_category</th>\n",
       "    </tr>\n",
       "  </thead>\n",
       "  <tbody>\n",
       "    <tr>\n",
       "      <th>10162</th>\n",
       "      <td>9211</td>\n",
       "      <td>SCF766/00=167969.Azul</td>\n",
       "      <td>avent vaso termico azul 12m+ scf766/00 260ml</td>\n",
       "      <td>Avent</td>\n",
       "      <td>vaso térmico para mantener el líquido a la tem...</td>\n",
       "      <td>Infantil</td>\n",
       "    </tr>\n",
       "    <tr>\n",
       "      <th>11494</th>\n",
       "      <td>44558</td>\n",
       "      <td>01012.monorosa</td>\n",
       "      <td>dr browns chupete ortodóntico perform talla 2:...</td>\n",
       "      <td>DrBrown´s</td>\n",
       "      <td>diseñado para la boca del bebe en crecimiento</td>\n",
       "      <td>Infantil</td>\n",
       "    </tr>\n",
       "    <tr>\n",
       "      <th>23670</th>\n",
       "      <td>7937</td>\n",
       "      <td>346526</td>\n",
       "      <td>carmex cherry jar spf15 hidratante labial 75mg</td>\n",
       "      <td>Carmex</td>\n",
       "      <td>bálsamo hidratante para labios cereza. alivio ...</td>\n",
       "      <td>Cosmética y Belleza</td>\n",
       "    </tr>\n",
       "    <tr>\n",
       "      <th>16341</th>\n",
       "      <td>3586</td>\n",
       "      <td>317735</td>\n",
       "      <td>polysianes gel crema autobronceador cara y cue...</td>\n",
       "      <td>Polysianes</td>\n",
       "      <td>polysianes gel crema autobronceador cara y cue...</td>\n",
       "      <td>Cosmética y Belleza</td>\n",
       "    </tr>\n",
       "    <tr>\n",
       "      <th>246</th>\n",
       "      <td>2147</td>\n",
       "      <td>391847</td>\n",
       "      <td>lacer pasta dental anticaries 125ml</td>\n",
       "      <td>Lacer</td>\n",
       "      <td>pasta dentífrica lacer indicada para la preven...</td>\n",
       "      <td>Higiene</td>\n",
       "    </tr>\n",
       "  </tbody>\n",
       "</table>\n",
       "</div>"
      ],
      "text/plain": [
       "       product_id                    sku  \\\n",
       "10162        9211  SCF766/00=167969.Azul   \n",
       "11494       44558         01012.monorosa   \n",
       "23670        7937                 346526   \n",
       "16341        3586                 317735   \n",
       "246          2147                 391847   \n",
       "\n",
       "                                                    name marca_value  \\\n",
       "10162       avent vaso termico azul 12m+ scf766/00 260ml       Avent   \n",
       "11494  dr browns chupete ortodóntico perform talla 2:...   DrBrown´s   \n",
       "23670     carmex cherry jar spf15 hidratante labial 75mg      Carmex   \n",
       "16341  polysianes gel crema autobronceador cara y cue...  Polysianes   \n",
       "246                  lacer pasta dental anticaries 125ml       Lacer   \n",
       "\n",
       "                                       short_description    analytic_category  \n",
       "10162  vaso térmico para mantener el líquido a la tem...             Infantil  \n",
       "11494      diseñado para la boca del bebe en crecimiento             Infantil  \n",
       "23670  bálsamo hidratante para labios cereza. alivio ...  Cosmética y Belleza  \n",
       "16341  polysianes gel crema autobronceador cara y cue...  Cosmética y Belleza  \n",
       "246    pasta dentífrica lacer indicada para la preven...              Higiene  "
      ]
     },
     "execution_count": 201,
     "metadata": {},
     "output_type": "execute_result"
    }
   ],
   "source": [
    "df_products.loc[:, 'name'] = df_products['name'].apply(lambda r: str(r).strip().lower())\n",
    "df_products.sample(5,random_state=seed)"
   ]
  },
  {
   "cell_type": "code",
   "execution_count": 202,
   "metadata": {},
   "outputs": [
    {
     "data": {
      "text/html": [
       "<div>\n",
       "<style scoped>\n",
       "    .dataframe tbody tr th:only-of-type {\n",
       "        vertical-align: middle;\n",
       "    }\n",
       "\n",
       "    .dataframe tbody tr th {\n",
       "        vertical-align: top;\n",
       "    }\n",
       "\n",
       "    .dataframe thead th {\n",
       "        text-align: right;\n",
       "    }\n",
       "</style>\n",
       "<table border=\"1\" class=\"dataframe\">\n",
       "  <thead>\n",
       "    <tr style=\"text-align: right;\">\n",
       "      <th></th>\n",
       "      <th>product_id</th>\n",
       "      <th>sku</th>\n",
       "      <th>name</th>\n",
       "      <th>marca_value</th>\n",
       "      <th>short_description</th>\n",
       "      <th>analytic_category</th>\n",
       "    </tr>\n",
       "  </thead>\n",
       "  <tbody>\n",
       "    <tr>\n",
       "      <th>15608</th>\n",
       "      <td>80567</td>\n",
       "      <td>005940</td>\n",
       "      <td>melatonina con melisa, pasiflora y tila sotya ...</td>\n",
       "      <td>Sotya</td>\n",
       "      <td>suplemento alimenticio que ayuda a conciliar e...</td>\n",
       "      <td>Salud</td>\n",
       "    </tr>\n",
       "    <tr>\n",
       "      <th>16853</th>\n",
       "      <td>80564</td>\n",
       "      <td>005933</td>\n",
       "      <td>​melatonina complex sotya 550 mg 60 cápsulas</td>\n",
       "      <td>Sotya</td>\n",
       "      <td>complemento alimenticio que ayuda a conciliar ...</td>\n",
       "      <td>Salud</td>\n",
       "    </tr>\n",
       "    <tr>\n",
       "      <th>18769</th>\n",
       "      <td>5036</td>\n",
       "      <td>159115</td>\n",
       "      <td>sesderma c-vit liposomal serum 30 ml</td>\n",
       "      <td>Sesderma</td>\n",
       "      <td>sérum facial con una alta concentración de vit...</td>\n",
       "      <td>Cosmética y Belleza</td>\n",
       "    </tr>\n",
       "  </tbody>\n",
       "</table>\n",
       "</div>"
      ],
      "text/plain": [
       "       product_id     sku                                               name  \\\n",
       "15608       80567  005940  melatonina con melisa, pasiflora y tila sotya ...   \n",
       "16853       80564  005933       ​melatonina complex sotya 550 mg 60 cápsulas   \n",
       "18769        5036  159115               sesderma c-vit liposomal serum 30 ml   \n",
       "\n",
       "      marca_value                                  short_description  \\\n",
       "15608       Sotya  suplemento alimenticio que ayuda a conciliar e...   \n",
       "16853       Sotya  complemento alimenticio que ayuda a conciliar ...   \n",
       "18769    Sesderma  sérum facial con una alta concentración de vit...   \n",
       "\n",
       "         analytic_category  \n",
       "15608                Salud  \n",
       "16853                Salud  \n",
       "18769  Cosmética y Belleza  "
      ]
     },
     "execution_count": 202,
     "metadata": {},
     "output_type": "execute_result"
    }
   ],
   "source": [
    "df_products[df_products[['product_id','sku','name']].duplicated(keep='first')]"
   ]
  },
  {
   "cell_type": "markdown",
   "metadata": {},
   "source": [
    "Efectivamente vemos que hay algun duplicado, así que los eliminamos."
   ]
  },
  {
   "cell_type": "code",
   "execution_count": 203,
   "metadata": {},
   "outputs": [],
   "source": [
    "df_products = df_products.drop_duplicates(subset=['product_id','sku','name'] ,keep='first')"
   ]
  },
  {
   "cell_type": "markdown",
   "metadata": {},
   "source": [
    "Al igual que el otros dataframe, lo guardamos para que pueda ser utilizado"
   ]
  },
  {
   "cell_type": "code",
   "execution_count": 204,
   "metadata": {},
   "outputs": [],
   "source": [
    "df_products.to_csv('./clean_products.csv',index=False)"
   ]
  },
  {
   "cell_type": "markdown",
   "metadata": {},
   "source": [
    "# Conclusiones\n",
    "\n",
    "De todo este proceso sacamos en claro las siguientes conclusiones:\n",
    "\n",
    "- En ambos datasets se han regularizado los campos de texto\n",
    "- Se ha recuperado un **8%** de valores perdidos para el campo *analytic_category*\n",
    "- Se han suprimido registros una vez que se ha reducido los nulos y necesitamos de técnicas mucho más complejas\n",
    "- Se ha prescindido de la columna *picture* dado que no aporta valor \n",
    "- Se ha normalizado los nombre de productos"
   ]
  }
 ],
 "metadata": {
  "interpreter": {
   "hash": "31f2aee4e71d21fbe5cf8b01ff0e069b9275f58929596ceb00d14d90e3e16cd6"
  },
  "kernelspec": {
   "display_name": "Python 3.8.9 64-bit",
   "language": "python",
   "name": "python3"
  },
  "language_info": {
   "codemirror_mode": {
    "name": "ipython",
    "version": 3
   },
   "file_extension": ".py",
   "mimetype": "text/x-python",
   "name": "python",
   "nbconvert_exporter": "python",
   "pygments_lexer": "ipython3",
   "version": "3.8.10"
  },
  "orig_nbformat": 4
 },
 "nbformat": 4,
 "nbformat_minor": 2
}
