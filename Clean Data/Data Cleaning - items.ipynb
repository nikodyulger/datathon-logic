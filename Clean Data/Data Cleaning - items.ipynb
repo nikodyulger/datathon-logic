{
 "cells": [
  {
   "cell_type": "markdown",
   "metadata": {},
   "source": [
    "# Limpieza y Arreglo de Datos \n",
    "\n",
    "En este cuaderno se detalla el proceso de limpieza y arreglo del conjuntos de datos: *items_ordered_2years.csv*. El objetivo es normalizar el dataset para que posteriormente se pueda usar en la herramienta sin provocar errores."
   ]
  },
  {
   "cell_type": "markdown",
   "metadata": {},
   "source": [
    "## Índice \n",
    "\n",
    "1. Importación paquetes\n",
    "2. Lectura de Datos\n",
    "3. Ciudades y Códigos Postales\n",
    "4. Duplicados\n",
    "5. Fecha y Hora\n",
    "7. Unificar tablas\n",
    "8. Precios\n",
    "9. Conclusiones"
   ]
  },
  {
   "cell_type": "markdown",
   "metadata": {},
   "source": [
    "## Importación de paquetes\n",
    "\n",
    "Comenzamos como siempre con la importación de los módulos para la limpieza de datos."
   ]
  },
  {
   "cell_type": "code",
   "execution_count": 110,
   "metadata": {},
   "outputs": [],
   "source": [
    "import pandas as pd\n",
    "import numpy as np\n",
    "\n",
    "# Semilla para realizar experimentos reproducibles\n",
    "seed = 126"
   ]
  },
  {
   "cell_type": "markdown",
   "metadata": {},
   "source": [
    "## Lectura de Datos\n",
    "\n",
    "Cargamos en memoria el ficheros y comprobamos que se hayan hecho correctamente."
   ]
  },
  {
   "cell_type": "code",
   "execution_count": 111,
   "metadata": {},
   "outputs": [
    {
     "data": {
      "text/html": [
       "<div>\n",
       "<style scoped>\n",
       "    .dataframe tbody tr th:only-of-type {\n",
       "        vertical-align: middle;\n",
       "    }\n",
       "\n",
       "    .dataframe tbody tr th {\n",
       "        vertical-align: top;\n",
       "    }\n",
       "\n",
       "    .dataframe thead th {\n",
       "        text-align: right;\n",
       "    }\n",
       "</style>\n",
       "<table border=\"1\" class=\"dataframe\">\n",
       "  <thead>\n",
       "    <tr style=\"text-align: right;\">\n",
       "      <th></th>\n",
       "      <th>num_order</th>\n",
       "      <th>item_id</th>\n",
       "      <th>created_at</th>\n",
       "      <th>product_id</th>\n",
       "      <th>qty_ordered</th>\n",
       "      <th>base_cost</th>\n",
       "      <th>price</th>\n",
       "      <th>discount_percent</th>\n",
       "      <th>customer_id</th>\n",
       "      <th>city</th>\n",
       "      <th>zipcode</th>\n",
       "    </tr>\n",
       "  </thead>\n",
       "  <tbody>\n",
       "    <tr>\n",
       "      <th>885283</th>\n",
       "      <td>3a9515af945c45aa199a6ffe89a06851</td>\n",
       "      <td>77a7a7c749da68f31204e1bcbebfadbc</td>\n",
       "      <td>2018-12-19 17:33:16</td>\n",
       "      <td>3922</td>\n",
       "      <td>1</td>\n",
       "      <td>6.7000</td>\n",
       "      <td>8.23</td>\n",
       "      <td>5.0</td>\n",
       "      <td>b5aa9f33f1ae3ebd21980a3003ee2a12</td>\n",
       "      <td>BORRIANA</td>\n",
       "      <td>12530</td>\n",
       "    </tr>\n",
       "    <tr>\n",
       "      <th>671427</th>\n",
       "      <td>3f816f518b186d384287a55e1e2da020</td>\n",
       "      <td>a581589f2050829d5d16ac38455ee3d2</td>\n",
       "      <td>2018-09-10 16:12:00</td>\n",
       "      <td>13213</td>\n",
       "      <td>1</td>\n",
       "      <td>4.9875</td>\n",
       "      <td>7.00</td>\n",
       "      <td>5.0</td>\n",
       "      <td>668b6e36b0383ec792e3e8a12c56cd5c</td>\n",
       "      <td>ALICANTE</td>\n",
       "      <td>03015</td>\n",
       "    </tr>\n",
       "    <tr>\n",
       "      <th>99899</th>\n",
       "      <td>f43bee7f3784e48a2c31e4f83d5e1e70</td>\n",
       "      <td>e72de197dca9bee00fbe702af166fc54</td>\n",
       "      <td>2017-04-25 21:47:15</td>\n",
       "      <td>2731</td>\n",
       "      <td>2</td>\n",
       "      <td>13.6453</td>\n",
       "      <td>18.97</td>\n",
       "      <td>8.0</td>\n",
       "      <td>ac27b77292582bc293a51055bfc994ee</td>\n",
       "      <td>madrid</td>\n",
       "      <td>28040</td>\n",
       "    </tr>\n",
       "    <tr>\n",
       "      <th>129128</th>\n",
       "      <td>4dc71dc51db715835e4348f9760c4b07</td>\n",
       "      <td>593b1dc90b7c9da89c1fff2e370dd5b2</td>\n",
       "      <td>2017-06-20 20:26:39</td>\n",
       "      <td>58136</td>\n",
       "      <td>1</td>\n",
       "      <td>7.5900</td>\n",
       "      <td>9.08</td>\n",
       "      <td>10.0</td>\n",
       "      <td>eb8f27d2170d65a37eb72d4b005259ce</td>\n",
       "      <td>cartagena</td>\n",
       "      <td>30300</td>\n",
       "    </tr>\n",
       "    <tr>\n",
       "      <th>205362</th>\n",
       "      <td>45381dc59cd2805782eaf54399cf4146</td>\n",
       "      <td>26f5a246442e17a88314457043ca485e</td>\n",
       "      <td>2017-09-04 20:14:42</td>\n",
       "      <td>71146</td>\n",
       "      <td>2</td>\n",
       "      <td>5.0044</td>\n",
       "      <td>7.42</td>\n",
       "      <td>5.0</td>\n",
       "      <td>e4296adfba6141fa05d731b6afd20ead</td>\n",
       "      <td>Villaviciosa de Odon</td>\n",
       "      <td>28670</td>\n",
       "    </tr>\n",
       "  </tbody>\n",
       "</table>\n",
       "</div>"
      ],
      "text/plain": [
       "                               num_order                           item_id  \\\n",
       "885283  3a9515af945c45aa199a6ffe89a06851  77a7a7c749da68f31204e1bcbebfadbc   \n",
       "671427  3f816f518b186d384287a55e1e2da020  a581589f2050829d5d16ac38455ee3d2   \n",
       "99899   f43bee7f3784e48a2c31e4f83d5e1e70  e72de197dca9bee00fbe702af166fc54   \n",
       "129128  4dc71dc51db715835e4348f9760c4b07  593b1dc90b7c9da89c1fff2e370dd5b2   \n",
       "205362  45381dc59cd2805782eaf54399cf4146  26f5a246442e17a88314457043ca485e   \n",
       "\n",
       "                created_at  product_id  qty_ordered  base_cost  price  \\\n",
       "885283 2018-12-19 17:33:16        3922            1     6.7000   8.23   \n",
       "671427 2018-09-10 16:12:00       13213            1     4.9875   7.00   \n",
       "99899  2017-04-25 21:47:15        2731            2    13.6453  18.97   \n",
       "129128 2017-06-20 20:26:39       58136            1     7.5900   9.08   \n",
       "205362 2017-09-04 20:14:42       71146            2     5.0044   7.42   \n",
       "\n",
       "        discount_percent                       customer_id  \\\n",
       "885283               5.0  b5aa9f33f1ae3ebd21980a3003ee2a12   \n",
       "671427               5.0  668b6e36b0383ec792e3e8a12c56cd5c   \n",
       "99899                8.0  ac27b77292582bc293a51055bfc994ee   \n",
       "129128              10.0  eb8f27d2170d65a37eb72d4b005259ce   \n",
       "205362               5.0  e4296adfba6141fa05d731b6afd20ead   \n",
       "\n",
       "                        city zipcode  \n",
       "885283              BORRIANA   12530  \n",
       "671427              ALICANTE   03015  \n",
       "99899                 madrid   28040  \n",
       "129128             cartagena   30300  \n",
       "205362  Villaviciosa de Odon   28670  "
      ]
     },
     "execution_count": 111,
     "metadata": {},
     "output_type": "execute_result"
    }
   ],
   "source": [
    "df_items = pd.read_csv('../Data/items_ordered_2years.txt', sep='|', on_bad_lines='skip',parse_dates=['created_at'])\n",
    "df_items.sample(5,random_state=seed)"
   ]
  },
  {
   "cell_type": "code",
   "execution_count": 112,
   "metadata": {},
   "outputs": [
    {
     "data": {
      "text/html": [
       "<div>\n",
       "<style scoped>\n",
       "    .dataframe tbody tr th:only-of-type {\n",
       "        vertical-align: middle;\n",
       "    }\n",
       "\n",
       "    .dataframe tbody tr th {\n",
       "        vertical-align: top;\n",
       "    }\n",
       "\n",
       "    .dataframe thead th {\n",
       "        text-align: right;\n",
       "    }\n",
       "</style>\n",
       "<table border=\"1\" class=\"dataframe\">\n",
       "  <thead>\n",
       "    <tr style=\"text-align: right;\">\n",
       "      <th></th>\n",
       "      <th>product_id</th>\n",
       "      <th>sku</th>\n",
       "      <th>name</th>\n",
       "      <th>marca_value</th>\n",
       "      <th>short_description</th>\n",
       "      <th>analytic_category</th>\n",
       "    </tr>\n",
       "  </thead>\n",
       "  <tbody>\n",
       "    <tr>\n",
       "      <th>24312</th>\n",
       "      <td>84880</td>\n",
       "      <td>WVS128101</td>\n",
       "      <td>victory mass gainer sabor chocolate weider 2 kg</td>\n",
       "      <td>Weider</td>\n",
       "      <td>suplemento alimenticio con 4 fuentes de carboh...</td>\n",
       "      <td>Nutrición</td>\n",
       "    </tr>\n",
       "    <tr>\n",
       "      <th>24999</th>\n",
       "      <td>4293</td>\n",
       "      <td>167921</td>\n",
       "      <td>bioderma sebium exfoliating 0 ml gel</td>\n",
       "      <td>Bioderma</td>\n",
       "      <td>limpiador exfoliante, purificante, alisante y ...</td>\n",
       "      <td>Higiene</td>\n",
       "    </tr>\n",
       "    <tr>\n",
       "      <th>18508</th>\n",
       "      <td>86125</td>\n",
       "      <td>187170</td>\n",
       "      <td>masajeador personal inalábrico remote wireless...</td>\n",
       "      <td>Control</td>\n",
       "      <td>control vibrador personal inalámbrico e imperm...</td>\n",
       "      <td>Vida Íntima</td>\n",
       "    </tr>\n",
       "    <tr>\n",
       "      <th>20779</th>\n",
       "      <td>90576</td>\n",
       "      <td>ZAM02-15665</td>\n",
       "      <td>aceite de masaje ziaja 500ml</td>\n",
       "      <td>Ziaja</td>\n",
       "      <td>aceite de masaje anticelulítico, que suaviza l...</td>\n",
       "      <td>Cosmética y Belleza</td>\n",
       "    </tr>\n",
       "    <tr>\n",
       "      <th>22829</th>\n",
       "      <td>89514</td>\n",
       "      <td>BHU008-10</td>\n",
       "      <td>esmalte uñas duradero hipoalergénico hypo bell...</td>\n",
       "      <td>Bell</td>\n",
       "      <td>esmalte de uñas hipoalergénico y de larga dura...</td>\n",
       "      <td>Cosmética y Belleza</td>\n",
       "    </tr>\n",
       "  </tbody>\n",
       "</table>\n",
       "</div>"
      ],
      "text/plain": [
       "       product_id          sku  \\\n",
       "24312       84880    WVS128101   \n",
       "24999        4293       167921   \n",
       "18508       86125       187170   \n",
       "20779       90576  ZAM02-15665   \n",
       "22829       89514    BHU008-10   \n",
       "\n",
       "                                                    name marca_value  \\\n",
       "24312    victory mass gainer sabor chocolate weider 2 kg      Weider   \n",
       "24999               bioderma sebium exfoliating 0 ml gel    Bioderma   \n",
       "18508  masajeador personal inalábrico remote wireless...     Control   \n",
       "20779                       aceite de masaje ziaja 500ml       Ziaja   \n",
       "22829  esmalte uñas duradero hipoalergénico hypo bell...        Bell   \n",
       "\n",
       "                                       short_description    analytic_category  \n",
       "24312  suplemento alimenticio con 4 fuentes de carboh...            Nutrición  \n",
       "24999  limpiador exfoliante, purificante, alisante y ...              Higiene  \n",
       "18508  control vibrador personal inalámbrico e imperm...          Vida Íntima  \n",
       "20779  aceite de masaje anticelulítico, que suaviza l...  Cosmética y Belleza  \n",
       "22829  esmalte de uñas hipoalergénico y de larga dura...  Cosmética y Belleza  "
      ]
     },
     "execution_count": 112,
     "metadata": {},
     "output_type": "execute_result"
    }
   ],
   "source": [
    "df_products = pd.read_csv('./clean_products.csv')\n",
    "df_products.sample(5,random_state=seed)"
   ]
  },
  {
   "cell_type": "markdown",
   "metadata": {},
   "source": [
    "## Ciudades y Códigos Postales\n",
    "\n",
    "En este apartado se trataran los campos referentes a la ubicación de los pedidos"
   ]
  },
  {
   "cell_type": "code",
   "execution_count": 113,
   "metadata": {},
   "outputs": [
    {
     "data": {
      "text/plain": [
       "num_order              0\n",
       "item_id                0\n",
       "created_at             0\n",
       "product_id             0\n",
       "qty_ordered            0\n",
       "base_cost           2402\n",
       "price                  0\n",
       "discount_percent       0\n",
       "customer_id            0\n",
       "city                3007\n",
       "zipcode             3004\n",
       "dtype: int64"
      ]
     },
     "execution_count": 113,
     "metadata": {},
     "output_type": "execute_result"
    }
   ],
   "source": [
    "# Listamos los campos nulos -> EDA\n",
    "df_items.isna().sum()"
   ]
  },
  {
   "cell_type": "markdown",
   "metadata": {},
   "source": [
    "Las columnas de ciudad y código postal tienen sorpendentemente un número muy parecido de registros nulos, por lo que intuimos que de alguna manera están entrelazadas."
   ]
  },
  {
   "cell_type": "code",
   "execution_count": 114,
   "metadata": {},
   "outputs": [
    {
     "name": "stdout",
     "output_type": "stream",
     "text": [
      "Recuento ciudad únicas: 20993\n"
     ]
    }
   ],
   "source": [
    "# Recuento de ciudades antes de normalizar\n",
    "print(f\"Recuento ciudad únicas: {df_items['city'].nunique()}\")"
   ]
  },
  {
   "cell_type": "code",
   "execution_count": 115,
   "metadata": {},
   "outputs": [],
   "source": [
    "# Eliminamos registros si ambos son nulos\n",
    "indexes = df_items[(df_items['city'].isna()) & (df_items['zipcode'].isna())].index\n",
    "df_items.drop(index=indexes,inplace=True)"
   ]
  },
  {
   "cell_type": "code",
   "execution_count": 116,
   "metadata": {},
   "outputs": [
    {
     "data": {
      "text/plain": [
       "num_order              0\n",
       "item_id                0\n",
       "created_at             0\n",
       "product_id             0\n",
       "qty_ordered            0\n",
       "base_cost           2399\n",
       "price                  0\n",
       "discount_percent       0\n",
       "customer_id            0\n",
       "city                  97\n",
       "zipcode               94\n",
       "dtype: int64"
      ]
     },
     "execution_count": 116,
     "metadata": {},
     "output_type": "execute_result"
    }
   ],
   "source": [
    "df_items.isna().sum()"
   ]
  },
  {
   "cell_type": "markdown",
   "metadata": {},
   "source": [
    "Con todo esto, el número de nulos se ve reducido. Aun así quedan algunos registros nulos, pero no es algo *\"preocupante\"* ya que con uno de los dos campos es posible recuperar el valor perdido."
   ]
  },
  {
   "cell_type": "code",
   "execution_count": 117,
   "metadata": {},
   "outputs": [],
   "source": [
    "# Imputamos zipcode nulos con string vacío\n",
    "df_items['zipcode'].fillna('',inplace=True)\n",
    "df_items['city'].fillna('',inplace=True)"
   ]
  },
  {
   "cell_type": "code",
   "execution_count": 118,
   "metadata": {},
   "outputs": [
    {
     "name": "stdout",
     "output_type": "stream",
     "text": [
      "Ciudades con dígitos: 801\n"
     ]
    }
   ],
   "source": [
    "print(f\"Ciudades con dígitos: {len(df_items[df_items['city'].str.isnumeric()])}\")"
   ]
  },
  {
   "cell_type": "markdown",
   "metadata": {},
   "source": [
    "Como ya vimos en el análisis exploratorio, existen ciudad *numéricas* y zipcodes con nombres de ciudades. Tenemos que arreglar este cambio de campos "
   ]
  },
  {
   "cell_type": "code",
   "execution_count": 119,
   "metadata": {},
   "outputs": [],
   "source": [
    "# Si ambos campos son numéricos, tan solo nos quedamos con el zipcode y el city lo imputamos con string vacía\n",
    "indexes = df_items[(df_items['city'].str.isnumeric()) & (df_items['zipcode'].str.isnumeric())].index\n",
    "df_items.loc[indexes,'city'] = ''"
   ]
  },
  {
   "cell_type": "code",
   "execution_count": 120,
   "metadata": {},
   "outputs": [
    {
     "name": "stdout",
     "output_type": "stream",
     "text": [
      "Ciudades con dígitos: 356\n"
     ]
    }
   ],
   "source": [
    "print(f\"Ciudades con dígitos: {len(df_items[df_items['city'].str.isnumeric()])}\")"
   ]
  },
  {
   "cell_type": "code",
   "execution_count": 121,
   "metadata": {},
   "outputs": [],
   "source": [
    "# Invertimos los valores de los campos en los que se han traspuesto\n",
    "indexes = df_items[(df_items['city'].str.isnumeric()) & (~df_items['zipcode'].str.isnumeric())].index\n",
    "df_items.loc[indexes,['city','zipcode']] = df_items.loc[indexes,['zipcode','city']].values"
   ]
  },
  {
   "cell_type": "code",
   "execution_count": 122,
   "metadata": {},
   "outputs": [
    {
     "name": "stdout",
     "output_type": "stream",
     "text": [
      "Ciudades con dígitos: 0\n"
     ]
    }
   ],
   "source": [
    "print(f\"Ciudades con dígitos: {len(df_items[df_items['city'].str.isnumeric()])}\")"
   ]
  },
  {
   "cell_type": "markdown",
   "metadata": {},
   "source": [
    "Otra fuente de problemas es la falta de normalización de los nombres de las ciudades, lo que puede llevar a un mal recuento."
   ]
  },
  {
   "cell_type": "code",
   "execution_count": 123,
   "metadata": {},
   "outputs": [
    {
     "data": {
      "text/html": [
       "<div>\n",
       "<style scoped>\n",
       "    .dataframe tbody tr th:only-of-type {\n",
       "        vertical-align: middle;\n",
       "    }\n",
       "\n",
       "    .dataframe tbody tr th {\n",
       "        vertical-align: top;\n",
       "    }\n",
       "\n",
       "    .dataframe thead th {\n",
       "        text-align: right;\n",
       "    }\n",
       "</style>\n",
       "<table border=\"1\" class=\"dataframe\">\n",
       "  <thead>\n",
       "    <tr style=\"text-align: right;\">\n",
       "      <th></th>\n",
       "      <th>num_order</th>\n",
       "      <th>city</th>\n",
       "      <th>zipcode</th>\n",
       "    </tr>\n",
       "  </thead>\n",
       "  <tbody>\n",
       "    <tr>\n",
       "      <th>691236</th>\n",
       "      <td>9567deb340d90ef2334a8e0eeebb1023</td>\n",
       "      <td>linares</td>\n",
       "      <td>23700</td>\n",
       "    </tr>\n",
       "    <tr>\n",
       "      <th>326024</th>\n",
       "      <td>479e26c5bf7c16af391527e4817c560d</td>\n",
       "      <td>carcaixent</td>\n",
       "      <td>46740</td>\n",
       "    </tr>\n",
       "    <tr>\n",
       "      <th>412990</th>\n",
       "      <td>fa4759766ef859b1441fc92b27a4efb0</td>\n",
       "      <td>madrid</td>\n",
       "      <td>28008</td>\n",
       "    </tr>\n",
       "    <tr>\n",
       "      <th>111622</th>\n",
       "      <td>57d9e0b08fa153794180541d0cf26a98</td>\n",
       "      <td>puerto de mazarron</td>\n",
       "      <td>30860</td>\n",
       "    </tr>\n",
       "    <tr>\n",
       "      <th>100077</th>\n",
       "      <td>435e6dfdf710c506307813f27efe7b88</td>\n",
       "      <td>valladolid</td>\n",
       "      <td>47008</td>\n",
       "    </tr>\n",
       "  </tbody>\n",
       "</table>\n",
       "</div>"
      ],
      "text/plain": [
       "                               num_order                city zipcode\n",
       "691236  9567deb340d90ef2334a8e0eeebb1023             linares   23700\n",
       "326024  479e26c5bf7c16af391527e4817c560d          carcaixent   46740\n",
       "412990  fa4759766ef859b1441fc92b27a4efb0              madrid   28008\n",
       "111622  57d9e0b08fa153794180541d0cf26a98  puerto de mazarron   30860\n",
       "100077  435e6dfdf710c506307813f27efe7b88          valladolid   47008"
      ]
     },
     "execution_count": 123,
     "metadata": {},
     "output_type": "execute_result"
    }
   ],
   "source": [
    "# Ahora la ciudades no tendrán espacios sobrantes y serán escritos en minúsculas\n",
    "df_items.loc[:, 'city'] = df_items['city'].apply(lambda r: str(r).strip().lower())\n",
    "df_items[['num_order','city','zipcode']].sample(5,random_state=seed)"
   ]
  },
  {
   "cell_type": "code",
   "execution_count": 124,
   "metadata": {},
   "outputs": [
    {
     "name": "stdout",
     "output_type": "stream",
     "text": [
      "Recuento ciudad únicas: 11471\n"
     ]
    }
   ],
   "source": [
    "# recuento de ciudad tras normalizar\n",
    "print(f\"Recuento ciudad únicas: {df_items['city'].nunique()}\")"
   ]
  },
  {
   "cell_type": "markdown",
   "metadata": {},
   "source": [
    "Con el fin de mejorar los datos de localización de los pedidos, hemos creado un script con el que extraemos de *Geopy* las coordenadas, la ciudad, la comunidad y el país. Para ello en un primer momento, usamos el *código postal*, aun así esto no es perfecto con tan poca información. Por lo que para reducir los valores nulos que devolvía la API, volvimos a hacer otra tanda de peticiones con una *query* que se basaba en la concatenación del nombre de la ciudad y el código postal. Así reducimos aun más el porcentaje de valores no encontrados, pudiendo *enriquecer* en parte el conjunto de datos y poder crear visualizaciones de mapas."
   ]
  },
  {
   "cell_type": "code",
   "execution_count": 125,
   "metadata": {},
   "outputs": [],
   "source": [
    "# Guardamos los zipcodes para utilzar el script de Geopy\n",
    "zipcodes = df_items['zipcode'].unique().tolist()\n",
    "df_zipcodes = pd.DataFrame({'zipcode': zipcodes})\n",
    "df_zipcodes.to_csv('./zipcodes.csv',index=False)"
   ]
  },
  {
   "cell_type": "code",
   "execution_count": 126,
   "metadata": {},
   "outputs": [
    {
     "data": {
      "text/plain": [
       "zipcode        1\n",
       "location     986\n",
       "coords       986\n",
       "city        6882\n",
       "state       2032\n",
       "country     1084\n",
       "dtype: int64"
      ]
     },
     "execution_count": 126,
     "metadata": {},
     "output_type": "execute_result"
    }
   ],
   "source": [
    "df_geo_1 = pd.read_csv('./city_info.csv', index_col=None)\n",
    "df_geo_1.isna().sum()"
   ]
  },
  {
   "cell_type": "markdown",
   "metadata": {},
   "source": [
    "De la primera tanda de peticiones, que tardó unas 3 horas en completarse, hay 986 códigos postales de los que no se ha podidos recuperar su ubicación. "
   ]
  },
  {
   "cell_type": "code",
   "execution_count": 127,
   "metadata": {},
   "outputs": [
    {
     "data": {
      "text/plain": [
       "city           0\n",
       "zipcode        0\n",
       "query          0\n",
       "location     487\n",
       "coords       487\n",
       "city_y      1364\n",
       "state       1688\n",
       "country      487\n",
       "dtype: int64"
      ]
     },
     "execution_count": 127,
     "metadata": {},
     "output_type": "execute_result"
    }
   ],
   "source": [
    "df_geo_2 = pd.read_csv('./query.csv', index_col=None)\n",
    "df_geo_2.isna().sum()"
   ]
  },
  {
   "cell_type": "markdown",
   "metadata": {},
   "source": [
    "Con la segunda tanda, cambiando la *query*, se pudo disminuir ese número. Procedemos a quedarnos con los valores que nos interesan y a enriquecer nuestro dataset."
   ]
  },
  {
   "cell_type": "code",
   "execution_count": 128,
   "metadata": {},
   "outputs": [],
   "source": [
    "df_geo_1.dropna(subset=['location','coords'],inplace=True)\n",
    "df_geo_2.dropna(subset=['location','coords'],inplace=True)"
   ]
  },
  {
   "cell_type": "code",
   "execution_count": 129,
   "metadata": {},
   "outputs": [],
   "source": [
    "# Eliminamos filas del primer dataframe que contenga zipcodes del segundo.\n",
    "# Recordar que la primera tanda engloba también la búsqueda de la segunda tanda\n",
    "zipcodes = df_geo_2['zipcode'].unique().tolist()\n",
    "indexes = df_geo_1[df_geo_1['zipcode'].isin(zipcodes)].index \n",
    "df_geo_1.drop(index=indexes, inplace=True)"
   ]
  },
  {
   "cell_type": "code",
   "execution_count": 130,
   "metadata": {},
   "outputs": [
    {
     "data": {
      "text/html": [
       "<div>\n",
       "<style scoped>\n",
       "    .dataframe tbody tr th:only-of-type {\n",
       "        vertical-align: middle;\n",
       "    }\n",
       "\n",
       "    .dataframe tbody tr th {\n",
       "        vertical-align: top;\n",
       "    }\n",
       "\n",
       "    .dataframe thead th {\n",
       "        text-align: right;\n",
       "    }\n",
       "</style>\n",
       "<table border=\"1\" class=\"dataframe\">\n",
       "  <thead>\n",
       "    <tr style=\"text-align: right;\">\n",
       "      <th></th>\n",
       "      <th>zipcode</th>\n",
       "      <th>location</th>\n",
       "      <th>coords</th>\n",
       "      <th>city</th>\n",
       "      <th>state</th>\n",
       "      <th>country</th>\n",
       "    </tr>\n",
       "  </thead>\n",
       "  <tbody>\n",
       "    <tr>\n",
       "      <th>8129</th>\n",
       "      <td>38650</td>\n",
       "      <td>Roissard, Grenoble, Isère, Auvergne-Rhône-Alpe...</td>\n",
       "      <td>(44.8949372121526, 5.628685069683022, 0.0)</td>\n",
       "      <td>NaN</td>\n",
       "      <td>Auvergne-Rhône-Alpes</td>\n",
       "      <td>France</td>\n",
       "    </tr>\n",
       "    <tr>\n",
       "      <th>1854</th>\n",
       "      <td>28729</td>\n",
       "      <td>Cabanillas de la Sierra, Sierra Norte, Comunid...</td>\n",
       "      <td>(40.81087744705882, -3.6338493930013165, 0.0)</td>\n",
       "      <td>NaN</td>\n",
       "      <td>Comunidad de Madrid</td>\n",
       "      <td>España</td>\n",
       "    </tr>\n",
       "    <tr>\n",
       "      <th>7576</th>\n",
       "      <td>11649</td>\n",
       "      <td>Maciachini M3, Piazzale Carlo Maciachini, Derg...</td>\n",
       "      <td>(45.4978436, 9.1847351, 0.0)</td>\n",
       "      <td>Milano</td>\n",
       "      <td>Lombardia</td>\n",
       "      <td>Italia</td>\n",
       "    </tr>\n",
       "    <tr>\n",
       "      <th>475</th>\n",
       "      <td>36370</td>\n",
       "      <td>Vollore-Ville, Thiers, Puy-de-Dôme, Auvergne-R...</td>\n",
       "      <td>(45.794642536363625, 3.6289031620680094, 0.0)</td>\n",
       "      <td>NaN</td>\n",
       "      <td>Auvergne-Rhône-Alpes</td>\n",
       "      <td>France</td>\n",
       "    </tr>\n",
       "    <tr>\n",
       "      <th>8589</th>\n",
       "      <td>7350-258</td>\n",
       "      <td>258, Ettaler Forst, Landkreis Garmisch-Partenk...</td>\n",
       "      <td>(47.522495, 10.9775009, 0.0)</td>\n",
       "      <td>Ettaler Forst</td>\n",
       "      <td>Bayern</td>\n",
       "      <td>Deutschland</td>\n",
       "    </tr>\n",
       "  </tbody>\n",
       "</table>\n",
       "</div>"
      ],
      "text/plain": [
       "       zipcode                                           location  \\\n",
       "8129     38650  Roissard, Grenoble, Isère, Auvergne-Rhône-Alpe...   \n",
       "1854     28729  Cabanillas de la Sierra, Sierra Norte, Comunid...   \n",
       "7576     11649  Maciachini M3, Piazzale Carlo Maciachini, Derg...   \n",
       "475      36370  Vollore-Ville, Thiers, Puy-de-Dôme, Auvergne-R...   \n",
       "8589  7350-258  258, Ettaler Forst, Landkreis Garmisch-Partenk...   \n",
       "\n",
       "                                             coords           city  \\\n",
       "8129     (44.8949372121526, 5.628685069683022, 0.0)            NaN   \n",
       "1854  (40.81087744705882, -3.6338493930013165, 0.0)            NaN   \n",
       "7576                   (45.4978436, 9.1847351, 0.0)         Milano   \n",
       "475   (45.794642536363625, 3.6289031620680094, 0.0)            NaN   \n",
       "8589                   (47.522495, 10.9775009, 0.0)  Ettaler Forst   \n",
       "\n",
       "                     state      country  \n",
       "8129  Auvergne-Rhône-Alpes       France  \n",
       "1854   Comunidad de Madrid       España  \n",
       "7576             Lombardia       Italia  \n",
       "475   Auvergne-Rhône-Alpes       France  \n",
       "8589                Bayern  Deutschland  "
      ]
     },
     "execution_count": 130,
     "metadata": {},
     "output_type": "execute_result"
    }
   ],
   "source": [
    "#Quitamos las columnas diferentes (query no está en el otros csv, city_y contiene muchos nulos)\n",
    "df_geo_2.drop(columns=['query', 'city_y'],inplace=True)\n",
    "\n",
    "#Concatenamos los dataframes\n",
    "df_cities = pd.concat([df_geo_1, df_geo_2], axis=0,ignore_index=True)\n",
    "df_cities.sample(5,random_state=seed)"
   ]
  },
  {
   "cell_type": "code",
   "execution_count": 131,
   "metadata": {},
   "outputs": [
    {
     "data": {
      "text/plain": [
       "zipcode        1\n",
       "location       0\n",
       "coords         0\n",
       "city        5639\n",
       "state       1244\n",
       "country        5\n",
       "dtype: int64"
      ]
     },
     "execution_count": 131,
     "metadata": {},
     "output_type": "execute_result"
    }
   ],
   "source": [
    "df_cities.isna().sum()"
   ]
  },
  {
   "cell_type": "markdown",
   "metadata": {},
   "source": [
    "Hay algunas ciudades y comunidades que nos se han podido encontrar."
   ]
  },
  {
   "cell_type": "code",
   "execution_count": 132,
   "metadata": {},
   "outputs": [],
   "source": [
    "# La columna de location ya no es necesaria\n",
    "df_cities.drop(columns=['location'],inplace=True)"
   ]
  },
  {
   "cell_type": "code",
   "execution_count": 133,
   "metadata": {},
   "outputs": [
    {
     "data": {
      "text/html": [
       "<div>\n",
       "<style scoped>\n",
       "    .dataframe tbody tr th:only-of-type {\n",
       "        vertical-align: middle;\n",
       "    }\n",
       "\n",
       "    .dataframe tbody tr th {\n",
       "        vertical-align: top;\n",
       "    }\n",
       "\n",
       "    .dataframe thead th {\n",
       "        text-align: right;\n",
       "    }\n",
       "</style>\n",
       "<table border=\"1\" class=\"dataframe\">\n",
       "  <thead>\n",
       "    <tr style=\"text-align: right;\">\n",
       "      <th></th>\n",
       "      <th>num_order</th>\n",
       "      <th>item_id</th>\n",
       "      <th>created_at</th>\n",
       "      <th>product_id</th>\n",
       "      <th>qty_ordered</th>\n",
       "      <th>base_cost</th>\n",
       "      <th>price</th>\n",
       "      <th>discount_percent</th>\n",
       "      <th>customer_id</th>\n",
       "      <th>city_x</th>\n",
       "      <th>zipcode</th>\n",
       "      <th>coords</th>\n",
       "      <th>city_y</th>\n",
       "      <th>state</th>\n",
       "      <th>country</th>\n",
       "    </tr>\n",
       "  </thead>\n",
       "  <tbody>\n",
       "    <tr>\n",
       "      <th>478335</th>\n",
       "      <td>07c4fc02f512b224b29df6351cda166a</td>\n",
       "      <td>78e531d943858f99c4c787bbf3278534</td>\n",
       "      <td>2018-04-19 12:19:58</td>\n",
       "      <td>2231</td>\n",
       "      <td>3</td>\n",
       "      <td>1.6225</td>\n",
       "      <td>3.27</td>\n",
       "      <td>5.0</td>\n",
       "      <td>7d4f924fc8c8b3d8db2735d93c7a7447</td>\n",
       "      <td>cádiz</td>\n",
       "      <td>11009</td>\n",
       "      <td>(36.5297438, -6.2928976, 0.0)</td>\n",
       "      <td>Cadiz</td>\n",
       "      <td>Andalucía</td>\n",
       "      <td>España</td>\n",
       "    </tr>\n",
       "    <tr>\n",
       "      <th>701470</th>\n",
       "      <td>a63a34f61636547af0d5658f356372d2</td>\n",
       "      <td>b3337941c2fe2ba67215dfcf0c0dfdf0</td>\n",
       "      <td>2018-09-06 17:52:30</td>\n",
       "      <td>11068</td>\n",
       "      <td>3</td>\n",
       "      <td>12.7500</td>\n",
       "      <td>14.20</td>\n",
       "      <td>9.0</td>\n",
       "      <td>c4b29f82e8b02e4532aa30a054792e1f</td>\n",
       "      <td>palma de mallorca</td>\n",
       "      <td>07003</td>\n",
       "      <td>(39.576480615517234, 2.649658752548201, 0.0)</td>\n",
       "      <td>Palma</td>\n",
       "      <td>Illes Balears</td>\n",
       "      <td>España</td>\n",
       "    </tr>\n",
       "    <tr>\n",
       "      <th>417946</th>\n",
       "      <td>565da574d7c9671b6b546fc40ca94d3c</td>\n",
       "      <td>5eb9196ce134003f17eb4b62ecb7d69a</td>\n",
       "      <td>2018-03-19 09:44:51</td>\n",
       "      <td>24172</td>\n",
       "      <td>1</td>\n",
       "      <td>9.2400</td>\n",
       "      <td>12.14</td>\n",
       "      <td>20.0</td>\n",
       "      <td>9da129a43d6efb66b5d32374b72ad2cc</td>\n",
       "      <td>getafe</td>\n",
       "      <td>28905</td>\n",
       "      <td>(40.29327263947368, -3.7531575077857626, 0.0)</td>\n",
       "      <td>Getafe</td>\n",
       "      <td>Comunidad de Madrid</td>\n",
       "      <td>España</td>\n",
       "    </tr>\n",
       "    <tr>\n",
       "      <th>66625</th>\n",
       "      <td>7eebb4acfd3801b550f1fc5bfcc2c43c</td>\n",
       "      <td>6ff01f9a53af7ea093b931a8dafa2f99</td>\n",
       "      <td>2017-03-11 09:08:01</td>\n",
       "      <td>33995</td>\n",
       "      <td>1</td>\n",
       "      <td>8.6073</td>\n",
       "      <td>16.31</td>\n",
       "      <td>5.0</td>\n",
       "      <td>9bf88927e24ab526ed285da976feecf0</td>\n",
       "      <td>villacarrillo</td>\n",
       "      <td>23300</td>\n",
       "      <td>(46.24211997210627, 1.4959725607293608, 0.0)</td>\n",
       "      <td>NaN</td>\n",
       "      <td>Nouvelle-Aquitaine</td>\n",
       "      <td>France</td>\n",
       "    </tr>\n",
       "    <tr>\n",
       "      <th>257014</th>\n",
       "      <td>a3e12c9601160b95f472385bbe2817cd</td>\n",
       "      <td>89489b0f4f734f9ca5afcd0de01be260</td>\n",
       "      <td>2017-10-18 13:38:58</td>\n",
       "      <td>3685</td>\n",
       "      <td>1</td>\n",
       "      <td>6.1866</td>\n",
       "      <td>8.66</td>\n",
       "      <td>10.0</td>\n",
       "      <td>44e504394d288b0c2617e70d8e9f58ab</td>\n",
       "      <td>madrid</td>\n",
       "      <td>28017</td>\n",
       "      <td>(40.429118719300796, -3.6456800082218725, 0.0)</td>\n",
       "      <td>Madrid</td>\n",
       "      <td>Comunidad de Madrid</td>\n",
       "      <td>España</td>\n",
       "    </tr>\n",
       "  </tbody>\n",
       "</table>\n",
       "</div>"
      ],
      "text/plain": [
       "                               num_order                           item_id  \\\n",
       "478335  07c4fc02f512b224b29df6351cda166a  78e531d943858f99c4c787bbf3278534   \n",
       "701470  a63a34f61636547af0d5658f356372d2  b3337941c2fe2ba67215dfcf0c0dfdf0   \n",
       "417946  565da574d7c9671b6b546fc40ca94d3c  5eb9196ce134003f17eb4b62ecb7d69a   \n",
       "66625   7eebb4acfd3801b550f1fc5bfcc2c43c  6ff01f9a53af7ea093b931a8dafa2f99   \n",
       "257014  a3e12c9601160b95f472385bbe2817cd  89489b0f4f734f9ca5afcd0de01be260   \n",
       "\n",
       "                created_at  product_id  qty_ordered  base_cost  price  \\\n",
       "478335 2018-04-19 12:19:58        2231            3     1.6225   3.27   \n",
       "701470 2018-09-06 17:52:30       11068            3    12.7500  14.20   \n",
       "417946 2018-03-19 09:44:51       24172            1     9.2400  12.14   \n",
       "66625  2017-03-11 09:08:01       33995            1     8.6073  16.31   \n",
       "257014 2017-10-18 13:38:58        3685            1     6.1866   8.66   \n",
       "\n",
       "        discount_percent                       customer_id             city_x  \\\n",
       "478335               5.0  7d4f924fc8c8b3d8db2735d93c7a7447              cádiz   \n",
       "701470               9.0  c4b29f82e8b02e4532aa30a054792e1f  palma de mallorca   \n",
       "417946              20.0  9da129a43d6efb66b5d32374b72ad2cc             getafe   \n",
       "66625                5.0  9bf88927e24ab526ed285da976feecf0      villacarrillo   \n",
       "257014              10.0  44e504394d288b0c2617e70d8e9f58ab             madrid   \n",
       "\n",
       "       zipcode                                          coords  city_y  \\\n",
       "478335   11009                   (36.5297438, -6.2928976, 0.0)  Cadiz    \n",
       "701470   07003    (39.576480615517234, 2.649658752548201, 0.0)   Palma   \n",
       "417946   28905   (40.29327263947368, -3.7531575077857626, 0.0)  Getafe   \n",
       "66625    23300    (46.24211997210627, 1.4959725607293608, 0.0)     NaN   \n",
       "257014   28017  (40.429118719300796, -3.6456800082218725, 0.0)  Madrid   \n",
       "\n",
       "                      state country  \n",
       "478335            Andalucía  España  \n",
       "701470        Illes Balears  España  \n",
       "417946  Comunidad de Madrid  España  \n",
       "66625    Nouvelle-Aquitaine  France  \n",
       "257014  Comunidad de Madrid  España  "
      ]
     },
     "execution_count": 133,
     "metadata": {},
     "output_type": "execute_result"
    }
   ],
   "source": [
    "df_items = df_items.merge(df_cities, on='zipcode', how='left')\n",
    "df_items.sample(5,random_state=seed)"
   ]
  },
  {
   "cell_type": "code",
   "execution_count": 134,
   "metadata": {},
   "outputs": [
    {
     "data": {
      "text/plain": [
       "(990868, 15)"
      ]
     },
     "execution_count": 134,
     "metadata": {},
     "output_type": "execute_result"
    }
   ],
   "source": [
    "#Comprobamos que no se han añadidos filas con el merge\n",
    "df_items.shape"
   ]
  },
  {
   "cell_type": "code",
   "execution_count": 135,
   "metadata": {},
   "outputs": [
    {
     "data": {
      "text/plain": [
       "num_order                0\n",
       "item_id                  0\n",
       "created_at               0\n",
       "product_id               0\n",
       "qty_ordered              0\n",
       "base_cost             2470\n",
       "price                    0\n",
       "discount_percent         0\n",
       "customer_id              0\n",
       "city_x                   0\n",
       "zipcode                  0\n",
       "coords                3257\n",
       "city_y              454633\n",
       "state                15071\n",
       "country               3298\n",
       "dtype: int64"
      ]
     },
     "execution_count": 135,
     "metadata": {},
     "output_type": "execute_result"
    }
   ],
   "source": [
    "df_items.isna().sum()"
   ]
  },
  {
   "cell_type": "markdown",
   "metadata": {},
   "source": [
    "Tenemos que manejar cuidadosamente los datos introducidos por las nuevas columnas."
   ]
  },
  {
   "cell_type": "code",
   "execution_count": 136,
   "metadata": {},
   "outputs": [],
   "source": [
    "# De las ciudades recuperadas las imputamos en la columna original\n",
    "indexes = df_items[df_items['city_y'].notna()].index\n",
    "cities = df_items[df_items['city_y'].notna()]['city_y'].to_list()\n",
    "df_items.loc[indexes,'city_x'] = cities"
   ]
  },
  {
   "cell_type": "code",
   "execution_count": 137,
   "metadata": {},
   "outputs": [],
   "source": [
    "# Las coordenadas que faltan las imputamos como vacío -> al no ser muchas no afectaran al mapa, ni a los filtros\n",
    "indexes = df_items[df_items['coords'].isna()].index\n",
    "df_items.loc[indexes, 'coords'] = df_items.loc[indexes, 'coords'].apply(lambda x: \"('','','')\")"
   ]
  },
  {
   "cell_type": "code",
   "execution_count": 138,
   "metadata": {},
   "outputs": [],
   "source": [
    "df_items[\"coords\"] = df_items[\"coords\"].apply(lambda x: eval(x))"
   ]
  },
  {
   "cell_type": "code",
   "execution_count": 139,
   "metadata": {},
   "outputs": [],
   "source": [
    "df_items['lat'], df_items['lon'], _ = zip(*df_items['coords'])"
   ]
  },
  {
   "cell_type": "code",
   "execution_count": 140,
   "metadata": {},
   "outputs": [],
   "source": [
    "df_items['city_x'] = df_items['city_x'].str.capitalize()\n",
    "df_items.rename(columns={'city_x': 'city'},inplace=True)\n",
    "df_items.drop(columns=['city_y'],inplace=True)"
   ]
  },
  {
   "cell_type": "code",
   "execution_count": 141,
   "metadata": {},
   "outputs": [
    {
     "data": {
      "text/plain": [
       "num_order               0\n",
       "item_id                 0\n",
       "created_at              0\n",
       "product_id              0\n",
       "qty_ordered             0\n",
       "base_cost            2470\n",
       "price                   0\n",
       "discount_percent        0\n",
       "customer_id             0\n",
       "city                    0\n",
       "zipcode                 0\n",
       "coords                  0\n",
       "state               15071\n",
       "country              3298\n",
       "lat                     0\n",
       "lon                     0\n",
       "dtype: int64"
      ]
     },
     "execution_count": 141,
     "metadata": {},
     "output_type": "execute_result"
    }
   ],
   "source": [
    "df_items.isna().sum()"
   ]
  },
  {
   "cell_type": "code",
   "execution_count": 142,
   "metadata": {},
   "outputs": [
    {
     "name": "stdout",
     "output_type": "stream",
     "text": [
      "Recuento ciudad únicas: 9227\n"
     ]
    }
   ],
   "source": [
    "print(f\"Recuento ciudad únicas: {df_items['city'].nunique()}\")"
   ]
  },
  {
   "cell_type": "markdown",
   "metadata": {},
   "source": [
    "Vemos como efectivamente, el número de ciudades ha disminuido tras normalizar el campo. Aun así esto no nos salva de las diferentes nomenclaturas que pueden existir. Por eso en este caso las coordenadas son más fiables."
   ]
  },
  {
   "cell_type": "markdown",
   "metadata": {},
   "source": [
    "## Duplicados\n",
    "\n",
    "En un primer momento avistamos la presencia de registros duplicados, algo que en teoría no debería darse, ya que cada orden tiene un identificador y hora unívocos. "
   ]
  },
  {
   "cell_type": "code",
   "execution_count": 143,
   "metadata": {},
   "outputs": [
    {
     "data": {
      "text/plain": [
       "48318"
      ]
     },
     "execution_count": 143,
     "metadata": {},
     "output_type": "execute_result"
    }
   ],
   "source": [
    "df_items.duplicated(keep='first').sum()"
   ]
  },
  {
   "cell_type": "code",
   "execution_count": 144,
   "metadata": {},
   "outputs": [
    {
     "name": "stdout",
     "output_type": "stream",
     "text": [
      "Filas totales: 990868\n",
      "Filas totales tras eliminar duplicados: 942550\n"
     ]
    }
   ],
   "source": [
    "print(f'Filas totales: {df_items.shape[0]}')\n",
    "df_items.drop_duplicates(inplace=True)\n",
    "print(f'Filas totales tras eliminar duplicados: {df_items.shape[0]}')"
   ]
  },
  {
   "cell_type": "markdown",
   "metadata": {},
   "source": [
    "## Fecha y Hora\n",
    "\n",
    "Con el fin de facilitar posteriores consultas, hemos decidido separar los campos de fecha y hora"
   ]
  },
  {
   "cell_type": "code",
   "execution_count": 145,
   "metadata": {},
   "outputs": [
    {
     "data": {
      "text/html": [
       "<div>\n",
       "<style scoped>\n",
       "    .dataframe tbody tr th:only-of-type {\n",
       "        vertical-align: middle;\n",
       "    }\n",
       "\n",
       "    .dataframe tbody tr th {\n",
       "        vertical-align: top;\n",
       "    }\n",
       "\n",
       "    .dataframe thead th {\n",
       "        text-align: right;\n",
       "    }\n",
       "</style>\n",
       "<table border=\"1\" class=\"dataframe\">\n",
       "  <thead>\n",
       "    <tr style=\"text-align: right;\">\n",
       "      <th></th>\n",
       "      <th>num_order</th>\n",
       "      <th>item_id</th>\n",
       "      <th>created_at</th>\n",
       "      <th>product_id</th>\n",
       "      <th>qty_ordered</th>\n",
       "      <th>base_cost</th>\n",
       "      <th>price</th>\n",
       "      <th>discount_percent</th>\n",
       "      <th>customer_id</th>\n",
       "      <th>city</th>\n",
       "      <th>zipcode</th>\n",
       "      <th>coords</th>\n",
       "      <th>state</th>\n",
       "      <th>country</th>\n",
       "      <th>lat</th>\n",
       "      <th>lon</th>\n",
       "      <th>time</th>\n",
       "      <th>date</th>\n",
       "    </tr>\n",
       "  </thead>\n",
       "  <tbody>\n",
       "    <tr>\n",
       "      <th>402450</th>\n",
       "      <td>66891c4ecf782a359e0b83f50653dc21</td>\n",
       "      <td>1695334ff14b8f1e0314736e2c7e5400</td>\n",
       "      <td>2018-03-12 21:52:19</td>\n",
       "      <td>34781</td>\n",
       "      <td>3</td>\n",
       "      <td>2.8139</td>\n",
       "      <td>4.87</td>\n",
       "      <td>5.0</td>\n",
       "      <td>11584937864e247cfc02d45725d65e87</td>\n",
       "      <td>Madrid</td>\n",
       "      <td>28021</td>\n",
       "      <td>(40.34637340456449, -3.706884919800276, 0.0)</td>\n",
       "      <td>Comunidad de Madrid</td>\n",
       "      <td>España</td>\n",
       "      <td>40.346373</td>\n",
       "      <td>-3.706885</td>\n",
       "      <td>21:52:19</td>\n",
       "      <td>2018-03-12</td>\n",
       "    </tr>\n",
       "    <tr>\n",
       "      <th>949376</th>\n",
       "      <td>567fcfa211a67abb95cc21cecc455f62</td>\n",
       "      <td>33c8c169131818246e4602e0da00d3af</td>\n",
       "      <td>2018-12-22 14:44:17</td>\n",
       "      <td>419</td>\n",
       "      <td>1</td>\n",
       "      <td>5.9400</td>\n",
       "      <td>8.02</td>\n",
       "      <td>5.0</td>\n",
       "      <td>5c63b1d6b6b94111a661b95e9cec0725</td>\n",
       "      <td>San andrés del rabanedo</td>\n",
       "      <td>24191</td>\n",
       "      <td>(42.613980670588234, -5.60283824186383, 0.0)</td>\n",
       "      <td>Castilla y León</td>\n",
       "      <td>España</td>\n",
       "      <td>42.613981</td>\n",
       "      <td>-5.602838</td>\n",
       "      <td>14:44:17</td>\n",
       "      <td>2018-12-22</td>\n",
       "    </tr>\n",
       "    <tr>\n",
       "      <th>179958</th>\n",
       "      <td>cd4cfbab85cf72f68cba3fe6c93f78fb</td>\n",
       "      <td>7e660187bac7b6cec7806b9ab82eb986</td>\n",
       "      <td>2017-07-14 12:28:28</td>\n",
       "      <td>7093</td>\n",
       "      <td>1</td>\n",
       "      <td>17.1029</td>\n",
       "      <td>19.90</td>\n",
       "      <td>5.0</td>\n",
       "      <td>6235795718efd574d56decacfdd27044</td>\n",
       "      <td>Inca</td>\n",
       "      <td>07300</td>\n",
       "      <td>(45.06072118207309, 4.803692606051856, 0.0)</td>\n",
       "      <td>Auvergne-Rhône-Alpes</td>\n",
       "      <td>France</td>\n",
       "      <td>45.060721</td>\n",
       "      <td>4.803693</td>\n",
       "      <td>12:28:28</td>\n",
       "      <td>2017-07-14</td>\n",
       "    </tr>\n",
       "    <tr>\n",
       "      <th>505351</th>\n",
       "      <td>4980183016d7618413249cdd9c0aa759</td>\n",
       "      <td>c15d771acf8e7159a6a2124ed876e266</td>\n",
       "      <td>2018-04-27 14:21:25</td>\n",
       "      <td>3982</td>\n",
       "      <td>1</td>\n",
       "      <td>14.5700</td>\n",
       "      <td>14.36</td>\n",
       "      <td>5.0</td>\n",
       "      <td>8c14679a75c45b11008e54f611706e95</td>\n",
       "      <td>Navarcles</td>\n",
       "      <td>08270</td>\n",
       "      <td>(49.61887918586957, 4.487797519355239, 0.0)</td>\n",
       "      <td>Grand Est</td>\n",
       "      <td>France</td>\n",
       "      <td>49.618879</td>\n",
       "      <td>4.487798</td>\n",
       "      <td>14:21:25</td>\n",
       "      <td>2018-04-27</td>\n",
       "    </tr>\n",
       "    <tr>\n",
       "      <th>483160</th>\n",
       "      <td>2c8274477270bf61ff63b9695dc9fbd3</td>\n",
       "      <td>93e048c84faab9d0a483824d7b76615d</td>\n",
       "      <td>2018-04-20 23:47:04</td>\n",
       "      <td>61658</td>\n",
       "      <td>1</td>\n",
       "      <td>12.6738</td>\n",
       "      <td>15.38</td>\n",
       "      <td>5.0</td>\n",
       "      <td>7acb01b507502f0c4421c1fef52de49f</td>\n",
       "      <td>Llera</td>\n",
       "      <td>06227</td>\n",
       "      <td>(, , )</td>\n",
       "      <td>NaN</td>\n",
       "      <td>NaN</td>\n",
       "      <td></td>\n",
       "      <td></td>\n",
       "      <td>23:47:04</td>\n",
       "      <td>2018-04-20</td>\n",
       "    </tr>\n",
       "  </tbody>\n",
       "</table>\n",
       "</div>"
      ],
      "text/plain": [
       "                               num_order                           item_id  \\\n",
       "402450  66891c4ecf782a359e0b83f50653dc21  1695334ff14b8f1e0314736e2c7e5400   \n",
       "949376  567fcfa211a67abb95cc21cecc455f62  33c8c169131818246e4602e0da00d3af   \n",
       "179958  cd4cfbab85cf72f68cba3fe6c93f78fb  7e660187bac7b6cec7806b9ab82eb986   \n",
       "505351  4980183016d7618413249cdd9c0aa759  c15d771acf8e7159a6a2124ed876e266   \n",
       "483160  2c8274477270bf61ff63b9695dc9fbd3  93e048c84faab9d0a483824d7b76615d   \n",
       "\n",
       "                created_at  product_id  qty_ordered  base_cost  price  \\\n",
       "402450 2018-03-12 21:52:19       34781            3     2.8139   4.87   \n",
       "949376 2018-12-22 14:44:17         419            1     5.9400   8.02   \n",
       "179958 2017-07-14 12:28:28        7093            1    17.1029  19.90   \n",
       "505351 2018-04-27 14:21:25        3982            1    14.5700  14.36   \n",
       "483160 2018-04-20 23:47:04       61658            1    12.6738  15.38   \n",
       "\n",
       "        discount_percent                       customer_id  \\\n",
       "402450               5.0  11584937864e247cfc02d45725d65e87   \n",
       "949376               5.0  5c63b1d6b6b94111a661b95e9cec0725   \n",
       "179958               5.0  6235795718efd574d56decacfdd27044   \n",
       "505351               5.0  8c14679a75c45b11008e54f611706e95   \n",
       "483160               5.0  7acb01b507502f0c4421c1fef52de49f   \n",
       "\n",
       "                           city zipcode  \\\n",
       "402450                   Madrid   28021   \n",
       "949376  San andrés del rabanedo   24191   \n",
       "179958                     Inca   07300   \n",
       "505351                Navarcles   08270   \n",
       "483160                    Llera   06227   \n",
       "\n",
       "                                              coords                 state  \\\n",
       "402450  (40.34637340456449, -3.706884919800276, 0.0)   Comunidad de Madrid   \n",
       "949376  (42.613980670588234, -5.60283824186383, 0.0)       Castilla y León   \n",
       "179958   (45.06072118207309, 4.803692606051856, 0.0)  Auvergne-Rhône-Alpes   \n",
       "505351   (49.61887918586957, 4.487797519355239, 0.0)             Grand Est   \n",
       "483160                                        (, , )                   NaN   \n",
       "\n",
       "       country        lat       lon      time        date  \n",
       "402450  España  40.346373 -3.706885  21:52:19  2018-03-12  \n",
       "949376  España  42.613981 -5.602838  14:44:17  2018-12-22  \n",
       "179958  France  45.060721  4.803693  12:28:28  2017-07-14  \n",
       "505351  France  49.618879  4.487798  14:21:25  2018-04-27  \n",
       "483160     NaN                       23:47:04  2018-04-20  "
      ]
     },
     "execution_count": 145,
     "metadata": {},
     "output_type": "execute_result"
    }
   ],
   "source": [
    "df_items['time'] = df_items['created_at'].dt.time\n",
    "df_items['date'] = df_items['created_at'].dt.date\n",
    "df_items.sample(5,random_state=seed)"
   ]
  },
  {
   "cell_type": "code",
   "execution_count": 146,
   "metadata": {},
   "outputs": [],
   "source": [
    "# Nos deshacemos de la columna original\n",
    "df_items.drop(columns=['created_at'],inplace=True)"
   ]
  },
  {
   "cell_type": "markdown",
   "metadata": {},
   "source": [
    "## Unificación de conjuntos\n",
    "\n",
    "Con el objetivo de simplificar las consultas, se añadirán tres campos más a este conjunto de datos. A través del *product_id* se hará combinará las tablas de **items** con **products** trayendo los campos de *nombre de producto*, *marca* y *categoría*. Así se podrá ver si los pedidos están relacionados con alguna categoría, qué marcas se venden más, etc."
   ]
  },
  {
   "cell_type": "code",
   "execution_count": 147,
   "metadata": {},
   "outputs": [
    {
     "data": {
      "text/plain": [
       "4646"
      ]
     },
     "execution_count": 147,
     "metadata": {},
     "output_type": "execute_result"
    }
   ],
   "source": [
    "df_products.duplicated(subset=['product_id']).sum()"
   ]
  },
  {
   "cell_type": "markdown",
   "metadata": {},
   "source": [
    "De lo que nos percatamos es que los identificadores de productos no son únicos, sino que se asigna a diferentes productos. Esto dificulta el *merge*, ya que las claves están duplicada en una de las tablas. Para evitar este comportamiento hemos decidido quedarnos con los primeros id de productos que se encuentren."
   ]
  },
  {
   "cell_type": "code",
   "execution_count": 148,
   "metadata": {},
   "outputs": [],
   "source": [
    "df_products.drop_duplicates(subset=['product_id'],keep='first',inplace=True)"
   ]
  },
  {
   "cell_type": "code",
   "execution_count": 149,
   "metadata": {},
   "outputs": [],
   "source": [
    "df_all = df_items.merge(df_products[['product_id','name','marca_value','analytic_category']],on='product_id',how='left')"
   ]
  },
  {
   "cell_type": "code",
   "execution_count": 150,
   "metadata": {},
   "outputs": [
    {
     "name": "stdout",
     "output_type": "stream",
     "text": [
      "Tamaño tabla conjunta: 942550\n",
      "Tamaño tabla ordenes: 942550\n"
     ]
    }
   ],
   "source": [
    "# Comprobamos que se ha ejecutado correctamente\n",
    "print(f'Tamaño tabla conjunta: {df_all.shape[0]}')\n",
    "print(f'Tamaño tabla ordenes: {df_items.shape[0]}')"
   ]
  },
  {
   "cell_type": "markdown",
   "metadata": {},
   "source": [
    "En las columnas nuevas, aparecen valores nulos. Esto se debe a que el producto no se ha encontrado, así que prescindiremos de dichas filas, ya que no tenemos modo alguno de recuperar dichos valores."
   ]
  },
  {
   "cell_type": "code",
   "execution_count": 151,
   "metadata": {},
   "outputs": [
    {
     "data": {
      "text/plain": [
       "num_order                0\n",
       "item_id                  0\n",
       "product_id               0\n",
       "qty_ordered              0\n",
       "base_cost             2390\n",
       "price                    0\n",
       "discount_percent         0\n",
       "customer_id              0\n",
       "city                     0\n",
       "zipcode                  0\n",
       "coords                   0\n",
       "state                14570\n",
       "country               3271\n",
       "lat                      0\n",
       "lon                      0\n",
       "time                     0\n",
       "date                     0\n",
       "name                 46638\n",
       "marca_value          46638\n",
       "analytic_category    46638\n",
       "dtype: int64"
      ]
     },
     "execution_count": 151,
     "metadata": {},
     "output_type": "execute_result"
    }
   ],
   "source": [
    "df_all.isna().sum()"
   ]
  },
  {
   "cell_type": "code",
   "execution_count": 152,
   "metadata": {},
   "outputs": [],
   "source": [
    "df_all.dropna(subset=['name','marca_value','analytic_category'],inplace=True)"
   ]
  },
  {
   "cell_type": "markdown",
   "metadata": {},
   "source": [
    "## Precios\n",
    "\n",
    "Lo primero de todo es que había bastantes valores nulos en la columna *base_cost*"
   ]
  },
  {
   "cell_type": "code",
   "execution_count": 153,
   "metadata": {},
   "outputs": [
    {
     "data": {
      "text/plain": [
       "num_order                0\n",
       "item_id                  0\n",
       "product_id               0\n",
       "qty_ordered              0\n",
       "base_cost             1089\n",
       "price                    0\n",
       "discount_percent         0\n",
       "customer_id              0\n",
       "city                     0\n",
       "zipcode                  0\n",
       "coords                   0\n",
       "state                13988\n",
       "country               3082\n",
       "lat                      0\n",
       "lon                      0\n",
       "time                     0\n",
       "date                     0\n",
       "name                     0\n",
       "marca_value              0\n",
       "analytic_category        0\n",
       "dtype: int64"
      ]
     },
     "execution_count": 153,
     "metadata": {},
     "output_type": "execute_result"
    }
   ],
   "source": [
    "df_all.isna().sum()"
   ]
  },
  {
   "cell_type": "markdown",
   "metadata": {},
   "source": [
    "Veamos como recuperar alguno de los valores"
   ]
  },
  {
   "cell_type": "code",
   "execution_count": 154,
   "metadata": {},
   "outputs": [],
   "source": [
    "# Obtenemos los id de productos sin precio base\n",
    "df_pr = df_all[df_all['base_cost'].isna()]['product_id'].drop_duplicates()"
   ]
  },
  {
   "cell_type": "code",
   "execution_count": 155,
   "metadata": {},
   "outputs": [
    {
     "data": {
      "text/html": [
       "<div>\n",
       "<style scoped>\n",
       "    .dataframe tbody tr th:only-of-type {\n",
       "        vertical-align: middle;\n",
       "    }\n",
       "\n",
       "    .dataframe tbody tr th {\n",
       "        vertical-align: top;\n",
       "    }\n",
       "\n",
       "    .dataframe thead th {\n",
       "        text-align: right;\n",
       "    }\n",
       "</style>\n",
       "<table border=\"1\" class=\"dataframe\">\n",
       "  <thead>\n",
       "    <tr style=\"text-align: right;\">\n",
       "      <th></th>\n",
       "      <th>product_id</th>\n",
       "      <th>base_cost</th>\n",
       "    </tr>\n",
       "  </thead>\n",
       "  <tbody>\n",
       "    <tr>\n",
       "      <th>0</th>\n",
       "      <td>5363</td>\n",
       "      <td>13.696000</td>\n",
       "    </tr>\n",
       "    <tr>\n",
       "      <th>1</th>\n",
       "      <td>5367</td>\n",
       "      <td>6.416121</td>\n",
       "    </tr>\n",
       "    <tr>\n",
       "      <th>2</th>\n",
       "      <td>6070</td>\n",
       "      <td>0.000000</td>\n",
       "    </tr>\n",
       "    <tr>\n",
       "      <th>3</th>\n",
       "      <td>6152</td>\n",
       "      <td>11.910819</td>\n",
       "    </tr>\n",
       "    <tr>\n",
       "      <th>4</th>\n",
       "      <td>6179</td>\n",
       "      <td>3.945000</td>\n",
       "    </tr>\n",
       "    <tr>\n",
       "      <th>...</th>\n",
       "      <td>...</td>\n",
       "      <td>...</td>\n",
       "    </tr>\n",
       "    <tr>\n",
       "      <th>388</th>\n",
       "      <td>27216</td>\n",
       "      <td>2.639125</td>\n",
       "    </tr>\n",
       "    <tr>\n",
       "      <th>389</th>\n",
       "      <td>27237</td>\n",
       "      <td>5.154800</td>\n",
       "    </tr>\n",
       "    <tr>\n",
       "      <th>390</th>\n",
       "      <td>27516</td>\n",
       "      <td>1.672000</td>\n",
       "    </tr>\n",
       "    <tr>\n",
       "      <th>391</th>\n",
       "      <td>27666</td>\n",
       "      <td>16.406883</td>\n",
       "    </tr>\n",
       "    <tr>\n",
       "      <th>392</th>\n",
       "      <td>28035</td>\n",
       "      <td>8.252875</td>\n",
       "    </tr>\n",
       "  </tbody>\n",
       "</table>\n",
       "<p>393 rows × 2 columns</p>\n",
       "</div>"
      ],
      "text/plain": [
       "     product_id  base_cost\n",
       "0          5363  13.696000\n",
       "1          5367   6.416121\n",
       "2          6070   0.000000\n",
       "3          6152  11.910819\n",
       "4          6179   3.945000\n",
       "..          ...        ...\n",
       "388       27216   2.639125\n",
       "389       27237   5.154800\n",
       "390       27516   1.672000\n",
       "391       27666  16.406883\n",
       "392       28035   8.252875\n",
       "\n",
       "[393 rows x 2 columns]"
      ]
     },
     "execution_count": 155,
     "metadata": {},
     "output_type": "execute_result"
    }
   ],
   "source": [
    "# Buscamos aquellos product_id que si tengan base_cost para así recuperar sus valores\n",
    "recoverable = df_all[(df_all['product_id'].isin(df_pr) ) & (df_all['base_cost'].notna())][['product_id','base_cost']]\n",
    "\n",
    "# Imputaremos sus valores por la media\n",
    "recoverable = recoverable.groupby('product_id').agg({'base_cost': np.mean}).reset_index()\n",
    "recoverable"
   ]
  },
  {
   "cell_type": "code",
   "execution_count": 156,
   "metadata": {},
   "outputs": [],
   "source": [
    "# Asignamos valores recuperados\n",
    "for i,r in recoverable.iterrows():\n",
    "    df_all.loc[df_all['product_id']==r['product_id'],'base_cost'] = r['base_cost']"
   ]
  },
  {
   "cell_type": "markdown",
   "metadata": {},
   "source": [
    "Vemos que se reduce sustancialmente el número de nulos. Los registros restantes, al ser muy poco y no tener otra fuente de donde recuperar información, serán eliminadas"
   ]
  },
  {
   "cell_type": "code",
   "execution_count": 157,
   "metadata": {},
   "outputs": [
    {
     "data": {
      "text/plain": [
       "num_order                0\n",
       "item_id                  0\n",
       "product_id               0\n",
       "qty_ordered              0\n",
       "base_cost               37\n",
       "price                    0\n",
       "discount_percent         0\n",
       "customer_id              0\n",
       "city                     0\n",
       "zipcode                  0\n",
       "coords                   0\n",
       "state                13988\n",
       "country               3082\n",
       "lat                      0\n",
       "lon                      0\n",
       "time                     0\n",
       "date                     0\n",
       "name                     0\n",
       "marca_value              0\n",
       "analytic_category        0\n",
       "dtype: int64"
      ]
     },
     "execution_count": 157,
     "metadata": {},
     "output_type": "execute_result"
    }
   ],
   "source": [
    "df_all.isna().sum()"
   ]
  },
  {
   "cell_type": "code",
   "execution_count": 158,
   "metadata": {},
   "outputs": [],
   "source": [
    "df_all.dropna(subset=['base_cost'],inplace=True)"
   ]
  },
  {
   "cell_type": "markdown",
   "metadata": {},
   "source": [
    "Por otro lado, en esta misma columna hay valores negativos, lo cual es bastante extraño, ya que no se trata de una tabla donde su intención sea plasmar devoluciones. Lo que es más, si las consideramos como tales tampoco tendría sentido, ya que es el precio de coste, el cual no se debería ver afectado en dichas operaciones"
   ]
  },
  {
   "cell_type": "code",
   "execution_count": 159,
   "metadata": {},
   "outputs": [
    {
     "name": "stdout",
     "output_type": "stream",
     "text": [
      "Producto con base_cost nulo: 12\n"
     ]
    }
   ],
   "source": [
    "# Obtenemos los id de productos con precios negativos\n",
    "df_pr = df_all[df_all['base_cost'] < 0]['product_id'].drop_duplicates()\n",
    "print(f'Producto con base_cost nulo: {df_pr.shape[0]}')"
   ]
  },
  {
   "cell_type": "code",
   "execution_count": 160,
   "metadata": {},
   "outputs": [
    {
     "data": {
      "text/html": [
       "<div>\n",
       "<style scoped>\n",
       "    .dataframe tbody tr th:only-of-type {\n",
       "        vertical-align: middle;\n",
       "    }\n",
       "\n",
       "    .dataframe tbody tr th {\n",
       "        vertical-align: top;\n",
       "    }\n",
       "\n",
       "    .dataframe thead th {\n",
       "        text-align: right;\n",
       "    }\n",
       "</style>\n",
       "<table border=\"1\" class=\"dataframe\">\n",
       "  <thead>\n",
       "    <tr style=\"text-align: right;\">\n",
       "      <th></th>\n",
       "      <th>product_id</th>\n",
       "      <th>base_cost</th>\n",
       "    </tr>\n",
       "  </thead>\n",
       "  <tbody>\n",
       "    <tr>\n",
       "      <th>0</th>\n",
       "      <td>3388</td>\n",
       "      <td>9.103685</td>\n",
       "    </tr>\n",
       "    <tr>\n",
       "      <th>1</th>\n",
       "      <td>6242</td>\n",
       "      <td>17.964623</td>\n",
       "    </tr>\n",
       "    <tr>\n",
       "      <th>2</th>\n",
       "      <td>7121</td>\n",
       "      <td>7.043431</td>\n",
       "    </tr>\n",
       "    <tr>\n",
       "      <th>3</th>\n",
       "      <td>7550</td>\n",
       "      <td>27.084500</td>\n",
       "    </tr>\n",
       "    <tr>\n",
       "      <th>4</th>\n",
       "      <td>8335</td>\n",
       "      <td>5.638369</td>\n",
       "    </tr>\n",
       "    <tr>\n",
       "      <th>5</th>\n",
       "      <td>11504</td>\n",
       "      <td>1.006107</td>\n",
       "    </tr>\n",
       "    <tr>\n",
       "      <th>6</th>\n",
       "      <td>39565</td>\n",
       "      <td>5.344010</td>\n",
       "    </tr>\n",
       "    <tr>\n",
       "      <th>7</th>\n",
       "      <td>42466</td>\n",
       "      <td>7.130660</td>\n",
       "    </tr>\n",
       "    <tr>\n",
       "      <th>8</th>\n",
       "      <td>51964</td>\n",
       "      <td>7.286638</td>\n",
       "    </tr>\n",
       "    <tr>\n",
       "      <th>9</th>\n",
       "      <td>61811</td>\n",
       "      <td>8.039493</td>\n",
       "    </tr>\n",
       "    <tr>\n",
       "      <th>10</th>\n",
       "      <td>69448</td>\n",
       "      <td>6.623703</td>\n",
       "    </tr>\n",
       "    <tr>\n",
       "      <th>11</th>\n",
       "      <td>77773</td>\n",
       "      <td>10.232727</td>\n",
       "    </tr>\n",
       "  </tbody>\n",
       "</table>\n",
       "</div>"
      ],
      "text/plain": [
       "    product_id  base_cost\n",
       "0         3388   9.103685\n",
       "1         6242  17.964623\n",
       "2         7121   7.043431\n",
       "3         7550  27.084500\n",
       "4         8335   5.638369\n",
       "5        11504   1.006107\n",
       "6        39565   5.344010\n",
       "7        42466   7.130660\n",
       "8        51964   7.286638\n",
       "9        61811   8.039493\n",
       "10       69448   6.623703\n",
       "11       77773  10.232727"
      ]
     },
     "execution_count": 160,
     "metadata": {},
     "output_type": "execute_result"
    }
   ],
   "source": [
    "# Buscamos en el resto de la tabla aquellos product_id que tengan base_cost positivo\n",
    "recoverable = df_all[(df_all['product_id'].isin(df_pr)) & (df_all['base_cost'] > 0)][['product_id','base_cost']]\n",
    "\n",
    "# Imputaremos sus valores por la media\n",
    "recoverable = recoverable.groupby('product_id').agg({'base_cost': np.mean}).reset_index()\n",
    "recoverable"
   ]
  },
  {
   "cell_type": "code",
   "execution_count": 161,
   "metadata": {},
   "outputs": [],
   "source": [
    "# Asignamos valores recuperados\n",
    "for i,r in recoverable.iterrows():\n",
    "    df_all.loc[df_all['product_id']==r['product_id'],'base_cost'] = r['base_cost']"
   ]
  },
  {
   "cell_type": "markdown",
   "metadata": {},
   "source": [
    "Por último, para evitar descuadres en los números se ha preferido redondear a dos decimales las columnas de precio."
   ]
  },
  {
   "cell_type": "code",
   "execution_count": 162,
   "metadata": {},
   "outputs": [],
   "source": [
    "df_all.loc[:,['base_cost','price']] = df_all[['base_cost','price']].round(decimals=2)"
   ]
  },
  {
   "cell_type": "markdown",
   "metadata": {},
   "source": [
    "Con todas las operaciones ya hechas, lo único que queda es guardar el dataframe en formato *csv*"
   ]
  },
  {
   "cell_type": "code",
   "execution_count": 163,
   "metadata": {},
   "outputs": [],
   "source": [
    "# Reordenamos las columnas según nuestro criterio\n",
    "cols = ['num_order','item_id','customer_id','time','date','city','state','country','lat','lon','product_id','name','base_cost','price','discount_percent','qty_ordered','marca_value','analytic_category']\n",
    "df_all = df_all[cols]"
   ]
  },
  {
   "cell_type": "code",
   "execution_count": 164,
   "metadata": {},
   "outputs": [
    {
     "data": {
      "text/html": [
       "<div>\n",
       "<style scoped>\n",
       "    .dataframe tbody tr th:only-of-type {\n",
       "        vertical-align: middle;\n",
       "    }\n",
       "\n",
       "    .dataframe tbody tr th {\n",
       "        vertical-align: top;\n",
       "    }\n",
       "\n",
       "    .dataframe thead th {\n",
       "        text-align: right;\n",
       "    }\n",
       "</style>\n",
       "<table border=\"1\" class=\"dataframe\">\n",
       "  <thead>\n",
       "    <tr style=\"text-align: right;\">\n",
       "      <th></th>\n",
       "      <th>num_order</th>\n",
       "      <th>item_id</th>\n",
       "      <th>customer_id</th>\n",
       "      <th>time</th>\n",
       "      <th>date</th>\n",
       "      <th>city</th>\n",
       "      <th>state</th>\n",
       "      <th>country</th>\n",
       "      <th>lat</th>\n",
       "      <th>lon</th>\n",
       "      <th>product_id</th>\n",
       "      <th>name</th>\n",
       "      <th>base_cost</th>\n",
       "      <th>price</th>\n",
       "      <th>discount_percent</th>\n",
       "      <th>qty_ordered</th>\n",
       "      <th>marca_value</th>\n",
       "      <th>analytic_category</th>\n",
       "    </tr>\n",
       "  </thead>\n",
       "  <tbody>\n",
       "    <tr>\n",
       "      <th>687904</th>\n",
       "      <td>25564d66c93732753f5751ea84b2d8a1</td>\n",
       "      <td>86236435c2b564babc323ddaeae26803</td>\n",
       "      <td>4590bb19321a6a701b93e1987c3cf540</td>\n",
       "      <td>21:29:58</td>\n",
       "      <td>2018-09-12</td>\n",
       "      <td>Lisboa</td>\n",
       "      <td>NaN</td>\n",
       "      <td>Portugal</td>\n",
       "      <td>38.744052</td>\n",
       "      <td>-9.151828</td>\n",
       "      <td>2607</td>\n",
       "      <td>xhekpon crema antiarrugas 40g</td>\n",
       "      <td>3.79</td>\n",
       "      <td>4.74</td>\n",
       "      <td>5.0</td>\n",
       "      <td>2</td>\n",
       "      <td>Xhekpon</td>\n",
       "      <td>Cosmética y Belleza</td>\n",
       "    </tr>\n",
       "    <tr>\n",
       "      <th>719183</th>\n",
       "      <td>eb0190a0fa2b0ae1126f1c38fb021089</td>\n",
       "      <td>c5145c65a458ce0fcc67cd761360caf1</td>\n",
       "      <td>ab1e132fade52231330f893f9d12ebf3</td>\n",
       "      <td>08:16:50</td>\n",
       "      <td>2018-10-01</td>\n",
       "      <td>Guilvinec</td>\n",
       "      <td>Bretagne</td>\n",
       "      <td>France</td>\n",
       "      <td>47.797603</td>\n",
       "      <td>-4.279368</td>\n",
       "      <td>11279</td>\n",
       "      <td>elifexir minucell emulsion tensora 200 ml</td>\n",
       "      <td>5.63</td>\n",
       "      <td>6.75</td>\n",
       "      <td>5.0</td>\n",
       "      <td>1</td>\n",
       "      <td>Elifexir</td>\n",
       "      <td>Cosmética y Belleza</td>\n",
       "    </tr>\n",
       "    <tr>\n",
       "      <th>658160</th>\n",
       "      <td>14b9cbab629647719d744731836da625</td>\n",
       "      <td>853f300e8bdca94b30a1920391819643</td>\n",
       "      <td>cc4c116b60527eff855a2ed9a8245060</td>\n",
       "      <td>13:55:09</td>\n",
       "      <td>2018-09-04</td>\n",
       "      <td>Manises</td>\n",
       "      <td>Comunitat Valenciana</td>\n",
       "      <td>España</td>\n",
       "      <td>39.493381</td>\n",
       "      <td>-0.468153</td>\n",
       "      <td>2452</td>\n",
       "      <td>bexident colutorio dientes sensibles 500ml</td>\n",
       "      <td>4.66</td>\n",
       "      <td>5.69</td>\n",
       "      <td>9.0</td>\n",
       "      <td>1</td>\n",
       "      <td>Bexident</td>\n",
       "      <td>Higiene</td>\n",
       "    </tr>\n",
       "    <tr>\n",
       "      <th>659752</th>\n",
       "      <td>7d761c3e10fe06c3b6b9ff11d446b203</td>\n",
       "      <td>abef041860f4bce3948d9177e150a96a</td>\n",
       "      <td>def133daf9dacfd81eaf7d0217d3829e</td>\n",
       "      <td>21:04:09</td>\n",
       "      <td>2018-09-04</td>\n",
       "      <td>Madrid</td>\n",
       "      <td>Piemonte</td>\n",
       "      <td>Italia</td>\n",
       "      <td>45.628506</td>\n",
       "      <td>8.536299</td>\n",
       "      <td>60968</td>\n",
       "      <td>juanola propolis regaliz 24 pastillas blandas</td>\n",
       "      <td>2.88</td>\n",
       "      <td>3.60</td>\n",
       "      <td>5.0</td>\n",
       "      <td>1</td>\n",
       "      <td>Juanola</td>\n",
       "      <td>Herbolario</td>\n",
       "    </tr>\n",
       "    <tr>\n",
       "      <th>790999</th>\n",
       "      <td>c289097d2ffd4f2cc9a5941d6d55f6f5</td>\n",
       "      <td>6abd538cc06f3172834bcf45fef9202e</td>\n",
       "      <td>a23d24fa680420edc0ce386d48dfaf2c</td>\n",
       "      <td>18:09:21</td>\n",
       "      <td>2018-11-05</td>\n",
       "      <td>San fernando</td>\n",
       "      <td>Occitanie</td>\n",
       "      <td>France</td>\n",
       "      <td>43.174835</td>\n",
       "      <td>3.003775</td>\n",
       "      <td>35205</td>\n",
       "      <td>saforelle gel intimo 500ml</td>\n",
       "      <td>6.90</td>\n",
       "      <td>9.31</td>\n",
       "      <td>8.0</td>\n",
       "      <td>1</td>\n",
       "      <td>Saforelle</td>\n",
       "      <td>Higiene</td>\n",
       "    </tr>\n",
       "  </tbody>\n",
       "</table>\n",
       "</div>"
      ],
      "text/plain": [
       "                               num_order                           item_id  \\\n",
       "687904  25564d66c93732753f5751ea84b2d8a1  86236435c2b564babc323ddaeae26803   \n",
       "719183  eb0190a0fa2b0ae1126f1c38fb021089  c5145c65a458ce0fcc67cd761360caf1   \n",
       "658160  14b9cbab629647719d744731836da625  853f300e8bdca94b30a1920391819643   \n",
       "659752  7d761c3e10fe06c3b6b9ff11d446b203  abef041860f4bce3948d9177e150a96a   \n",
       "790999  c289097d2ffd4f2cc9a5941d6d55f6f5  6abd538cc06f3172834bcf45fef9202e   \n",
       "\n",
       "                             customer_id      time        date          city  \\\n",
       "687904  4590bb19321a6a701b93e1987c3cf540  21:29:58  2018-09-12       Lisboa    \n",
       "719183  ab1e132fade52231330f893f9d12ebf3  08:16:50  2018-10-01     Guilvinec   \n",
       "658160  cc4c116b60527eff855a2ed9a8245060  13:55:09  2018-09-04       Manises   \n",
       "659752  def133daf9dacfd81eaf7d0217d3829e  21:04:09  2018-09-04        Madrid   \n",
       "790999  a23d24fa680420edc0ce386d48dfaf2c  18:09:21  2018-11-05  San fernando   \n",
       "\n",
       "                       state   country        lat       lon  product_id  \\\n",
       "687904                   NaN  Portugal  38.744052 -9.151828        2607   \n",
       "719183              Bretagne    France  47.797603 -4.279368       11279   \n",
       "658160  Comunitat Valenciana    España  39.493381 -0.468153        2452   \n",
       "659752              Piemonte    Italia  45.628506  8.536299       60968   \n",
       "790999             Occitanie    France  43.174835  3.003775       35205   \n",
       "\n",
       "                                                 name  base_cost  price  \\\n",
       "687904                  xhekpon crema antiarrugas 40g       3.79   4.74   \n",
       "719183      elifexir minucell emulsion tensora 200 ml       5.63   6.75   \n",
       "658160     bexident colutorio dientes sensibles 500ml       4.66   5.69   \n",
       "659752  juanola propolis regaliz 24 pastillas blandas       2.88   3.60   \n",
       "790999                     saforelle gel intimo 500ml       6.90   9.31   \n",
       "\n",
       "        discount_percent  qty_ordered marca_value    analytic_category  \n",
       "687904               5.0            2     Xhekpon  Cosmética y Belleza  \n",
       "719183               5.0            1    Elifexir  Cosmética y Belleza  \n",
       "658160               9.0            1    Bexident              Higiene  \n",
       "659752               5.0            1     Juanola           Herbolario  \n",
       "790999               8.0            1   Saforelle              Higiene  "
      ]
     },
     "execution_count": 164,
     "metadata": {},
     "output_type": "execute_result"
    }
   ],
   "source": [
    "df_all.sample(5,random_state=seed)"
   ]
  },
  {
   "cell_type": "code",
   "execution_count": 165,
   "metadata": {},
   "outputs": [],
   "source": [
    "df_all.to_csv('./clean_items.csv',index=False)"
   ]
  },
  {
   "cell_type": "markdown",
   "metadata": {},
   "source": [
    "## Conclusiones\n",
    "\n",
    "De este cuaderno nos quedamos con las siguientes conclusiones:\n",
    "\n",
    "- La importancia de normalizar los campos (ciudades y fechas)\n",
    "- El campo *product_id* necesita ser complementado para evitar perder información\n",
    "- Los precios perdidos de los productos se pueden recuperar facilmente"
   ]
  }
 ],
 "metadata": {
  "interpreter": {
   "hash": "31f2aee4e71d21fbe5cf8b01ff0e069b9275f58929596ceb00d14d90e3e16cd6"
  },
  "kernelspec": {
   "display_name": "Python 3.8.9 64-bit",
   "language": "python",
   "name": "python3"
  },
  "language_info": {
   "codemirror_mode": {
    "name": "ipython",
    "version": 3
   },
   "file_extension": ".py",
   "mimetype": "text/x-python",
   "name": "python",
   "nbconvert_exporter": "python",
   "pygments_lexer": "ipython3",
   "version": "3.9.6"
  },
  "orig_nbformat": 4
 },
 "nbformat": 4,
 "nbformat_minor": 2
}
